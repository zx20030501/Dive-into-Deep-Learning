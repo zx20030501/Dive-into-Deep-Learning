{
  "cells": [
    {
      "cell_type": "markdown",
      "metadata": {
        "id": "view-in-github",
        "colab_type": "text"
      },
      "source": [
        "<a href=\"https://colab.research.google.com/github/zx20030501/Dive-into-Deep-Learning/blob/main/2.6%E6%A6%82%E7%8E%87-probability.ipynb\" target=\"_parent\"><img src=\"https://colab.research.google.com/assets/colab-badge.svg\" alt=\"Open In Colab\"/></a>"
      ]
    },
    {
      "cell_type": "markdown",
      "id": "37e258a2",
      "metadata": {
        "id": "37e258a2"
      },
      "source": [
        "The following additional libraries are needed to run this\n",
        "notebook. Note that running on Colab is experimental, please report a Github\n",
        "issue if you have any problem."
      ]
    },
    {
      "cell_type": "code",
      "source": [
        "\n",
        "\n",
        "!pip install d2l==1.0.3    # 这是在线教材英文版的安装dl2的方法。原文出处：https://colab.research.google.com/github/d2l-ai/d2l-pytorch-colab/blob/master/chapter_preliminaries/calculus.ipynb#scrollTo=fb87274e"
      ],
      "metadata": {
        "id": "0dZrd2IPRT4-",
        "outputId": "8ca3d799-f9b9-4f66-bfb6-d3ae24b0eb4c",
        "colab": {
          "base_uri": "https://localhost:8080/",
          "height": 1000
        }
      },
      "id": "0dZrd2IPRT4-",
      "execution_count": 3,
      "outputs": [
        {
          "output_type": "stream",
          "name": "stdout",
          "text": [
            "Collecting d2l==1.0.3\n",
            "  Downloading d2l-1.0.3-py3-none-any.whl.metadata (556 bytes)\n",
            "Collecting jupyter==1.0.0 (from d2l==1.0.3)\n",
            "  Using cached jupyter-1.0.0-py2.py3-none-any.whl.metadata (995 bytes)\n",
            "Collecting numpy==1.23.5 (from d2l==1.0.3)\n",
            "  Downloading numpy-1.23.5-cp311-cp311-manylinux_2_17_x86_64.manylinux2014_x86_64.whl.metadata (2.3 kB)\n",
            "Collecting matplotlib==3.7.2 (from d2l==1.0.3)\n",
            "  Downloading matplotlib-3.7.2-cp311-cp311-manylinux_2_17_x86_64.manylinux2014_x86_64.whl.metadata (5.6 kB)\n",
            "Collecting matplotlib-inline==0.1.6 (from d2l==1.0.3)\n",
            "  Downloading matplotlib_inline-0.1.6-py3-none-any.whl.metadata (2.8 kB)\n",
            "Collecting requests==2.31.0 (from d2l==1.0.3)\n",
            "  Downloading requests-2.31.0-py3-none-any.whl.metadata (4.6 kB)\n",
            "Collecting pandas==2.0.3 (from d2l==1.0.3)\n",
            "  Downloading pandas-2.0.3-cp311-cp311-manylinux_2_17_x86_64.manylinux2014_x86_64.whl.metadata (18 kB)\n",
            "Collecting scipy==1.10.1 (from d2l==1.0.3)\n",
            "  Downloading scipy-1.10.1-cp311-cp311-manylinux_2_17_x86_64.manylinux2014_x86_64.whl.metadata (58 kB)\n",
            "\u001b[2K     \u001b[90m━━━━━━━━━━━━━━━━━━━━━━━━━━━━━━━━━━━━━━━━\u001b[0m \u001b[32m58.9/58.9 kB\u001b[0m \u001b[31m4.4 MB/s\u001b[0m eta \u001b[36m0:00:00\u001b[0m\n",
            "\u001b[?25hRequirement already satisfied: notebook in /usr/local/lib/python3.11/dist-packages (from jupyter==1.0.0->d2l==1.0.3) (6.5.7)\n",
            "Collecting qtconsole (from jupyter==1.0.0->d2l==1.0.3)\n",
            "  Downloading qtconsole-5.6.1-py3-none-any.whl.metadata (5.0 kB)\n",
            "Requirement already satisfied: jupyter-console in /usr/local/lib/python3.11/dist-packages (from jupyter==1.0.0->d2l==1.0.3) (6.1.0)\n",
            "Requirement already satisfied: nbconvert in /usr/local/lib/python3.11/dist-packages (from jupyter==1.0.0->d2l==1.0.3) (7.16.6)\n",
            "Requirement already satisfied: ipykernel in /usr/local/lib/python3.11/dist-packages (from jupyter==1.0.0->d2l==1.0.3) (6.17.1)\n",
            "Requirement already satisfied: ipywidgets in /usr/local/lib/python3.11/dist-packages (from jupyter==1.0.0->d2l==1.0.3) (7.7.1)\n",
            "Requirement already satisfied: contourpy>=1.0.1 in /usr/local/lib/python3.11/dist-packages (from matplotlib==3.7.2->d2l==1.0.3) (1.3.2)\n",
            "Requirement already satisfied: cycler>=0.10 in /usr/local/lib/python3.11/dist-packages (from matplotlib==3.7.2->d2l==1.0.3) (0.12.1)\n",
            "Requirement already satisfied: fonttools>=4.22.0 in /usr/local/lib/python3.11/dist-packages (from matplotlib==3.7.2->d2l==1.0.3) (4.58.1)\n",
            "Requirement already satisfied: kiwisolver>=1.0.1 in /usr/local/lib/python3.11/dist-packages (from matplotlib==3.7.2->d2l==1.0.3) (1.4.8)\n",
            "Requirement already satisfied: packaging>=20.0 in /usr/local/lib/python3.11/dist-packages (from matplotlib==3.7.2->d2l==1.0.3) (24.2)\n",
            "Requirement already satisfied: pillow>=6.2.0 in /usr/local/lib/python3.11/dist-packages (from matplotlib==3.7.2->d2l==1.0.3) (11.2.1)\n",
            "Collecting pyparsing<3.1,>=2.3.1 (from matplotlib==3.7.2->d2l==1.0.3)\n",
            "  Downloading pyparsing-3.0.9-py3-none-any.whl.metadata (4.2 kB)\n",
            "Requirement already satisfied: python-dateutil>=2.7 in /usr/local/lib/python3.11/dist-packages (from matplotlib==3.7.2->d2l==1.0.3) (2.9.0.post0)\n",
            "Requirement already satisfied: traitlets in /usr/local/lib/python3.11/dist-packages (from matplotlib-inline==0.1.6->d2l==1.0.3) (5.7.1)\n",
            "Requirement already satisfied: pytz>=2020.1 in /usr/local/lib/python3.11/dist-packages (from pandas==2.0.3->d2l==1.0.3) (2025.2)\n",
            "Requirement already satisfied: tzdata>=2022.1 in /usr/local/lib/python3.11/dist-packages (from pandas==2.0.3->d2l==1.0.3) (2025.2)\n",
            "Requirement already satisfied: charset-normalizer<4,>=2 in /usr/local/lib/python3.11/dist-packages (from requests==2.31.0->d2l==1.0.3) (3.4.2)\n",
            "Requirement already satisfied: idna<4,>=2.5 in /usr/local/lib/python3.11/dist-packages (from requests==2.31.0->d2l==1.0.3) (3.10)\n",
            "Requirement already satisfied: urllib3<3,>=1.21.1 in /usr/local/lib/python3.11/dist-packages (from requests==2.31.0->d2l==1.0.3) (2.4.0)\n",
            "Requirement already satisfied: certifi>=2017.4.17 in /usr/local/lib/python3.11/dist-packages (from requests==2.31.0->d2l==1.0.3) (2025.4.26)\n",
            "Requirement already satisfied: six>=1.5 in /usr/local/lib/python3.11/dist-packages (from python-dateutil>=2.7->matplotlib==3.7.2->d2l==1.0.3) (1.17.0)\n",
            "Requirement already satisfied: debugpy>=1.0 in /usr/local/lib/python3.11/dist-packages (from ipykernel->jupyter==1.0.0->d2l==1.0.3) (1.8.0)\n",
            "Requirement already satisfied: ipython>=7.23.1 in /usr/local/lib/python3.11/dist-packages (from ipykernel->jupyter==1.0.0->d2l==1.0.3) (7.34.0)\n",
            "Requirement already satisfied: jupyter-client>=6.1.12 in /usr/local/lib/python3.11/dist-packages (from ipykernel->jupyter==1.0.0->d2l==1.0.3) (6.1.12)\n",
            "Requirement already satisfied: nest-asyncio in /usr/local/lib/python3.11/dist-packages (from ipykernel->jupyter==1.0.0->d2l==1.0.3) (1.6.0)\n",
            "Requirement already satisfied: psutil in /usr/local/lib/python3.11/dist-packages (from ipykernel->jupyter==1.0.0->d2l==1.0.3) (5.9.5)\n",
            "Requirement already satisfied: pyzmq>=17 in /usr/local/lib/python3.11/dist-packages (from ipykernel->jupyter==1.0.0->d2l==1.0.3) (24.0.1)\n",
            "Requirement already satisfied: tornado>=6.1 in /usr/local/lib/python3.11/dist-packages (from ipykernel->jupyter==1.0.0->d2l==1.0.3) (6.4.2)\n",
            "Requirement already satisfied: ipython-genutils~=0.2.0 in /usr/local/lib/python3.11/dist-packages (from ipywidgets->jupyter==1.0.0->d2l==1.0.3) (0.2.0)\n",
            "Requirement already satisfied: widgetsnbextension~=3.6.0 in /usr/local/lib/python3.11/dist-packages (from ipywidgets->jupyter==1.0.0->d2l==1.0.3) (3.6.10)\n",
            "Requirement already satisfied: jupyterlab-widgets>=1.0.0 in /usr/local/lib/python3.11/dist-packages (from ipywidgets->jupyter==1.0.0->d2l==1.0.3) (3.0.15)\n",
            "Requirement already satisfied: prompt-toolkit!=3.0.0,!=3.0.1,<3.1.0,>=2.0.0 in /usr/local/lib/python3.11/dist-packages (from jupyter-console->jupyter==1.0.0->d2l==1.0.3) (3.0.51)\n",
            "Requirement already satisfied: pygments in /usr/local/lib/python3.11/dist-packages (from jupyter-console->jupyter==1.0.0->d2l==1.0.3) (2.19.1)\n",
            "Requirement already satisfied: beautifulsoup4 in /usr/local/lib/python3.11/dist-packages (from nbconvert->jupyter==1.0.0->d2l==1.0.3) (4.13.4)\n",
            "Requirement already satisfied: bleach!=5.0.0 in /usr/local/lib/python3.11/dist-packages (from bleach[css]!=5.0.0->nbconvert->jupyter==1.0.0->d2l==1.0.3) (6.2.0)\n",
            "Requirement already satisfied: defusedxml in /usr/local/lib/python3.11/dist-packages (from nbconvert->jupyter==1.0.0->d2l==1.0.3) (0.7.1)\n",
            "Requirement already satisfied: jinja2>=3.0 in /usr/local/lib/python3.11/dist-packages (from nbconvert->jupyter==1.0.0->d2l==1.0.3) (3.1.6)\n",
            "Requirement already satisfied: jupyter-core>=4.7 in /usr/local/lib/python3.11/dist-packages (from nbconvert->jupyter==1.0.0->d2l==1.0.3) (5.8.1)\n",
            "Requirement already satisfied: jupyterlab-pygments in /usr/local/lib/python3.11/dist-packages (from nbconvert->jupyter==1.0.0->d2l==1.0.3) (0.3.0)\n",
            "Requirement already satisfied: markupsafe>=2.0 in /usr/local/lib/python3.11/dist-packages (from nbconvert->jupyter==1.0.0->d2l==1.0.3) (3.0.2)\n",
            "Requirement already satisfied: mistune<4,>=2.0.3 in /usr/local/lib/python3.11/dist-packages (from nbconvert->jupyter==1.0.0->d2l==1.0.3) (3.1.3)\n",
            "Requirement already satisfied: nbclient>=0.5.0 in /usr/local/lib/python3.11/dist-packages (from nbconvert->jupyter==1.0.0->d2l==1.0.3) (0.10.2)\n",
            "Requirement already satisfied: nbformat>=5.7 in /usr/local/lib/python3.11/dist-packages (from nbconvert->jupyter==1.0.0->d2l==1.0.3) (5.10.4)\n",
            "Requirement already satisfied: pandocfilters>=1.4.1 in /usr/local/lib/python3.11/dist-packages (from nbconvert->jupyter==1.0.0->d2l==1.0.3) (1.5.1)\n",
            "Requirement already satisfied: argon2-cffi in /usr/local/lib/python3.11/dist-packages (from notebook->jupyter==1.0.0->d2l==1.0.3) (25.1.0)\n",
            "Requirement already satisfied: Send2Trash>=1.8.0 in /usr/local/lib/python3.11/dist-packages (from notebook->jupyter==1.0.0->d2l==1.0.3) (1.8.3)\n",
            "Requirement already satisfied: terminado>=0.8.3 in /usr/local/lib/python3.11/dist-packages (from notebook->jupyter==1.0.0->d2l==1.0.3) (0.18.1)\n",
            "Requirement already satisfied: prometheus-client in /usr/local/lib/python3.11/dist-packages (from notebook->jupyter==1.0.0->d2l==1.0.3) (0.22.1)\n",
            "Requirement already satisfied: nbclassic>=0.4.7 in /usr/local/lib/python3.11/dist-packages (from notebook->jupyter==1.0.0->d2l==1.0.3) (1.3.1)\n",
            "Collecting qtpy>=2.4.0 (from qtconsole->jupyter==1.0.0->d2l==1.0.3)\n",
            "  Downloading QtPy-2.4.3-py3-none-any.whl.metadata (12 kB)\n",
            "Requirement already satisfied: webencodings in /usr/local/lib/python3.11/dist-packages (from bleach!=5.0.0->bleach[css]!=5.0.0->nbconvert->jupyter==1.0.0->d2l==1.0.3) (0.5.1)\n",
            "Requirement already satisfied: tinycss2<1.5,>=1.1.0 in /usr/local/lib/python3.11/dist-packages (from bleach[css]!=5.0.0->nbconvert->jupyter==1.0.0->d2l==1.0.3) (1.4.0)\n",
            "Requirement already satisfied: setuptools>=18.5 in /usr/local/lib/python3.11/dist-packages (from ipython>=7.23.1->ipykernel->jupyter==1.0.0->d2l==1.0.3) (75.2.0)\n",
            "Collecting jedi>=0.16 (from ipython>=7.23.1->ipykernel->jupyter==1.0.0->d2l==1.0.3)\n",
            "  Downloading jedi-0.19.2-py2.py3-none-any.whl.metadata (22 kB)\n",
            "Requirement already satisfied: decorator in /usr/local/lib/python3.11/dist-packages (from ipython>=7.23.1->ipykernel->jupyter==1.0.0->d2l==1.0.3) (4.4.2)\n",
            "Requirement already satisfied: pickleshare in /usr/local/lib/python3.11/dist-packages (from ipython>=7.23.1->ipykernel->jupyter==1.0.0->d2l==1.0.3) (0.7.5)\n",
            "Requirement already satisfied: backcall in /usr/local/lib/python3.11/dist-packages (from ipython>=7.23.1->ipykernel->jupyter==1.0.0->d2l==1.0.3) (0.2.0)\n",
            "Requirement already satisfied: pexpect>4.3 in /usr/local/lib/python3.11/dist-packages (from ipython>=7.23.1->ipykernel->jupyter==1.0.0->d2l==1.0.3) (4.9.0)\n",
            "Requirement already satisfied: platformdirs>=2.5 in /usr/local/lib/python3.11/dist-packages (from jupyter-core>=4.7->nbconvert->jupyter==1.0.0->d2l==1.0.3) (4.3.8)\n",
            "Requirement already satisfied: notebook-shim>=0.2.3 in /usr/local/lib/python3.11/dist-packages (from nbclassic>=0.4.7->notebook->jupyter==1.0.0->d2l==1.0.3) (0.2.4)\n",
            "Requirement already satisfied: fastjsonschema>=2.15 in /usr/local/lib/python3.11/dist-packages (from nbformat>=5.7->nbconvert->jupyter==1.0.0->d2l==1.0.3) (2.21.1)\n",
            "Requirement already satisfied: jsonschema>=2.6 in /usr/local/lib/python3.11/dist-packages (from nbformat>=5.7->nbconvert->jupyter==1.0.0->d2l==1.0.3) (4.24.0)\n",
            "Requirement already satisfied: wcwidth in /usr/local/lib/python3.11/dist-packages (from prompt-toolkit!=3.0.0,!=3.0.1,<3.1.0,>=2.0.0->jupyter-console->jupyter==1.0.0->d2l==1.0.3) (0.2.13)\n",
            "Requirement already satisfied: ptyprocess in /usr/local/lib/python3.11/dist-packages (from terminado>=0.8.3->notebook->jupyter==1.0.0->d2l==1.0.3) (0.7.0)\n",
            "Requirement already satisfied: argon2-cffi-bindings in /usr/local/lib/python3.11/dist-packages (from argon2-cffi->notebook->jupyter==1.0.0->d2l==1.0.3) (21.2.0)\n",
            "Requirement already satisfied: soupsieve>1.2 in /usr/local/lib/python3.11/dist-packages (from beautifulsoup4->nbconvert->jupyter==1.0.0->d2l==1.0.3) (2.7)\n",
            "Requirement already satisfied: typing-extensions>=4.0.0 in /usr/local/lib/python3.11/dist-packages (from beautifulsoup4->nbconvert->jupyter==1.0.0->d2l==1.0.3) (4.14.0)\n",
            "Requirement already satisfied: parso<0.9.0,>=0.8.4 in /usr/local/lib/python3.11/dist-packages (from jedi>=0.16->ipython>=7.23.1->ipykernel->jupyter==1.0.0->d2l==1.0.3) (0.8.4)\n",
            "Requirement already satisfied: attrs>=22.2.0 in /usr/local/lib/python3.11/dist-packages (from jsonschema>=2.6->nbformat>=5.7->nbconvert->jupyter==1.0.0->d2l==1.0.3) (25.3.0)\n",
            "Requirement already satisfied: jsonschema-specifications>=2023.03.6 in /usr/local/lib/python3.11/dist-packages (from jsonschema>=2.6->nbformat>=5.7->nbconvert->jupyter==1.0.0->d2l==1.0.3) (2025.4.1)\n",
            "Requirement already satisfied: referencing>=0.28.4 in /usr/local/lib/python3.11/dist-packages (from jsonschema>=2.6->nbformat>=5.7->nbconvert->jupyter==1.0.0->d2l==1.0.3) (0.36.2)\n",
            "Requirement already satisfied: rpds-py>=0.7.1 in /usr/local/lib/python3.11/dist-packages (from jsonschema>=2.6->nbformat>=5.7->nbconvert->jupyter==1.0.0->d2l==1.0.3) (0.25.1)\n",
            "Requirement already satisfied: jupyter-server<3,>=1.8 in /usr/local/lib/python3.11/dist-packages (from notebook-shim>=0.2.3->nbclassic>=0.4.7->notebook->jupyter==1.0.0->d2l==1.0.3) (1.16.0)\n",
            "Requirement already satisfied: cffi>=1.0.1 in /usr/local/lib/python3.11/dist-packages (from argon2-cffi-bindings->argon2-cffi->notebook->jupyter==1.0.0->d2l==1.0.3) (1.17.1)\n",
            "Requirement already satisfied: pycparser in /usr/local/lib/python3.11/dist-packages (from cffi>=1.0.1->argon2-cffi-bindings->argon2-cffi->notebook->jupyter==1.0.0->d2l==1.0.3) (2.22)\n",
            "Requirement already satisfied: anyio>=3.1.0 in /usr/local/lib/python3.11/dist-packages (from jupyter-server<3,>=1.8->notebook-shim>=0.2.3->nbclassic>=0.4.7->notebook->jupyter==1.0.0->d2l==1.0.3) (4.9.0)\n",
            "Requirement already satisfied: websocket-client in /usr/local/lib/python3.11/dist-packages (from jupyter-server<3,>=1.8->notebook-shim>=0.2.3->nbclassic>=0.4.7->notebook->jupyter==1.0.0->d2l==1.0.3) (1.8.0)\n",
            "Requirement already satisfied: sniffio>=1.1 in /usr/local/lib/python3.11/dist-packages (from anyio>=3.1.0->jupyter-server<3,>=1.8->notebook-shim>=0.2.3->nbclassic>=0.4.7->notebook->jupyter==1.0.0->d2l==1.0.3) (1.3.1)\n",
            "Downloading d2l-1.0.3-py3-none-any.whl (111 kB)\n",
            "\u001b[2K   \u001b[90m━━━━━━━━━━━━━━━━━━━━━━━━━━━━━━━━━━━━━━━━\u001b[0m \u001b[32m111.7/111.7 kB\u001b[0m \u001b[31m9.4 MB/s\u001b[0m eta \u001b[36m0:00:00\u001b[0m\n",
            "\u001b[?25hDownloading jupyter-1.0.0-py2.py3-none-any.whl (2.7 kB)\n",
            "Downloading matplotlib-3.7.2-cp311-cp311-manylinux_2_17_x86_64.manylinux2014_x86_64.whl (11.6 MB)\n",
            "\u001b[2K   \u001b[90m━━━━━━━━━━━━━━━━━━━━━━━━━━━━━━━━━━━━━━━━\u001b[0m \u001b[32m11.6/11.6 MB\u001b[0m \u001b[31m91.8 MB/s\u001b[0m eta \u001b[36m0:00:00\u001b[0m\n",
            "\u001b[?25hDownloading matplotlib_inline-0.1.6-py3-none-any.whl (9.4 kB)\n",
            "Downloading numpy-1.23.5-cp311-cp311-manylinux_2_17_x86_64.manylinux2014_x86_64.whl (17.1 MB)\n",
            "\u001b[2K   \u001b[90m━━━━━━━━━━━━━━━━━━━━━━━━━━━━━━━━━━━━━━━━\u001b[0m \u001b[32m17.1/17.1 MB\u001b[0m \u001b[31m93.2 MB/s\u001b[0m eta \u001b[36m0:00:00\u001b[0m\n",
            "\u001b[?25hDownloading pandas-2.0.3-cp311-cp311-manylinux_2_17_x86_64.manylinux2014_x86_64.whl (12.2 MB)\n",
            "\u001b[2K   \u001b[90m━━━━━━━━━━━━━━━━━━━━━━━━━━━━━━━━━━━━━━━━\u001b[0m \u001b[32m12.2/12.2 MB\u001b[0m \u001b[31m103.9 MB/s\u001b[0m eta \u001b[36m0:00:00\u001b[0m\n",
            "\u001b[?25hDownloading requests-2.31.0-py3-none-any.whl (62 kB)\n",
            "\u001b[2K   \u001b[90m━━━━━━━━━━━━━━━━━━━━━━━━━━━━━━━━━━━━━━━━\u001b[0m \u001b[32m62.6/62.6 kB\u001b[0m \u001b[31m5.2 MB/s\u001b[0m eta \u001b[36m0:00:00\u001b[0m\n",
            "\u001b[?25hDownloading scipy-1.10.1-cp311-cp311-manylinux_2_17_x86_64.manylinux2014_x86_64.whl (34.1 MB)\n",
            "\u001b[2K   \u001b[90m━━━━━━━━━━━━━━━━━━━━━━━━━━━━━━━━━━━━━━━━\u001b[0m \u001b[32m34.1/34.1 MB\u001b[0m \u001b[31m13.9 MB/s\u001b[0m eta \u001b[36m0:00:00\u001b[0m\n",
            "\u001b[?25hDownloading pyparsing-3.0.9-py3-none-any.whl (98 kB)\n",
            "\u001b[2K   \u001b[90m━━━━━━━━━━━━━━━━━━━━━━━━━━━━━━━━━━━━━━━━\u001b[0m \u001b[32m98.3/98.3 kB\u001b[0m \u001b[31m7.8 MB/s\u001b[0m eta \u001b[36m0:00:00\u001b[0m\n",
            "\u001b[?25hDownloading qtconsole-5.6.1-py3-none-any.whl (125 kB)\n",
            "\u001b[2K   \u001b[90m━━━━━━━━━━━━━━━━━━━━━━━━━━━━━━━━━━━━━━━━\u001b[0m \u001b[32m125.0/125.0 kB\u001b[0m \u001b[31m9.6 MB/s\u001b[0m eta \u001b[36m0:00:00\u001b[0m\n",
            "\u001b[?25hDownloading QtPy-2.4.3-py3-none-any.whl (95 kB)\n",
            "\u001b[2K   \u001b[90m━━━━━━━━━━━━━━━━━━━━━━━━━━━━━━━━━━━━━━━━\u001b[0m \u001b[32m95.0/95.0 kB\u001b[0m \u001b[31m7.6 MB/s\u001b[0m eta \u001b[36m0:00:00\u001b[0m\n",
            "\u001b[?25hDownloading jedi-0.19.2-py2.py3-none-any.whl (1.6 MB)\n",
            "\u001b[2K   \u001b[90m━━━━━━━━━━━━━━━━━━━━━━━━━━━━━━━━━━━━━━━━\u001b[0m \u001b[32m1.6/1.6 MB\u001b[0m \u001b[31m66.6 MB/s\u001b[0m eta \u001b[36m0:00:00\u001b[0m\n",
            "\u001b[?25hInstalling collected packages: requests, qtpy, pyparsing, numpy, matplotlib-inline, jedi, scipy, pandas, matplotlib, qtconsole, jupyter, d2l\n",
            "  Attempting uninstall: requests\n",
            "    Found existing installation: requests 2.32.3\n",
            "    Uninstalling requests-2.32.3:\n",
            "      Successfully uninstalled requests-2.32.3\n",
            "  Attempting uninstall: pyparsing\n",
            "    Found existing installation: pyparsing 3.2.3\n",
            "    Uninstalling pyparsing-3.2.3:\n",
            "      Successfully uninstalled pyparsing-3.2.3\n",
            "  Attempting uninstall: numpy\n",
            "    Found existing installation: numpy 2.0.2\n",
            "    Uninstalling numpy-2.0.2:\n",
            "      Successfully uninstalled numpy-2.0.2\n",
            "  Attempting uninstall: matplotlib-inline\n",
            "    Found existing installation: matplotlib-inline 0.1.7\n",
            "    Uninstalling matplotlib-inline-0.1.7:\n",
            "      Successfully uninstalled matplotlib-inline-0.1.7\n",
            "  Attempting uninstall: scipy\n",
            "    Found existing installation: scipy 1.15.3\n",
            "    Uninstalling scipy-1.15.3:\n",
            "      Successfully uninstalled scipy-1.15.3\n",
            "  Attempting uninstall: pandas\n",
            "    Found existing installation: pandas 2.2.2\n",
            "    Uninstalling pandas-2.2.2:\n",
            "      Successfully uninstalled pandas-2.2.2\n",
            "  Attempting uninstall: matplotlib\n",
            "    Found existing installation: matplotlib 3.10.0\n",
            "    Uninstalling matplotlib-3.10.0:\n",
            "      Successfully uninstalled matplotlib-3.10.0\n",
            "\u001b[31mERROR: pip's dependency resolver does not currently take into account all the packages that are installed. This behaviour is the source of the following dependency conflicts.\n",
            "google-colab 1.0.0 requires pandas==2.2.2, but you have pandas 2.0.3 which is incompatible.\n",
            "google-colab 1.0.0 requires requests==2.32.3, but you have requests 2.31.0 which is incompatible.\n",
            "albumentations 2.0.8 requires numpy>=1.24.4, but you have numpy 1.23.5 which is incompatible.\n",
            "plotnine 0.14.5 requires matplotlib>=3.8.0, but you have matplotlib 3.7.2 which is incompatible.\n",
            "plotnine 0.14.5 requires pandas>=2.2.0, but you have pandas 2.0.3 which is incompatible.\n",
            "tensorflow 2.18.0 requires numpy<2.1.0,>=1.26.0, but you have numpy 1.23.5 which is incompatible.\n",
            "blosc2 3.3.4 requires numpy>=1.26, but you have numpy 1.23.5 which is incompatible.\n",
            "jaxlib 0.5.1 requires numpy>=1.25, but you have numpy 1.23.5 which is incompatible.\n",
            "jaxlib 0.5.1 requires scipy>=1.11.1, but you have scipy 1.10.1 which is incompatible.\n",
            "xarray-einstats 0.9.0 requires numpy>=1.25, but you have numpy 1.23.5 which is incompatible.\n",
            "xarray-einstats 0.9.0 requires scipy>=1.11, but you have scipy 1.10.1 which is incompatible.\n",
            "xarray 2025.3.1 requires numpy>=1.24, but you have numpy 1.23.5 which is incompatible.\n",
            "xarray 2025.3.1 requires pandas>=2.1, but you have pandas 2.0.3 which is incompatible.\n",
            "treescope 0.1.9 requires numpy>=1.25.2, but you have numpy 1.23.5 which is incompatible.\n",
            "mizani 0.13.5 requires pandas>=2.2.0, but you have pandas 2.0.3 which is incompatible.\n",
            "scikit-image 0.25.2 requires numpy>=1.24, but you have numpy 1.23.5 which is incompatible.\n",
            "scikit-image 0.25.2 requires scipy>=1.11.4, but you have scipy 1.10.1 which is incompatible.\n",
            "chex 0.1.89 requires numpy>=1.24.1, but you have numpy 1.23.5 which is incompatible.\n",
            "cvxpy 1.6.5 requires scipy>=1.11.0, but you have scipy 1.10.1 which is incompatible.\n",
            "thinc 8.3.6 requires numpy<3.0.0,>=2.0.0, but you have numpy 1.23.5 which is incompatible.\n",
            "bigframes 2.5.0 requires numpy>=1.24.0, but you have numpy 1.23.5 which is incompatible.\n",
            "db-dtypes 1.4.3 requires numpy>=1.24.0, but you have numpy 1.23.5 which is incompatible.\n",
            "tsfresh 0.21.0 requires scipy>=1.14.0; python_version >= \"3.10\", but you have scipy 1.10.1 which is incompatible.\n",
            "jax 0.5.2 requires numpy>=1.25, but you have numpy 1.23.5 which is incompatible.\n",
            "jax 0.5.2 requires scipy>=1.11.1, but you have scipy 1.10.1 which is incompatible.\n",
            "imbalanced-learn 0.13.0 requires numpy<3,>=1.24.3, but you have numpy 1.23.5 which is incompatible.\n",
            "pymc 5.23.0 requires numpy>=1.25.0, but you have numpy 1.23.5 which is incompatible.\n",
            "albucore 0.0.24 requires numpy>=1.24.4, but you have numpy 1.23.5 which is incompatible.\u001b[0m\u001b[31m\n",
            "\u001b[0mSuccessfully installed d2l-1.0.3 jedi-0.19.2 jupyter-1.0.0 matplotlib-3.7.2 matplotlib-inline-0.1.6 numpy-1.23.5 pandas-2.0.3 pyparsing-3.0.9 qtconsole-5.6.1 qtpy-2.4.3 requests-2.31.0 scipy-1.10.1\n"
          ]
        },
        {
          "output_type": "display_data",
          "data": {
            "application/vnd.colab-display-data+json": {
              "pip_warning": {
                "packages": [
                  "matplotlib",
                  "matplotlib_inline",
                  "mpl_toolkits",
                  "numpy"
                ]
              },
              "id": "1c5cd2aa8bd2404fadb222bcc62c4406"
            }
          },
          "metadata": {}
        }
      ]
    },
    {
      "cell_type": "code",
      "execution_count": 1,
      "id": "dc1d09c8",
      "metadata": {
        "id": "dc1d09c8"
      },
      "outputs": [],
      "source": [
        "# !pip install git+https://github.com/d2l-ai/d2l-zh@release  # installing d2l  原来的中文版代码，报错。\n"
      ]
    },
    {
      "cell_type": "markdown",
      "id": "53d03399",
      "metadata": {
        "origin_pos": 0,
        "id": "53d03399"
      },
      "source": [
        "# 概率\n",
        ":label:`sec_prob`\n",
        "\n",
        "简单地说，机器学习就是做出预测。\n",
        "\n",
        "根据病人的临床病史，我们可能想预测他们在下一年心脏病发作的*概率*。\n",
        "在飞机喷气发动机的异常检测中，我们想要评估一组发动机读数为正常运行情况的概率有多大。\n",
        "在强化学习中，我们希望智能体（agent）能在一个环境中智能地行动。\n",
        "这意味着我们需要考虑在每种可行的行为下获得高奖励的概率。\n",
        "当我们建立推荐系统时，我们也需要考虑概率。\n",
        "例如，假设我们为一家大型在线书店工作，我们可能希望估计某些用户购买特定图书的概率。\n",
        "为此，我们需要使用概率学。\n",
        "有完整的课程、专业、论文、职业、甚至院系，都致力于概率学的工作。\n",
        "所以很自然地，我们在这部分的目标不是教授整个科目。\n",
        "相反，我们希望教给读者基础的概率知识，使读者能够开始构建第一个深度学习模型，\n",
        "以便读者可以开始自己探索它。\n",
        "\n",
        "现在让我们更认真地考虑第一个例子：根据照片区分猫和狗。\n",
        "这听起来可能很简单，但对于机器却可能是一个艰巨的挑战。\n",
        "首先，问题的难度可能取决于图像的分辨率。\n",
        "\n",
        "![不同分辨率的图像 ($10 \\times 10$, $20 \\times 20$, $40 \\times 40$, $80 \\times 80$, 和 $160 \\times 160$ pixels)](https://github.com/d2l-ai/d2l-zh-pytorch-colab/blob/master/img/cat-dog-pixels.png?raw=1)\n",
        ":width:`300px`\n",
        ":label:`fig_cat_dog`\n",
        "\n",
        "如 :numref:`fig_cat_dog`所示，虽然人类很容易以$160 \\times 160$像素的分辨率识别猫和狗，\n",
        "但它在$40\\times40$像素上变得具有挑战性，而且在$10 \\times 10$像素下几乎是不可能的。\n",
        "换句话说，我们在很远的距离（从而降低分辨率）区分猫和狗的能力可能会变为猜测。\n",
        "概率给了我们一种正式的途径来说明我们的确定性水平。\n",
        "如果我们完全肯定图像是一只猫，我们说标签$y$是\"猫\"的*概率*，表示为$P(y=$\"猫\"$)$等于$1$。\n",
        "如果我们没有证据表明$y=$“猫”或$y=$“狗”，那么我们可以说这两种可能性是相等的，\n",
        "即$P(y=$\"猫\"$)=P(y=$\"狗\"$)=0.5$。\n",
        "如果我们不十分确定图像描绘的是一只猫，我们可以将概率赋值为$0.5<P(y=$\"猫\"$)<1$。\n",
        "\n",
        "现在考虑第二个例子：给出一些天气监测数据，我们想预测明天北京下雨的概率。\n",
        "如果是夏天，下雨的概率是0.5。\n",
        "\n",
        "在这两种情况下，我们都不确定结果，但这两种情况之间有一个关键区别。\n",
        "在第一种情况中，图像实际上是狗或猫二选一。\n",
        "在第二种情况下，结果实际上是一个随机的事件。\n",
        "因此，概率是一种灵活的语言，用于说明我们的确定程度，并且它可以有效地应用于广泛的领域中。\n",
        "\n",
        "## 基本概率论\n",
        "\n",
        "假设我们掷骰子，想知道看到1的几率有多大，而不是看到另一个数字。\n",
        "如果骰子是公平的，那么所有六个结果$\\{1, \\ldots, 6\\}$都有相同的可能发生，\n",
        "因此我们可以说$1$发生的概率为$\\frac{1}{6}$。\n",
        "\n",
        "然而现实生活中，对于我们从工厂收到的真实骰子，我们需要检查它是否有瑕疵。\n",
        "检查骰子的唯一方法是多次投掷并记录结果。\n",
        "对于每个骰子，我们将观察到$\\{1, \\ldots, 6\\}$中的一个值。\n",
        "对于每个值，一种自然的方法是将它出现的次数除以投掷的总次数，\n",
        "即此*事件*（event）概率的*估计值*。\n",
        "*大数定律*（law of large numbers）告诉我们：\n",
        "随着投掷次数的增加，这个估计值会越来越接近真实的潜在概率。\n",
        "让我们用代码试一试！\n",
        "\n",
        "首先，我们导入必要的软件包。\n"
      ]
    },
    {
      "cell_type": "code",
      "execution_count": 2,
      "id": "fffe28f9",
      "metadata": {
        "execution": {
          "iopub.execute_input": "2023-08-18T07:03:52.138045Z",
          "iopub.status.busy": "2023-08-18T07:03:52.137333Z",
          "iopub.status.idle": "2023-08-18T07:03:55.099774Z",
          "shell.execute_reply": "2023-08-18T07:03:55.098743Z"
        },
        "origin_pos": 2,
        "tab": [
          "pytorch"
        ],
        "id": "fffe28f9"
      },
      "outputs": [],
      "source": [
        "%matplotlib inline\n",
        "import torch\n",
        "from torch.distributions import multinomial\n",
        "from d2l import torch as d2l"
      ]
    },
    {
      "cell_type": "markdown",
      "id": "e8bfc741",
      "metadata": {
        "origin_pos": 5,
        "id": "e8bfc741"
      },
      "source": [
        "在统计学中，我们把从概率分布中抽取样本的过程称为*抽样*（sampling）。\n",
        "笼统来说，可以把*分布*（distribution）看作对事件的概率分配，\n",
        "稍后我们将给出的更正式定义。\n",
        "将概率分配给一些离散选择的分布称为*多项分布*（multinomial distribution）。\n",
        "\n",
        "为了抽取一个样本，即掷骰子，我们只需传入一个概率向量。\n",
        "输出是另一个相同长度的向量：它在索引$i$处的值是采样结果中$i$出现的次数。\n"
      ]
    },
    {
      "cell_type": "code",
      "execution_count": 6,
      "id": "5e03f32a",
      "metadata": {
        "execution": {
          "iopub.execute_input": "2023-08-18T07:03:55.105250Z",
          "iopub.status.busy": "2023-08-18T07:03:55.104342Z",
          "iopub.status.idle": "2023-08-18T07:03:55.117395Z",
          "shell.execute_reply": "2023-08-18T07:03:55.116406Z"
        },
        "origin_pos": 7,
        "tab": [
          "pytorch"
        ],
        "id": "5e03f32a",
        "outputId": "a43d3b73-2b2a-4b12-f8ae-6ce50a748608",
        "colab": {
          "base_uri": "https://localhost:8080/"
        }
      },
      "outputs": [
        {
          "output_type": "execute_result",
          "data": {
            "text/plain": [
              "tensor([0., 0., 0., 1., 0., 0.])"
            ]
          },
          "metadata": {},
          "execution_count": 6
        }
      ],
      "source": [
        "fair_probs = torch.ones([6]) / 6\n",
        "multinomial.Multinomial(1, fair_probs).sample()"
      ]
    },
    {
      "cell_type": "code",
      "source": [
        "fair_probs"
      ],
      "metadata": {
        "id": "O9t0FrfET4Xw",
        "outputId": "d2ac19e3-78be-48a9-fff8-ea1e801fae91",
        "colab": {
          "base_uri": "https://localhost:8080/"
        }
      },
      "id": "O9t0FrfET4Xw",
      "execution_count": 7,
      "outputs": [
        {
          "output_type": "execute_result",
          "data": {
            "text/plain": [
              "tensor([0.1667, 0.1667, 0.1667, 0.1667, 0.1667, 0.1667])"
            ]
          },
          "metadata": {},
          "execution_count": 7
        }
      ]
    },
    {
      "cell_type": "markdown",
      "id": "076723aa",
      "metadata": {
        "origin_pos": 10,
        "id": "076723aa"
      },
      "source": [
        "在估计一个骰子的公平性时，我们希望从同一分布中生成多个样本。\n",
        "如果用Python的for循环来完成这个任务，速度会慢得惊人。\n",
        "因此我们使用深度学习框架的函数同时抽取多个样本，得到我们想要的任意形状的独立样本数组。\n"
      ]
    },
    {
      "cell_type": "code",
      "execution_count": 10,
      "id": "aef6c2b1",
      "metadata": {
        "execution": {
          "iopub.execute_input": "2023-08-18T07:03:55.121792Z",
          "iopub.status.busy": "2023-08-18T07:03:55.121330Z",
          "iopub.status.idle": "2023-08-18T07:03:55.128618Z",
          "shell.execute_reply": "2023-08-18T07:03:55.127639Z"
        },
        "origin_pos": 12,
        "tab": [
          "pytorch"
        ],
        "id": "aef6c2b1",
        "outputId": "bdc37e7a-cfb9-4048-dded-6317401e2a1c",
        "colab": {
          "base_uri": "https://localhost:8080/"
        }
      },
      "outputs": [
        {
          "output_type": "execute_result",
          "data": {
            "text/plain": [
              "tensor([1., 4., 0., 1., 1., 3.])"
            ]
          },
          "metadata": {},
          "execution_count": 10
        }
      ],
      "source": [
        "multinomial.Multinomial(10, fair_probs).sample()"
      ]
    },
    {
      "cell_type": "markdown",
      "id": "cb561790",
      "metadata": {
        "origin_pos": 15,
        "id": "cb561790"
      },
      "source": [
        "现在我们知道如何对骰子进行采样，我们可以模拟1000次投掷。\n",
        "然后，我们可以统计1000次投掷后，每个数字被投中了多少次。\n",
        "具体来说，我们计算相对频率，以作为真实概率的估计。\n"
      ]
    },
    {
      "cell_type": "code",
      "execution_count": 11,
      "id": "22aadbd3",
      "metadata": {
        "execution": {
          "iopub.execute_input": "2023-08-18T07:03:55.132265Z",
          "iopub.status.busy": "2023-08-18T07:03:55.131761Z",
          "iopub.status.idle": "2023-08-18T07:03:55.139359Z",
          "shell.execute_reply": "2023-08-18T07:03:55.138380Z"
        },
        "origin_pos": 17,
        "tab": [
          "pytorch"
        ],
        "id": "22aadbd3",
        "outputId": "3ff3dba7-9ae3-456a-f1b4-6b8044ab42ab",
        "colab": {
          "base_uri": "https://localhost:8080/"
        }
      },
      "outputs": [
        {
          "output_type": "execute_result",
          "data": {
            "text/plain": [
              "tensor([0.1700, 0.1700, 0.1610, 0.1760, 0.1660, 0.1570])"
            ]
          },
          "metadata": {},
          "execution_count": 11
        }
      ],
      "source": [
        "# 将结果存储为32位浮点数以进行除法\n",
        "counts = multinomial.Multinomial(1000, fair_probs).sample()\n",
        "counts / 1000  # 相对频率作为估计值"
      ]
    },
    {
      "cell_type": "markdown",
      "id": "af0608f2",
      "metadata": {
        "origin_pos": 20,
        "id": "af0608f2"
      },
      "source": [
        "因为我们是从一个公平的骰子中生成的数据，我们知道每个结果都有真实的概率$\\frac{1}{6}$，\n",
        "大约是$0.167$，所以上面输出的估计值看起来不错。\n",
        "\n",
        "我们也可以看到这些概率如何随着时间的推移收敛到真实概率。\n",
        "让我们进行500组实验，每组抽取10个样本。\n"
      ]
    },
    {
      "cell_type": "code",
      "execution_count": 12,
      "id": "ebe14d68",
      "metadata": {
        "execution": {
          "iopub.execute_input": "2023-08-18T07:03:55.143254Z",
          "iopub.status.busy": "2023-08-18T07:03:55.142607Z",
          "iopub.status.idle": "2023-08-18T07:03:55.387633Z",
          "shell.execute_reply": "2023-08-18T07:03:55.386483Z"
        },
        "origin_pos": 22,
        "tab": [
          "pytorch"
        ],
        "id": "ebe14d68",
        "outputId": "269d06b8-33f4-45e3-f509-7c2f44331633",
        "colab": {
          "base_uri": "https://localhost:8080/",
          "height": 413
        }
      },
      "outputs": [
        {
          "output_type": "display_data",
          "data": {
            "text/plain": [
              "<Figure size 600x450 with 1 Axes>"
            ],
            "image/svg+xml": "<?xml version=\"1.0\" encoding=\"utf-8\" standalone=\"no\"?>\n<!DOCTYPE svg PUBLIC \"-//W3C//DTD SVG 1.1//EN\"\n  \"http://www.w3.org/Graphics/SVG/1.1/DTD/svg11.dtd\">\n<svg xmlns:xlink=\"http://www.w3.org/1999/xlink\" width=\"392.14375pt\" height=\"294.23625pt\" viewBox=\"0 0 392.14375 294.23625\" xmlns=\"http://www.w3.org/2000/svg\" version=\"1.1\">\n <metadata>\n  <rdf:RDF xmlns:dc=\"http://purl.org/dc/elements/1.1/\" xmlns:cc=\"http://creativecommons.org/ns#\" xmlns:rdf=\"http://www.w3.org/1999/02/22-rdf-syntax-ns#\">\n   <cc:Work>\n    <dc:type rdf:resource=\"http://purl.org/dc/dcmitype/StillImage\"/>\n    <dc:date>2025-06-11T14:08:39.629928</dc:date>\n    <dc:format>image/svg+xml</dc:format>\n    <dc:creator>\n     <cc:Agent>\n      <dc:title>Matplotlib v3.7.2, https://matplotlib.org/</dc:title>\n     </cc:Agent>\n    </dc:creator>\n   </cc:Work>\n  </rdf:RDF>\n </metadata>\n <defs>\n  <style type=\"text/css\">*{stroke-linejoin: round; stroke-linecap: butt}</style>\n </defs>\n <g id=\"figure_1\">\n  <g id=\"patch_1\">\n   <path d=\"M 0 294.23625 \nL 392.14375 294.23625 \nL 392.14375 0 \nL 0 0 \nz\n\" style=\"fill: #ffffff\"/>\n  </g>\n  <g id=\"axes_1\">\n   <g id=\"patch_2\">\n    <path d=\"M 50.14375 256.68 \nL 384.94375 256.68 \nL 384.94375 7.2 \nL 50.14375 7.2 \nz\n\" style=\"fill: #ffffff\"/>\n   </g>\n   <g id=\"matplotlib.axis_1\">\n    <g id=\"xtick_1\">\n     <g id=\"line2d_1\">\n      <defs>\n       <path id=\"m2bf5e93fe7\" d=\"M 0 0 \nL 0 3.5 \n\" style=\"stroke: #000000; stroke-width: 0.8\"/>\n      </defs>\n      <g>\n       <use xlink:href=\"#m2bf5e93fe7\" x=\"65.361932\" y=\"256.68\" style=\"stroke: #000000; stroke-width: 0.8\"/>\n      </g>\n     </g>\n     <g id=\"text_1\">\n      <!-- 0 -->\n      <g transform=\"translate(62.180682 271.278437) scale(0.1 -0.1)\">\n       <defs>\n        <path id=\"DejaVuSans-30\" d=\"M 2034 4250 \nQ 1547 4250 1301 3770 \nQ 1056 3291 1056 2328 \nQ 1056 1369 1301 889 \nQ 1547 409 2034 409 \nQ 2525 409 2770 889 \nQ 3016 1369 3016 2328 \nQ 3016 3291 2770 3770 \nQ 2525 4250 2034 4250 \nz\nM 2034 4750 \nQ 2819 4750 3233 4129 \nQ 3647 3509 3647 2328 \nQ 3647 1150 3233 529 \nQ 2819 -91 2034 -91 \nQ 1250 -91 836 529 \nQ 422 1150 422 2328 \nQ 422 3509 836 4129 \nQ 1250 4750 2034 4750 \nz\n\" transform=\"scale(0.015625)\"/>\n       </defs>\n       <use xlink:href=\"#DejaVuSans-30\"/>\n      </g>\n     </g>\n    </g>\n    <g id=\"xtick_2\">\n     <g id=\"line2d_2\">\n      <g>\n       <use xlink:href=\"#m2bf5e93fe7\" x=\"126.356649\" y=\"256.68\" style=\"stroke: #000000; stroke-width: 0.8\"/>\n      </g>\n     </g>\n     <g id=\"text_2\">\n      <!-- 100 -->\n      <g transform=\"translate(116.812899 271.278437) scale(0.1 -0.1)\">\n       <defs>\n        <path id=\"DejaVuSans-31\" d=\"M 794 531 \nL 1825 531 \nL 1825 4091 \nL 703 3866 \nL 703 4441 \nL 1819 4666 \nL 2450 4666 \nL 2450 531 \nL 3481 531 \nL 3481 0 \nL 794 0 \nL 794 531 \nz\n\" transform=\"scale(0.015625)\"/>\n       </defs>\n       <use xlink:href=\"#DejaVuSans-31\"/>\n       <use xlink:href=\"#DejaVuSans-30\" x=\"63.623047\"/>\n       <use xlink:href=\"#DejaVuSans-30\" x=\"127.246094\"/>\n      </g>\n     </g>\n    </g>\n    <g id=\"xtick_3\">\n     <g id=\"line2d_3\">\n      <g>\n       <use xlink:href=\"#m2bf5e93fe7\" x=\"187.351365\" y=\"256.68\" style=\"stroke: #000000; stroke-width: 0.8\"/>\n      </g>\n     </g>\n     <g id=\"text_3\">\n      <!-- 200 -->\n      <g transform=\"translate(177.807615 271.278437) scale(0.1 -0.1)\">\n       <defs>\n        <path id=\"DejaVuSans-32\" d=\"M 1228 531 \nL 3431 531 \nL 3431 0 \nL 469 0 \nL 469 531 \nQ 828 903 1448 1529 \nQ 2069 2156 2228 2338 \nQ 2531 2678 2651 2914 \nQ 2772 3150 2772 3378 \nQ 2772 3750 2511 3984 \nQ 2250 4219 1831 4219 \nQ 1534 4219 1204 4116 \nQ 875 4013 500 3803 \nL 500 4441 \nQ 881 4594 1212 4672 \nQ 1544 4750 1819 4750 \nQ 2544 4750 2975 4387 \nQ 3406 4025 3406 3419 \nQ 3406 3131 3298 2873 \nQ 3191 2616 2906 2266 \nQ 2828 2175 2409 1742 \nQ 1991 1309 1228 531 \nz\n\" transform=\"scale(0.015625)\"/>\n       </defs>\n       <use xlink:href=\"#DejaVuSans-32\"/>\n       <use xlink:href=\"#DejaVuSans-30\" x=\"63.623047\"/>\n       <use xlink:href=\"#DejaVuSans-30\" x=\"127.246094\"/>\n      </g>\n     </g>\n    </g>\n    <g id=\"xtick_4\">\n     <g id=\"line2d_4\">\n      <g>\n       <use xlink:href=\"#m2bf5e93fe7\" x=\"248.346082\" y=\"256.68\" style=\"stroke: #000000; stroke-width: 0.8\"/>\n      </g>\n     </g>\n     <g id=\"text_4\">\n      <!-- 300 -->\n      <g transform=\"translate(238.802332 271.278437) scale(0.1 -0.1)\">\n       <defs>\n        <path id=\"DejaVuSans-33\" d=\"M 2597 2516 \nQ 3050 2419 3304 2112 \nQ 3559 1806 3559 1356 \nQ 3559 666 3084 287 \nQ 2609 -91 1734 -91 \nQ 1441 -91 1130 -33 \nQ 819 25 488 141 \nL 488 750 \nQ 750 597 1062 519 \nQ 1375 441 1716 441 \nQ 2309 441 2620 675 \nQ 2931 909 2931 1356 \nQ 2931 1769 2642 2001 \nQ 2353 2234 1838 2234 \nL 1294 2234 \nL 1294 2753 \nL 1863 2753 \nQ 2328 2753 2575 2939 \nQ 2822 3125 2822 3475 \nQ 2822 3834 2567 4026 \nQ 2313 4219 1838 4219 \nQ 1578 4219 1281 4162 \nQ 984 4106 628 3988 \nL 628 4550 \nQ 988 4650 1302 4700 \nQ 1616 4750 1894 4750 \nQ 2613 4750 3031 4423 \nQ 3450 4097 3450 3541 \nQ 3450 3153 3228 2886 \nQ 3006 2619 2597 2516 \nz\n\" transform=\"scale(0.015625)\"/>\n       </defs>\n       <use xlink:href=\"#DejaVuSans-33\"/>\n       <use xlink:href=\"#DejaVuSans-30\" x=\"63.623047\"/>\n       <use xlink:href=\"#DejaVuSans-30\" x=\"127.246094\"/>\n      </g>\n     </g>\n    </g>\n    <g id=\"xtick_5\">\n     <g id=\"line2d_5\">\n      <g>\n       <use xlink:href=\"#m2bf5e93fe7\" x=\"309.340799\" y=\"256.68\" style=\"stroke: #000000; stroke-width: 0.8\"/>\n      </g>\n     </g>\n     <g id=\"text_5\">\n      <!-- 400 -->\n      <g transform=\"translate(299.797049 271.278437) scale(0.1 -0.1)\">\n       <defs>\n        <path id=\"DejaVuSans-34\" d=\"M 2419 4116 \nL 825 1625 \nL 2419 1625 \nL 2419 4116 \nz\nM 2253 4666 \nL 3047 4666 \nL 3047 1625 \nL 3713 1625 \nL 3713 1100 \nL 3047 1100 \nL 3047 0 \nL 2419 0 \nL 2419 1100 \nL 313 1100 \nL 313 1709 \nL 2253 4666 \nz\n\" transform=\"scale(0.015625)\"/>\n       </defs>\n       <use xlink:href=\"#DejaVuSans-34\"/>\n       <use xlink:href=\"#DejaVuSans-30\" x=\"63.623047\"/>\n       <use xlink:href=\"#DejaVuSans-30\" x=\"127.246094\"/>\n      </g>\n     </g>\n    </g>\n    <g id=\"xtick_6\">\n     <g id=\"line2d_6\">\n      <g>\n       <use xlink:href=\"#m2bf5e93fe7\" x=\"370.335515\" y=\"256.68\" style=\"stroke: #000000; stroke-width: 0.8\"/>\n      </g>\n     </g>\n     <g id=\"text_6\">\n      <!-- 500 -->\n      <g transform=\"translate(360.791765 271.278437) scale(0.1 -0.1)\">\n       <defs>\n        <path id=\"DejaVuSans-35\" d=\"M 691 4666 \nL 3169 4666 \nL 3169 4134 \nL 1269 4134 \nL 1269 2991 \nQ 1406 3038 1543 3061 \nQ 1681 3084 1819 3084 \nQ 2600 3084 3056 2656 \nQ 3513 2228 3513 1497 \nQ 3513 744 3044 326 \nQ 2575 -91 1722 -91 \nQ 1428 -91 1123 -41 \nQ 819 9 494 109 \nL 494 744 \nQ 775 591 1075 516 \nQ 1375 441 1709 441 \nQ 2250 441 2565 725 \nQ 2881 1009 2881 1497 \nQ 2881 1984 2565 2268 \nQ 2250 2553 1709 2553 \nQ 1456 2553 1204 2497 \nQ 953 2441 691 2322 \nL 691 4666 \nz\n\" transform=\"scale(0.015625)\"/>\n       </defs>\n       <use xlink:href=\"#DejaVuSans-35\"/>\n       <use xlink:href=\"#DejaVuSans-30\" x=\"63.623047\"/>\n       <use xlink:href=\"#DejaVuSans-30\" x=\"127.246094\"/>\n      </g>\n     </g>\n    </g>\n    <g id=\"text_7\">\n     <!-- Groups of experiments -->\n     <g transform=\"translate(160.397656 284.956562) scale(0.1 -0.1)\">\n      <defs>\n       <path id=\"DejaVuSans-47\" d=\"M 3809 666 \nL 3809 1919 \nL 2778 1919 \nL 2778 2438 \nL 4434 2438 \nL 4434 434 \nQ 4069 175 3628 42 \nQ 3188 -91 2688 -91 \nQ 1594 -91 976 548 \nQ 359 1188 359 2328 \nQ 359 3472 976 4111 \nQ 1594 4750 2688 4750 \nQ 3144 4750 3555 4637 \nQ 3966 4525 4313 4306 \nL 4313 3634 \nQ 3963 3931 3569 4081 \nQ 3175 4231 2741 4231 \nQ 1884 4231 1454 3753 \nQ 1025 3275 1025 2328 \nQ 1025 1384 1454 906 \nQ 1884 428 2741 428 \nQ 3075 428 3337 486 \nQ 3600 544 3809 666 \nz\n\" transform=\"scale(0.015625)\"/>\n       <path id=\"DejaVuSans-72\" d=\"M 2631 2963 \nQ 2534 3019 2420 3045 \nQ 2306 3072 2169 3072 \nQ 1681 3072 1420 2755 \nQ 1159 2438 1159 1844 \nL 1159 0 \nL 581 0 \nL 581 3500 \nL 1159 3500 \nL 1159 2956 \nQ 1341 3275 1631 3429 \nQ 1922 3584 2338 3584 \nQ 2397 3584 2469 3576 \nQ 2541 3569 2628 3553 \nL 2631 2963 \nz\n\" transform=\"scale(0.015625)\"/>\n       <path id=\"DejaVuSans-6f\" d=\"M 1959 3097 \nQ 1497 3097 1228 2736 \nQ 959 2375 959 1747 \nQ 959 1119 1226 758 \nQ 1494 397 1959 397 \nQ 2419 397 2687 759 \nQ 2956 1122 2956 1747 \nQ 2956 2369 2687 2733 \nQ 2419 3097 1959 3097 \nz\nM 1959 3584 \nQ 2709 3584 3137 3096 \nQ 3566 2609 3566 1747 \nQ 3566 888 3137 398 \nQ 2709 -91 1959 -91 \nQ 1206 -91 779 398 \nQ 353 888 353 1747 \nQ 353 2609 779 3096 \nQ 1206 3584 1959 3584 \nz\n\" transform=\"scale(0.015625)\"/>\n       <path id=\"DejaVuSans-75\" d=\"M 544 1381 \nL 544 3500 \nL 1119 3500 \nL 1119 1403 \nQ 1119 906 1312 657 \nQ 1506 409 1894 409 \nQ 2359 409 2629 706 \nQ 2900 1003 2900 1516 \nL 2900 3500 \nL 3475 3500 \nL 3475 0 \nL 2900 0 \nL 2900 538 \nQ 2691 219 2414 64 \nQ 2138 -91 1772 -91 \nQ 1169 -91 856 284 \nQ 544 659 544 1381 \nz\nM 1991 3584 \nL 1991 3584 \nz\n\" transform=\"scale(0.015625)\"/>\n       <path id=\"DejaVuSans-70\" d=\"M 1159 525 \nL 1159 -1331 \nL 581 -1331 \nL 581 3500 \nL 1159 3500 \nL 1159 2969 \nQ 1341 3281 1617 3432 \nQ 1894 3584 2278 3584 \nQ 2916 3584 3314 3078 \nQ 3713 2572 3713 1747 \nQ 3713 922 3314 415 \nQ 2916 -91 2278 -91 \nQ 1894 -91 1617 61 \nQ 1341 213 1159 525 \nz\nM 3116 1747 \nQ 3116 2381 2855 2742 \nQ 2594 3103 2138 3103 \nQ 1681 3103 1420 2742 \nQ 1159 2381 1159 1747 \nQ 1159 1113 1420 752 \nQ 1681 391 2138 391 \nQ 2594 391 2855 752 \nQ 3116 1113 3116 1747 \nz\n\" transform=\"scale(0.015625)\"/>\n       <path id=\"DejaVuSans-73\" d=\"M 2834 3397 \nL 2834 2853 \nQ 2591 2978 2328 3040 \nQ 2066 3103 1784 3103 \nQ 1356 3103 1142 2972 \nQ 928 2841 928 2578 \nQ 928 2378 1081 2264 \nQ 1234 2150 1697 2047 \nL 1894 2003 \nQ 2506 1872 2764 1633 \nQ 3022 1394 3022 966 \nQ 3022 478 2636 193 \nQ 2250 -91 1575 -91 \nQ 1294 -91 989 -36 \nQ 684 19 347 128 \nL 347 722 \nQ 666 556 975 473 \nQ 1284 391 1588 391 \nQ 1994 391 2212 530 \nQ 2431 669 2431 922 \nQ 2431 1156 2273 1281 \nQ 2116 1406 1581 1522 \nL 1381 1569 \nQ 847 1681 609 1914 \nQ 372 2147 372 2553 \nQ 372 3047 722 3315 \nQ 1072 3584 1716 3584 \nQ 2034 3584 2315 3537 \nQ 2597 3491 2834 3397 \nz\n\" transform=\"scale(0.015625)\"/>\n       <path id=\"DejaVuSans-20\" transform=\"scale(0.015625)\"/>\n       <path id=\"DejaVuSans-66\" d=\"M 2375 4863 \nL 2375 4384 \nL 1825 4384 \nQ 1516 4384 1395 4259 \nQ 1275 4134 1275 3809 \nL 1275 3500 \nL 2222 3500 \nL 2222 3053 \nL 1275 3053 \nL 1275 0 \nL 697 0 \nL 697 3053 \nL 147 3053 \nL 147 3500 \nL 697 3500 \nL 697 3744 \nQ 697 4328 969 4595 \nQ 1241 4863 1831 4863 \nL 2375 4863 \nz\n\" transform=\"scale(0.015625)\"/>\n       <path id=\"DejaVuSans-65\" d=\"M 3597 1894 \nL 3597 1613 \nL 953 1613 \nQ 991 1019 1311 708 \nQ 1631 397 2203 397 \nQ 2534 397 2845 478 \nQ 3156 559 3463 722 \nL 3463 178 \nQ 3153 47 2828 -22 \nQ 2503 -91 2169 -91 \nQ 1331 -91 842 396 \nQ 353 884 353 1716 \nQ 353 2575 817 3079 \nQ 1281 3584 2069 3584 \nQ 2775 3584 3186 3129 \nQ 3597 2675 3597 1894 \nz\nM 3022 2063 \nQ 3016 2534 2758 2815 \nQ 2500 3097 2075 3097 \nQ 1594 3097 1305 2825 \nQ 1016 2553 972 2059 \nL 3022 2063 \nz\n\" transform=\"scale(0.015625)\"/>\n       <path id=\"DejaVuSans-78\" d=\"M 3513 3500 \nL 2247 1797 \nL 3578 0 \nL 2900 0 \nL 1881 1375 \nL 863 0 \nL 184 0 \nL 1544 1831 \nL 300 3500 \nL 978 3500 \nL 1906 2253 \nL 2834 3500 \nL 3513 3500 \nz\n\" transform=\"scale(0.015625)\"/>\n       <path id=\"DejaVuSans-69\" d=\"M 603 3500 \nL 1178 3500 \nL 1178 0 \nL 603 0 \nL 603 3500 \nz\nM 603 4863 \nL 1178 4863 \nL 1178 4134 \nL 603 4134 \nL 603 4863 \nz\n\" transform=\"scale(0.015625)\"/>\n       <path id=\"DejaVuSans-6d\" d=\"M 3328 2828 \nQ 3544 3216 3844 3400 \nQ 4144 3584 4550 3584 \nQ 5097 3584 5394 3201 \nQ 5691 2819 5691 2113 \nL 5691 0 \nL 5113 0 \nL 5113 2094 \nQ 5113 2597 4934 2840 \nQ 4756 3084 4391 3084 \nQ 3944 3084 3684 2787 \nQ 3425 2491 3425 1978 \nL 3425 0 \nL 2847 0 \nL 2847 2094 \nQ 2847 2600 2669 2842 \nQ 2491 3084 2119 3084 \nQ 1678 3084 1418 2786 \nQ 1159 2488 1159 1978 \nL 1159 0 \nL 581 0 \nL 581 3500 \nL 1159 3500 \nL 1159 2956 \nQ 1356 3278 1631 3431 \nQ 1906 3584 2284 3584 \nQ 2666 3584 2933 3390 \nQ 3200 3197 3328 2828 \nz\n\" transform=\"scale(0.015625)\"/>\n       <path id=\"DejaVuSans-6e\" d=\"M 3513 2113 \nL 3513 0 \nL 2938 0 \nL 2938 2094 \nQ 2938 2591 2744 2837 \nQ 2550 3084 2163 3084 \nQ 1697 3084 1428 2787 \nQ 1159 2491 1159 1978 \nL 1159 0 \nL 581 0 \nL 581 3500 \nL 1159 3500 \nL 1159 2956 \nQ 1366 3272 1645 3428 \nQ 1925 3584 2291 3584 \nQ 2894 3584 3203 3211 \nQ 3513 2838 3513 2113 \nz\n\" transform=\"scale(0.015625)\"/>\n       <path id=\"DejaVuSans-74\" d=\"M 1172 4494 \nL 1172 3500 \nL 2356 3500 \nL 2356 3053 \nL 1172 3053 \nL 1172 1153 \nQ 1172 725 1289 603 \nQ 1406 481 1766 481 \nL 2356 481 \nL 2356 0 \nL 1766 0 \nQ 1100 0 847 248 \nQ 594 497 594 1153 \nL 594 3053 \nL 172 3053 \nL 172 3500 \nL 594 3500 \nL 594 4494 \nL 1172 4494 \nz\n\" transform=\"scale(0.015625)\"/>\n      </defs>\n      <use xlink:href=\"#DejaVuSans-47\"/>\n      <use xlink:href=\"#DejaVuSans-72\" x=\"77.490234\"/>\n      <use xlink:href=\"#DejaVuSans-6f\" x=\"116.353516\"/>\n      <use xlink:href=\"#DejaVuSans-75\" x=\"177.535156\"/>\n      <use xlink:href=\"#DejaVuSans-70\" x=\"240.914062\"/>\n      <use xlink:href=\"#DejaVuSans-73\" x=\"304.390625\"/>\n      <use xlink:href=\"#DejaVuSans-20\" x=\"356.490234\"/>\n      <use xlink:href=\"#DejaVuSans-6f\" x=\"388.277344\"/>\n      <use xlink:href=\"#DejaVuSans-66\" x=\"449.458984\"/>\n      <use xlink:href=\"#DejaVuSans-20\" x=\"484.664062\"/>\n      <use xlink:href=\"#DejaVuSans-65\" x=\"516.451172\"/>\n      <use xlink:href=\"#DejaVuSans-78\" x=\"576.224609\"/>\n      <use xlink:href=\"#DejaVuSans-70\" x=\"635.404297\"/>\n      <use xlink:href=\"#DejaVuSans-65\" x=\"698.880859\"/>\n      <use xlink:href=\"#DejaVuSans-72\" x=\"760.404297\"/>\n      <use xlink:href=\"#DejaVuSans-69\" x=\"801.517578\"/>\n      <use xlink:href=\"#DejaVuSans-6d\" x=\"829.300781\"/>\n      <use xlink:href=\"#DejaVuSans-65\" x=\"926.712891\"/>\n      <use xlink:href=\"#DejaVuSans-6e\" x=\"988.236328\"/>\n      <use xlink:href=\"#DejaVuSans-74\" x=\"1051.615234\"/>\n      <use xlink:href=\"#DejaVuSans-73\" x=\"1090.824219\"/>\n     </g>\n    </g>\n   </g>\n   <g id=\"matplotlib.axis_2\">\n    <g id=\"ytick_1\">\n     <g id=\"line2d_7\">\n      <defs>\n       <path id=\"m45722196de\" d=\"M 0 0 \nL -3.5 0 \n\" style=\"stroke: #000000; stroke-width: 0.8\"/>\n      </defs>\n      <g>\n       <use xlink:href=\"#m45722196de\" x=\"50.14375\" y=\"245.34\" style=\"stroke: #000000; stroke-width: 0.8\"/>\n      </g>\n     </g>\n     <g id=\"text_8\">\n      <!-- 0.00 -->\n      <g transform=\"translate(20.878125 249.139219) scale(0.1 -0.1)\">\n       <defs>\n        <path id=\"DejaVuSans-2e\" d=\"M 684 794 \nL 1344 794 \nL 1344 0 \nL 684 0 \nL 684 794 \nz\n\" transform=\"scale(0.015625)\"/>\n       </defs>\n       <use xlink:href=\"#DejaVuSans-30\"/>\n       <use xlink:href=\"#DejaVuSans-2e\" x=\"63.623047\"/>\n       <use xlink:href=\"#DejaVuSans-30\" x=\"95.410156\"/>\n       <use xlink:href=\"#DejaVuSans-30\" x=\"159.033203\"/>\n      </g>\n     </g>\n    </g>\n    <g id=\"ytick_2\">\n     <g id=\"line2d_8\">\n      <g>\n       <use xlink:href=\"#m45722196de\" x=\"50.14375\" y=\"207.540002\" style=\"stroke: #000000; stroke-width: 0.8\"/>\n      </g>\n     </g>\n     <g id=\"text_9\">\n      <!-- 0.05 -->\n      <g transform=\"translate(20.878125 211.33922) scale(0.1 -0.1)\">\n       <use xlink:href=\"#DejaVuSans-30\"/>\n       <use xlink:href=\"#DejaVuSans-2e\" x=\"63.623047\"/>\n       <use xlink:href=\"#DejaVuSans-30\" x=\"95.410156\"/>\n       <use xlink:href=\"#DejaVuSans-35\" x=\"159.033203\"/>\n      </g>\n     </g>\n    </g>\n    <g id=\"ytick_3\">\n     <g id=\"line2d_9\">\n      <g>\n       <use xlink:href=\"#m45722196de\" x=\"50.14375\" y=\"169.740003\" style=\"stroke: #000000; stroke-width: 0.8\"/>\n      </g>\n     </g>\n     <g id=\"text_10\">\n      <!-- 0.10 -->\n      <g transform=\"translate(20.878125 173.539222) scale(0.1 -0.1)\">\n       <use xlink:href=\"#DejaVuSans-30\"/>\n       <use xlink:href=\"#DejaVuSans-2e\" x=\"63.623047\"/>\n       <use xlink:href=\"#DejaVuSans-31\" x=\"95.410156\"/>\n       <use xlink:href=\"#DejaVuSans-30\" x=\"159.033203\"/>\n      </g>\n     </g>\n    </g>\n    <g id=\"ytick_4\">\n     <g id=\"line2d_10\">\n      <g>\n       <use xlink:href=\"#m45722196de\" x=\"50.14375\" y=\"131.940005\" style=\"stroke: #000000; stroke-width: 0.8\"/>\n      </g>\n     </g>\n     <g id=\"text_11\">\n      <!-- 0.15 -->\n      <g transform=\"translate(20.878125 135.739223) scale(0.1 -0.1)\">\n       <use xlink:href=\"#DejaVuSans-30\"/>\n       <use xlink:href=\"#DejaVuSans-2e\" x=\"63.623047\"/>\n       <use xlink:href=\"#DejaVuSans-31\" x=\"95.410156\"/>\n       <use xlink:href=\"#DejaVuSans-35\" x=\"159.033203\"/>\n      </g>\n     </g>\n    </g>\n    <g id=\"ytick_5\">\n     <g id=\"line2d_11\">\n      <g>\n       <use xlink:href=\"#m45722196de\" x=\"50.14375\" y=\"94.140006\" style=\"stroke: #000000; stroke-width: 0.8\"/>\n      </g>\n     </g>\n     <g id=\"text_12\">\n      <!-- 0.20 -->\n      <g transform=\"translate(20.878125 97.939225) scale(0.1 -0.1)\">\n       <use xlink:href=\"#DejaVuSans-30\"/>\n       <use xlink:href=\"#DejaVuSans-2e\" x=\"63.623047\"/>\n       <use xlink:href=\"#DejaVuSans-32\" x=\"95.410156\"/>\n       <use xlink:href=\"#DejaVuSans-30\" x=\"159.033203\"/>\n      </g>\n     </g>\n    </g>\n    <g id=\"ytick_6\">\n     <g id=\"line2d_12\">\n      <g>\n       <use xlink:href=\"#m45722196de\" x=\"50.14375\" y=\"56.340008\" style=\"stroke: #000000; stroke-width: 0.8\"/>\n      </g>\n     </g>\n     <g id=\"text_13\">\n      <!-- 0.25 -->\n      <g transform=\"translate(20.878125 60.139226) scale(0.1 -0.1)\">\n       <use xlink:href=\"#DejaVuSans-30\"/>\n       <use xlink:href=\"#DejaVuSans-2e\" x=\"63.623047\"/>\n       <use xlink:href=\"#DejaVuSans-32\" x=\"95.410156\"/>\n       <use xlink:href=\"#DejaVuSans-35\" x=\"159.033203\"/>\n      </g>\n     </g>\n    </g>\n    <g id=\"ytick_7\">\n     <g id=\"line2d_13\">\n      <g>\n       <use xlink:href=\"#m45722196de\" x=\"50.14375\" y=\"18.540009\" style=\"stroke: #000000; stroke-width: 0.8\"/>\n      </g>\n     </g>\n     <g id=\"text_14\">\n      <!-- 0.30 -->\n      <g transform=\"translate(20.878125 22.339228) scale(0.1 -0.1)\">\n       <use xlink:href=\"#DejaVuSans-30\"/>\n       <use xlink:href=\"#DejaVuSans-2e\" x=\"63.623047\"/>\n       <use xlink:href=\"#DejaVuSans-33\" x=\"95.410156\"/>\n       <use xlink:href=\"#DejaVuSans-30\" x=\"159.033203\"/>\n      </g>\n     </g>\n    </g>\n    <g id=\"text_15\">\n     <!-- Estimated probability -->\n     <g transform=\"translate(14.798438 185.463437) rotate(-90) scale(0.1 -0.1)\">\n      <defs>\n       <path id=\"DejaVuSans-45\" d=\"M 628 4666 \nL 3578 4666 \nL 3578 4134 \nL 1259 4134 \nL 1259 2753 \nL 3481 2753 \nL 3481 2222 \nL 1259 2222 \nL 1259 531 \nL 3634 531 \nL 3634 0 \nL 628 0 \nL 628 4666 \nz\n\" transform=\"scale(0.015625)\"/>\n       <path id=\"DejaVuSans-61\" d=\"M 2194 1759 \nQ 1497 1759 1228 1600 \nQ 959 1441 959 1056 \nQ 959 750 1161 570 \nQ 1363 391 1709 391 \nQ 2188 391 2477 730 \nQ 2766 1069 2766 1631 \nL 2766 1759 \nL 2194 1759 \nz\nM 3341 1997 \nL 3341 0 \nL 2766 0 \nL 2766 531 \nQ 2569 213 2275 61 \nQ 1981 -91 1556 -91 \nQ 1019 -91 701 211 \nQ 384 513 384 1019 \nQ 384 1609 779 1909 \nQ 1175 2209 1959 2209 \nL 2766 2209 \nL 2766 2266 \nQ 2766 2663 2505 2880 \nQ 2244 3097 1772 3097 \nQ 1472 3097 1187 3025 \nQ 903 2953 641 2809 \nL 641 3341 \nQ 956 3463 1253 3523 \nQ 1550 3584 1831 3584 \nQ 2591 3584 2966 3190 \nQ 3341 2797 3341 1997 \nz\n\" transform=\"scale(0.015625)\"/>\n       <path id=\"DejaVuSans-64\" d=\"M 2906 2969 \nL 2906 4863 \nL 3481 4863 \nL 3481 0 \nL 2906 0 \nL 2906 525 \nQ 2725 213 2448 61 \nQ 2172 -91 1784 -91 \nQ 1150 -91 751 415 \nQ 353 922 353 1747 \nQ 353 2572 751 3078 \nQ 1150 3584 1784 3584 \nQ 2172 3584 2448 3432 \nQ 2725 3281 2906 2969 \nz\nM 947 1747 \nQ 947 1113 1208 752 \nQ 1469 391 1925 391 \nQ 2381 391 2643 752 \nQ 2906 1113 2906 1747 \nQ 2906 2381 2643 2742 \nQ 2381 3103 1925 3103 \nQ 1469 3103 1208 2742 \nQ 947 2381 947 1747 \nz\n\" transform=\"scale(0.015625)\"/>\n       <path id=\"DejaVuSans-62\" d=\"M 3116 1747 \nQ 3116 2381 2855 2742 \nQ 2594 3103 2138 3103 \nQ 1681 3103 1420 2742 \nQ 1159 2381 1159 1747 \nQ 1159 1113 1420 752 \nQ 1681 391 2138 391 \nQ 2594 391 2855 752 \nQ 3116 1113 3116 1747 \nz\nM 1159 2969 \nQ 1341 3281 1617 3432 \nQ 1894 3584 2278 3584 \nQ 2916 3584 3314 3078 \nQ 3713 2572 3713 1747 \nQ 3713 922 3314 415 \nQ 2916 -91 2278 -91 \nQ 1894 -91 1617 61 \nQ 1341 213 1159 525 \nL 1159 0 \nL 581 0 \nL 581 4863 \nL 1159 4863 \nL 1159 2969 \nz\n\" transform=\"scale(0.015625)\"/>\n       <path id=\"DejaVuSans-6c\" d=\"M 603 4863 \nL 1178 4863 \nL 1178 0 \nL 603 0 \nL 603 4863 \nz\n\" transform=\"scale(0.015625)\"/>\n       <path id=\"DejaVuSans-79\" d=\"M 2059 -325 \nQ 1816 -950 1584 -1140 \nQ 1353 -1331 966 -1331 \nL 506 -1331 \nL 506 -850 \nL 844 -850 \nQ 1081 -850 1212 -737 \nQ 1344 -625 1503 -206 \nL 1606 56 \nL 191 3500 \nL 800 3500 \nL 1894 763 \nL 2988 3500 \nL 3597 3500 \nL 2059 -325 \nz\n\" transform=\"scale(0.015625)\"/>\n      </defs>\n      <use xlink:href=\"#DejaVuSans-45\"/>\n      <use xlink:href=\"#DejaVuSans-73\" x=\"63.183594\"/>\n      <use xlink:href=\"#DejaVuSans-74\" x=\"115.283203\"/>\n      <use xlink:href=\"#DejaVuSans-69\" x=\"154.492188\"/>\n      <use xlink:href=\"#DejaVuSans-6d\" x=\"182.275391\"/>\n      <use xlink:href=\"#DejaVuSans-61\" x=\"279.6875\"/>\n      <use xlink:href=\"#DejaVuSans-74\" x=\"340.966797\"/>\n      <use xlink:href=\"#DejaVuSans-65\" x=\"380.175781\"/>\n      <use xlink:href=\"#DejaVuSans-64\" x=\"441.699219\"/>\n      <use xlink:href=\"#DejaVuSans-20\" x=\"505.175781\"/>\n      <use xlink:href=\"#DejaVuSans-70\" x=\"536.962891\"/>\n      <use xlink:href=\"#DejaVuSans-72\" x=\"600.439453\"/>\n      <use xlink:href=\"#DejaVuSans-6f\" x=\"639.302734\"/>\n      <use xlink:href=\"#DejaVuSans-62\" x=\"700.484375\"/>\n      <use xlink:href=\"#DejaVuSans-61\" x=\"763.960938\"/>\n      <use xlink:href=\"#DejaVuSans-62\" x=\"825.240234\"/>\n      <use xlink:href=\"#DejaVuSans-69\" x=\"888.716797\"/>\n      <use xlink:href=\"#DejaVuSans-6c\" x=\"916.5\"/>\n      <use xlink:href=\"#DejaVuSans-69\" x=\"944.283203\"/>\n      <use xlink:href=\"#DejaVuSans-74\" x=\"972.066406\"/>\n      <use xlink:href=\"#DejaVuSans-79\" x=\"1011.275391\"/>\n     </g>\n    </g>\n   </g>\n   <g id=\"line2d_14\">\n    <path d=\"M 65.361932 18.54 \nL 66.581826 94.140004 \nL 67.191773 56.340008 \nL 67.80172 79.020008 \nL 68.411668 68.940006 \nL 69.021615 72.540006 \nL 69.631562 65.790009 \nL 70.241509 52.139997 \nL 70.851456 56.340008 \nL 72.071351 75.240011 \nL 72.681298 76.693852 \nL 73.291245 88.740004 \nL 73.901192 89.100009 \nL 75.121086 98.587062 \nL 75.731034 89.940004 \nL 76.950928 97.920011 \nL 78.170822 97.576364 \nL 78.780769 100.713924 \nL 79.390717 97.290001 \nL 80.000664 97.16401 \nL 80.610611 102.86308 \nL 81.220558 96.940011 \nL 81.830505 102.240009 \nL 82.440452 104.567595 \nL 83.0504 109.26 \nL 83.660347 103.894844 \nL 84.880241 107.885456 \nL 86.100135 102.78001 \nL 86.710083 98.340003 \nL 87.32003 100.269734 \nL 87.929977 104.087379 \nL 89.149871 107.370002 \nL 90.369766 106.740003 \nL 90.979713 104.688843 \nL 91.58966 104.449096 \nL 92.199607 105.900007 \nL 93.419502 111.83362 \nL 95.249343 110.772003 \nL 97.079185 114.109815 \nL 98.299079 113.383644 \nL 98.909026 111.69001 \nL 99.518973 111.382108 \nL 100.12892 113.691726 \nL 100.738868 112.078989 \nL 101.958762 111.490829 \nL 102.568709 112.430331 \nL 103.178656 114.540002 \nL 104.398551 116.238468 \nL 105.008498 118.194548 \nL 106.838339 117.148702 \nL 108.058234 118.630142 \nL 108.668181 117.240007 \nL 109.888075 116.615685 \nL 110.498022 115.308001 \nL 111.107969 113.040008 \nL 111.717917 109.849095 \nL 112.937811 111.365323 \nL 113.547758 109.26 \nL 114.157705 110.006674 \nL 114.767652 107.96927 \nL 115.3776 106.891813 \nL 115.987547 108.540002 \nL 117.207441 109.963257 \nL 117.817388 108.912421 \nL 118.427335 108.744546 \nL 119.037283 107.73102 \nL 119.64723 109.26 \nL 120.257177 109.924618 \nL 120.867124 108.931313 \nL 121.477071 107.146454 \nL 122.087018 107.812344 \nL 122.696966 106.076849 \nL 123.306913 105.165004 \nL 123.91686 105.830726 \nL 124.526807 105.711438 \nL 125.136754 106.358188 \nL 125.746701 106.236005 \nL 126.356649 106.864754 \nL 126.966596 108.222355 \nL 127.576543 107.351651 \nL 128.18649 107.224623 \nL 129.406384 108.404154 \nL 130.626279 108.140006 \nL 131.236226 109.398721 \nL 131.846173 108.572728 \nL 132.45612 108.442704 \nL 133.676015 110.865674 \nL 134.285962 110.718955 \nL 134.895909 109.917397 \nL 136.115803 110.940002 \nL 137.335698 113.198825 \nL 137.945645 113.670007 \nL 138.555592 111.634225 \nL 139.775486 111.349765 \nL 140.995381 112.284006 \nL 141.605328 112.140002 \nL 142.215275 112.593553 \nL 142.825222 113.630635 \nL 143.435169 114.065587 \nL 144.045116 113.912312 \nL 144.655064 114.338477 \nL 145.265011 114.185461 \nL 145.874958 115.17159 \nL 146.484905 115.578807 \nL 147.094852 114.300006 \nL 147.704799 114.151766 \nL 148.924694 112.766092 \nL 149.534641 112.632092 \nL 150.144588 111.960005 \nL 150.754535 112.905962 \nL 151.364482 112.773809 \nL 152.584377 113.565003 \nL 153.194324 113.431037 \nL 154.414218 114.197143 \nL 155.024165 113.55082 \nL 155.634113 114.435302 \nL 156.24406 114.300006 \nL 156.854007 114.667153 \nL 157.463954 114.034743 \nL 158.073901 114.892943 \nL 159.293796 114.625167 \nL 159.903743 114.978469 \nL 161.123637 114.714692 \nL 161.733584 114.109815 \nL 162.343531 113.985007 \nL 164.173373 115.011172 \nL 164.78332 114.883908 \nL 165.393267 115.216369 \nL 166.003214 114.633977 \nL 167.223109 115.29001 \nL 169.05295 114.918954 \nL 170.272845 115.552716 \nL 170.882792 114.995175 \nL 171.492739 115.308001 \nL 172.102686 114.758188 \nL 172.712633 115.495939 \nL 173.32258 115.375964 \nL 173.932528 116.102011 \nL 174.542475 115.980008 \nL 175.762369 114.909232 \nL 177.592211 114.572434 \nL 178.202158 115.275489 \nL 178.812105 115.162465 \nL 179.422052 114.64852 \nL 180.031999 113.740009 \nL 180.641946 114.034743 \nL 181.251894 114.722206 \nL 181.861841 115.00875 \nL 182.471788 115.684047 \nL 183.081735 115.183305 \nL 183.691682 115.075395 \nL 184.301629 115.740002 \nL 184.911577 116.01412 \nL 185.521524 114.758188 \nL 186.131471 114.654581 \nL 186.741418 113.796009 \nL 187.351365 113.698215 \nL 187.961312 113.227135 \nL 188.57126 113.877941 \nL 189.181207 113.040008 \nL 190.401101 112.856507 \nL 191.011048 113.131313 \nL 191.620995 113.766933 \nL 192.230943 114.034743 \nL 192.84089 113.220004 \nL 193.450837 113.129578 \nL 194.060784 112.326803 \nL 194.670731 112.596347 \nL 195.280678 112.5101 \nL 195.890626 112.07303 \nL 196.500573 112.690007 \nL 197.11052 112.952904 \nL 197.720467 112.519822 \nL 198.330414 112.781098 \nL 199.550309 111.928237 \nL 200.160256 112.188657 \nL 200.770203 112.107716 \nL 201.38015 111.69001 \nL 202.600044 110.19664 \nL 203.209992 109.79287 \nL 203.819939 110.05579 \nL 205.039833 111.232178 \nL 205.64978 110.830909 \nL 206.259727 111.410699 \nL 207.479622 111.909233 \nL 208.089569 111.511918 \nL 209.309463 111.365323 \nL 209.91941 111.928237 \nL 210.529358 111.853808 \nL 211.139305 112.410008 \nL 212.359199 112.259008 \nL 212.969146 111.873342 \nL 213.579093 112.110498 \nL 214.189041 112.03715 \nL 214.798988 112.271716 \nL 216.018882 112.125492 \nL 216.628829 112.35687 \nL 217.238776 112.284006 \nL 217.848724 111.910528 \nL 218.458671 112.140002 \nL 219.678565 111.998274 \nL 220.288512 112.224706 \nL 220.898459 111.858753 \nL 221.508407 112.378139 \nL 222.728301 112.821089 \nL 223.338248 112.458471 \nL 223.948195 112.967594 \nL 224.558142 112.607184 \nL 225.16809 112.536968 \nL 225.778037 113.040008 \nL 226.387984 113.253969 \nL 226.997931 113.182108 \nL 227.607878 112.827646 \nL 228.827773 113.250781 \nL 229.43772 112.900003 \nL 230.047667 112.830778 \nL 230.657614 112.484122 \nL 231.267561 112.416925 \nL 231.877508 112.626132 \nL 232.487456 112.558913 \nL 233.70735 112.971774 \nL 234.317297 112.088204 \nL 234.927244 112.294843 \nL 235.537191 112.770001 \nL 236.147139 112.703705 \nL 236.757086 112.369791 \nL 238.586927 112.177898 \nL 239.196874 112.643504 \nL 239.806822 112.842448 \nL 240.416769 112.777504 \nL 241.026716 113.236204 \nL 242.24661 113.104952 \nL 242.856557 112.522199 \nL 243.466505 112.717483 \nL 244.686399 112.078989 \nL 245.296346 112.529195 \nL 245.906293 112.72182 \nL 246.51624 112.405772 \nL 247.736135 112.284006 \nL 248.346082 111.470236 \nL 248.956029 111.663188 \nL 249.565976 112.104359 \nL 250.175923 112.045272 \nL 250.785871 111.738699 \nL 251.395818 111.681178 \nL 252.005765 111.377793 \nL 252.615712 111.812734 \nL 253.225659 111.755541 \nL 253.835606 112.18646 \nL 254.445554 111.885339 \nL 255.055501 112.070777 \nL 255.665448 112.013493 \nL 256.275395 111.475035 \nL 256.885342 111.420004 \nL 257.495289 111.604563 \nL 258.105237 111.072493 \nL 258.715184 110.781511 \nL 259.325131 111.203328 \nL 259.935078 110.913754 \nL 260.545025 111.097018 \nL 261.154972 111.044352 \nL 262.984814 111.586156 \nL 264.814655 111.426594 \nL 266.644497 111.955116 \nL 267.254444 111.673743 \nL 267.864391 111.848119 \nL 268.474338 111.116056 \nL 269.084286 111.291051 \nL 269.694233 111.015006 \nL 270.30418 111.189269 \nL 270.914127 111.138823 \nL 272.134021 110.594124 \nL 272.743969 110.767576 \nL 273.353916 110.276849 \nL 273.963863 110.45021 \nL 274.57381 110.402795 \nL 275.183757 110.793914 \nL 275.793704 110.964279 \nL 276.403652 110.697934 \nL 278.233493 110.556003 \nL 278.84344 110.940002 \nL 281.283229 110.750712 \nL 282.503123 111.081179 \nL 283.11307 110.611518 \nL 284.942912 111.73114 \nL 285.552859 111.473706 \nL 286.772753 111.793854 \nL 287.382701 111.745481 \nL 289.212542 110.98566 \nL 289.822489 111.144884 \nL 291.042384 111.053218 \nL 291.652331 111.414203 \nL 292.262278 111.570565 \nL 292.872225 111.52396 \nL 294.092119 111.02937 \nL 295.312014 110.940002 \nL 295.921961 111.294622 \nL 296.531908 110.851581 \nL 297.141855 110.609299 \nL 297.751802 110.764084 \nL 298.36175 110.72069 \nL 298.971697 111.071254 \nL 299.581644 111.027274 \nL 300.191591 110.787673 \nL 300.801538 110.744651 \nL 301.411485 111.091554 \nL 302.021433 110.659283 \nL 303.851274 111.111437 \nL 304.461221 111.068246 \nL 305.071168 110.83341 \nL 305.681116 111.173926 \nL 306.291063 110.940002 \nL 306.90101 111.088118 \nL 308.120904 111.003166 \nL 309.340799 111.29612 \nL 309.950746 111.629561 \nL 310.560693 111.586156 \nL 311.780587 111.873342 \nL 313.000482 111.786193 \nL 313.610429 111.928237 \nL 314.220376 111.884753 \nL 314.830323 112.025862 \nL 315.44027 111.982344 \nL 316.050217 112.12253 \nL 316.660165 112.445088 \nL 317.270112 112.583482 \nL 317.880059 112.903382 \nL 319.099953 113.175979 \nL 319.7099 113.492162 \nL 320.319848 113.265538 \nL 320.929795 113.400001 \nL 321.539742 113.713401 \nL 322.149689 113.846162 \nL 323.979531 113.70707 \nL 324.589478 114.016065 \nL 325.199425 113.969517 \nL 325.809372 113.746543 \nL 326.419319 113.70084 \nL 329.469055 114.346453 \nL 330.079002 114.647596 \nL 330.688949 114.773948 \nL 331.298897 114.553734 \nL 331.908844 114.50713 \nL 332.518791 114.63294 \nL 333.128738 114.414552 \nL 333.738685 114.711437 \nL 334.348632 114.835929 \nL 334.95858 114.789212 \nL 335.568527 114.402171 \nL 337.398368 114.266177 \nL 338.008315 114.052508 \nL 338.618263 114.34491 \nL 339.22821 114.300006 \nL 339.838157 114.422933 \nL 340.448104 114.378063 \nL 341.058051 113.999606 \nL 341.667998 113.955863 \nL 342.887893 114.200534 \nL 343.49784 114.487494 \nL 344.107787 114.443064 \nL 344.717734 114.563535 \nL 345.327681 114.519138 \nL 345.937629 114.638922 \nL 346.547576 114.430909 \nL 347.157523 114.713656 \nL 347.76747 114.506386 \nL 349.597312 114.375551 \nL 352.0371 114.845741 \nL 353.256995 114.438524 \nL 353.866942 114.395705 \nL 354.476889 114.51221 \nL 355.086836 114.469414 \nL 356.306731 114.700678 \nL 356.916678 114.973411 \nL 358.136572 114.886781 \nL 358.746519 114.373197 \nL 359.356466 114.487832 \nL 359.966414 114.758188 \nL 360.576361 114.403917 \nL 361.186308 114.673338 \nL 361.796255 114.631172 \nL 362.406202 114.744106 \nL 363.016149 114.701974 \nL 363.626097 114.814289 \nL 364.236044 114.772179 \nL 364.845991 114.883908 \nL 365.455938 114.841832 \nL 366.675832 115.063646 \nL 367.28578 115.021457 \nL 367.895727 115.283668 \nL 368.505674 115.39302 \nL 369.115621 115.350426 \nL 369.725568 115.610406 \nL 369.725568 115.610406 \n\" clip-path=\"url(#pb50f1733e6)\" style=\"fill: none; stroke: #1f77b4; stroke-width: 1.5; stroke-linecap: square\"/>\n   </g>\n   <g id=\"line2d_15\">\n    <path d=\"M 65.361932 94.140004 \nL 65.971879 169.740002 \nL 66.581826 169.740002 \nL 67.191773 188.64 \nL 67.80172 139.500004 \nL 68.411668 131.94 \nL 69.021615 137.339999 \nL 69.631562 131.94 \nL 70.241509 119.340001 \nL 71.461403 114.758188 \nL 72.071351 113.040008 \nL 72.681298 117.40154 \nL 73.291245 104.940003 \nL 73.901192 109.26 \nL 74.511139 98.86501 \nL 75.121086 107.481179 \nL 75.731034 110.940002 \nL 76.340981 106.076849 \nL 76.950928 97.920011 \nL 77.560875 94.140004 \nL 78.170822 101.012735 \nL 78.780769 104.000873 \nL 79.390717 103.590006 \nL 80.000664 109.26 \nL 81.220558 102.540003 \nL 81.830505 104.940003 \nL 82.440452 99.353799 \nL 83.660347 99.01743 \nL 84.270294 101.227508 \nL 84.880241 105.594549 \nL 85.490188 105.25765 \nL 86.710083 108.840008 \nL 87.32003 108.442704 \nL 88.539924 103.83231 \nL 89.149871 99.810009 \nL 90.369766 103.140003 \nL 90.979713 101.172567 \nL 92.199607 100.860001 \nL 94.029449 105.165004 \nL 94.639396 106.482861 \nL 95.249343 101.700008 \nL 95.85929 101.551768 \nL 96.469237 104.316931 \nL 97.689132 103.940007 \nL 98.909026 108.990005 \nL 99.518973 110.05579 \nL 100.738868 114.641705 \nL 101.348815 111.780009 \nL 101.958762 111.490829 \nL 102.568709 109.991623 \nL 103.788603 109.496255 \nL 104.398551 111.586156 \nL 105.008498 112.467281 \nL 105.618445 114.450454 \nL 106.228392 114.151766 \nL 106.838339 112.766092 \nL 107.448286 112.500006 \nL 108.058234 110.111835 \nL 108.668181 110.940002 \nL 109.278128 110.709864 \nL 109.888075 108.442704 \nL 110.498022 109.26 \nL 111.107969 111.050537 \nL 111.717917 111.812734 \nL 112.937811 109.451397 \nL 114.157705 110.940002 \nL 114.767652 110.735132 \nL 115.3776 111.446027 \nL 115.987547 113.040008 \nL 117.207441 112.60047 \nL 117.817388 111.519319 \nL 118.427335 112.180917 \nL 119.037283 111.97821 \nL 120.867124 113.861742 \nL 121.477071 115.275489 \nL 122.696966 114.830533 \nL 123.306913 116.190004 \nL 124.526807 115.740002 \nL 125.136754 117.049094 \nL 125.746701 117.576005 \nL 126.356649 116.595453 \nL 127.576543 117.627386 \nL 129.406384 116.962645 \nL 132.45612 119.340001 \nL 133.676015 117.555931 \nL 134.285962 117.350531 \nL 134.895909 118.463484 \nL 137.335698 117.645884 \nL 138.555592 118.506945 \nL 139.165539 118.307223 \nL 139.775486 118.725368 \nL 140.385433 119.746452 \nL 140.995381 120.146404 \nL 141.605328 119.340001 \nL 142.215275 119.736854 \nL 142.825222 119.536885 \nL 144.045116 120.309232 \nL 144.655064 118.955269 \nL 145.265011 119.340001 \nL 145.874958 120.287377 \nL 146.484905 120.656428 \nL 147.094852 119.900009 \nL 148.924694 120.983481 \nL 149.534641 120.246484 \nL 150.144588 118.980008 \nL 150.754535 118.267659 \nL 151.364482 117.032963 \nL 151.97443 116.872872 \nL 152.584377 117.240007 \nL 153.804271 118.994799 \nL 154.414218 119.340001 \nL 155.024165 119.169738 \nL 156.24406 120.852004 \nL 156.854007 119.67378 \nL 157.463954 119.505792 \nL 158.073901 120.328236 \nL 158.683848 120.649094 \nL 161.123637 119.977976 \nL 161.733584 120.290948 \nL 162.343531 119.655001 \nL 162.953479 119.496532 \nL 163.563426 117.940009 \nL 164.173373 117.793988 \nL 165.393267 118.423639 \nL 166.003214 119.188202 \nL 167.223109 118.89001 \nL 167.833056 119.190894 \nL 168.443003 118.598825 \nL 169.05295 118.897895 \nL 169.662897 118.314422 \nL 170.882792 118.905522 \nL 171.492739 118.332007 \nL 172.102686 118.194548 \nL 172.712633 117.631532 \nL 173.932528 117.369051 \nL 174.542475 116.820004 \nL 175.152422 117.530065 \nL 175.762369 117.816924 \nL 176.372316 117.687543 \nL 176.982263 117.970436 \nL 178.202158 116.901294 \nL 180.031999 117.740005 \nL 180.641946 117.217905 \nL 181.861841 115.402505 \nL 182.471788 114.900626 \nL 183.691682 114.687701 \nL 184.301629 114.968578 \nL 184.911577 114.862853 \nL 185.521524 115.140002 \nL 186.131471 115.794278 \nL 186.741418 115.308001 \nL 187.351365 115.202693 \nL 187.961312 115.472677 \nL 188.57126 115.367594 \nL 189.181207 115.634119 \nL 190.401101 116.893408 \nL 191.011048 117.148702 \nL 191.620995 116.674625 \nL 192.230943 116.928522 \nL 192.84089 116.820004 \nL 193.450837 117.070814 \nL 195.280678 118.868977 \nL 195.890626 118.753959 \nL 197.11052 117.83033 \nL 198.330414 118.994799 \nL 199.550309 119.454028 \nL 200.160256 120.021089 \nL 200.770203 119.905023 \nL 201.38015 120.1275 \nL 202.600044 121.235576 \nL 203.209992 121.449255 \nL 203.819939 120.997901 \nL 204.429886 120.880618 \nL 205.039833 120.435662 \nL 205.64978 120.321827 \nL 206.869675 119.448159 \nL 208.699516 119.126445 \nL 209.309463 119.340001 \nL 209.91941 118.916472 \nL 211.139305 118.710002 \nL 211.749252 117.666972 \nL 212.969146 118.09556 \nL 215.408935 117.707617 \nL 216.018882 116.39323 \nL 219.068618 115.953445 \nL 220.288512 116.968244 \nL 220.898459 116.58376 \nL 221.508407 116.79059 \nL 222.118354 116.7028 \nL 222.728301 116.907569 \nL 223.338248 116.529236 \nL 223.948195 116.733103 \nL 224.558142 116.646879 \nL 225.778037 117.049094 \nL 226.387984 116.962645 \nL 226.997931 117.16106 \nL 227.607878 117.074836 \nL 228.217825 117.271347 \nL 228.827773 117.185359 \nL 230.047667 118.131147 \nL 230.657614 117.487066 \nL 231.267561 117.678463 \nL 231.877508 118.144384 \nL 232.487456 118.332007 \nL 234.317297 119.702597 \nL 235.537191 119.520009 \nL 236.147139 119.160647 \nL 236.757086 119.608092 \nL 237.367033 119.518094 \nL 237.97698 119.961135 \nL 238.586927 120.135792 \nL 239.196874 120.044903 \nL 239.806822 119.69123 \nL 240.416769 119.602505 \nL 241.026716 119.77599 \nL 241.636663 119.426902 \nL 242.24661 119.340001 \nL 244.076452 119.854295 \nL 246.51624 119.509138 \nL 247.736135 120.348007 \nL 248.346082 120.260938 \nL 249.565976 119.589505 \nL 250.175923 119.00843 \nL 250.785871 119.422632 \nL 251.395818 119.092942 \nL 252.005765 119.50417 \nL 253.835606 119.990323 \nL 254.445554 119.421032 \nL 255.055501 118.613087 \nL 255.665448 119.017961 \nL 256.275395 119.179494 \nL 256.885342 119.580008 \nL 257.495289 119.499495 \nL 258.105237 119.896472 \nL 258.715184 120.053217 \nL 259.325131 119.734984 \nL 259.935078 119.891256 \nL 260.545025 120.28206 \nL 261.154972 119.966092 \nL 261.76492 120.120189 \nL 262.374867 119.573339 \nL 264.204708 120.033582 \nL 264.814655 119.954635 \nL 265.424603 119.646383 \nL 266.03455 119.569092 \nL 266.644497 119.720666 \nL 267.254444 120.099044 \nL 267.864391 120.248118 \nL 268.474338 120.622643 \nL 269.084286 120.317917 \nL 269.694233 120.69001 \nL 270.30418 120.835557 \nL 270.914127 121.203909 \nL 271.524074 121.347079 \nL 272.134021 120.822354 \nL 273.353916 121.55053 \nL 273.963863 121.691031 \nL 275.183757 121.093047 \nL 275.793704 121.233649 \nL 278.84344 120.847701 \nL 280.673282 121.262038 \nL 281.283229 121.185637 \nL 283.723018 122.568979 \nL 284.942912 122.411468 \nL 285.552859 122.75106 \nL 286.162806 122.463975 \nL 286.772753 121.763084 \nL 287.382701 121.48028 \nL 287.992648 121.61214 \nL 289.212542 121.46283 \nL 289.822489 121.798547 \nL 290.432436 121.519461 \nL 291.042384 121.649439 \nL 291.652331 121.575494 \nL 292.262278 121.299258 \nL 293.482172 121.9608 \nL 294.092119 121.685747 \nL 294.702067 121.813214 \nL 295.312014 121.540009 \nL 295.921961 120.869296 \nL 297.141855 120.728976 \nL 298.36175 120.984912 \nL 298.971697 120.521256 \nL 301.411485 120.249278 \nL 302.021433 120.376508 \nL 302.63138 120.11539 \nL 303.241327 120.242305 \nL 303.851274 119.982866 \nL 305.071168 120.235433 \nL 307.510957 119.973166 \nL 308.120904 119.718954 \nL 308.730851 119.277006 \nL 310.560693 119.652658 \nL 311.17064 119.402377 \nL 311.780587 119.526667 \nL 312.390534 119.277941 \nL 313.000482 118.844678 \nL 313.610429 118.784127 \nL 314.220376 119.093551 \nL 314.830323 118.663904 \nL 315.44027 118.972122 \nL 316.050217 118.361364 \nL 316.660165 118.485767 \nL 317.270112 118.792182 \nL 318.490006 117.583271 \nL 319.7099 117.471103 \nL 321.539742 117.843567 \nL 322.149689 117.608246 \nL 322.759636 117.552776 \nL 323.979531 118.154128 \nL 324.589478 117.56536 \nL 325.199425 117.687543 \nL 325.809372 117.985802 \nL 326.419319 118.106442 \nL 327.029266 117.874884 \nL 327.639214 118.170632 \nL 328.249161 117.940009 \nL 328.859108 118.059635 \nL 330.079002 117.949663 \nL 330.688949 118.068444 \nL 331.298897 117.840694 \nL 332.518791 118.07713 \nL 333.128738 118.366366 \nL 333.738685 118.140001 \nL 334.348632 117.743621 \nL 335.568527 117.6373 \nL 337.398368 117.986985 \nL 338.008315 118.271253 \nL 338.618263 118.049136 \nL 339.22821 118.332007 \nL 339.838157 118.445989 \nL 340.448104 118.057709 \nL 341.058051 118.338676 \nL 341.667998 117.952344 \nL 342.277946 118.066157 \nL 342.887893 118.013684 \nL 343.49784 117.630597 \nL 345.937629 118.08274 \nL 347.157523 117.979313 \nL 347.76747 117.765003 \nL 348.377417 118.039357 \nL 349.597312 117.937012 \nL 350.207259 118.209238 \nL 350.817206 117.35195 \nL 352.0371 117.574406 \nL 352.647048 117.845088 \nL 353.866942 117.745063 \nL 354.476889 117.854528 \nL 355.696783 118.389065 \nL 356.306731 118.180173 \nL 358.136572 118.030233 \nL 358.746519 117.823819 \nL 359.356466 118.087832 \nL 361.186308 118.406673 \nL 361.796255 118.046376 \nL 363.016149 118.257791 \nL 364.236044 118.159558 \nL 364.845991 118.264393 \nL 365.455938 118.062113 \nL 366.065885 118.319761 \nL 366.675832 118.118192 \nL 367.895727 118.325924 \nL 368.505674 118.277359 \nL 369.115621 118.380481 \nL 369.725568 118.634401 \nL 369.725568 118.634401 \n\" clip-path=\"url(#pb50f1733e6)\" style=\"fill: none; stroke: #ff7f0e; stroke-width: 1.5; stroke-linecap: square\"/>\n   </g>\n   <g id=\"line2d_16\">\n    <path d=\"M 65.361932 94.140004 \nL 65.971879 131.94 \nL 66.581826 94.140004 \nL 67.191773 94.140004 \nL 67.80172 109.26 \nL 68.411668 119.340001 \nL 69.021615 104.940003 \nL 69.631562 94.140004 \nL 70.241509 102.540003 \nL 70.851456 109.26 \nL 71.461403 87.267283 \nL 72.681298 76.693852 \nL 73.291245 67.140006 \nL 73.901192 79.020008 \nL 74.511139 79.965007 \nL 75.121086 76.35177 \nL 76.340981 78.224217 \nL 76.950928 82.800004 \nL 77.560875 79.740005 \nL 78.170822 80.394552 \nL 78.780769 77.705226 \nL 79.390717 84.690002 \nL 80.000664 85.068008 \nL 80.610611 79.601544 \nL 81.220558 80.140001 \nL 81.830505 75.240011 \nL 83.0504 81.540005 \nL 83.660347 84.385163 \nL 84.270294 82.327504 \nL 84.880241 82.685458 \nL 85.490188 87.469416 \nL 87.32003 94.140004 \nL 87.929977 96.129474 \nL 89.149871 103.590006 \nL 89.759819 101.515617 \nL 90.369766 104.940003 \nL 91.58966 104.449096 \nL 92.199607 102.540003 \nL 93.419502 95.748516 \nL 94.029449 97.290001 \nL 95.249343 97.16401 \nL 96.469237 94.140004 \nL 97.689132 94.140004 \nL 98.909026 99.540003 \nL 99.518973 100.77158 \nL 100.12892 99.353799 \nL 101.348815 101.700008 \nL 101.958762 104.054755 \nL 102.568709 103.894844 \nL 103.178656 102.540003 \nL 103.788603 102.408751 \nL 104.398551 103.444616 \nL 105.008498 103.303642 \nL 105.618445 100.910154 \nL 106.838339 105.096522 \nL 107.448286 104.940003 \nL 108.058234 105.852682 \nL 108.668181 105.690011 \nL 109.278128 107.603024 \nL 109.888075 107.42109 \nL 110.498022 109.26 \nL 111.107969 109.061055 \nL 112.327864 112.555387 \nL 112.937811 112.322285 \nL 114.157705 113.740009 \nL 114.767652 115.344883 \nL 115.987547 111.240008 \nL 116.597494 110.149416 \nL 117.817388 111.519319 \nL 119.64723 110.940002 \nL 120.257177 111.586156 \nL 120.867124 110.574793 \nL 121.477071 112.023879 \nL 122.087018 112.637882 \nL 123.306913 115.402505 \nL 125.136754 117.049094 \nL 125.746701 115.308001 \nL 126.356649 115.098422 \nL 126.966596 113.41059 \nL 127.576543 114.691463 \nL 128.796437 114.300006 \nL 129.406384 115.536235 \nL 130.016332 114.62973 \nL 130.626279 115.840003 \nL 131.236226 114.947343 \nL 131.846173 116.132732 \nL 132.45612 114.572434 \nL 133.066067 114.390005 \nL 133.676015 114.87983 \nL 134.285962 114.697896 \nL 134.895909 115.176524 \nL 135.505856 114.995175 \nL 136.115803 116.109232 \nL 136.72575 115.282384 \nL 137.335698 113.834119 \nL 137.945645 113.040008 \nL 138.555592 114.133393 \nL 139.165539 114.589186 \nL 139.775486 113.808299 \nL 140.385433 112.430331 \nL 141.605328 110.940002 \nL 142.215275 110.807725 \nL 142.825222 111.268126 \nL 143.435169 109.963257 \nL 144.655064 110.87588 \nL 145.265011 110.749101 \nL 146.484905 111.629561 \nL 147.094852 111.50001 \nL 148.314747 112.350223 \nL 148.924694 111.670443 \nL 149.534641 112.632092 \nL 150.144588 113.040008 \nL 150.754535 113.978304 \nL 151.364482 113.838592 \nL 151.97443 114.229519 \nL 153.804271 110.709864 \nL 154.414218 111.111437 \nL 155.024165 112.018382 \nL 156.24406 111.780009 \nL 157.463954 113.53737 \nL 158.073901 112.916472 \nL 159.293796 114.625167 \nL 159.903743 113.040008 \nL 161.123637 112.800767 \nL 161.733584 111.732458 \nL 162.343531 112.567508 \nL 162.953479 111.983482 \nL 163.563426 112.340006 \nL 164.173373 111.764542 \nL 165.393267 112.467281 \nL 166.003214 111.901448 \nL 166.613162 112.247788 \nL 167.223109 111.69001 \nL 167.833056 111.586156 \nL 168.443003 112.372945 \nL 169.05295 112.26632 \nL 170.272845 112.930757 \nL 171.492739 114.44401 \nL 172.102686 114.328643 \nL 172.712633 115.068816 \nL 173.932528 115.679665 \nL 175.152422 114.606309 \nL 176.982263 115.505222 \nL 177.592211 116.207037 \nL 178.812105 116.779573 \nL 179.422052 117.463409 \nL 180.031999 117.740005 \nL 180.641946 116.820004 \nL 181.861841 117.371259 \nL 182.471788 116.859173 \nL 183.081735 117.131759 \nL 183.691682 116.238468 \nL 184.301629 115.740002 \nL 185.521524 116.285455 \nL 186.131471 116.174177 \nL 186.741418 116.442009 \nL 188.57126 116.11242 \nL 189.181207 115.634119 \nL 189.791154 115.529273 \nL 190.401101 114.691463 \nL 191.011048 114.957392 \nL 191.620995 115.584237 \nL 192.230943 115.481632 \nL 192.84089 115.740002 \nL 193.450837 115.637634 \nL 195.280678 116.39608 \nL 196.500573 116.190004 \nL 197.11052 116.436782 \nL 198.940361 116.132732 \nL 200.160256 115.253522 \nL 200.770203 115.158837 \nL 201.38015 115.402505 \nL 201.990097 115.980008 \nL 203.209992 115.787586 \nL 203.819939 115.029478 \nL 204.429886 114.608123 \nL 205.64978 113.121827 \nL 206.259727 113.365867 \nL 206.869675 113.283349 \nL 208.089569 113.763835 \nL 208.699516 113.360347 \nL 209.309463 113.279248 \nL 209.91941 113.516472 \nL 210.529358 113.435407 \nL 211.749252 114.530043 \nL 212.359199 114.758188 \nL 212.969146 114.673338 \nL 213.579093 114.899026 \nL 214.798988 115.959517 \nL 215.408935 115.871174 \nL 217.238776 117.424803 \nL 217.848724 117.332033 \nL 218.458671 116.640007 \nL 219.068618 116.252256 \nL 219.678565 116.462838 \nL 220.288512 116.375296 \nL 220.898459 116.58376 \nL 221.508407 115.613932 \nL 222.728301 116.031896 \nL 223.338248 115.656931 \nL 224.558142 116.069781 \nL 225.16809 115.69894 \nL 225.778037 115.617278 \nL 226.387984 115.250953 \nL 227.607878 115.659106 \nL 228.217825 115.578807 \nL 229.43772 115.980008 \nL 230.047667 115.341481 \nL 230.657614 115.263537 \nL 231.267561 114.632309 \nL 231.877508 114.557519 \nL 233.70735 115.155165 \nL 234.317297 115.623462 \nL 234.927244 115.546453 \nL 235.537191 116.010008 \nL 237.367033 115.778168 \nL 238.586927 116.156851 \nL 239.196874 115.815524 \nL 240.416769 116.190004 \nL 241.026716 115.067341 \nL 241.636663 114.995175 \nL 242.24661 115.183305 \nL 242.856557 115.111241 \nL 244.686399 115.666789 \nL 245.906293 115.521827 \nL 246.51624 115.957455 \nL 247.126188 116.137328 \nL 247.736135 116.064002 \nL 248.346082 116.493491 \nL 248.956029 116.419478 \nL 250.175923 116.770268 \nL 252.615712 116.476368 \nL 253.225659 116.648738 \nL 254.445554 116.50399 \nL 256.275395 117.012617 \nL 256.885342 116.460011 \nL 257.495289 116.150137 \nL 258.105237 116.557669 \nL 258.715184 116.24944 \nL 259.325131 116.417124 \nL 259.935078 116.820004 \nL 260.545025 116.278324 \nL 261.154972 116.679131 \nL 261.76492 116.609354 \nL 262.374867 116.773343 \nL 262.984814 116.471084 \nL 263.594761 115.706882 \nL 264.204708 116.103307 \nL 264.814655 116.036346 \nL 265.424603 116.19958 \nL 266.03455 116.132732 \nL 266.644497 115.609493 \nL 267.254444 115.772536 \nL 267.864391 115.253522 \nL 268.474338 115.190301 \nL 269.084286 115.578807 \nL 269.694233 115.515 \nL 270.914127 115.835858 \nL 271.524074 115.325845 \nL 272.134021 115.263537 \nL 272.743969 115.42329 \nL 273.353916 114.918954 \nL 274.57381 114.358608 \nL 275.183757 114.519138 \nL 276.403652 115.273146 \nL 277.013599 115.212415 \nL 278.233493 115.524001 \nL 279.453387 115.402505 \nL 280.063335 114.699777 \nL 281.283229 115.009865 \nL 281.893176 115.375964 \nL 283.11307 115.257318 \nL 283.723018 115.619666 \nL 284.942912 115.919503 \nL 285.552859 115.859346 \nL 286.772753 116.570771 \nL 287.382701 116.509319 \nL 288.602595 116.799411 \nL 289.212542 116.737835 \nL 289.822489 116.471715 \nL 290.432436 116.820004 \nL 291.652331 116.698068 \nL 292.262278 116.232227 \nL 292.872225 116.173163 \nL 294.702067 116.599418 \nL 295.312014 116.540005 \nL 296.531908 117.217905 \nL 297.751802 117.097073 \nL 299.581644 117.507276 \nL 300.801538 116.995821 \nL 301.411485 116.936915 \nL 302.021433 116.489616 \nL 303.241327 116.375296 \nL 303.851274 116.125725 \nL 304.461221 116.262147 \nL 305.681116 116.150137 \nL 306.291063 116.285455 \nL 306.90101 116.229681 \nL 308.120904 116.497896 \nL 308.730851 116.442009 \nL 309.340799 116.574916 \nL 309.950746 116.519108 \nL 310.560693 116.275981 \nL 311.17064 116.408325 \nL 311.780587 116.166674 \nL 313.000482 116.801427 \nL 313.610429 116.745889 \nL 314.220376 116.50577 \nL 314.830323 116.451224 \nL 315.44027 116.764826 \nL 316.660165 117.021359 \nL 317.270112 116.600872 \nL 317.880059 116.728924 \nL 318.490006 117.038077 \nL 319.7099 117.290239 \nL 320.319848 117.595855 \nL 320.929795 117.540001 \nL 321.539742 116.945702 \nL 322.149689 116.712522 \nL 323.369583 116.962645 \nL 323.979531 116.908943 \nL 324.589478 117.210424 \nL 325.199425 117.333453 \nL 325.809372 117.632523 \nL 327.029266 117.523261 \nL 328.249161 117.065001 \nL 329.469055 116.959355 \nL 330.688949 116.507899 \nL 331.908844 117.096172 \nL 332.518791 117.043879 \nL 333.128738 116.820004 \nL 333.738685 116.254295 \nL 334.348632 116.033214 \nL 334.95858 115.983793 \nL 335.568527 116.104873 \nL 336.178474 116.395292 \nL 336.788421 116.006369 \nL 338.618263 115.86027 \nL 339.22821 115.308001 \nL 340.448104 115.214341 \nL 341.058051 115.000932 \nL 341.667998 115.121504 \nL 342.277946 114.909232 \nL 342.887893 114.532116 \nL 343.49784 114.487494 \nL 344.107787 114.277994 \nL 344.717734 113.5753 \nL 345.327681 113.204357 \nL 345.937629 113.163002 \nL 346.547576 112.958188 \nL 347.157523 112.427695 \nL 347.76747 112.551207 \nL 348.377417 112.34904 \nL 348.987365 112.634424 \nL 349.597312 112.594826 \nL 351.427153 112.959585 \nL 352.0371 112.759119 \nL 352.647048 112.879838 \nL 353.256995 112.840218 \nL 353.866942 112.960261 \nL 354.476889 112.761474 \nL 355.086836 112.881178 \nL 356.306731 112.486454 \nL 358.136572 112.372022 \nL 358.746519 112.491039 \nL 359.356466 112.453053 \nL 360.576361 112.065775 \nL 361.186308 112.028893 \nL 361.796255 112.147392 \nL 362.406202 111.955578 \nL 363.016149 111.919146 \nL 363.626097 112.03715 \nL 364.236044 112.000696 \nL 364.845991 112.118057 \nL 365.455938 112.081592 \nL 366.065885 112.1983 \nL 366.675832 112.467281 \nL 367.28578 112.58275 \nL 367.895727 112.545642 \nL 368.505674 112.660492 \nL 369.115621 112.623372 \nL 369.725568 112.132803 \nL 369.725568 112.132803 \n\" clip-path=\"url(#pb50f1733e6)\" style=\"fill: none; stroke: #2ca02c; stroke-width: 1.5; stroke-linecap: square\"/>\n   </g>\n   <g id=\"line2d_17\">\n    <path d=\"M 65.361932 169.740002 \nL 65.971879 169.740002 \nL 66.581826 194.939999 \nL 67.191773 150.840004 \nL 67.80172 139.500004 \nL 68.411668 144.539999 \nL 69.021615 126.540001 \nL 69.631562 131.94 \nL 70.241509 144.539999 \nL 70.851456 131.94 \nL 72.071351 150.840004 \nL 72.681298 146.47846 \nL 73.291245 148.139998 \nL 73.901192 139.500004 \nL 74.511139 146.115008 \nL 75.121086 143.057646 \nL 75.731034 136.14 \nL 76.340981 141.887375 \nL 76.950928 143.28 \nL 77.560875 148.139998 \nL 78.780769 143.444349 \nL 79.390717 147.690007 \nL 80.000664 145.548005 \nL 81.220558 152.940004 \nL 81.830505 156.240003 \nL 82.440452 148.884836 \nL 83.0504 144.539999 \nL 83.660347 145.352912 \nL 84.270294 143.7525 \nL 84.880241 146.830917 \nL 86.100135 143.820001 \nL 86.710083 144.539999 \nL 87.929977 141.887375 \nL 88.539924 138.724615 \nL 89.149871 133.830009 \nL 89.759819 136.549763 \nL 90.369766 131.94 \nL 90.979713 132.819075 \nL 91.58966 135.376371 \nL 93.419502 127.918724 \nL 94.029449 127.215005 \nL 94.639396 128.082859 \nL 95.249343 130.428008 \nL 95.85929 126.751765 \nL 97.079185 122.668305 \nL 97.689132 122.140008 \nL 98.299079 120.256364 \nL 98.909026 115.740002 \nL 100.12892 112.388277 \nL 100.738868 112.078989 \nL 101.348815 114.300006 \nL 101.958762 111.490829 \nL 102.568709 113.649684 \nL 103.178656 112.140002 \nL 103.788603 111.858753 \nL 104.398551 109.26 \nL 106.228392 111.928237 \nL 106.838339 113.861742 \nL 108.058234 113.306206 \nL 110.498022 116.316007 \nL 111.107969 117.018949 \nL 111.717917 118.685455 \nL 112.327864 117.40154 \nL 112.937811 118.064051 \nL 113.547758 117.765003 \nL 114.767652 115.344883 \nL 115.3776 116.000241 \nL 115.987547 113.940002 \nL 116.597494 115.485891 \nL 117.207441 115.237683 \nL 117.817388 116.733103 \nL 119.037283 114.526517 \nL 119.64723 115.140002 \nL 120.257177 114.909232 \nL 120.867124 116.326956 \nL 121.477071 116.088392 \nL 122.087018 116.659158 \nL 123.306913 116.190004 \nL 123.91686 114.403917 \nL 124.526807 115.740002 \nL 125.136754 113.230909 \nL 126.356649 114.349911 \nL 126.966596 112.669414 \nL 127.576543 113.957485 \nL 128.18649 114.493848 \nL 128.796437 112.86 \nL 129.406384 112.683405 \nL 130.016332 113.923183 \nL 131.236226 113.560193 \nL 131.846173 112.696371 \nL 132.45612 113.891358 \nL 133.066067 113.040008 \nL 133.676015 113.541774 \nL 134.285962 113.37159 \nL 134.895909 113.861742 \nL 135.505856 114.995175 \nL 137.335698 114.469414 \nL 137.945645 114.930006 \nL 138.555592 116.007777 \nL 139.165539 115.828524 \nL 139.775486 115.037567 \nL 141.605328 116.340002 \nL 142.215275 116.165198 \nL 142.825222 116.58376 \nL 143.435169 117.581863 \nL 144.045116 117.40154 \nL 144.655064 116.646879 \nL 145.265011 116.476368 \nL 145.874958 116.876848 \nL 146.484905 115.578807 \nL 147.704799 117.487066 \nL 148.924694 118.244352 \nL 149.534641 119.158709 \nL 151.364482 120.227333 \nL 153.804271 119.512608 \nL 154.414218 117.797143 \nL 155.634113 117.479597 \nL 156.24406 118.332007 \nL 156.854007 118.672455 \nL 157.463954 117.516322 \nL 158.073901 117.363531 \nL 158.683848 116.721827 \nL 159.293796 116.576133 \nL 159.903743 117.40154 \nL 160.51369 117.253379 \nL 161.733584 118.864539 \nL 162.343531 118.710002 \nL 162.953479 119.026962 \nL 163.563426 119.806677 \nL 164.173373 120.113013 \nL 164.78332 119.954635 \nL 165.393267 119.340001 \nL 167.833056 118.74355 \nL 169.05295 120.224213 \nL 169.662897 120.07256 \nL 170.882792 121.51242 \nL 171.492739 120.924001 \nL 172.102686 120.771818 \nL 172.712633 120.194247 \nL 173.32258 120.897313 \nL 174.542475 121.440007 \nL 176.372316 120.99246 \nL 177.592211 121.519461 \nL 178.202158 121.372269 \nL 178.812105 120.822354 \nL 179.422052 121.484685 \nL 180.031999 121.740001 \nL 180.641946 121.594747 \nL 181.251894 121.846807 \nL 181.861841 121.70251 \nL 184.301629 124.225718 \nL 184.911577 124.456758 \nL 185.521524 124.30364 \nL 186.131471 124.531965 \nL 186.741418 125.136009 \nL 187.351365 124.981799 \nL 187.961312 125.203375 \nL 188.57126 125.050348 \nL 189.181207 125.640006 \nL 189.791154 125.855128 \nL 190.401101 126.435155 \nL 191.620995 124.670776 \nL 192.230943 124.162971 \nL 192.84089 124.740001 \nL 193.450837 124.953275 \nL 194.060784 124.094726 \nL 194.670731 123.95409 \nL 195.280678 124.16804 \nL 195.890626 124.028373 \nL 196.500573 123.540001 \nL 197.11052 124.101293 \nL 198.330414 123.827671 \nL 198.940361 124.036371 \nL 199.550309 123.901087 \nL 200.160256 124.107568 \nL 201.38015 125.190003 \nL 201.990097 125.388002 \nL 202.600044 125.918766 \nL 203.209992 125.445737 \nL 203.819939 125.971588 \nL 204.429886 125.172317 \nL 205.64978 126.212733 \nL 206.259727 126.400345 \nL 206.869675 126.91082 \nL 208.089569 127.275319 \nL 208.699516 127.13492 \nL 209.309463 127.633679 \nL 209.91941 127.810589 \nL 210.529358 128.302352 \nL 211.139305 127.530004 \nL 211.749252 128.018839 \nL 212.359199 127.878845 \nL 212.969146 128.362227 \nL 213.579093 128.221974 \nL 214.189041 128.391438 \nL 214.798988 127.944882 \nL 215.408935 127.80802 \nL 216.018882 127.977101 \nL 216.628829 127.537597 \nL 217.238776 128.008801 \nL 217.848724 128.175065 \nL 218.458671 128.640006 \nL 219.068618 128.802451 \nL 219.678565 128.368355 \nL 220.288512 127.641181 \nL 220.898459 127.805632 \nL 221.508407 127.380469 \nL 222.118354 127.251628 \nL 222.728301 126.831895 \nL 223.338248 127.2877 \nL 223.948195 126.871042 \nL 224.558142 127.034659 \nL 225.16809 127.484493 \nL 226.387984 127.803401 \nL 226.997931 127.676847 \nL 227.607878 127.834392 \nL 228.217825 127.426567 \nL 228.827773 126.740748 \nL 229.43772 126.900005 \nL 230.047667 126.779117 \nL 230.657614 127.215005 \nL 231.267561 127.37077 \nL 231.877508 127.249499 \nL 232.487456 126.854189 \nL 233.097403 126.735656 \nL 233.70735 126.345055 \nL 234.317297 126.501158 \nL 234.927244 126.114196 \nL 236.147139 126.4247 \nL 236.757086 125.774052 \nL 237.367033 126.196545 \nL 237.97698 126.349865 \nL 238.586927 126.236852 \nL 241.026716 126.83897 \nL 241.636663 126.465526 \nL 242.24661 126.614227 \nL 242.856557 126.503017 \nL 243.466505 125.618501 \nL 244.076452 125.768577 \nL 244.686399 125.661365 \nL 245.296346 125.81027 \nL 245.906293 125.449094 \nL 246.51624 125.597728 \nL 247.126188 125.239672 \nL 247.736135 125.388002 \nL 248.956029 126.182384 \nL 251.395818 126.751765 \nL 252.005765 127.138052 \nL 253.835606 126.818715 \nL 254.445554 127.199808 \nL 255.055501 127.093847 \nL 255.665448 126.747034 \nL 256.275395 126.161656 \nL 256.885342 126.540001 \nL 257.495289 126.676716 \nL 258.105237 126.574078 \nL 259.325131 127.31869 \nL 259.935078 127.215005 \nL 260.545025 127.347484 \nL 261.154972 127.009571 \nL 262.374867 127.273336 \nL 262.984814 126.938769 \nL 263.594761 127.070066 \nL 264.204708 126.969365 \nL 264.814655 127.099761 \nL 265.424603 126.76979 \nL 266.03455 126.900005 \nL 266.644497 127.257824 \nL 267.254444 127.158081 \nL 267.864391 127.512983 \nL 268.474338 127.639401 \nL 269.694233 127.440006 \nL 270.30418 127.116862 \nL 270.914127 126.348288 \nL 271.524074 126.253277 \nL 272.134021 126.603537 \nL 272.743969 126.064933 \nL 273.353916 126.413694 \nL 274.57381 126.665586 \nL 275.183757 126.352175 \nL 275.793704 126.47758 \nL 276.403652 126.166523 \nL 277.013599 126.291725 \nL 277.623546 126.199609 \nL 278.233493 126.540001 \nL 278.84344 126.447693 \nL 279.453387 126.570687 \nL 280.673282 126.387457 \nL 281.893176 125.781577 \nL 282.503123 125.269412 \nL 283.11307 125.182467 \nL 283.723018 124.885413 \nL 284.332965 124.8 \nL 284.942912 124.296239 \nL 285.552859 124.004096 \nL 286.162806 123.505293 \nL 286.772753 123.632309 \nL 287.382701 123.965761 \nL 287.992648 123.884268 \nL 288.602595 124.009211 \nL 289.212542 124.338923 \nL 289.822489 124.052199 \nL 291.042384 124.298492 \nL 291.652331 124.217427 \nL 292.262278 124.542149 \nL 292.872225 124.460858 \nL 293.482172 124.178404 \nL 294.092119 124.098511 \nL 294.702067 123.818524 \nL 296.531908 124.181063 \nL 297.141855 124.102206 \nL 297.751802 124.221685 \nL 298.971697 124.065008 \nL 299.581644 123.790912 \nL 301.411485 124.730729 \nL 302.021433 124.846435 \nL 302.63138 124.573849 \nL 303.241327 124.882721 \nL 304.461221 124.726268 \nL 305.071168 125.032391 \nL 305.681116 125.145573 \nL 306.90101 124.608524 \nL 308.730851 124.947 \nL 309.950746 124.793736 \nL 311.17064 125.016248 \nL 311.780587 124.753339 \nL 313.000482 125.345904 \nL 313.610429 125.084121 \nL 314.830323 125.301958 \nL 315.44027 125.042192 \nL 316.050217 125.150688 \nL 316.660165 125.075593 \nL 317.270112 125.183481 \nL 317.880059 125.108679 \nL 318.490006 125.21597 \nL 319.099953 125.141439 \nL 319.7099 125.248144 \nL 320.319848 124.813034 \nL 321.539742 124.667317 \nL 322.149689 124.774123 \nL 322.759636 124.522986 \nL 323.369583 124.80793 \nL 324.589478 124.309014 \nL 325.199425 124.238369 \nL 328.249161 124.76501 \nL 328.859108 124.519686 \nL 329.469055 124.623878 \nL 330.079002 124.901387 \nL 330.688949 124.830833 \nL 331.298897 125.106595 \nL 331.908844 124.690693 \nL 332.518791 124.448883 \nL 333.128738 124.551826 \nL 333.738685 124.482859 \nL 334.95858 125.028493 \nL 335.568527 125.129194 \nL 336.178474 124.71978 \nL 336.788421 124.820728 \nL 337.398368 124.413826 \nL 338.008315 124.346257 \nL 338.618263 124.11061 \nL 339.22821 124.380008 \nL 339.838157 124.312957 \nL 340.448104 124.413454 \nL 341.058051 124.346628 \nL 345.327681 125.037393 \nL 345.937629 124.806387 \nL 346.547576 125.06728 \nL 347.76747 125.259837 \nL 348.377417 125.518071 \nL 348.987365 125.288507 \nL 350.207259 125.478462 \nL 350.817206 125.734038 \nL 351.427153 125.345115 \nL 352.647048 125.212883 \nL 353.256995 125.466859 \nL 354.476889 125.653265 \nL 355.086836 125.428242 \nL 355.696783 125.521135 \nL 356.306731 125.455481 \nL 356.916678 125.232282 \nL 357.526625 125.325007 \nL 358.136572 125.574521 \nL 359.356466 125.75739 \nL 359.966414 125.692074 \nL 360.576361 125.782895 \nL 361.186308 125.717782 \nL 361.796255 125.96341 \nL 362.406202 126.053115 \nL 363.626097 125.614288 \nL 364.236044 125.550188 \nL 364.845991 125.332689 \nL 366.065885 125.512472 \nL 366.675832 125.449094 \nL 367.28578 125.233555 \nL 367.895727 125.475218 \nL 368.505674 125.26049 \nL 369.115621 125.349621 \nL 369.725568 125.2872 \nL 369.725568 125.2872 \n\" clip-path=\"url(#pb50f1733e6)\" style=\"fill: none; stroke: #d62728; stroke-width: 1.5; stroke-linecap: square\"/>\n   </g>\n   <g id=\"line2d_18\">\n    <path d=\"M 65.361932 245.34 \nL 65.971879 169.740002 \nL 66.581826 119.340001 \nL 67.191773 150.840004 \nL 67.80172 169.740002 \nL 68.411668 169.740002 \nL 69.021615 180.540001 \nL 69.631562 188.64 \nL 70.241509 186.54 \nL 72.071351 157.140003 \nL 72.681298 158.109234 \nL 73.291245 164.340002 \nL 73.901192 154.620006 \nL 74.511139 155.565005 \nL 75.121086 147.504704 \nL 75.731034 152.940004 \nL 76.340981 141.887375 \nL 76.950928 139.500004 \nL 77.560875 140.939999 \nL 78.170822 138.812732 \nL 78.780769 140.1574 \nL 80.000664 136.476009 \nL 80.610611 131.94 \nL 81.220558 133.340004 \nL 81.830505 131.94 \nL 82.440452 135.850347 \nL 83.0504 131.94 \nL 84.270294 129.577502 \nL 84.880241 119.340001 \nL 85.490188 120.822354 \nL 86.100135 117.900006 \nL 87.32003 120.702165 \nL 87.929977 116.024213 \nL 89.149871 118.710002 \nL 89.759819 114.422933 \nL 90.979713 116.995821 \nL 91.58966 113.040008 \nL 92.199607 115.980008 \nL 93.419502 118.267659 \nL 94.029449 117.765003 \nL 95.249343 119.84401 \nL 95.85929 122.304707 \nL 97.079185 121.241896 \nL 97.689132 123.540001 \nL 98.299079 121.630919 \nL 100.738868 124.892544 \nL 101.348815 123.120009 \nL 103.178656 128.94 \nL 103.788603 129.577502 \nL 105.008498 126.212733 \nL 105.618445 125.734038 \nL 106.838339 127.009571 \nL 107.448286 126.540001 \nL 109.278128 128.315352 \nL 109.888075 129.89676 \nL 111.107969 126.966324 \nL 111.717917 127.521826 \nL 112.937811 130.504567 \nL 113.547758 130.995001 \nL 114.157705 128.67334 \nL 114.767652 129.174149 \nL 115.3776 130.573736 \nL 115.987547 130.14 \nL 116.597494 128.827066 \nL 117.207441 129.302799 \nL 117.817388 128.898623 \nL 118.427335 129.36273 \nL 119.037283 130.665852 \nL 120.867124 129.474786 \nL 121.477071 128.281939 \nL 122.696966 129.154739 \nL 123.306913 127.215005 \nL 123.91686 126.874027 \nL 124.526807 125.768577 \nL 125.136754 125.449094 \nL 126.356649 126.326141 \nL 126.966596 127.492942 \nL 128.18649 125.397701 \nL 128.796437 126.540001 \nL 129.406384 126.947556 \nL 130.016332 126.640937 \nL 130.626279 125.640006 \nL 131.236226 126.044587 \nL 131.846173 125.754552 \nL 132.45612 126.150819 \nL 133.066067 125.865008 \nL 133.676015 124.915221 \nL 134.285962 125.971588 \nL 134.895909 125.037393 \nL 135.505856 125.422767 \nL 136.115803 124.509232 \nL 136.72575 124.892544 \nL 137.945645 124.380008 \nL 138.555592 124.754882 \nL 139.165539 124.503937 \nL 139.775486 124.871714 \nL 140.385433 124.623878 \nL 140.995381 123.775209 \nL 141.605328 124.140001 \nL 142.215275 123.308511 \nL 143.435169 122.856289 \nL 144.655064 123.572062 \nL 145.265011 122.776373 \nL 145.874958 120.855789 \nL 146.484905 120.656428 \nL 147.094852 121.020003 \nL 147.704799 120.26648 \nL 148.924694 120.983481 \nL 149.534641 120.246484 \nL 150.144588 120.6 \nL 150.754535 119.340001 \nL 151.364482 120.227333 \nL 151.97443 119.516224 \nL 152.584377 119.865008 \nL 153.194324 120.730351 \nL 154.414218 121.397142 \nL 156.24406 120.852004 \nL 156.854007 121.175768 \nL 157.463954 121.992636 \nL 158.073901 122.304707 \nL 159.903743 121.763084 \nL 160.51369 122.5502 \nL 161.123637 122.370383 \nL 161.733584 122.668305 \nL 162.343531 122.490009 \nL 162.953479 123.253052 \nL 163.563426 123.073337 \nL 164.173373 123.359632 \nL 164.78332 122.720497 \nL 166.003214 123.286994 \nL 166.613162 122.659766 \nL 167.223109 122.940001 \nL 167.833056 122.322258 \nL 168.443003 122.156478 \nL 169.05295 120.666319 \nL 169.662897 120.512097 \nL 170.882792 118.471043 \nL 171.492739 119.196008 \nL 172.102686 119.483183 \nL 173.932528 117.791397 \nL 175.152422 118.36542 \nL 176.372316 117.274434 \nL 176.982263 117.559569 \nL 177.592211 117.024333 \nL 178.202158 116.901294 \nL 178.812105 117.183861 \nL 179.422052 115.854896 \nL 180.031999 116.140009 \nL 180.641946 116.820004 \nL 181.251894 117.097073 \nL 181.861841 117.765003 \nL 182.471788 118.034311 \nL 183.081735 117.521448 \nL 183.691682 118.176929 \nL 184.301629 117.668572 \nL 184.911577 117.549138 \nL 185.521524 118.194548 \nL 186.131471 117.693772 \nL 187.351365 118.211649 \nL 187.961312 118.840995 \nL 188.57126 119.091726 \nL 189.181207 119.710595 \nL 189.791154 119.954635 \nL 190.401101 119.462331 \nL 191.011048 119.340001 \nL 191.620995 119.582317 \nL 192.230943 119.460585 \nL 192.84089 119.700006 \nL 193.450837 119.57887 \nL 194.060784 120.172077 \nL 194.670731 120.04986 \nL 195.280678 118.868977 \nL 195.890626 119.105582 \nL 196.500573 118.99 \nL 197.720467 118.068444 \nL 198.330414 117.959182 \nL 198.940361 117.507276 \nL 199.550309 117.743621 \nL 200.160256 116.956223 \nL 201.38015 116.752502 \nL 202.600044 115.214341 \nL 203.209992 115.787586 \nL 204.429886 116.258779 \nL 205.039833 115.83392 \nL 205.64978 116.06728 \nL 206.259727 115.972765 \nL 206.869675 116.203523 \nL 207.479622 115.786155 \nL 208.699516 116.243391 \nL 209.309463 115.831149 \nL 209.91941 115.740002 \nL 210.529358 116.282267 \nL 211.139305 116.505004 \nL 211.749252 116.412201 \nL 212.359199 116.944958 \nL 212.969146 116.540005 \nL 213.579093 116.448205 \nL 214.189041 116.665715 \nL 214.798988 116.57415 \nL 216.018882 117.612584 \nL 216.628829 117.214705 \nL 217.238776 116.51761 \nL 218.458671 116.940001 \nL 219.068618 116.849891 \nL 219.678565 116.165198 \nL 221.508407 116.79059 \nL 222.118354 116.409767 \nL 222.728301 116.323791 \nL 223.338248 116.529236 \nL 223.948195 117.022767 \nL 224.558142 116.935428 \nL 225.778037 116.190004 \nL 226.387984 116.106799 \nL 227.607878 115.375964 \nL 228.217825 115.578807 \nL 228.827773 115.499116 \nL 229.43772 115.140002 \nL 230.047667 115.620443 \nL 230.657614 115.819422 \nL 231.877508 115.661178 \nL 232.487456 115.857825 \nL 233.097403 115.231307 \nL 233.70735 114.882241 \nL 234.317297 114.263743 \nL 234.927244 114.462587 \nL 235.537191 114.12001 \nL 237.367033 114.709612 \nL 237.97698 114.370989 \nL 238.586927 114.56527 \nL 239.806822 114.422933 \nL 240.416769 114.615006 \nL 241.636663 115.516555 \nL 242.24661 115.443094 \nL 242.856557 115.887948 \nL 244.076452 116.254295 \nL 244.686399 116.179325 \nL 245.296346 115.849466 \nL 245.906293 115.776366 \nL 246.51624 116.211149 \nL 247.126188 115.88449 \nL 247.736135 115.308001 \nL 249.565976 114.349911 \nL 250.175923 114.532116 \nL 250.785871 114.465257 \nL 251.395818 114.645884 \nL 252.615712 114.512728 \nL 253.225659 114.691463 \nL 253.835606 114.625167 \nL 255.665448 115.153419 \nL 256.275395 115.568026 \nL 256.885342 115.260011 \nL 257.495289 115.193174 \nL 258.715184 115.536235 \nL 259.325131 114.995175 \nL 259.935078 115.402505 \nL 260.545025 115.100753 \nL 261.154972 115.270442 \nL 261.76492 114.970966 \nL 263.594761 115.474975 \nL 264.204708 115.409726 \nL 265.424603 115.740002 \nL 266.03455 115.44546 \nL 267.254444 115.317114 \nL 267.864391 115.026493 \nL 268.474338 114.963959 \nL 269.084286 114.450454 \nL 269.694233 114.165003 \nL 270.30418 114.105579 \nL 270.914127 114.270187 \nL 272.134021 115.041183 \nL 273.353916 114.918954 \nL 273.963863 115.078786 \nL 274.57381 115.457446 \nL 275.183757 115.614788 \nL 275.793704 115.334226 \nL 277.623546 115.801893 \nL 278.233493 116.172002 \nL 279.453387 116.476368 \nL 280.063335 116.841419 \nL 280.673282 116.777297 \nL 281.283229 117.139442 \nL 281.893176 116.862474 \nL 282.503123 116.798825 \nL 283.11307 116.946704 \nL 283.723018 116.251423 \nL 284.942912 116.128924 \nL 285.552859 116.277017 \nL 286.162806 116.632572 \nL 286.772753 116.778469 \nL 287.382701 116.509319 \nL 287.992648 116.448205 \nL 289.212542 116.737835 \nL 289.822489 116.676586 \nL 290.432436 116.820004 \nL 291.042384 116.758878 \nL 291.652331 116.494843 \nL 292.262278 116.84027 \nL 292.872225 116.57744 \nL 293.482172 116.51761 \nL 294.092119 116.659158 \nL 294.702067 116.398896 \nL 295.312014 116.740009 \nL 295.921961 116.281433 \nL 297.141855 116.958905 \nL 297.751802 117.097073 \nL 298.36175 117.037131 \nL 299.581644 117.703641 \nL 300.191591 117.838452 \nL 300.801538 118.167917 \nL 301.411485 118.10598 \nL 302.021433 118.433068 \nL 302.63138 118.564623 \nL 303.241327 118.3088 \nL 303.851274 118.632857 \nL 304.461221 118.570538 \nL 305.071168 118.700415 \nL 305.681116 118.446845 \nL 306.90101 118.705248 \nL 308.120904 118.203166 \nL 309.340799 118.083146 \nL 309.950746 118.211649 \nL 310.560693 118.15192 \nL 311.17064 118.466739 \nL 312.390534 118.346899 \nL 313.610429 118.598825 \nL 315.44027 118.420293 \nL 316.660165 118.668816 \nL 317.880059 118.550609 \nL 318.490006 118.67366 \nL 320.319848 118.498001 \nL 320.929795 118.8 \nL 321.539742 118.741432 \nL 322.759636 118.982554 \nL 323.369583 118.389065 \nL 323.979531 118.332007 \nL 324.589478 118.630142 \nL 325.199425 118.395746 \nL 325.809372 117.985802 \nL 327.029266 117.874884 \nL 327.639214 117.293596 \nL 328.859108 117.535845 \nL 330.079002 117.428284 \nL 330.688949 117.201469 \nL 331.298897 117.148702 \nL 331.908844 117.268767 \nL 333.128738 117.16364 \nL 333.738685 117.454295 \nL 334.348632 117.572581 \nL 334.95858 117.51969 \nL 335.568527 117.6373 \nL 336.178474 117.584499 \nL 338.618263 118.049136 \nL 339.22821 117.996009 \nL 339.838157 117.607852 \nL 340.448104 117.890453 \nL 341.058051 118.004908 \nL 341.667998 118.28538 \nL 342.277946 118.398472 \nL 342.887893 118.676848 \nL 343.49784 118.788577 \nL 344.107787 118.734763 \nL 344.717734 118.845884 \nL 345.327681 119.120869 \nL 345.937629 119.066683 \nL 348.377417 119.502582 \nL 348.987365 119.448159 \nL 349.597312 119.555855 \nL 350.207259 119.501545 \nL 350.817206 119.608667 \nL 351.427153 119.393624 \nL 352.0371 119.661028 \nL 352.647048 119.606955 \nL 353.256995 119.712938 \nL 353.866942 119.499495 \nL 355.696783 119.340001 \nL 356.306731 119.445444 \nL 356.916678 119.234784 \nL 358.136572 119.444791 \nL 358.746519 119.705976 \nL 359.356466 119.340001 \nL 359.966414 119.287944 \nL 360.576361 119.547846 \nL 361.186308 119.495563 \nL 361.796255 119.753966 \nL 363.016149 119.958409 \nL 363.626097 119.751432 \nL 364.845991 119.647318 \nL 365.455938 119.902274 \nL 366.065885 119.697088 \nL 366.675832 119.798183 \nL 367.28578 120.051291 \nL 367.895727 119.847051 \nL 368.505674 119.947234 \nL 369.115621 120.198517 \nL 369.725568 120.297606 \nL 369.725568 120.297606 \n\" clip-path=\"url(#pb50f1733e6)\" style=\"fill: none; stroke: #9467bd; stroke-width: 1.5; stroke-linecap: square\"/>\n   </g>\n   <g id=\"line2d_19\">\n    <path d=\"M 65.361932 94.140004 \nL 65.971879 18.54 \nL 66.581826 43.739997 \nL 67.191773 75.240011 \nL 67.80172 79.020008 \nL 68.411668 81.540005 \nL 69.021615 94.140004 \nL 69.631562 103.590006 \nL 70.241509 110.940002 \nL 71.461403 135.376371 \nL 72.681298 140.663076 \nL 73.901192 144.539999 \nL 74.511139 141.390002 \nL 75.121086 143.057646 \nL 76.340981 153.824215 \nL 77.560875 155.340003 \nL 78.780769 150.018269 \nL 79.390717 144.539999 \nL 80.000664 142.523998 \nL 81.220558 150.140002 \nL 81.830505 145.440004 \nL 82.440452 148.884836 \nL 83.0504 149.580005 \nL 83.660347 152.669034 \nL 84.880241 153.703637 \nL 85.490188 151.951768 \nL 86.100135 154.620006 \nL 86.710083 152.940004 \nL 87.32003 149.307577 \nL 87.929977 151.834739 \nL 88.539924 150.355383 \nL 89.759819 154.988786 \nL 90.369766 153.540003 \nL 91.58966 157.71273 \nL 93.419502 158.48043 \nL 94.029449 157.140003 \nL 94.639396 154.311433 \nL 95.85929 157.88118 \nL 96.469237 158.109234 \nL 97.079185 159.755096 \nL 98.299079 157.369094 \nL 98.909026 157.590006 \nL 99.518973 156.476844 \nL 100.738868 151.801022 \nL 101.348815 153.360001 \nL 101.958762 152.389182 \nL 102.568709 149.010973 \nL 103.788603 147.296252 \nL 104.398551 147.641544 \nL 105.008498 145.685463 \nL 105.618445 146.044477 \nL 106.838339 140.1574 \nL 108.058234 140.990704 \nL 108.668181 140.339999 \nL 109.278128 137.635893 \nL 109.888075 138.06973 \nL 110.498022 137.484004 \nL 111.107969 138.903158 \nL 112.937811 134.332407 \nL 113.547758 134.775008 \nL 114.767652 137.471713 \nL 115.3776 137.860489 \nL 115.987547 139.139999 \nL 116.597494 139.500004 \nL 117.207441 138.093489 \nL 118.427335 138.812732 \nL 119.037283 140.009667 \nL 119.64723 137.820002 \nL 120.257177 136.50923 \nL 121.477071 137.223877 \nL 122.087018 135.157025 \nL 123.306913 135.877507 \nL 123.91686 137.005984 \nL 124.526807 136.568576 \nL 125.746701 137.231999 \nL 126.356649 136.805349 \nL 126.966596 137.128235 \nL 127.576543 135.976901 \nL 128.18649 137.028469 \nL 128.796437 137.339999 \nL 129.406384 135.506046 \nL 130.626279 134.740007 \nL 131.236226 133.673951 \nL 131.846173 134.001827 \nL 132.45612 133.642702 \nL 133.066067 134.640005 \nL 134.895909 133.58348 \nL 135.505856 131.94 \nL 136.72575 131.299321 \nL 137.335698 132.257647 \nL 137.945645 131.94 \nL 138.555592 131.002819 \nL 139.165539 131.320331 \nL 139.775486 132.247317 \nL 140.385433 131.94 \nL 140.995381 132.242405 \nL 141.605328 133.14 \nL 142.215275 133.428188 \nL 142.825222 131.94 \nL 143.435169 131.646979 \nL 144.045116 130.776928 \nL 145.265011 132.512727 \nL 145.874958 131.6558 \nL 146.484905 131.94 \nL 147.094852 132.780007 \nL 148.314747 131.112272 \nL 148.924694 131.392181 \nL 149.534641 131.12418 \nL 150.144588 131.94 \nL 150.754535 131.67192 \nL 152.584377 132.465007 \nL 153.804271 131.94 \nL 155.024165 132.450813 \nL 156.24406 129.924 \nL 156.854007 129.186361 \nL 157.463954 129.453167 \nL 158.073901 128.234118 \nL 159.293796 127.794198 \nL 159.903743 128.547698 \nL 161.123637 128.11216 \nL 162.343531 128.632503 \nL 162.953479 127.948701 \nL 163.563426 128.206676 \nL 164.173373 127.997671 \nL 164.78332 128.252199 \nL 165.393267 127.587277 \nL 167.223109 128.34 \nL 167.833056 129.032308 \nL 168.443003 128.382358 \nL 169.05295 129.066318 \nL 169.662897 129.302799 \nL 170.272845 128.662548 \nL 170.882792 128.464144 \nL 171.492739 127.836003 \nL 172.102686 128.50364 \nL 172.712633 128.736617 \nL 173.32258 128.542257 \nL 173.932528 127.927714 \nL 174.542475 128.580007 \nL 175.152422 128.807408 \nL 176.372316 130.080993 \nL 176.982263 129.063918 \nL 177.592211 129.283783 \nL 178.812105 128.907917 \nL 179.422052 129.125111 \nL 180.031999 128.94 \nL 180.641946 129.55264 \nL 181.251894 128.971419 \nL 181.861841 128.790003 \nL 182.471788 128.218763 \nL 183.081735 128.432792 \nL 183.691682 128.25693 \nL 184.911577 127.143053 \nL 185.521524 127.358186 \nL 186.131471 127.191257 \nL 187.351365 127.614629 \nL 188.57126 126.540001 \nL 189.181207 126.381183 \nL 189.791154 125.486348 \nL 191.011048 125.913921 \nL 191.620995 125.761153 \nL 192.230943 125.971588 \nL 193.450837 125.669859 \nL 194.060784 125.877737 \nL 194.670731 125.018873 \nL 195.280678 125.227855 \nL 196.500573 126.340008 \nL 197.11052 126.191622 \nL 197.720467 126.738168 \nL 198.330414 126.244118 \nL 199.550309 127.321901 \nL 200.160256 127.512983 \nL 200.770203 127.363323 \nL 201.38015 126.877508 \nL 201.990097 127.068004 \nL 202.600044 127.591333 \nL 203.819939 127.961059 \nL 205.64978 129.485454 \nL 206.869675 128.533132 \nL 208.089569 128.240427 \nL 208.699516 128.736617 \nL 209.309463 128.590642 \nL 209.91941 128.128236 \nL 210.529358 127.353399 \nL 211.139305 126.900005 \nL 211.749252 127.07776 \nL 212.359199 126.316869 \nL 212.969146 126.495559 \nL 213.579093 126.362955 \nL 214.189041 125.614288 \nL 215.408935 125.359433 \nL 216.628829 125.715912 \nL 217.238776 125.589605 \nL 217.848724 125.765501 \nL 218.458671 125.640006 \nL 219.678565 126.582527 \nL 220.288512 126.455297 \nL 220.898459 126.624377 \nL 221.508407 127.08631 \nL 222.118354 127.251628 \nL 222.728301 127.12379 \nL 223.338248 127.578468 \nL 223.948195 126.581389 \nL 225.16809 126.909592 \nL 225.778037 126.499096 \nL 226.997931 126.824212 \nL 227.607878 127.268098 \nL 228.217825 127.144484 \nL 228.827773 127.583875 \nL 230.047667 127.337053 \nL 231.267561 128.201539 \nL 231.877508 127.801317 \nL 233.70735 127.43675 \nL 234.317297 127.860866 \nL 234.927244 128.010975 \nL 235.537191 127.350008 \nL 236.147139 127.500861 \nL 236.757086 127.918724 \nL 238.586927 126.767368 \nL 239.806822 126.540001 \nL 240.416769 126.165002 \nL 241.026716 126.054197 \nL 241.636663 126.465526 \nL 242.24661 126.354439 \nL 243.466505 126.65058 \nL 244.076452 126.282859 \nL 244.686399 126.686449 \nL 245.296346 126.576489 \nL 245.906293 126.976372 \nL 246.51624 126.358799 \nL 247.736135 126.648001 \nL 248.346082 127.042331 \nL 248.956029 127.18371 \nL 249.565976 127.074662 \nL 250.175923 127.215005 \nL 250.785871 127.106565 \nL 251.395818 127.245883 \nL 253.835606 125.843232 \nL 255.055501 126.609237 \nL 255.665448 126.263967 \nL 256.275395 126.64319 \nL 257.495289 126.915957 \nL 258.105237 126.574078 \nL 259.325131 126.370728 \nL 259.935078 125.797506 \nL 261.154972 126.070441 \nL 262.374867 125.873333 \nL 262.984814 126.008313 \nL 263.594761 126.374356 \nL 264.204708 126.044587 \nL 264.814655 125.947323 \nL 266.03455 126.212733 \nL 267.254444 126.019522 \nL 267.864391 126.150819 \nL 269.694233 127.215005 \nL 270.30418 127.116862 \nL 270.914127 127.242965 \nL 271.524074 127.591333 \nL 272.134021 127.715296 \nL 272.743969 127.616837 \nL 273.353916 127.961059 \nL 273.963863 127.642049 \nL 274.57381 127.764424 \nL 275.183757 127.666956 \nL 275.793704 127.133072 \nL 276.403652 127.255853 \nL 277.623546 127.066078 \nL 278.233493 126.324 \nL 279.453387 125.711597 \nL 280.063335 126.05049 \nL 281.283229 125.870708 \nL 281.893176 125.569215 \nL 283.11307 125.815981 \nL 283.723018 125.727752 \nL 284.332965 125.43001 \nL 285.552859 125.674816 \nL 286.772753 125.501545 \nL 287.382701 125.829871 \nL 287.992648 125.949835 \nL 289.212542 125.776958 \nL 289.822489 125.8961 \nL 290.432436 125.605951 \nL 291.042384 125.521135 \nL 291.652331 125.640006 \nL 292.262278 125.55555 \nL 293.482172 125.791209 \nL 294.702067 126.425421 \nL 295.312014 126.340008 \nL 295.921961 126.653994 \nL 296.531908 126.369478 \nL 297.141855 126.483314 \nL 297.751802 126.002827 \nL 298.36175 125.919644 \nL 298.971697 125.640006 \nL 299.581644 125.558187 \nL 300.191591 125.672642 \nL 300.801538 125.39582 \nL 301.411485 124.925574 \nL 302.63138 125.54308 \nL 303.241327 125.269412 \nL 303.851274 125.382865 \nL 304.461221 125.303366 \nL 305.071168 125.032391 \nL 305.681116 124.954187 \nL 306.291063 125.258192 \nL 307.510957 125.481718 \nL 308.730851 126.081008 \nL 309.340799 125.812827 \nL 309.950746 125.357912 \nL 310.560693 125.468042 \nL 311.17064 125.016248 \nL 311.780587 125.313336 \nL 313.000482 124.788655 \nL 313.610429 124.89883 \nL 314.220376 124.823623 \nL 314.830323 125.117568 \nL 315.44027 124.858252 \nL 316.050217 124.967188 \nL 316.660165 124.343395 \nL 317.270112 124.270441 \nL 317.880059 124.562178 \nL 319.099953 124.416259 \nL 319.7099 123.982107 \nL 320.319848 124.271748 \nL 320.929795 123.840006 \nL 321.539742 124.1286 \nL 322.759636 124.344263 \nL 323.369583 124.273021 \nL 323.979531 124.380008 \nL 324.589478 124.309014 \nL 325.199425 124.415414 \nL 326.419319 124.274272 \nL 327.029266 124.380008 \nL 327.639214 124.660659 \nL 328.249161 124.76501 \nL 329.469055 124.623878 \nL 330.079002 124.380008 \nL 330.688949 124.657437 \nL 331.908844 124.518086 \nL 333.128738 124.723644 \nL 333.738685 124.997153 \nL 334.348632 125.098372 \nL 334.95858 125.028493 \nL 336.788421 125.329242 \nL 337.398368 125.597728 \nL 338.008315 125.5275 \nL 339.22821 125.724 \nL 339.838157 125.98923 \nL 340.448104 126.086021 \nL 341.058051 126.349279 \nL 341.667998 126.278331 \nL 342.277946 126.041546 \nL 343.49784 125.901935 \nL 344.107787 125.997645 \nL 344.717734 126.257648 \nL 345.327681 126.187825 \nL 347.76747 126.563286 \nL 348.377417 126.168393 \nL 348.987365 126.261895 \nL 349.597312 126.193109 \nL 350.207259 125.640006 \nL 351.427153 126.149366 \nL 352.0371 125.920895 \nL 353.256995 125.786511 \nL 353.866942 125.879247 \nL 355.086836 125.745889 \nL 355.696783 125.521135 \nL 356.916678 126.021426 \nL 357.526625 125.955006 \nL 358.136572 125.731694 \nL 358.746519 125.979835 \nL 359.966414 125.848267 \nL 360.576361 125.938773 \nL 362.406202 125.278526 \nL 363.016149 125.369448 \nL 364.236044 125.858136 \nL 365.455938 125.729453 \nL 366.065885 125.359433 \nL 367.28578 124.928717 \nL 367.895727 124.562539 \nL 368.505674 124.501447 \nL 369.115621 124.137601 \nL 369.725568 124.077602 \nL 369.725568 124.077602 \n\" clip-path=\"url(#pb50f1733e6)\" style=\"fill: none; stroke: #8c564b; stroke-width: 1.5; stroke-linecap: square\"/>\n   </g>\n   <g id=\"line2d_20\">\n    <path d=\"M 50.14375 119.088005 \nL 384.94375 119.088005 \n\" clip-path=\"url(#pb50f1733e6)\" style=\"fill: none; stroke-dasharray: 5.55,2.4; stroke-dashoffset: 0; stroke: #000000; stroke-width: 1.5\"/>\n   </g>\n   <g id=\"patch_3\">\n    <path d=\"M 50.14375 256.68 \nL 50.14375 7.2 \n\" style=\"fill: none; stroke: #000000; stroke-width: 0.8; stroke-linejoin: miter; stroke-linecap: square\"/>\n   </g>\n   <g id=\"patch_4\">\n    <path d=\"M 384.94375 256.68 \nL 384.94375 7.2 \n\" style=\"fill: none; stroke: #000000; stroke-width: 0.8; stroke-linejoin: miter; stroke-linecap: square\"/>\n   </g>\n   <g id=\"patch_5\">\n    <path d=\"M 50.14375 256.68 \nL 384.94375 256.68 \n\" style=\"fill: none; stroke: #000000; stroke-width: 0.8; stroke-linejoin: miter; stroke-linecap: square\"/>\n   </g>\n   <g id=\"patch_6\">\n    <path d=\"M 50.14375 7.2 \nL 384.94375 7.2 \n\" style=\"fill: none; stroke: #000000; stroke-width: 0.8; stroke-linejoin: miter; stroke-linecap: square\"/>\n   </g>\n   <g id=\"legend_1\">\n    <g id=\"patch_7\">\n     <path d=\"M 302.089063 103.26875 \nL 377.94375 103.26875 \nQ 379.94375 103.26875 379.94375 101.26875 \nL 379.94375 14.2 \nQ 379.94375 12.2 377.94375 12.2 \nL 302.089063 12.2 \nQ 300.089063 12.2 300.089063 14.2 \nL 300.089063 101.26875 \nQ 300.089063 103.26875 302.089063 103.26875 \nz\n\" style=\"fill: #ffffff; opacity: 0.8; stroke: #cccccc; stroke-linejoin: miter\"/>\n    </g>\n    <g id=\"line2d_21\">\n     <path d=\"M 304.089063 20.298437 \nL 314.089063 20.298437 \nL 324.089063 20.298437 \n\" style=\"fill: none; stroke: #1f77b4; stroke-width: 1.5; stroke-linecap: square\"/>\n    </g>\n    <g id=\"text_16\">\n     <!-- P(die=1) -->\n     <g transform=\"translate(332.089063 23.798437) scale(0.1 -0.1)\">\n      <defs>\n       <path id=\"DejaVuSans-50\" d=\"M 1259 4147 \nL 1259 2394 \nL 2053 2394 \nQ 2494 2394 2734 2622 \nQ 2975 2850 2975 3272 \nQ 2975 3691 2734 3919 \nQ 2494 4147 2053 4147 \nL 1259 4147 \nz\nM 628 4666 \nL 2053 4666 \nQ 2838 4666 3239 4311 \nQ 3641 3956 3641 3272 \nQ 3641 2581 3239 2228 \nQ 2838 1875 2053 1875 \nL 1259 1875 \nL 1259 0 \nL 628 0 \nL 628 4666 \nz\n\" transform=\"scale(0.015625)\"/>\n       <path id=\"DejaVuSans-28\" d=\"M 1984 4856 \nQ 1566 4138 1362 3434 \nQ 1159 2731 1159 2009 \nQ 1159 1288 1364 580 \nQ 1569 -128 1984 -844 \nL 1484 -844 \nQ 1016 -109 783 600 \nQ 550 1309 550 2009 \nQ 550 2706 781 3412 \nQ 1013 4119 1484 4856 \nL 1984 4856 \nz\n\" transform=\"scale(0.015625)\"/>\n       <path id=\"DejaVuSans-3d\" d=\"M 678 2906 \nL 4684 2906 \nL 4684 2381 \nL 678 2381 \nL 678 2906 \nz\nM 678 1631 \nL 4684 1631 \nL 4684 1100 \nL 678 1100 \nL 678 1631 \nz\n\" transform=\"scale(0.015625)\"/>\n       <path id=\"DejaVuSans-29\" d=\"M 513 4856 \nL 1013 4856 \nQ 1481 4119 1714 3412 \nQ 1947 2706 1947 2009 \nQ 1947 1309 1714 600 \nQ 1481 -109 1013 -844 \nL 513 -844 \nQ 928 -128 1133 580 \nQ 1338 1288 1338 2009 \nQ 1338 2731 1133 3434 \nQ 928 4138 513 4856 \nz\n\" transform=\"scale(0.015625)\"/>\n      </defs>\n      <use xlink:href=\"#DejaVuSans-50\"/>\n      <use xlink:href=\"#DejaVuSans-28\" x=\"60.302734\"/>\n      <use xlink:href=\"#DejaVuSans-64\" x=\"99.316406\"/>\n      <use xlink:href=\"#DejaVuSans-69\" x=\"162.792969\"/>\n      <use xlink:href=\"#DejaVuSans-65\" x=\"190.576172\"/>\n      <use xlink:href=\"#DejaVuSans-3d\" x=\"252.099609\"/>\n      <use xlink:href=\"#DejaVuSans-31\" x=\"335.888672\"/>\n      <use xlink:href=\"#DejaVuSans-29\" x=\"399.511719\"/>\n     </g>\n    </g>\n    <g id=\"line2d_22\">\n     <path d=\"M 304.089063 34.976562 \nL 314.089063 34.976562 \nL 324.089063 34.976562 \n\" style=\"fill: none; stroke: #ff7f0e; stroke-width: 1.5; stroke-linecap: square\"/>\n    </g>\n    <g id=\"text_17\">\n     <!-- P(die=2) -->\n     <g transform=\"translate(332.089063 38.476562) scale(0.1 -0.1)\">\n      <use xlink:href=\"#DejaVuSans-50\"/>\n      <use xlink:href=\"#DejaVuSans-28\" x=\"60.302734\"/>\n      <use xlink:href=\"#DejaVuSans-64\" x=\"99.316406\"/>\n      <use xlink:href=\"#DejaVuSans-69\" x=\"162.792969\"/>\n      <use xlink:href=\"#DejaVuSans-65\" x=\"190.576172\"/>\n      <use xlink:href=\"#DejaVuSans-3d\" x=\"252.099609\"/>\n      <use xlink:href=\"#DejaVuSans-32\" x=\"335.888672\"/>\n      <use xlink:href=\"#DejaVuSans-29\" x=\"399.511719\"/>\n     </g>\n    </g>\n    <g id=\"line2d_23\">\n     <path d=\"M 304.089063 49.654687 \nL 314.089063 49.654687 \nL 324.089063 49.654687 \n\" style=\"fill: none; stroke: #2ca02c; stroke-width: 1.5; stroke-linecap: square\"/>\n    </g>\n    <g id=\"text_18\">\n     <!-- P(die=3) -->\n     <g transform=\"translate(332.089063 53.154687) scale(0.1 -0.1)\">\n      <use xlink:href=\"#DejaVuSans-50\"/>\n      <use xlink:href=\"#DejaVuSans-28\" x=\"60.302734\"/>\n      <use xlink:href=\"#DejaVuSans-64\" x=\"99.316406\"/>\n      <use xlink:href=\"#DejaVuSans-69\" x=\"162.792969\"/>\n      <use xlink:href=\"#DejaVuSans-65\" x=\"190.576172\"/>\n      <use xlink:href=\"#DejaVuSans-3d\" x=\"252.099609\"/>\n      <use xlink:href=\"#DejaVuSans-33\" x=\"335.888672\"/>\n      <use xlink:href=\"#DejaVuSans-29\" x=\"399.511719\"/>\n     </g>\n    </g>\n    <g id=\"line2d_24\">\n     <path d=\"M 304.089063 64.332812 \nL 314.089063 64.332812 \nL 324.089063 64.332812 \n\" style=\"fill: none; stroke: #d62728; stroke-width: 1.5; stroke-linecap: square\"/>\n    </g>\n    <g id=\"text_19\">\n     <!-- P(die=4) -->\n     <g transform=\"translate(332.089063 67.832812) scale(0.1 -0.1)\">\n      <use xlink:href=\"#DejaVuSans-50\"/>\n      <use xlink:href=\"#DejaVuSans-28\" x=\"60.302734\"/>\n      <use xlink:href=\"#DejaVuSans-64\" x=\"99.316406\"/>\n      <use xlink:href=\"#DejaVuSans-69\" x=\"162.792969\"/>\n      <use xlink:href=\"#DejaVuSans-65\" x=\"190.576172\"/>\n      <use xlink:href=\"#DejaVuSans-3d\" x=\"252.099609\"/>\n      <use xlink:href=\"#DejaVuSans-34\" x=\"335.888672\"/>\n      <use xlink:href=\"#DejaVuSans-29\" x=\"399.511719\"/>\n     </g>\n    </g>\n    <g id=\"line2d_25\">\n     <path d=\"M 304.089063 79.010937 \nL 314.089063 79.010937 \nL 324.089063 79.010937 \n\" style=\"fill: none; stroke: #9467bd; stroke-width: 1.5; stroke-linecap: square\"/>\n    </g>\n    <g id=\"text_20\">\n     <!-- P(die=5) -->\n     <g transform=\"translate(332.089063 82.510937) scale(0.1 -0.1)\">\n      <use xlink:href=\"#DejaVuSans-50\"/>\n      <use xlink:href=\"#DejaVuSans-28\" x=\"60.302734\"/>\n      <use xlink:href=\"#DejaVuSans-64\" x=\"99.316406\"/>\n      <use xlink:href=\"#DejaVuSans-69\" x=\"162.792969\"/>\n      <use xlink:href=\"#DejaVuSans-65\" x=\"190.576172\"/>\n      <use xlink:href=\"#DejaVuSans-3d\" x=\"252.099609\"/>\n      <use xlink:href=\"#DejaVuSans-35\" x=\"335.888672\"/>\n      <use xlink:href=\"#DejaVuSans-29\" x=\"399.511719\"/>\n     </g>\n    </g>\n    <g id=\"line2d_26\">\n     <path d=\"M 304.089063 93.689062 \nL 314.089063 93.689062 \nL 324.089063 93.689062 \n\" style=\"fill: none; stroke: #8c564b; stroke-width: 1.5; stroke-linecap: square\"/>\n    </g>\n    <g id=\"text_21\">\n     <!-- P(die=6) -->\n     <g transform=\"translate(332.089063 97.189062) scale(0.1 -0.1)\">\n      <defs>\n       <path id=\"DejaVuSans-36\" d=\"M 2113 2584 \nQ 1688 2584 1439 2293 \nQ 1191 2003 1191 1497 \nQ 1191 994 1439 701 \nQ 1688 409 2113 409 \nQ 2538 409 2786 701 \nQ 3034 994 3034 1497 \nQ 3034 2003 2786 2293 \nQ 2538 2584 2113 2584 \nz\nM 3366 4563 \nL 3366 3988 \nQ 3128 4100 2886 4159 \nQ 2644 4219 2406 4219 \nQ 1781 4219 1451 3797 \nQ 1122 3375 1075 2522 \nQ 1259 2794 1537 2939 \nQ 1816 3084 2150 3084 \nQ 2853 3084 3261 2657 \nQ 3669 2231 3669 1497 \nQ 3669 778 3244 343 \nQ 2819 -91 2113 -91 \nQ 1303 -91 875 529 \nQ 447 1150 447 2328 \nQ 447 3434 972 4092 \nQ 1497 4750 2381 4750 \nQ 2619 4750 2861 4703 \nQ 3103 4656 3366 4563 \nz\n\" transform=\"scale(0.015625)\"/>\n      </defs>\n      <use xlink:href=\"#DejaVuSans-50\"/>\n      <use xlink:href=\"#DejaVuSans-28\" x=\"60.302734\"/>\n      <use xlink:href=\"#DejaVuSans-64\" x=\"99.316406\"/>\n      <use xlink:href=\"#DejaVuSans-69\" x=\"162.792969\"/>\n      <use xlink:href=\"#DejaVuSans-65\" x=\"190.576172\"/>\n      <use xlink:href=\"#DejaVuSans-3d\" x=\"252.099609\"/>\n      <use xlink:href=\"#DejaVuSans-36\" x=\"335.888672\"/>\n      <use xlink:href=\"#DejaVuSans-29\" x=\"399.511719\"/>\n     </g>\n    </g>\n   </g>\n  </g>\n </g>\n <defs>\n  <clipPath id=\"pb50f1733e6\">\n   <rect x=\"50.14375\" y=\"7.2\" width=\"334.8\" height=\"249.48\"/>\n  </clipPath>\n </defs>\n</svg>\n"
          },
          "metadata": {}
        }
      ],
      "source": [
        "counts = multinomial.Multinomial(10, fair_probs).sample((500,))\n",
        "cum_counts = counts.cumsum(dim=0)\n",
        "estimates = cum_counts / cum_counts.sum(dim=1, keepdims=True)\n",
        "\n",
        "d2l.set_figsize((6, 4.5))\n",
        "for i in range(6):\n",
        "    d2l.plt.plot(estimates[:, i].numpy(),\n",
        "                 label=(\"P(die=\" + str(i + 1) + \")\"))\n",
        "d2l.plt.axhline(y=0.167, color='black', linestyle='dashed')\n",
        "d2l.plt.gca().set_xlabel('Groups of experiments')\n",
        "d2l.plt.gca().set_ylabel('Estimated probability')\n",
        "d2l.plt.legend();"
      ]
    },
    {
      "cell_type": "markdown",
      "id": "d97d4cca",
      "metadata": {
        "origin_pos": 25,
        "id": "d97d4cca"
      },
      "source": [
        "每条实线对应于骰子的6个值中的一个，并给出骰子在每组实验后出现值的估计概率。\n",
        "当我们通过更多的实验获得更多的数据时，这$6$条实体曲线向真实概率收敛。\n",
        "\n",
        "### 概率论公理\n",
        "\n",
        "在处理骰子掷出时，我们将集合$\\mathcal{S} = \\{1, 2, 3, 4, 5, 6\\}$\n",
        "称为*样本空间*（sample space）或*结果空间*（outcome space），\n",
        "其中每个元素都是*结果*（outcome）。\n",
        "*事件*（event）是一组给定样本空间的随机结果。\n",
        "例如，“看到$5$”（$\\{5\\}$）和“看到奇数”（$\\{1, 3, 5\\}$）都是掷出骰子的有效事件。\n",
        "注意，如果一个随机实验的结果在$\\mathcal{A}$中，则事件$\\mathcal{A}$已经发生。\n",
        "也就是说，如果投掷出$3$点，因为$3 \\in \\{1, 3, 5\\}$，我们可以说，“看到奇数”的事件发生了。\n",
        "\n",
        "*概率*（probability）可以被认为是将集合映射到真实值的函数。\n",
        "在给定的样本空间$\\mathcal{S}$中，事件$\\mathcal{A}$的概率，\n",
        "表示为$P(\\mathcal{A})$，满足以下属性：\n",
        "\n",
        "* 对于任意事件$\\mathcal{A}$，其概率从不会是负数，即$P(\\mathcal{A}) \\geq 0$；\n",
        "* 整个样本空间的概率为$1$，即$P(\\mathcal{S}) = 1$；\n",
        "* 对于*互斥*（mutually exclusive）事件（对于所有$i \\neq j$都有$\\mathcal{A}_i \\cap \\mathcal{A}_j = \\emptyset$）的任意一个可数序列$\\mathcal{A}_1, \\mathcal{A}_2, \\ldots$，序列中任意一个事件发生的概率等于它们各自发生的概率之和，即$P(\\bigcup_{i=1}^{\\infty} \\mathcal{A}_i) = \\sum_{i=1}^{\\infty} P(\\mathcal{A}_i)$。\n",
        "\n",
        "以上也是概率论的公理，由科尔莫戈罗夫于1933年提出。\n",
        "有了这个公理系统，我们可以避免任何关于随机性的哲学争论；\n",
        "相反，我们可以用数学语言严格地推理。\n",
        "例如，假设事件$\\mathcal{A}_1$为整个样本空间，\n",
        "且当所有$i > 1$时的$\\mathcal{A}_i = \\emptyset$，\n",
        "那么我们可以证明$P(\\emptyset) = 0$，即不可能发生事件的概率是$0$。\n",
        "\n",
        "### 随机变量\n",
        "\n",
        "在我们掷骰子的随机实验中，我们引入了*随机变量*（random variable）的概念。\n",
        "随机变量几乎可以是任何数量，并且它可以在随机实验的一组可能性中取一个值。\n",
        "考虑一个随机变量$X$，其值在掷骰子的样本空间$\\mathcal{S}=\\{1,2,3,4,5,6\\}$中。\n",
        "我们可以将事件“看到一个$5$”表示为$\\{X=5\\}$或$X=5$，\n",
        "其概率表示为$P(\\{X=5\\})$或$P(X=5)$。\n",
        "通过$P(X=a)$，我们区分了随机变量$X$和$X$可以采取的值（例如$a$）。\n",
        "然而，这可能会导致繁琐的表示。\n",
        "为了简化符号，一方面，我们可以将$P(X)$表示为随机变量$X$上的*分布*（distribution）：\n",
        "分布告诉我们$X$获得某一值的概率。\n",
        "另一方面，我们可以简单用$P(a)$表示随机变量取值$a$的概率。\n",
        "由于概率论中的事件是来自样本空间的一组结果，因此我们可以为随机变量指定值的可取范围。\n",
        "例如，$P(1 \\leq X \\leq 3)$表示事件$\\{1 \\leq X \\leq 3\\}$，\n",
        "即$\\{X = 1, 2, \\text{or}, 3\\}$的概率。\n",
        "等价地，$P(1 \\leq X \\leq 3)$表示随机变量$X$从$\\{1, 2, 3\\}$中取值的概率。\n",
        "\n",
        "请注意，*离散*（discrete）随机变量（如骰子的每一面）\n",
        "和*连续*（continuous）随机变量（如人的体重和身高）之间存在微妙的区别。\n",
        "现实生活中，测量两个人是否具有完全相同的身高没有太大意义。\n",
        "如果我们进行足够精确的测量，最终会发现这个星球上没有两个人具有完全相同的身高。\n",
        "在这种情况下，询问某人的身高是否落入给定的区间，比如是否在1.79米和1.81米之间更有意义。\n",
        "在这些情况下，我们将这个看到某个数值的可能性量化为*密度*（density）。\n",
        "高度恰好为1.80米的概率为0，但密度不是0。\n",
        "在任何两个不同高度之间的区间，我们都有非零的概率。\n",
        "在本节的其余部分中，我们将考虑离散空间中的概率。\n",
        "连续随机变量的概率可以参考深度学习数学附录中[随机变量](https://d2l.ai/chapter_appendix-mathematics-for-deep-learning/random-variables.html)\n",
        "的一节。\n",
        "\n",
        "## 处理多个随机变量\n",
        "\n",
        "很多时候，我们会考虑多个随机变量。\n",
        "比如，我们可能需要对疾病和症状之间的关系进行建模。\n",
        "给定一个疾病和一个症状，比如“流感”和“咳嗽”，以某个概率存在或不存在于某个患者身上。\n",
        "我们需要估计这些概率以及概率之间的关系，以便我们可以运用我们的推断来实现更好的医疗服务。\n",
        "\n",
        "再举一个更复杂的例子：图像包含数百万像素，因此有数百万个随机变量。\n",
        "在许多情况下，图像会附带一个*标签*（label），标识图像中的对象。\n",
        "我们也可以将标签视为一个随机变量。\n",
        "我们甚至可以将所有元数据视为随机变量，例如位置、时间、光圈、焦距、ISO、对焦距离和相机类型。\n",
        "所有这些都是联合发生的随机变量。\n",
        "当我们处理多个随机变量时，会有若干个变量是我们感兴趣的。\n",
        "\n",
        "### 联合概率\n",
        "\n",
        "第一个被称为*联合概率*（joint probability）$P(A=a,B=b)$。\n",
        "给定任意值$a$和$b$，联合概率可以回答：$A=a$和$B=b$同时满足的概率是多少？\n",
        "请注意，对于任何$a$和$b$的取值，$P(A = a, B=b) \\leq P(A=a)$。\n",
        "这点是确定的，因为要同时发生$A=a$和$B=b$，$A=a$就必须发生，$B=b$也必须发生（反之亦然）。因此，$A=a$和$B=b$同时发生的可能性不大于$A=a$或是$B=b$单独发生的可能性。\n",
        "\n",
        "### 条件概率\n",
        "\n",
        "联合概率的不等式带给我们一个有趣的比率：\n",
        "$0 \\leq \\frac{P(A=a, B=b)}{P(A=a)} \\leq 1$。\n",
        "我们称这个比率为*条件概率*（conditional probability），\n",
        "并用$P(B=b \\mid A=a)$表示它：它是$B=b$的概率，前提是$A=a$已发生。\n",
        "\n",
        "### 贝叶斯定理\n",
        "\n",
        "使用条件概率的定义，我们可以得出统计学中最有用的方程之一：\n",
        "*Bayes定理*（Bayes' theorem）。\n",
        "根据*乘法法则*（multiplication rule ）可得到$P(A, B) = P(B \\mid A) P(A)$。\n",
        "根据对称性，可得到$P(A, B) = P(A \\mid B) P(B)$。\n",
        "假设$P(B)>0$，求解其中一个条件变量，我们得到\n",
        "\n",
        "$$P(A \\mid B) = \\frac{P(B \\mid A) P(A)}{P(B)}.$$\n",
        "\n",
        "请注意，这里我们使用紧凑的表示法：\n",
        "其中$P(A, B)$是一个*联合分布*（joint distribution），\n",
        "$P(A \\mid B)$是一个*条件分布*（conditional distribution）。\n",
        "这种分布可以在给定值$A = a, B=b$上进行求值。\n",
        "\n",
        "### 边际化\n",
        "\n",
        "为了能进行事件概率求和，我们需要*求和法则*（sum rule），\n",
        "即$B$的概率相当于计算$A$的所有可能选择，并将所有选择的联合概率聚合在一起：\n",
        "\n",
        "$$P(B) = \\sum_{A} P(A, B),$$\n",
        "\n",
        "这也称为*边际化*（marginalization）。\n",
        "边际化结果的概率或分布称为*边际概率*（marginal probability）\n",
        "或*边际分布*（marginal distribution）。\n",
        "\n",
        "### 独立性\n",
        "\n",
        "另一个有用属性是*依赖*（dependence）与*独立*（independence）。\n",
        "如果两个随机变量$A$和$B$是独立的，意味着事件$A$的发生跟$B$事件的发生无关。\n",
        "在这种情况下，统计学家通常将这一点表述为$A \\perp  B$。\n",
        "根据贝叶斯定理，马上就能同样得到$P(A \\mid B) = P(A)$。\n",
        "在所有其他情况下，我们称$A$和$B$依赖。\n",
        "比如，两次连续抛出一个骰子的事件是相互独立的。\n",
        "相比之下，灯开关的位置和房间的亮度并不是（因为可能存在灯泡坏掉、电源故障，或者开关故障）。\n",
        "\n",
        "由于$P(A \\mid B) = \\frac{P(A, B)}{P(B)} = P(A)$等价于$P(A, B) = P(A)P(B)$，\n",
        "因此两个随机变量是独立的，当且仅当两个随机变量的联合分布是其各自分布的乘积。\n",
        "同样地，给定另一个随机变量$C$时，两个随机变量$A$和$B$是*条件独立的*（conditionally independent），\n",
        "当且仅当$P(A, B \\mid C) = P(A \\mid C)P(B \\mid C)$。\n",
        "这个情况表示为$A \\perp B \\mid C$。\n",
        "\n",
        "### 应用\n",
        ":label:`subsec_probability_hiv_app`\n",
        "\n",
        "我们实战演练一下！\n",
        "假设一个医生对患者进行艾滋病病毒（HIV）测试。\n",
        "这个测试是相当准确的，如果患者健康但测试显示他患病，这个概率只有1%；\n",
        "如果患者真正感染HIV，它永远不会检测不出。\n",
        "我们使用$D_1$来表示诊断结果（如果阳性，则为$1$，如果阴性，则为$0$），\n",
        "$H$来表示感染艾滋病病毒的状态（如果阳性，则为$1$，如果阴性，则为$0$）。\n",
        "在 :numref:`conditional_prob_D1`中列出了这样的条件概率。\n",
        "\n",
        ":条件概率为$P(D_1 \\mid H)$\n",
        "\n",
        "| 条件概率 | $H=1$ | $H=0$ |\n",
        "|---|---|---|\n",
        "|$P(D_1 = 1 \\mid H)$|            1 |         0.01 |\n",
        "|$P(D_1 = 0 \\mid H)$|            0 |         0.99 |\n",
        ":label:`conditional_prob_D1`\n",
        "\n",
        "请注意，每列的加和都是1（但每行的加和不是），因为条件概率需要总和为1，就像概率一样。\n",
        "让我们计算如果测试出来呈阳性，患者感染HIV的概率，即$P(H = 1 \\mid D_1 = 1)$。\n",
        "显然，这将取决于疾病有多常见，因为它会影响错误警报的数量。\n",
        "假设人口总体是相当健康的，例如，$P(H=1) = 0.0015$。\n",
        "为了应用贝叶斯定理，我们需要运用边际化和乘法法则来确定\n",
        "\n",
        "$$\\begin{aligned}\n",
        "&P(D_1 = 1) \\\\\n",
        "=& P(D_1=1, H=0) + P(D_1=1, H=1)  \\\\\n",
        "=& P(D_1=1 \\mid H=0) P(H=0) + P(D_1=1 \\mid H=1) P(H=1) \\\\\n",
        "=& 0.011485.\n",
        "\\end{aligned}\n",
        "$$\n",
        "因此，我们得到\n",
        "\n",
        "$$\\begin{aligned}\n",
        "&P(H = 1 \\mid D_1 = 1)\\\\ =& \\frac{P(D_1=1 \\mid H=1) P(H=1)}{P(D_1=1)} \\\\ =& 0.1306 \\end{aligned}.$$\n",
        "\n",
        "换句话说，尽管使用了非常准确的测试，患者实际上患有艾滋病的几率只有13.06%。\n",
        "正如我们所看到的，概率可能是违反直觉的。\n",
        "\n",
        "患者在收到这样可怕的消息后应该怎么办？\n",
        "很可能，患者会要求医生进行另一次测试来确定病情。\n",
        "第二个测试具有不同的特性，它不如第一个测试那么精确，\n",
        "如 :numref:`conditional_prob_D2`所示。\n",
        "\n",
        ":条件概率为$P(D_2 \\mid H)$\n",
        "\n",
        "| 条件概率 | $H=1$ | $H=0$ |\n",
        "|---|---|---|\n",
        "|$P(D_2 = 1 \\mid H)$|            0.98 |         0.03 |\n",
        "|$P(D_2 = 0 \\mid H)$|            0.02 |         0.97 |\n",
        ":label:`conditional_prob_D2`\n",
        "\n",
        "不幸的是，第二次测试也显示阳性。让我们通过假设条件独立性来计算出应用Bayes定理的必要概率：\n",
        "\n",
        "$$\\begin{aligned}\n",
        "&P(D_1 = 1, D_2 = 1 \\mid H = 0) \\\\\n",
        "=& P(D_1 = 1 \\mid H = 0) P(D_2 = 1 \\mid H = 0)  \\\\\n",
        "=& 0.0003,\n",
        "\\end{aligned}\n",
        "$$\n",
        "\n",
        "$$\\begin{aligned}\n",
        "&P(D_1 = 1, D_2 = 1 \\mid H = 1) \\\\\n",
        "=& P(D_1 = 1 \\mid H = 1) P(D_2 = 1 \\mid H = 1)  \\\\\n",
        "=& 0.98.\n",
        "\\end{aligned}\n",
        "$$\n",
        "现在我们可以应用边际化和乘法规则：\n",
        "\n",
        "$$\\begin{aligned}\n",
        "&P(D_1 = 1, D_2 = 1) \\\\\n",
        "=& P(D_1 = 1, D_2 = 1, H = 0) + P(D_1 = 1, D_2 = 1, H = 1)  \\\\\n",
        "=& P(D_1 = 1, D_2 = 1 \\mid H = 0)P(H=0) + P(D_1 = 1, D_2 = 1 \\mid H = 1)P(H=1)\\\\\n",
        "=& 0.00176955.\n",
        "\\end{aligned}\n",
        "$$\n",
        "\n",
        "最后，鉴于存在两次阳性检测，患者患有艾滋病的概率为\n",
        "\n",
        "$$\\begin{aligned}\n",
        "&P(H = 1 \\mid D_1 = 1, D_2 = 1)\\\\\n",
        "=& \\frac{P(D_1 = 1, D_2 = 1 \\mid H=1) P(H=1)}{P(D_1 = 1, D_2 = 1)} \\\\\n",
        "=& 0.8307.\n",
        "\\end{aligned}\n",
        "$$\n",
        "\n",
        "也就是说，第二次测试使我们能够对患病的情况获得更高的信心。\n",
        "尽管第二次检验比第一次检验的准确性要低得多，但它仍然显著提高我们的预测概率。\n",
        "\n",
        "## 期望和方差\n",
        "\n",
        "为了概括概率分布的关键特征，我们需要一些测量方法。\n",
        "一个随机变量$X$的*期望*（expectation，或平均值（average））表示为\n",
        "\n",
        "$$E[X] = \\sum_{x} x P(X = x).$$\n",
        "\n",
        "当函数$f(x)$的输入是从分布$P$中抽取的随机变量时，$f(x)$的期望值为\n",
        "\n",
        "$$E_{x \\sim P}[f(x)] = \\sum_x f(x) P(x).$$\n",
        "\n",
        "在许多情况下，我们希望衡量随机变量$X$与其期望值的偏置。这可以通过方差来量化\n",
        "\n",
        "$$\\mathrm{Var}[X] = E\\left[(X - E[X])^2\\right] =\n",
        "E[X^2] - E[X]^2.$$\n",
        "\n",
        "方差的平方根被称为*标准差*（standard deviation）。\n",
        "随机变量函数的方差衡量的是：当从该随机变量分布中采样不同值$x$时，\n",
        "函数值偏离该函数的期望的程度：\n",
        "\n",
        "$$\\mathrm{Var}[f(x)] = E\\left[\\left(f(x) - E[f(x)]\\right)^2\\right].$$\n",
        "\n",
        "## 小结\n",
        "\n",
        "* 我们可以从概率分布中采样。\n",
        "* 我们可以使用联合分布、条件分布、Bayes定理、边缘化和独立性假设来分析多个随机变量。\n",
        "* 期望和方差为概率分布的关键特征的概括提供了实用的度量形式。\n",
        "\n",
        "## 练习\n",
        "\n",
        "1. 进行$m=500$组实验，每组抽取$n=10$个样本。改变$m$和$n$，观察和分析实验结果。\n",
        "2. 给定两个概率为$P(\\mathcal{A})$和$P(\\mathcal{B})$的事件，计算$P(\\mathcal{A} \\cup \\mathcal{B})$和$P(\\mathcal{A} \\cap \\mathcal{B})$的上限和下限。（提示：使用[友元图](https://en.wikipedia.org/wiki/Venn_diagram)来展示这些情况。)\n",
        "3. 假设我们有一系列随机变量，例如$A$、$B$和$C$，其中$B$只依赖于$A$，而$C$只依赖于$B$，能简化联合概率$P(A, B, C)$吗？（提示：这是一个[马尔可夫链](https://en.wikipedia.org/wiki/Markov_chain)。)\n",
        "4. 在 :numref:`subsec_probability_hiv_app`中，第一个测试更准确。为什么不运行第一个测试两次，而是同时运行第一个和第二个测试?\n"
      ]
    },
    {
      "cell_type": "markdown",
      "id": "2594045e",
      "metadata": {
        "origin_pos": 27,
        "tab": [
          "pytorch"
        ],
        "id": "2594045e"
      },
      "source": [
        "[Discussions](https://discuss.d2l.ai/t/1762)\n"
      ]
    }
  ],
  "metadata": {
    "kernelspec": {
      "display_name": "Python 3",
      "name": "python3"
    },
    "language_info": {
      "name": "python"
    },
    "required_libs": [],
    "colab": {
      "provenance": [],
      "include_colab_link": true
    }
  },
  "nbformat": 4,
  "nbformat_minor": 5
}