{
  "cells": [
    {
      "cell_type": "markdown",
      "metadata": {
        "id": "view-in-github",
        "colab_type": "text"
      },
      "source": [
        "<a href=\"https://colab.research.google.com/github/zx20030501/Dive-into-Deep-Learning/blob/main/3.2.%20%E7%BA%BF%E6%80%A7%E5%9B%9E%E5%BD%92%E7%9A%84%E4%BB%8E%E9%9B%B6%E5%BC%80%E5%A7%8B%E5%AE%9E%E7%8E%B0linear_regression_scratch.ipynb\" target=\"_parent\"><img src=\"https://colab.research.google.com/assets/colab-badge.svg\" alt=\"Open In Colab\"/></a>"
      ]
    },
    {
      "cell_type": "markdown",
      "id": "8b2fbfca",
      "metadata": {
        "id": "8b2fbfca"
      },
      "source": [
        "The following additional libraries are needed to run this\n",
        "notebook. Note that running on Colab is experimental, please report a Github\n",
        "issue if you have any problem."
      ]
    },
    {
      "cell_type": "code",
      "execution_count": 1,
      "id": "4d4b16ae",
      "metadata": {
        "id": "4d4b16ae"
      },
      "outputs": [],
      "source": [
        "# !pip install git+https://github.com/d2l-ai/d2l-zh@release  # installing d2l\n",
        "#!pip install d2l==1.0.3  # 这是在线教材英文版的安装dl2的方法。 不会报错"
      ]
    },
    {
      "cell_type": "markdown",
      "id": "3b3e0a72",
      "metadata": {
        "origin_pos": 0,
        "id": "3b3e0a72"
      },
      "source": [
        "# 线性回归的从零开始实现\n",
        ":label:`sec_linear_scratch`\n",
        "\n",
        "在了解线性回归的关键思想之后，我们可以开始通过代码来动手实现线性回归了。\n",
        "在这一节中，(**我们将从零开始实现整个方法，\n",
        "包括数据流水线、模型、损失函数和小批量随机梯度下降优化器**)。\n",
        "虽然现代的深度学习框架几乎可以自动化地进行所有这些工作，但从零开始实现可以确保我们真正知道自己在做什么。\n",
        "同时，了解更细致的工作原理将方便我们自定义模型、自定义层或自定义损失函数。\n",
        "在这一节中，我们将只使用张量和自动求导。\n",
        "在之后的章节中，我们会充分利用深度学习框架的优势，介绍更简洁的实现方式。\n"
      ]
    },
    {
      "cell_type": "code",
      "execution_count": 2,
      "id": "c6f4cd71",
      "metadata": {
        "execution": {
          "iopub.execute_input": "2023-08-18T07:02:01.462670Z",
          "iopub.status.busy": "2023-08-18T07:02:01.461918Z",
          "iopub.status.idle": "2023-08-18T07:02:04.547486Z",
          "shell.execute_reply": "2023-08-18T07:02:04.546281Z"
        },
        "origin_pos": 2,
        "tab": [
          "pytorch"
        ],
        "id": "c6f4cd71"
      },
      "outputs": [],
      "source": [
        "%matplotlib inline\n",
        "import random\n",
        "import torch\n",
        "from d2l import torch as d2l"
      ]
    },
    {
      "cell_type": "markdown",
      "id": "18283191",
      "metadata": {
        "origin_pos": 5,
        "id": "18283191"
      },
      "source": [
        "## 生成数据集\n",
        "\n",
        "为了简单起见，我们将[**根据带有噪声的线性模型构造一个人造数据集。**]\n",
        "我们的任务是使用这个有限样本的数据集来恢复这个模型的参数。\n",
        "我们将使用低维数据，这样可以很容易地将其可视化。\n",
        "在下面的代码中，我们生成一个包含1000个样本的数据集，\n",
        "每个样本包含从标准正态分布中采样的2个特征。\n",
        "我们的合成数据集是一个矩阵$\\mathbf{X}\\in \\mathbb{R}^{1000 \\times 2}$。\n",
        "\n",
        "(**我们使用线性模型参数$\\mathbf{w} = [2, -3.4]^\\top$、$b = 4.2$\n",
        "和噪声项$\\epsilon$生成数据集及其标签：\n",
        "\n",
        "$$\\mathbf{y}= \\mathbf{X} \\mathbf{w} + b + \\mathbf\\epsilon.$$\n",
        "**)\n",
        "\n",
        "$\\epsilon$可以视为模型预测和标签时的潜在观测误差。\n",
        "在这里我们认为标准假设成立，即$\\epsilon$服从均值为0的正态分布。\n",
        "为了简化问题，我们将标准差设为0.01。\n",
        "下面的代码生成合成数据集。\n"
      ]
    },
    {
      "cell_type": "code",
      "execution_count": 3,
      "id": "54efeafe",
      "metadata": {
        "execution": {
          "iopub.execute_input": "2023-08-18T07:02:04.553500Z",
          "iopub.status.busy": "2023-08-18T07:02:04.552544Z",
          "iopub.status.idle": "2023-08-18T07:02:04.560226Z",
          "shell.execute_reply": "2023-08-18T07:02:04.559125Z"
        },
        "origin_pos": 6,
        "tab": [
          "pytorch"
        ],
        "id": "54efeafe"
      },
      "outputs": [],
      "source": [
        "def synthetic_data(w, b, num_examples):  #@save\n",
        "    \"\"\"生成y=Xw+b+噪声\"\"\"\n",
        "    X = torch.normal(0, 1, (num_examples, len(w)))\n",
        "    y = torch.matmul(X, w) + b\n",
        "    y += torch.normal(0, 0.01, y.shape)\n",
        "    return X, y.reshape((-1, 1))\n",
        "\n",
        "# 这是给目标变量y添加高斯噪声（正态分布噪声），模拟现实数据中的误差或扰动。\n",
        "# 等价写法   y += torch.normal(0, 0.01, y.shape)\n",
        "# noise = torch.normal(0, 0.01, y.shape)\n",
        "# y = y + noise"
      ]
    },
    {
      "cell_type": "code",
      "execution_count": 4,
      "id": "1e60261c",
      "metadata": {
        "execution": {
          "iopub.execute_input": "2023-08-18T07:02:04.564932Z",
          "iopub.status.busy": "2023-08-18T07:02:04.564190Z",
          "iopub.status.idle": "2023-08-18T07:02:04.575309Z",
          "shell.execute_reply": "2023-08-18T07:02:04.574216Z"
        },
        "origin_pos": 8,
        "tab": [
          "pytorch"
        ],
        "id": "1e60261c"
      },
      "outputs": [],
      "source": [
        "true_w = torch.tensor([2, -3.4])\n",
        "true_b = 4.2\n",
        "features, labels = synthetic_data(true_w, true_b, 1000)"
      ]
    },
    {
      "cell_type": "markdown",
      "id": "772256cb",
      "metadata": {
        "origin_pos": 9,
        "id": "772256cb"
      },
      "source": [
        "注意，[**`features`中的每一行都包含一个二维数据样本，\n",
        "`labels`中的每一行都包含一维标签值（一个标量）**]。\n"
      ]
    },
    {
      "cell_type": "code",
      "execution_count": 5,
      "id": "ec13e4f8",
      "metadata": {
        "execution": {
          "iopub.execute_input": "2023-08-18T07:02:04.580067Z",
          "iopub.status.busy": "2023-08-18T07:02:04.579449Z",
          "iopub.status.idle": "2023-08-18T07:02:04.587391Z",
          "shell.execute_reply": "2023-08-18T07:02:04.586306Z"
        },
        "origin_pos": 10,
        "tab": [
          "pytorch"
        ],
        "id": "ec13e4f8",
        "outputId": "4ef0a05a-54da-4641-95d0-7059cee2f3c7",
        "colab": {
          "base_uri": "https://localhost:8080/"
        }
      },
      "outputs": [
        {
          "output_type": "stream",
          "name": "stdout",
          "text": [
            "features: tensor([-1.2843, -1.2858]) \n",
            "label: tensor([5.9928])\n"
          ]
        }
      ],
      "source": [
        "print('features:', features[0],'\\nlabel:', labels[0])"
      ]
    },
    {
      "cell_type": "markdown",
      "id": "6b8c624b",
      "metadata": {
        "origin_pos": 11,
        "id": "6b8c624b"
      },
      "source": [
        "通过生成第二个特征`features[:, 1]`和`labels`的散点图，\n",
        "可以直观观察到两者之间的线性关系。\n"
      ]
    },
    {
      "cell_type": "code",
      "execution_count": 6,
      "id": "53ef493c",
      "metadata": {
        "execution": {
          "iopub.execute_input": "2023-08-18T07:02:04.592131Z",
          "iopub.status.busy": "2023-08-18T07:02:04.591402Z",
          "iopub.status.idle": "2023-08-18T07:02:04.829190Z",
          "shell.execute_reply": "2023-08-18T07:02:04.827927Z"
        },
        "origin_pos": 12,
        "tab": [
          "pytorch"
        ],
        "id": "53ef493c",
        "outputId": "d86c7724-6fb3-4306-8a6e-557398a61bcd",
        "colab": {
          "base_uri": "https://localhost:8080/",
          "height": 247
        }
      },
      "outputs": [
        {
          "output_type": "display_data",
          "data": {
            "text/plain": [
              "<Figure size 350x250 with 1 Axes>"
            ],
            "image/svg+xml": "<?xml version=\"1.0\" encoding=\"utf-8\" standalone=\"no\"?>\n<!DOCTYPE svg PUBLIC \"-//W3C//DTD SVG 1.1//EN\"\n  \"http://www.w3.org/Graphics/SVG/1.1/DTD/svg11.dtd\">\n<svg xmlns:xlink=\"http://www.w3.org/1999/xlink\" width=\"231.442187pt\" height=\"169.678125pt\" viewBox=\"0 0 231.442187 169.678125\" xmlns=\"http://www.w3.org/2000/svg\" version=\"1.1\">\n <metadata>\n  <rdf:RDF xmlns:dc=\"http://purl.org/dc/elements/1.1/\" xmlns:cc=\"http://creativecommons.org/ns#\" xmlns:rdf=\"http://www.w3.org/1999/02/22-rdf-syntax-ns#\">\n   <cc:Work>\n    <dc:type rdf:resource=\"http://purl.org/dc/dcmitype/StillImage\"/>\n    <dc:date>2025-06-17T02:36:23.698519</dc:date>\n    <dc:format>image/svg+xml</dc:format>\n    <dc:creator>\n     <cc:Agent>\n      <dc:title>Matplotlib v3.7.2, https://matplotlib.org/</dc:title>\n     </cc:Agent>\n    </dc:creator>\n   </cc:Work>\n  </rdf:RDF>\n </metadata>\n <defs>\n  <style type=\"text/css\">*{stroke-linejoin: round; stroke-linecap: butt}</style>\n </defs>\n <g id=\"figure_1\">\n  <g id=\"patch_1\">\n   <path d=\"M 0 169.678125 \nL 231.442187 169.678125 \nL 231.442187 0 \nL 0 0 \nz\n\" style=\"fill: #ffffff\"/>\n  </g>\n  <g id=\"axes_1\">\n   <g id=\"patch_2\">\n    <path d=\"M 28.942188 145.8 \nL 224.242188 145.8 \nL 224.242188 7.2 \nL 28.942188 7.2 \nz\n\" style=\"fill: #ffffff\"/>\n   </g>\n   <g id=\"PathCollection_1\">\n    <defs>\n     <path id=\"ma669af983a\" d=\"M 0 0.5 \nC 0.132602 0.5 0.25979 0.447317 0.353553 0.353553 \nC 0.447317 0.25979 0.5 0.132602 0.5 0 \nC 0.5 -0.132602 0.447317 -0.25979 0.353553 -0.353553 \nC 0.25979 -0.447317 0.132602 -0.5 0 -0.5 \nC -0.132602 -0.5 -0.25979 -0.447317 -0.353553 -0.353553 \nC -0.447317 -0.25979 -0.5 -0.132602 -0.5 0 \nC -0.5 0.132602 -0.447317 0.25979 -0.353553 0.353553 \nC -0.25979 0.447317 -0.132602 0.5 0 0.5 \nz\n\" style=\"stroke: #1f77b4\"/>\n    </defs>\n    <g clip-path=\"url(#pf6a73d655d)\">\n     <use xlink:href=\"#ma669af983a\" x=\"90.458658\" y=\"68.803389\" style=\"fill: #1f77b4; stroke: #1f77b4\"/>\n     <use xlink:href=\"#ma669af983a\" x=\"127.065166\" y=\"75.538432\" style=\"fill: #1f77b4; stroke: #1f77b4\"/>\n     <use xlink:href=\"#ma669af983a\" x=\"153.016412\" y=\"76.049191\" style=\"fill: #1f77b4; stroke: #1f77b4\"/>\n     <use xlink:href=\"#ma669af983a\" x=\"94.277543\" y=\"65.334863\" style=\"fill: #1f77b4; stroke: #1f77b4\"/>\n     <use xlink:href=\"#ma669af983a\" x=\"93.122198\" y=\"49.872477\" style=\"fill: #1f77b4; stroke: #1f77b4\"/>\n     <use xlink:href=\"#ma669af983a\" x=\"102.685195\" y=\"44.166314\" style=\"fill: #1f77b4; stroke: #1f77b4\"/>\n     <use xlink:href=\"#ma669af983a\" x=\"171.163765\" y=\"88.823192\" style=\"fill: #1f77b4; stroke: #1f77b4\"/>\n     <use xlink:href=\"#ma669af983a\" x=\"108.397099\" y=\"62.167089\" style=\"fill: #1f77b4; stroke: #1f77b4\"/>\n     <use xlink:href=\"#ma669af983a\" x=\"103.328375\" y=\"77.009888\" style=\"fill: #1f77b4; stroke: #1f77b4\"/>\n     <use xlink:href=\"#ma669af983a\" x=\"126.467771\" y=\"66.346164\" style=\"fill: #1f77b4; stroke: #1f77b4\"/>\n     <use xlink:href=\"#ma669af983a\" x=\"134.260212\" y=\"81.990776\" style=\"fill: #1f77b4; stroke: #1f77b4\"/>\n     <use xlink:href=\"#ma669af983a\" x=\"140.638356\" y=\"83.743226\" style=\"fill: #1f77b4; stroke: #1f77b4\"/>\n     <use xlink:href=\"#ma669af983a\" x=\"118.274972\" y=\"64.709216\" style=\"fill: #1f77b4; stroke: #1f77b4\"/>\n     <use xlink:href=\"#ma669af983a\" x=\"196.471266\" y=\"129.971239\" style=\"fill: #1f77b4; stroke: #1f77b4\"/>\n     <use xlink:href=\"#ma669af983a\" x=\"131.444081\" y=\"73.855191\" style=\"fill: #1f77b4; stroke: #1f77b4\"/>\n     <use xlink:href=\"#ma669af983a\" x=\"136.291234\" y=\"89.607188\" style=\"fill: #1f77b4; stroke: #1f77b4\"/>\n     <use xlink:href=\"#ma669af983a\" x=\"102.721658\" y=\"63.388352\" style=\"fill: #1f77b4; stroke: #1f77b4\"/>\n     <use xlink:href=\"#ma669af983a\" x=\"92.626856\" y=\"55.292224\" style=\"fill: #1f77b4; stroke: #1f77b4\"/>\n     <use xlink:href=\"#ma669af983a\" x=\"191.021484\" y=\"103.442785\" style=\"fill: #1f77b4; stroke: #1f77b4\"/>\n     <use xlink:href=\"#ma669af983a\" x=\"168.537459\" y=\"104.51027\" style=\"fill: #1f77b4; stroke: #1f77b4\"/>\n     <use xlink:href=\"#ma669af983a\" x=\"142.444941\" y=\"98.519281\" style=\"fill: #1f77b4; stroke: #1f77b4\"/>\n     <use xlink:href=\"#ma669af983a\" x=\"94.476129\" y=\"68.574224\" style=\"fill: #1f77b4; stroke: #1f77b4\"/>\n     <use xlink:href=\"#ma669af983a\" x=\"103.021457\" y=\"46.700023\" style=\"fill: #1f77b4; stroke: #1f77b4\"/>\n     <use xlink:href=\"#ma669af983a\" x=\"138.54764\" y=\"87.233596\" style=\"fill: #1f77b4; stroke: #1f77b4\"/>\n     <use xlink:href=\"#ma669af983a\" x=\"142.090048\" y=\"87.613576\" style=\"fill: #1f77b4; stroke: #1f77b4\"/>\n     <use xlink:href=\"#ma669af983a\" x=\"142.320905\" y=\"80.131958\" style=\"fill: #1f77b4; stroke: #1f77b4\"/>\n     <use xlink:href=\"#ma669af983a\" x=\"72.470044\" y=\"47.864699\" style=\"fill: #1f77b4; stroke: #1f77b4\"/>\n     <use xlink:href=\"#ma669af983a\" x=\"137.305065\" y=\"70.823467\" style=\"fill: #1f77b4; stroke: #1f77b4\"/>\n     <use xlink:href=\"#ma669af983a\" x=\"133.215471\" y=\"85.917095\" style=\"fill: #1f77b4; stroke: #1f77b4\"/>\n     <use xlink:href=\"#ma669af983a\" x=\"175.071332\" y=\"108.005104\" style=\"fill: #1f77b4; stroke: #1f77b4\"/>\n     <use xlink:href=\"#ma669af983a\" x=\"154.406436\" y=\"93.80029\" style=\"fill: #1f77b4; stroke: #1f77b4\"/>\n     <use xlink:href=\"#ma669af983a\" x=\"110.986522\" y=\"65.15407\" style=\"fill: #1f77b4; stroke: #1f77b4\"/>\n     <use xlink:href=\"#ma669af983a\" x=\"150.042794\" y=\"94.787158\" style=\"fill: #1f77b4; stroke: #1f77b4\"/>\n     <use xlink:href=\"#ma669af983a\" x=\"144.979947\" y=\"88.307042\" style=\"fill: #1f77b4; stroke: #1f77b4\"/>\n     <use xlink:href=\"#ma669af983a\" x=\"161.506377\" y=\"102.113177\" style=\"fill: #1f77b4; stroke: #1f77b4\"/>\n     <use xlink:href=\"#ma669af983a\" x=\"150.662384\" y=\"94.709002\" style=\"fill: #1f77b4; stroke: #1f77b4\"/>\n     <use xlink:href=\"#ma669af983a\" x=\"168.126001\" y=\"112.06823\" style=\"fill: #1f77b4; stroke: #1f77b4\"/>\n     <use xlink:href=\"#ma669af983a\" x=\"125.415296\" y=\"67.436195\" style=\"fill: #1f77b4; stroke: #1f77b4\"/>\n     <use xlink:href=\"#ma669af983a\" x=\"197.49454\" y=\"105.406609\" style=\"fill: #1f77b4; stroke: #1f77b4\"/>\n     <use xlink:href=\"#ma669af983a\" x=\"137.332734\" y=\"67.784433\" style=\"fill: #1f77b4; stroke: #1f77b4\"/>\n     <use xlink:href=\"#ma669af983a\" x=\"169.464861\" y=\"92.241064\" style=\"fill: #1f77b4; stroke: #1f77b4\"/>\n     <use xlink:href=\"#ma669af983a\" x=\"121.684704\" y=\"61.748569\" style=\"fill: #1f77b4; stroke: #1f77b4\"/>\n     <use xlink:href=\"#ma669af983a\" x=\"123.001575\" y=\"77.801834\" style=\"fill: #1f77b4; stroke: #1f77b4\"/>\n     <use xlink:href=\"#ma669af983a\" x=\"102.323673\" y=\"65.374308\" style=\"fill: #1f77b4; stroke: #1f77b4\"/>\n     <use xlink:href=\"#ma669af983a\" x=\"131.43863\" y=\"73.026395\" style=\"fill: #1f77b4; stroke: #1f77b4\"/>\n     <use xlink:href=\"#ma669af983a\" x=\"129.23623\" y=\"66.448069\" style=\"fill: #1f77b4; stroke: #1f77b4\"/>\n     <use xlink:href=\"#ma669af983a\" x=\"92.731156\" y=\"49.829448\" style=\"fill: #1f77b4; stroke: #1f77b4\"/>\n     <use xlink:href=\"#ma669af983a\" x=\"108.085819\" y=\"52.91265\" style=\"fill: #1f77b4; stroke: #1f77b4\"/>\n     <use xlink:href=\"#ma669af983a\" x=\"93.297677\" y=\"45.352872\" style=\"fill: #1f77b4; stroke: #1f77b4\"/>\n     <use xlink:href=\"#ma669af983a\" x=\"102.816062\" y=\"61.919291\" style=\"fill: #1f77b4; stroke: #1f77b4\"/>\n     <use xlink:href=\"#ma669af983a\" x=\"135.097459\" y=\"82.540219\" style=\"fill: #1f77b4; stroke: #1f77b4\"/>\n     <use xlink:href=\"#ma669af983a\" x=\"62.562422\" y=\"46.580823\" style=\"fill: #1f77b4; stroke: #1f77b4\"/>\n     <use xlink:href=\"#ma669af983a\" x=\"151.444739\" y=\"85.239403\" style=\"fill: #1f77b4; stroke: #1f77b4\"/>\n     <use xlink:href=\"#ma669af983a\" x=\"135.094668\" y=\"78.170354\" style=\"fill: #1f77b4; stroke: #1f77b4\"/>\n     <use xlink:href=\"#ma669af983a\" x=\"92.310553\" y=\"79.419836\" style=\"fill: #1f77b4; stroke: #1f77b4\"/>\n     <use xlink:href=\"#ma669af983a\" x=\"123.1471\" y=\"68.774502\" style=\"fill: #1f77b4; stroke: #1f77b4\"/>\n     <use xlink:href=\"#ma669af983a\" x=\"177.913744\" y=\"112.663026\" style=\"fill: #1f77b4; stroke: #1f77b4\"/>\n     <use xlink:href=\"#ma669af983a\" x=\"131.688819\" y=\"72.338332\" style=\"fill: #1f77b4; stroke: #1f77b4\"/>\n     <use xlink:href=\"#ma669af983a\" x=\"114.012778\" y=\"62.830544\" style=\"fill: #1f77b4; stroke: #1f77b4\"/>\n     <use xlink:href=\"#ma669af983a\" x=\"145.837593\" y=\"81.250165\" style=\"fill: #1f77b4; stroke: #1f77b4\"/>\n     <use xlink:href=\"#ma669af983a\" x=\"121.774062\" y=\"73.302178\" style=\"fill: #1f77b4; stroke: #1f77b4\"/>\n     <use xlink:href=\"#ma669af983a\" x=\"136.475671\" y=\"78.476355\" style=\"fill: #1f77b4; stroke: #1f77b4\"/>\n     <use xlink:href=\"#ma669af983a\" x=\"147.756761\" y=\"83.95038\" style=\"fill: #1f77b4; stroke: #1f77b4\"/>\n     <use xlink:href=\"#ma669af983a\" x=\"128.719248\" y=\"99.506594\" style=\"fill: #1f77b4; stroke: #1f77b4\"/>\n     <use xlink:href=\"#ma669af983a\" x=\"108.622002\" y=\"53.408265\" style=\"fill: #1f77b4; stroke: #1f77b4\"/>\n     <use xlink:href=\"#ma669af983a\" x=\"123.337861\" y=\"89.153689\" style=\"fill: #1f77b4; stroke: #1f77b4\"/>\n     <use xlink:href=\"#ma669af983a\" x=\"159.529013\" y=\"80.824889\" style=\"fill: #1f77b4; stroke: #1f77b4\"/>\n     <use xlink:href=\"#ma669af983a\" x=\"72.380578\" y=\"55.550309\" style=\"fill: #1f77b4; stroke: #1f77b4\"/>\n     <use xlink:href=\"#ma669af983a\" x=\"152.557829\" y=\"86.848244\" style=\"fill: #1f77b4; stroke: #1f77b4\"/>\n     <use xlink:href=\"#ma669af983a\" x=\"73.495785\" y=\"44.22901\" style=\"fill: #1f77b4; stroke: #1f77b4\"/>\n     <use xlink:href=\"#ma669af983a\" x=\"125.551626\" y=\"77.118742\" style=\"fill: #1f77b4; stroke: #1f77b4\"/>\n     <use xlink:href=\"#ma669af983a\" x=\"117.933248\" y=\"62.199074\" style=\"fill: #1f77b4; stroke: #1f77b4\"/>\n     <use xlink:href=\"#ma669af983a\" x=\"151.931456\" y=\"78.978101\" style=\"fill: #1f77b4; stroke: #1f77b4\"/>\n     <use xlink:href=\"#ma669af983a\" x=\"84.004299\" y=\"54.74897\" style=\"fill: #1f77b4; stroke: #1f77b4\"/>\n     <use xlink:href=\"#ma669af983a\" x=\"98.995142\" y=\"63.114942\" style=\"fill: #1f77b4; stroke: #1f77b4\"/>\n     <use xlink:href=\"#ma669af983a\" x=\"134.784581\" y=\"75.370149\" style=\"fill: #1f77b4; stroke: #1f77b4\"/>\n     <use xlink:href=\"#ma669af983a\" x=\"117.688\" y=\"63.705957\" style=\"fill: #1f77b4; stroke: #1f77b4\"/>\n     <use xlink:href=\"#ma669af983a\" x=\"141.20615\" y=\"77.21178\" style=\"fill: #1f77b4; stroke: #1f77b4\"/>\n     <use xlink:href=\"#ma669af983a\" x=\"112.780647\" y=\"50.092511\" style=\"fill: #1f77b4; stroke: #1f77b4\"/>\n     <use xlink:href=\"#ma669af983a\" x=\"139.268097\" y=\"89.440026\" style=\"fill: #1f77b4; stroke: #1f77b4\"/>\n     <use xlink:href=\"#ma669af983a\" x=\"149.793605\" y=\"93.158108\" style=\"fill: #1f77b4; stroke: #1f77b4\"/>\n     <use xlink:href=\"#ma669af983a\" x=\"153.130911\" y=\"120.238359\" style=\"fill: #1f77b4; stroke: #1f77b4\"/>\n     <use xlink:href=\"#ma669af983a\" x=\"133.533449\" y=\"85.39367\" style=\"fill: #1f77b4; stroke: #1f77b4\"/>\n     <use xlink:href=\"#ma669af983a\" x=\"116.587146\" y=\"74.808186\" style=\"fill: #1f77b4; stroke: #1f77b4\"/>\n     <use xlink:href=\"#ma669af983a\" x=\"122.515212\" y=\"79.006389\" style=\"fill: #1f77b4; stroke: #1f77b4\"/>\n     <use xlink:href=\"#ma669af983a\" x=\"118.072276\" y=\"81.066056\" style=\"fill: #1f77b4; stroke: #1f77b4\"/>\n     <use xlink:href=\"#ma669af983a\" x=\"146.097936\" y=\"80.301604\" style=\"fill: #1f77b4; stroke: #1f77b4\"/>\n     <use xlink:href=\"#ma669af983a\" x=\"162.576929\" y=\"106.724328\" style=\"fill: #1f77b4; stroke: #1f77b4\"/>\n     <use xlink:href=\"#ma669af983a\" x=\"142.320859\" y=\"76.254138\" style=\"fill: #1f77b4; stroke: #1f77b4\"/>\n     <use xlink:href=\"#ma669af983a\" x=\"135.648101\" y=\"98.773489\" style=\"fill: #1f77b4; stroke: #1f77b4\"/>\n     <use xlink:href=\"#ma669af983a\" x=\"96.771357\" y=\"62.230012\" style=\"fill: #1f77b4; stroke: #1f77b4\"/>\n     <use xlink:href=\"#ma669af983a\" x=\"122.999998\" y=\"76.099251\" style=\"fill: #1f77b4; stroke: #1f77b4\"/>\n     <use xlink:href=\"#ma669af983a\" x=\"106.398566\" y=\"68.067657\" style=\"fill: #1f77b4; stroke: #1f77b4\"/>\n     <use xlink:href=\"#ma669af983a\" x=\"132.768278\" y=\"63.12102\" style=\"fill: #1f77b4; stroke: #1f77b4\"/>\n     <use xlink:href=\"#ma669af983a\" x=\"132.401344\" y=\"62.134041\" style=\"fill: #1f77b4; stroke: #1f77b4\"/>\n     <use xlink:href=\"#ma669af983a\" x=\"173.321817\" y=\"104.492862\" style=\"fill: #1f77b4; stroke: #1f77b4\"/>\n     <use xlink:href=\"#ma669af983a\" x=\"160.361597\" y=\"94.649704\" style=\"fill: #1f77b4; stroke: #1f77b4\"/>\n     <use xlink:href=\"#ma669af983a\" x=\"175.983082\" y=\"95.91264\" style=\"fill: #1f77b4; stroke: #1f77b4\"/>\n     <use xlink:href=\"#ma669af983a\" x=\"134.535503\" y=\"92.325855\" style=\"fill: #1f77b4; stroke: #1f77b4\"/>\n     <use xlink:href=\"#ma669af983a\" x=\"97.871985\" y=\"50.332522\" style=\"fill: #1f77b4; stroke: #1f77b4\"/>\n     <use xlink:href=\"#ma669af983a\" x=\"188.768737\" y=\"105.666522\" style=\"fill: #1f77b4; stroke: #1f77b4\"/>\n     <use xlink:href=\"#ma669af983a\" x=\"179.23043\" y=\"118.813627\" style=\"fill: #1f77b4; stroke: #1f77b4\"/>\n     <use xlink:href=\"#ma669af983a\" x=\"69.742345\" y=\"43.163535\" style=\"fill: #1f77b4; stroke: #1f77b4\"/>\n     <use xlink:href=\"#ma669af983a\" x=\"138.154429\" y=\"87.275918\" style=\"fill: #1f77b4; stroke: #1f77b4\"/>\n     <use xlink:href=\"#ma669af983a\" x=\"118.510054\" y=\"83.894932\" style=\"fill: #1f77b4; stroke: #1f77b4\"/>\n     <use xlink:href=\"#ma669af983a\" x=\"166.790552\" y=\"91.13061\" style=\"fill: #1f77b4; stroke: #1f77b4\"/>\n     <use xlink:href=\"#ma669af983a\" x=\"140.72848\" y=\"72.767392\" style=\"fill: #1f77b4; stroke: #1f77b4\"/>\n     <use xlink:href=\"#ma669af983a\" x=\"154.744055\" y=\"87.480919\" style=\"fill: #1f77b4; stroke: #1f77b4\"/>\n     <use xlink:href=\"#ma669af983a\" x=\"137.192324\" y=\"98.876538\" style=\"fill: #1f77b4; stroke: #1f77b4\"/>\n     <use xlink:href=\"#ma669af983a\" x=\"121.615485\" y=\"61.115557\" style=\"fill: #1f77b4; stroke: #1f77b4\"/>\n     <use xlink:href=\"#ma669af983a\" x=\"115.527306\" y=\"58.694927\" style=\"fill: #1f77b4; stroke: #1f77b4\"/>\n     <use xlink:href=\"#ma669af983a\" x=\"77.261611\" y=\"34.843341\" style=\"fill: #1f77b4; stroke: #1f77b4\"/>\n     <use xlink:href=\"#ma669af983a\" x=\"124.9121\" y=\"87.171125\" style=\"fill: #1f77b4; stroke: #1f77b4\"/>\n     <use xlink:href=\"#ma669af983a\" x=\"103.247823\" y=\"58.270919\" style=\"fill: #1f77b4; stroke: #1f77b4\"/>\n     <use xlink:href=\"#ma669af983a\" x=\"117.525884\" y=\"75.508866\" style=\"fill: #1f77b4; stroke: #1f77b4\"/>\n     <use xlink:href=\"#ma669af983a\" x=\"162.9206\" y=\"89.575158\" style=\"fill: #1f77b4; stroke: #1f77b4\"/>\n     <use xlink:href=\"#ma669af983a\" x=\"158.39458\" y=\"87.386137\" style=\"fill: #1f77b4; stroke: #1f77b4\"/>\n     <use xlink:href=\"#ma669af983a\" x=\"152.348006\" y=\"97.162417\" style=\"fill: #1f77b4; stroke: #1f77b4\"/>\n     <use xlink:href=\"#ma669af983a\" x=\"137.548311\" y=\"82.473939\" style=\"fill: #1f77b4; stroke: #1f77b4\"/>\n     <use xlink:href=\"#ma669af983a\" x=\"139.413096\" y=\"86.145048\" style=\"fill: #1f77b4; stroke: #1f77b4\"/>\n     <use xlink:href=\"#ma669af983a\" x=\"128.441428\" y=\"75.822838\" style=\"fill: #1f77b4; stroke: #1f77b4\"/>\n     <use xlink:href=\"#ma669af983a\" x=\"171.383571\" y=\"107.302724\" style=\"fill: #1f77b4; stroke: #1f77b4\"/>\n     <use xlink:href=\"#ma669af983a\" x=\"100.055061\" y=\"58.19976\" style=\"fill: #1f77b4; stroke: #1f77b4\"/>\n     <use xlink:href=\"#ma669af983a\" x=\"103.20134\" y=\"65.283152\" style=\"fill: #1f77b4; stroke: #1f77b4\"/>\n     <use xlink:href=\"#ma669af983a\" x=\"94.31915\" y=\"67.088213\" style=\"fill: #1f77b4; stroke: #1f77b4\"/>\n     <use xlink:href=\"#ma669af983a\" x=\"71.014454\" y=\"53.050998\" style=\"fill: #1f77b4; stroke: #1f77b4\"/>\n     <use xlink:href=\"#ma669af983a\" x=\"76.07198\" y=\"66.765786\" style=\"fill: #1f77b4; stroke: #1f77b4\"/>\n     <use xlink:href=\"#ma669af983a\" x=\"140.348832\" y=\"93.18934\" style=\"fill: #1f77b4; stroke: #1f77b4\"/>\n     <use xlink:href=\"#ma669af983a\" x=\"92.358882\" y=\"68.184769\" style=\"fill: #1f77b4; stroke: #1f77b4\"/>\n     <use xlink:href=\"#ma669af983a\" x=\"126.882838\" y=\"57.911565\" style=\"fill: #1f77b4; stroke: #1f77b4\"/>\n     <use xlink:href=\"#ma669af983a\" x=\"150.845583\" y=\"70.984231\" style=\"fill: #1f77b4; stroke: #1f77b4\"/>\n     <use xlink:href=\"#ma669af983a\" x=\"140.373173\" y=\"97.914402\" style=\"fill: #1f77b4; stroke: #1f77b4\"/>\n     <use xlink:href=\"#ma669af983a\" x=\"185.825162\" y=\"120.160089\" style=\"fill: #1f77b4; stroke: #1f77b4\"/>\n     <use xlink:href=\"#ma669af983a\" x=\"160.060464\" y=\"107.713518\" style=\"fill: #1f77b4; stroke: #1f77b4\"/>\n     <use xlink:href=\"#ma669af983a\" x=\"76.425706\" y=\"43.643223\" style=\"fill: #1f77b4; stroke: #1f77b4\"/>\n     <use xlink:href=\"#ma669af983a\" x=\"172.902738\" y=\"109.66065\" style=\"fill: #1f77b4; stroke: #1f77b4\"/>\n     <use xlink:href=\"#ma669af983a\" x=\"89.355562\" y=\"59.086148\" style=\"fill: #1f77b4; stroke: #1f77b4\"/>\n     <use xlink:href=\"#ma669af983a\" x=\"137.855298\" y=\"89.255383\" style=\"fill: #1f77b4; stroke: #1f77b4\"/>\n     <use xlink:href=\"#ma669af983a\" x=\"167.64892\" y=\"111.489817\" style=\"fill: #1f77b4; stroke: #1f77b4\"/>\n     <use xlink:href=\"#ma669af983a\" x=\"163.033468\" y=\"97.674898\" style=\"fill: #1f77b4; stroke: #1f77b4\"/>\n     <use xlink:href=\"#ma669af983a\" x=\"127.251648\" y=\"66.597951\" style=\"fill: #1f77b4; stroke: #1f77b4\"/>\n     <use xlink:href=\"#ma669af983a\" x=\"56.260055\" y=\"49.056483\" style=\"fill: #1f77b4; stroke: #1f77b4\"/>\n     <use xlink:href=\"#ma669af983a\" x=\"129.994837\" y=\"98.54278\" style=\"fill: #1f77b4; stroke: #1f77b4\"/>\n     <use xlink:href=\"#ma669af983a\" x=\"113.417199\" y=\"63.128343\" style=\"fill: #1f77b4; stroke: #1f77b4\"/>\n     <use xlink:href=\"#ma669af983a\" x=\"81.451839\" y=\"62.147466\" style=\"fill: #1f77b4; stroke: #1f77b4\"/>\n     <use xlink:href=\"#ma669af983a\" x=\"88.366595\" y=\"48.416663\" style=\"fill: #1f77b4; stroke: #1f77b4\"/>\n     <use xlink:href=\"#ma669af983a\" x=\"99.743544\" y=\"82.304593\" style=\"fill: #1f77b4; stroke: #1f77b4\"/>\n     <use xlink:href=\"#ma669af983a\" x=\"214.91243\" y=\"126.290787\" style=\"fill: #1f77b4; stroke: #1f77b4\"/>\n     <use xlink:href=\"#ma669af983a\" x=\"110.381545\" y=\"56.457185\" style=\"fill: #1f77b4; stroke: #1f77b4\"/>\n     <use xlink:href=\"#ma669af983a\" x=\"148.538513\" y=\"86.402533\" style=\"fill: #1f77b4; stroke: #1f77b4\"/>\n     <use xlink:href=\"#ma669af983a\" x=\"157.832913\" y=\"98.80067\" style=\"fill: #1f77b4; stroke: #1f77b4\"/>\n     <use xlink:href=\"#ma669af983a\" x=\"182.867551\" y=\"98.066905\" style=\"fill: #1f77b4; stroke: #1f77b4\"/>\n     <use xlink:href=\"#ma669af983a\" x=\"152.499421\" y=\"109.038303\" style=\"fill: #1f77b4; stroke: #1f77b4\"/>\n     <use xlink:href=\"#ma669af983a\" x=\"93.717385\" y=\"73.087977\" style=\"fill: #1f77b4; stroke: #1f77b4\"/>\n     <use xlink:href=\"#ma669af983a\" x=\"109.867762\" y=\"60.76552\" style=\"fill: #1f77b4; stroke: #1f77b4\"/>\n     <use xlink:href=\"#ma669af983a\" x=\"140.774925\" y=\"79.092915\" style=\"fill: #1f77b4; stroke: #1f77b4\"/>\n     <use xlink:href=\"#ma669af983a\" x=\"130.921365\" y=\"71.949981\" style=\"fill: #1f77b4; stroke: #1f77b4\"/>\n     <use xlink:href=\"#ma669af983a\" x=\"210.253648\" y=\"124.16044\" style=\"fill: #1f77b4; stroke: #1f77b4\"/>\n     <use xlink:href=\"#ma669af983a\" x=\"108.613425\" y=\"57.991024\" style=\"fill: #1f77b4; stroke: #1f77b4\"/>\n     <use xlink:href=\"#ma669af983a\" x=\"113.012173\" y=\"68.344912\" style=\"fill: #1f77b4; stroke: #1f77b4\"/>\n     <use xlink:href=\"#ma669af983a\" x=\"140.923008\" y=\"71.610959\" style=\"fill: #1f77b4; stroke: #1f77b4\"/>\n     <use xlink:href=\"#ma669af983a\" x=\"111.815867\" y=\"65.5948\" style=\"fill: #1f77b4; stroke: #1f77b4\"/>\n     <use xlink:href=\"#ma669af983a\" x=\"173.439623\" y=\"100.45161\" style=\"fill: #1f77b4; stroke: #1f77b4\"/>\n     <use xlink:href=\"#ma669af983a\" x=\"75.535575\" y=\"51.629101\" style=\"fill: #1f77b4; stroke: #1f77b4\"/>\n     <use xlink:href=\"#ma669af983a\" x=\"173.31363\" y=\"115.873243\" style=\"fill: #1f77b4; stroke: #1f77b4\"/>\n     <use xlink:href=\"#ma669af983a\" x=\"175.477194\" y=\"95.765028\" style=\"fill: #1f77b4; stroke: #1f77b4\"/>\n     <use xlink:href=\"#ma669af983a\" x=\"120.28415\" y=\"75.296638\" style=\"fill: #1f77b4; stroke: #1f77b4\"/>\n     <use xlink:href=\"#ma669af983a\" x=\"126.362159\" y=\"84.457297\" style=\"fill: #1f77b4; stroke: #1f77b4\"/>\n     <use xlink:href=\"#ma669af983a\" x=\"157.879703\" y=\"96.458571\" style=\"fill: #1f77b4; stroke: #1f77b4\"/>\n     <use xlink:href=\"#ma669af983a\" x=\"120.565304\" y=\"76.716747\" style=\"fill: #1f77b4; stroke: #1f77b4\"/>\n     <use xlink:href=\"#ma669af983a\" x=\"132.988492\" y=\"67.496962\" style=\"fill: #1f77b4; stroke: #1f77b4\"/>\n     <use xlink:href=\"#ma669af983a\" x=\"124.409647\" y=\"56.343385\" style=\"fill: #1f77b4; stroke: #1f77b4\"/>\n     <use xlink:href=\"#ma669af983a\" x=\"178.476407\" y=\"116.894473\" style=\"fill: #1f77b4; stroke: #1f77b4\"/>\n     <use xlink:href=\"#ma669af983a\" x=\"121.103436\" y=\"71.044809\" style=\"fill: #1f77b4; stroke: #1f77b4\"/>\n     <use xlink:href=\"#ma669af983a\" x=\"124.58739\" y=\"71.225301\" style=\"fill: #1f77b4; stroke: #1f77b4\"/>\n     <use xlink:href=\"#ma669af983a\" x=\"129.303449\" y=\"75.910518\" style=\"fill: #1f77b4; stroke: #1f77b4\"/>\n     <use xlink:href=\"#ma669af983a\" x=\"104.81094\" y=\"72.20407\" style=\"fill: #1f77b4; stroke: #1f77b4\"/>\n     <use xlink:href=\"#ma669af983a\" x=\"103.462579\" y=\"69.552932\" style=\"fill: #1f77b4; stroke: #1f77b4\"/>\n     <use xlink:href=\"#ma669af983a\" x=\"116.849332\" y=\"70.093126\" style=\"fill: #1f77b4; stroke: #1f77b4\"/>\n     <use xlink:href=\"#ma669af983a\" x=\"95.769468\" y=\"56.740878\" style=\"fill: #1f77b4; stroke: #1f77b4\"/>\n     <use xlink:href=\"#ma669af983a\" x=\"171.889082\" y=\"98.265506\" style=\"fill: #1f77b4; stroke: #1f77b4\"/>\n     <use xlink:href=\"#ma669af983a\" x=\"154.946451\" y=\"97.588123\" style=\"fill: #1f77b4; stroke: #1f77b4\"/>\n     <use xlink:href=\"#ma669af983a\" x=\"163.245882\" y=\"96.197051\" style=\"fill: #1f77b4; stroke: #1f77b4\"/>\n     <use xlink:href=\"#ma669af983a\" x=\"114.651468\" y=\"66.00714\" style=\"fill: #1f77b4; stroke: #1f77b4\"/>\n     <use xlink:href=\"#ma669af983a\" x=\"148.937836\" y=\"84.616397\" style=\"fill: #1f77b4; stroke: #1f77b4\"/>\n     <use xlink:href=\"#ma669af983a\" x=\"126.670131\" y=\"75.972437\" style=\"fill: #1f77b4; stroke: #1f77b4\"/>\n     <use xlink:href=\"#ma669af983a\" x=\"173.126102\" y=\"113.805968\" style=\"fill: #1f77b4; stroke: #1f77b4\"/>\n     <use xlink:href=\"#ma669af983a\" x=\"139.131271\" y=\"64.995828\" style=\"fill: #1f77b4; stroke: #1f77b4\"/>\n     <use xlink:href=\"#ma669af983a\" x=\"78.738702\" y=\"51.793632\" style=\"fill: #1f77b4; stroke: #1f77b4\"/>\n     <use xlink:href=\"#ma669af983a\" x=\"161.07445\" y=\"97.971873\" style=\"fill: #1f77b4; stroke: #1f77b4\"/>\n     <use xlink:href=\"#ma669af983a\" x=\"155.351674\" y=\"79.428948\" style=\"fill: #1f77b4; stroke: #1f77b4\"/>\n     <use xlink:href=\"#ma669af983a\" x=\"97.049982\" y=\"40.184601\" style=\"fill: #1f77b4; stroke: #1f77b4\"/>\n     <use xlink:href=\"#ma669af983a\" x=\"161.67128\" y=\"104.919564\" style=\"fill: #1f77b4; stroke: #1f77b4\"/>\n     <use xlink:href=\"#ma669af983a\" x=\"200.778135\" y=\"117.251546\" style=\"fill: #1f77b4; stroke: #1f77b4\"/>\n     <use xlink:href=\"#ma669af983a\" x=\"169.805843\" y=\"102.848253\" style=\"fill: #1f77b4; stroke: #1f77b4\"/>\n     <use xlink:href=\"#ma669af983a\" x=\"182.550956\" y=\"103.58033\" style=\"fill: #1f77b4; stroke: #1f77b4\"/>\n     <use xlink:href=\"#ma669af983a\" x=\"150.731466\" y=\"95.260801\" style=\"fill: #1f77b4; stroke: #1f77b4\"/>\n     <use xlink:href=\"#ma669af983a\" x=\"92.392202\" y=\"48.473969\" style=\"fill: #1f77b4; stroke: #1f77b4\"/>\n     <use xlink:href=\"#ma669af983a\" x=\"95.535635\" y=\"72.536009\" style=\"fill: #1f77b4; stroke: #1f77b4\"/>\n     <use xlink:href=\"#ma669af983a\" x=\"101.268518\" y=\"66.416415\" style=\"fill: #1f77b4; stroke: #1f77b4\"/>\n     <use xlink:href=\"#ma669af983a\" x=\"140.847361\" y=\"89.506193\" style=\"fill: #1f77b4; stroke: #1f77b4\"/>\n     <use xlink:href=\"#ma669af983a\" x=\"111.131214\" y=\"63.791275\" style=\"fill: #1f77b4; stroke: #1f77b4\"/>\n     <use xlink:href=\"#ma669af983a\" x=\"131.501677\" y=\"58.551133\" style=\"fill: #1f77b4; stroke: #1f77b4\"/>\n     <use xlink:href=\"#ma669af983a\" x=\"135.303931\" y=\"83.705435\" style=\"fill: #1f77b4; stroke: #1f77b4\"/>\n     <use xlink:href=\"#ma669af983a\" x=\"109.812286\" y=\"60.890602\" style=\"fill: #1f77b4; stroke: #1f77b4\"/>\n     <use xlink:href=\"#ma669af983a\" x=\"145.448928\" y=\"71.018661\" style=\"fill: #1f77b4; stroke: #1f77b4\"/>\n     <use xlink:href=\"#ma669af983a\" x=\"150.581076\" y=\"82.41248\" style=\"fill: #1f77b4; stroke: #1f77b4\"/>\n     <use xlink:href=\"#ma669af983a\" x=\"99.620572\" y=\"51.510485\" style=\"fill: #1f77b4; stroke: #1f77b4\"/>\n     <use xlink:href=\"#ma669af983a\" x=\"116.140444\" y=\"71.190294\" style=\"fill: #1f77b4; stroke: #1f77b4\"/>\n     <use xlink:href=\"#ma669af983a\" x=\"108.268426\" y=\"51.785463\" style=\"fill: #1f77b4; stroke: #1f77b4\"/>\n     <use xlink:href=\"#ma669af983a\" x=\"95.541362\" y=\"70.884603\" style=\"fill: #1f77b4; stroke: #1f77b4\"/>\n     <use xlink:href=\"#ma669af983a\" x=\"133.941436\" y=\"64.716357\" style=\"fill: #1f77b4; stroke: #1f77b4\"/>\n     <use xlink:href=\"#ma669af983a\" x=\"103.333001\" y=\"67.061524\" style=\"fill: #1f77b4; stroke: #1f77b4\"/>\n     <use xlink:href=\"#ma669af983a\" x=\"82.662561\" y=\"39.865226\" style=\"fill: #1f77b4; stroke: #1f77b4\"/>\n     <use xlink:href=\"#ma669af983a\" x=\"99.113381\" y=\"58.270018\" style=\"fill: #1f77b4; stroke: #1f77b4\"/>\n     <use xlink:href=\"#ma669af983a\" x=\"173.095978\" y=\"93.502477\" style=\"fill: #1f77b4; stroke: #1f77b4\"/>\n     <use xlink:href=\"#ma669af983a\" x=\"124.984182\" y=\"76.97124\" style=\"fill: #1f77b4; stroke: #1f77b4\"/>\n     <use xlink:href=\"#ma669af983a\" x=\"148.099839\" y=\"100.651952\" style=\"fill: #1f77b4; stroke: #1f77b4\"/>\n     <use xlink:href=\"#ma669af983a\" x=\"120.95963\" y=\"74.841414\" style=\"fill: #1f77b4; stroke: #1f77b4\"/>\n     <use xlink:href=\"#ma669af983a\" x=\"160.051638\" y=\"86.07505\" style=\"fill: #1f77b4; stroke: #1f77b4\"/>\n     <use xlink:href=\"#ma669af983a\" x=\"73.581722\" y=\"54.685905\" style=\"fill: #1f77b4; stroke: #1f77b4\"/>\n     <use xlink:href=\"#ma669af983a\" x=\"75.684604\" y=\"40.64805\" style=\"fill: #1f77b4; stroke: #1f77b4\"/>\n     <use xlink:href=\"#ma669af983a\" x=\"104.802713\" y=\"61.112409\" style=\"fill: #1f77b4; stroke: #1f77b4\"/>\n     <use xlink:href=\"#ma669af983a\" x=\"66.877778\" y=\"36.153483\" style=\"fill: #1f77b4; stroke: #1f77b4\"/>\n     <use xlink:href=\"#ma669af983a\" x=\"107.335777\" y=\"60.784643\" style=\"fill: #1f77b4; stroke: #1f77b4\"/>\n     <use xlink:href=\"#ma669af983a\" x=\"142.657215\" y=\"72.386809\" style=\"fill: #1f77b4; stroke: #1f77b4\"/>\n     <use xlink:href=\"#ma669af983a\" x=\"143.209938\" y=\"85.676453\" style=\"fill: #1f77b4; stroke: #1f77b4\"/>\n     <use xlink:href=\"#ma669af983a\" x=\"146.280324\" y=\"70.797737\" style=\"fill: #1f77b4; stroke: #1f77b4\"/>\n     <use xlink:href=\"#ma669af983a\" x=\"173.74555\" y=\"87.598928\" style=\"fill: #1f77b4; stroke: #1f77b4\"/>\n     <use xlink:href=\"#ma669af983a\" x=\"176.406056\" y=\"102.479457\" style=\"fill: #1f77b4; stroke: #1f77b4\"/>\n     <use xlink:href=\"#ma669af983a\" x=\"144.572301\" y=\"78.679366\" style=\"fill: #1f77b4; stroke: #1f77b4\"/>\n     <use xlink:href=\"#ma669af983a\" x=\"150.519334\" y=\"97.249339\" style=\"fill: #1f77b4; stroke: #1f77b4\"/>\n     <use xlink:href=\"#ma669af983a\" x=\"146.708683\" y=\"94.754428\" style=\"fill: #1f77b4; stroke: #1f77b4\"/>\n     <use xlink:href=\"#ma669af983a\" x=\"215.198954\" y=\"102.629036\" style=\"fill: #1f77b4; stroke: #1f77b4\"/>\n     <use xlink:href=\"#ma669af983a\" x=\"107.861691\" y=\"67.619924\" style=\"fill: #1f77b4; stroke: #1f77b4\"/>\n     <use xlink:href=\"#ma669af983a\" x=\"118.585207\" y=\"75.825308\" style=\"fill: #1f77b4; stroke: #1f77b4\"/>\n     <use xlink:href=\"#ma669af983a\" x=\"102.088395\" y=\"71.414716\" style=\"fill: #1f77b4; stroke: #1f77b4\"/>\n     <use xlink:href=\"#ma669af983a\" x=\"119.593774\" y=\"86.089764\" style=\"fill: #1f77b4; stroke: #1f77b4\"/>\n     <use xlink:href=\"#ma669af983a\" x=\"133.28159\" y=\"93.712349\" style=\"fill: #1f77b4; stroke: #1f77b4\"/>\n     <use xlink:href=\"#ma669af983a\" x=\"59.681829\" y=\"36.303573\" style=\"fill: #1f77b4; stroke: #1f77b4\"/>\n     <use xlink:href=\"#ma669af983a\" x=\"116.336766\" y=\"66.885492\" style=\"fill: #1f77b4; stroke: #1f77b4\"/>\n     <use xlink:href=\"#ma669af983a\" x=\"56.682353\" y=\"35.591721\" style=\"fill: #1f77b4; stroke: #1f77b4\"/>\n     <use xlink:href=\"#ma669af983a\" x=\"144.125268\" y=\"75.9516\" style=\"fill: #1f77b4; stroke: #1f77b4\"/>\n     <use xlink:href=\"#ma669af983a\" x=\"107.976061\" y=\"76.846398\" style=\"fill: #1f77b4; stroke: #1f77b4\"/>\n     <use xlink:href=\"#ma669af983a\" x=\"145.27219\" y=\"96.511846\" style=\"fill: #1f77b4; stroke: #1f77b4\"/>\n     <use xlink:href=\"#ma669af983a\" x=\"126.386083\" y=\"74.217128\" style=\"fill: #1f77b4; stroke: #1f77b4\"/>\n     <use xlink:href=\"#ma669af983a\" x=\"144.303468\" y=\"88.59546\" style=\"fill: #1f77b4; stroke: #1f77b4\"/>\n     <use xlink:href=\"#ma669af983a\" x=\"118.93464\" y=\"58.02069\" style=\"fill: #1f77b4; stroke: #1f77b4\"/>\n     <use xlink:href=\"#ma669af983a\" x=\"120.15588\" y=\"80.120863\" style=\"fill: #1f77b4; stroke: #1f77b4\"/>\n     <use xlink:href=\"#ma669af983a\" x=\"188.64008\" y=\"124.291626\" style=\"fill: #1f77b4; stroke: #1f77b4\"/>\n     <use xlink:href=\"#ma669af983a\" x=\"144.312758\" y=\"94.008695\" style=\"fill: #1f77b4; stroke: #1f77b4\"/>\n     <use xlink:href=\"#ma669af983a\" x=\"96.381725\" y=\"53.780533\" style=\"fill: #1f77b4; stroke: #1f77b4\"/>\n     <use xlink:href=\"#ma669af983a\" x=\"147.069558\" y=\"95.078071\" style=\"fill: #1f77b4; stroke: #1f77b4\"/>\n     <use xlink:href=\"#ma669af983a\" x=\"122.356644\" y=\"67.733068\" style=\"fill: #1f77b4; stroke: #1f77b4\"/>\n     <use xlink:href=\"#ma669af983a\" x=\"141.111183\" y=\"85.903688\" style=\"fill: #1f77b4; stroke: #1f77b4\"/>\n     <use xlink:href=\"#ma669af983a\" x=\"122.36076\" y=\"75.822289\" style=\"fill: #1f77b4; stroke: #1f77b4\"/>\n     <use xlink:href=\"#ma669af983a\" x=\"126.207693\" y=\"94.593439\" style=\"fill: #1f77b4; stroke: #1f77b4\"/>\n     <use xlink:href=\"#ma669af983a\" x=\"171.694366\" y=\"67.244533\" style=\"fill: #1f77b4; stroke: #1f77b4\"/>\n     <use xlink:href=\"#ma669af983a\" x=\"198.623875\" y=\"115.364516\" style=\"fill: #1f77b4; stroke: #1f77b4\"/>\n     <use xlink:href=\"#ma669af983a\" x=\"143.145813\" y=\"73.80117\" style=\"fill: #1f77b4; stroke: #1f77b4\"/>\n     <use xlink:href=\"#ma669af983a\" x=\"174.266236\" y=\"91.604214\" style=\"fill: #1f77b4; stroke: #1f77b4\"/>\n     <use xlink:href=\"#ma669af983a\" x=\"76.586525\" y=\"36.15331\" style=\"fill: #1f77b4; stroke: #1f77b4\"/>\n     <use xlink:href=\"#ma669af983a\" x=\"150.059156\" y=\"95.510574\" style=\"fill: #1f77b4; stroke: #1f77b4\"/>\n     <use xlink:href=\"#ma669af983a\" x=\"90.958072\" y=\"67.989452\" style=\"fill: #1f77b4; stroke: #1f77b4\"/>\n     <use xlink:href=\"#ma669af983a\" x=\"168.829084\" y=\"97.506226\" style=\"fill: #1f77b4; stroke: #1f77b4\"/>\n     <use xlink:href=\"#ma669af983a\" x=\"161.216931\" y=\"116.124504\" style=\"fill: #1f77b4; stroke: #1f77b4\"/>\n     <use xlink:href=\"#ma669af983a\" x=\"120.327317\" y=\"83.691277\" style=\"fill: #1f77b4; stroke: #1f77b4\"/>\n     <use xlink:href=\"#ma669af983a\" x=\"149.779414\" y=\"87.950641\" style=\"fill: #1f77b4; stroke: #1f77b4\"/>\n     <use xlink:href=\"#ma669af983a\" x=\"161.247021\" y=\"96.771441\" style=\"fill: #1f77b4; stroke: #1f77b4\"/>\n     <use xlink:href=\"#ma669af983a\" x=\"140.953634\" y=\"66.353074\" style=\"fill: #1f77b4; stroke: #1f77b4\"/>\n     <use xlink:href=\"#ma669af983a\" x=\"206.017799\" y=\"125.709637\" style=\"fill: #1f77b4; stroke: #1f77b4\"/>\n     <use xlink:href=\"#ma669af983a\" x=\"134.85351\" y=\"71.287273\" style=\"fill: #1f77b4; stroke: #1f77b4\"/>\n     <use xlink:href=\"#ma669af983a\" x=\"155.626137\" y=\"101.061305\" style=\"fill: #1f77b4; stroke: #1f77b4\"/>\n     <use xlink:href=\"#ma669af983a\" x=\"139.736012\" y=\"89.009639\" style=\"fill: #1f77b4; stroke: #1f77b4\"/>\n     <use xlink:href=\"#ma669af983a\" x=\"79.244057\" y=\"44.241018\" style=\"fill: #1f77b4; stroke: #1f77b4\"/>\n     <use xlink:href=\"#ma669af983a\" x=\"157.556463\" y=\"102.956572\" style=\"fill: #1f77b4; stroke: #1f77b4\"/>\n     <use xlink:href=\"#ma669af983a\" x=\"82.663386\" y=\"63.507468\" style=\"fill: #1f77b4; stroke: #1f77b4\"/>\n     <use xlink:href=\"#ma669af983a\" x=\"170.192756\" y=\"100.63198\" style=\"fill: #1f77b4; stroke: #1f77b4\"/>\n     <use xlink:href=\"#ma669af983a\" x=\"114.235302\" y=\"64.200204\" style=\"fill: #1f77b4; stroke: #1f77b4\"/>\n     <use xlink:href=\"#ma669af983a\" x=\"85.094321\" y=\"64.329916\" style=\"fill: #1f77b4; stroke: #1f77b4\"/>\n     <use xlink:href=\"#ma669af983a\" x=\"135.231058\" y=\"80.598317\" style=\"fill: #1f77b4; stroke: #1f77b4\"/>\n     <use xlink:href=\"#ma669af983a\" x=\"135.067309\" y=\"94.828531\" style=\"fill: #1f77b4; stroke: #1f77b4\"/>\n     <use xlink:href=\"#ma669af983a\" x=\"123.602921\" y=\"72.579278\" style=\"fill: #1f77b4; stroke: #1f77b4\"/>\n     <use xlink:href=\"#ma669af983a\" x=\"131.47365\" y=\"73.321318\" style=\"fill: #1f77b4; stroke: #1f77b4\"/>\n     <use xlink:href=\"#ma669af983a\" x=\"202.325417\" y=\"113.840699\" style=\"fill: #1f77b4; stroke: #1f77b4\"/>\n     <use xlink:href=\"#ma669af983a\" x=\"104.000925\" y=\"54.98651\" style=\"fill: #1f77b4; stroke: #1f77b4\"/>\n     <use xlink:href=\"#ma669af983a\" x=\"140.385809\" y=\"75.59452\" style=\"fill: #1f77b4; stroke: #1f77b4\"/>\n     <use xlink:href=\"#ma669af983a\" x=\"124.558564\" y=\"81.407725\" style=\"fill: #1f77b4; stroke: #1f77b4\"/>\n     <use xlink:href=\"#ma669af983a\" x=\"163.738142\" y=\"109.358392\" style=\"fill: #1f77b4; stroke: #1f77b4\"/>\n     <use xlink:href=\"#ma669af983a\" x=\"97.816076\" y=\"58.378653\" style=\"fill: #1f77b4; stroke: #1f77b4\"/>\n     <use xlink:href=\"#ma669af983a\" x=\"37.81946\" y=\"13.5\" style=\"fill: #1f77b4; stroke: #1f77b4\"/>\n     <use xlink:href=\"#ma669af983a\" x=\"147.472933\" y=\"86.371331\" style=\"fill: #1f77b4; stroke: #1f77b4\"/>\n     <use xlink:href=\"#ma669af983a\" x=\"143.363765\" y=\"89.82773\" style=\"fill: #1f77b4; stroke: #1f77b4\"/>\n     <use xlink:href=\"#ma669af983a\" x=\"128.203993\" y=\"79.312131\" style=\"fill: #1f77b4; stroke: #1f77b4\"/>\n     <use xlink:href=\"#ma669af983a\" x=\"134.320593\" y=\"82.422289\" style=\"fill: #1f77b4; stroke: #1f77b4\"/>\n     <use xlink:href=\"#ma669af983a\" x=\"141.003033\" y=\"84.037711\" style=\"fill: #1f77b4; stroke: #1f77b4\"/>\n     <use xlink:href=\"#ma669af983a\" x=\"105.667451\" y=\"62.358907\" style=\"fill: #1f77b4; stroke: #1f77b4\"/>\n     <use xlink:href=\"#ma669af983a\" x=\"184.313589\" y=\"108.494313\" style=\"fill: #1f77b4; stroke: #1f77b4\"/>\n     <use xlink:href=\"#ma669af983a\" x=\"160.338083\" y=\"91.822569\" style=\"fill: #1f77b4; stroke: #1f77b4\"/>\n     <use xlink:href=\"#ma669af983a\" x=\"119.848614\" y=\"59.751281\" style=\"fill: #1f77b4; stroke: #1f77b4\"/>\n     <use xlink:href=\"#ma669af983a\" x=\"171.091047\" y=\"108.897239\" style=\"fill: #1f77b4; stroke: #1f77b4\"/>\n     <use xlink:href=\"#ma669af983a\" x=\"185.873879\" y=\"118.572547\" style=\"fill: #1f77b4; stroke: #1f77b4\"/>\n     <use xlink:href=\"#ma669af983a\" x=\"128.371487\" y=\"90.903586\" style=\"fill: #1f77b4; stroke: #1f77b4\"/>\n     <use xlink:href=\"#ma669af983a\" x=\"135.767331\" y=\"85.794389\" style=\"fill: #1f77b4; stroke: #1f77b4\"/>\n     <use xlink:href=\"#ma669af983a\" x=\"147.327862\" y=\"83.087035\" style=\"fill: #1f77b4; stroke: #1f77b4\"/>\n     <use xlink:href=\"#ma669af983a\" x=\"112.551619\" y=\"60.005758\" style=\"fill: #1f77b4; stroke: #1f77b4\"/>\n     <use xlink:href=\"#ma669af983a\" x=\"119.325108\" y=\"80.128003\" style=\"fill: #1f77b4; stroke: #1f77b4\"/>\n     <use xlink:href=\"#ma669af983a\" x=\"99.45374\" y=\"49.729267\" style=\"fill: #1f77b4; stroke: #1f77b4\"/>\n     <use xlink:href=\"#ma669af983a\" x=\"128.670468\" y=\"72.283017\" style=\"fill: #1f77b4; stroke: #1f77b4\"/>\n     <use xlink:href=\"#ma669af983a\" x=\"104.097357\" y=\"55.726385\" style=\"fill: #1f77b4; stroke: #1f77b4\"/>\n     <use xlink:href=\"#ma669af983a\" x=\"159.357851\" y=\"76.406824\" style=\"fill: #1f77b4; stroke: #1f77b4\"/>\n     <use xlink:href=\"#ma669af983a\" x=\"170.790307\" y=\"96.971714\" style=\"fill: #1f77b4; stroke: #1f77b4\"/>\n     <use xlink:href=\"#ma669af983a\" x=\"144.039875\" y=\"95.20373\" style=\"fill: #1f77b4; stroke: #1f77b4\"/>\n     <use xlink:href=\"#ma669af983a\" x=\"171.077108\" y=\"97.180695\" style=\"fill: #1f77b4; stroke: #1f77b4\"/>\n     <use xlink:href=\"#ma669af983a\" x=\"149.717844\" y=\"103.626466\" style=\"fill: #1f77b4; stroke: #1f77b4\"/>\n     <use xlink:href=\"#ma669af983a\" x=\"123.162132\" y=\"77.064717\" style=\"fill: #1f77b4; stroke: #1f77b4\"/>\n     <use xlink:href=\"#ma669af983a\" x=\"110.614766\" y=\"56.895774\" style=\"fill: #1f77b4; stroke: #1f77b4\"/>\n     <use xlink:href=\"#ma669af983a\" x=\"84.876828\" y=\"83.69246\" style=\"fill: #1f77b4; stroke: #1f77b4\"/>\n     <use xlink:href=\"#ma669af983a\" x=\"115.815885\" y=\"55.295465\" style=\"fill: #1f77b4; stroke: #1f77b4\"/>\n     <use xlink:href=\"#ma669af983a\" x=\"140.592878\" y=\"68.29306\" style=\"fill: #1f77b4; stroke: #1f77b4\"/>\n     <use xlink:href=\"#ma669af983a\" x=\"152.305251\" y=\"89.797369\" style=\"fill: #1f77b4; stroke: #1f77b4\"/>\n     <use xlink:href=\"#ma669af983a\" x=\"150.007502\" y=\"90.612954\" style=\"fill: #1f77b4; stroke: #1f77b4\"/>\n     <use xlink:href=\"#ma669af983a\" x=\"130.350774\" y=\"68.674856\" style=\"fill: #1f77b4; stroke: #1f77b4\"/>\n     <use xlink:href=\"#ma669af983a\" x=\"72.083944\" y=\"46.475052\" style=\"fill: #1f77b4; stroke: #1f77b4\"/>\n     <use xlink:href=\"#ma669af983a\" x=\"100.232478\" y=\"47.567896\" style=\"fill: #1f77b4; stroke: #1f77b4\"/>\n     <use xlink:href=\"#ma669af983a\" x=\"130.120526\" y=\"96.614774\" style=\"fill: #1f77b4; stroke: #1f77b4\"/>\n     <use xlink:href=\"#ma669af983a\" x=\"90.891879\" y=\"74.463083\" style=\"fill: #1f77b4; stroke: #1f77b4\"/>\n     <use xlink:href=\"#ma669af983a\" x=\"92.855485\" y=\"59.02503\" style=\"fill: #1f77b4; stroke: #1f77b4\"/>\n     <use xlink:href=\"#ma669af983a\" x=\"127.439589\" y=\"71.828236\" style=\"fill: #1f77b4; stroke: #1f77b4\"/>\n     <use xlink:href=\"#ma669af983a\" x=\"128.733913\" y=\"77.497135\" style=\"fill: #1f77b4; stroke: #1f77b4\"/>\n     <use xlink:href=\"#ma669af983a\" x=\"142.963437\" y=\"81.798587\" style=\"fill: #1f77b4; stroke: #1f77b4\"/>\n     <use xlink:href=\"#ma669af983a\" x=\"148.662126\" y=\"81.851988\" style=\"fill: #1f77b4; stroke: #1f77b4\"/>\n     <use xlink:href=\"#ma669af983a\" x=\"137.153635\" y=\"102.468042\" style=\"fill: #1f77b4; stroke: #1f77b4\"/>\n     <use xlink:href=\"#ma669af983a\" x=\"156.425204\" y=\"69.288486\" style=\"fill: #1f77b4; stroke: #1f77b4\"/>\n     <use xlink:href=\"#ma669af983a\" x=\"112.866411\" y=\"68.131682\" style=\"fill: #1f77b4; stroke: #1f77b4\"/>\n     <use xlink:href=\"#ma669af983a\" x=\"153.337611\" y=\"87.277976\" style=\"fill: #1f77b4; stroke: #1f77b4\"/>\n     <use xlink:href=\"#ma669af983a\" x=\"193.154347\" y=\"107.199881\" style=\"fill: #1f77b4; stroke: #1f77b4\"/>\n     <use xlink:href=\"#ma669af983a\" x=\"135.413865\" y=\"84.840584\" style=\"fill: #1f77b4; stroke: #1f77b4\"/>\n     <use xlink:href=\"#ma669af983a\" x=\"114.342399\" y=\"58.791199\" style=\"fill: #1f77b4; stroke: #1f77b4\"/>\n     <use xlink:href=\"#ma669af983a\" x=\"79.950111\" y=\"64.943694\" style=\"fill: #1f77b4; stroke: #1f77b4\"/>\n     <use xlink:href=\"#ma669af983a\" x=\"129.729167\" y=\"93.438753\" style=\"fill: #1f77b4; stroke: #1f77b4\"/>\n     <use xlink:href=\"#ma669af983a\" x=\"165.544121\" y=\"100.042528\" style=\"fill: #1f77b4; stroke: #1f77b4\"/>\n     <use xlink:href=\"#ma669af983a\" x=\"65.636596\" y=\"32.467382\" style=\"fill: #1f77b4; stroke: #1f77b4\"/>\n     <use xlink:href=\"#ma669af983a\" x=\"157.903219\" y=\"93.159517\" style=\"fill: #1f77b4; stroke: #1f77b4\"/>\n     <use xlink:href=\"#ma669af983a\" x=\"115.520602\" y=\"83.36695\" style=\"fill: #1f77b4; stroke: #1f77b4\"/>\n     <use xlink:href=\"#ma669af983a\" x=\"103.069695\" y=\"64.87576\" style=\"fill: #1f77b4; stroke: #1f77b4\"/>\n     <use xlink:href=\"#ma669af983a\" x=\"102.420898\" y=\"62.825301\" style=\"fill: #1f77b4; stroke: #1f77b4\"/>\n     <use xlink:href=\"#ma669af983a\" x=\"125.276916\" y=\"58.918735\" style=\"fill: #1f77b4; stroke: #1f77b4\"/>\n     <use xlink:href=\"#ma669af983a\" x=\"90.339002\" y=\"60.77019\" style=\"fill: #1f77b4; stroke: #1f77b4\"/>\n     <use xlink:href=\"#ma669af983a\" x=\"138.872457\" y=\"86.263988\" style=\"fill: #1f77b4; stroke: #1f77b4\"/>\n     <use xlink:href=\"#ma669af983a\" x=\"117.665278\" y=\"68.528601\" style=\"fill: #1f77b4; stroke: #1f77b4\"/>\n     <use xlink:href=\"#ma669af983a\" x=\"156.438372\" y=\"81.56688\" style=\"fill: #1f77b4; stroke: #1f77b4\"/>\n     <use xlink:href=\"#ma669af983a\" x=\"182.618014\" y=\"80.531149\" style=\"fill: #1f77b4; stroke: #1f77b4\"/>\n     <use xlink:href=\"#ma669af983a\" x=\"143.942302\" y=\"79.419343\" style=\"fill: #1f77b4; stroke: #1f77b4\"/>\n     <use xlink:href=\"#ma669af983a\" x=\"157.80543\" y=\"114.031346\" style=\"fill: #1f77b4; stroke: #1f77b4\"/>\n     <use xlink:href=\"#ma669af983a\" x=\"110.553905\" y=\"47.040784\" style=\"fill: #1f77b4; stroke: #1f77b4\"/>\n     <use xlink:href=\"#ma669af983a\" x=\"134.01072\" y=\"91.855669\" style=\"fill: #1f77b4; stroke: #1f77b4\"/>\n     <use xlink:href=\"#ma669af983a\" x=\"112.047275\" y=\"63.921205\" style=\"fill: #1f77b4; stroke: #1f77b4\"/>\n     <use xlink:href=\"#ma669af983a\" x=\"92.211273\" y=\"55.224068\" style=\"fill: #1f77b4; stroke: #1f77b4\"/>\n     <use xlink:href=\"#ma669af983a\" x=\"108.914579\" y=\"68.699619\" style=\"fill: #1f77b4; stroke: #1f77b4\"/>\n     <use xlink:href=\"#ma669af983a\" x=\"139.138976\" y=\"76.208132\" style=\"fill: #1f77b4; stroke: #1f77b4\"/>\n     <use xlink:href=\"#ma669af983a\" x=\"139.761408\" y=\"101.684084\" style=\"fill: #1f77b4; stroke: #1f77b4\"/>\n     <use xlink:href=\"#ma669af983a\" x=\"52.570144\" y=\"44.086375\" style=\"fill: #1f77b4; stroke: #1f77b4\"/>\n     <use xlink:href=\"#ma669af983a\" x=\"150.347034\" y=\"72.442557\" style=\"fill: #1f77b4; stroke: #1f77b4\"/>\n     <use xlink:href=\"#ma669af983a\" x=\"53.00007\" y=\"34.820063\" style=\"fill: #1f77b4; stroke: #1f77b4\"/>\n     <use xlink:href=\"#ma669af983a\" x=\"142.006527\" y=\"91.480883\" style=\"fill: #1f77b4; stroke: #1f77b4\"/>\n     <use xlink:href=\"#ma669af983a\" x=\"184.940636\" y=\"96.777601\" style=\"fill: #1f77b4; stroke: #1f77b4\"/>\n     <use xlink:href=\"#ma669af983a\" x=\"152.957098\" y=\"78.585146\" style=\"fill: #1f77b4; stroke: #1f77b4\"/>\n     <use xlink:href=\"#ma669af983a\" x=\"189.18055\" y=\"87.334882\" style=\"fill: #1f77b4; stroke: #1f77b4\"/>\n     <use xlink:href=\"#ma669af983a\" x=\"147.17786\" y=\"70.286733\" style=\"fill: #1f77b4; stroke: #1f77b4\"/>\n     <use xlink:href=\"#ma669af983a\" x=\"108.326765\" y=\"79.367568\" style=\"fill: #1f77b4; stroke: #1f77b4\"/>\n     <use xlink:href=\"#ma669af983a\" x=\"166.241085\" y=\"89.267895\" style=\"fill: #1f77b4; stroke: #1f77b4\"/>\n     <use xlink:href=\"#ma669af983a\" x=\"149.512525\" y=\"81.386442\" style=\"fill: #1f77b4; stroke: #1f77b4\"/>\n     <use xlink:href=\"#ma669af983a\" x=\"153.10575\" y=\"93.484024\" style=\"fill: #1f77b4; stroke: #1f77b4\"/>\n     <use xlink:href=\"#ma669af983a\" x=\"107.582798\" y=\"67.623207\" style=\"fill: #1f77b4; stroke: #1f77b4\"/>\n     <use xlink:href=\"#ma669af983a\" x=\"116.864761\" y=\"68.584186\" style=\"fill: #1f77b4; stroke: #1f77b4\"/>\n     <use xlink:href=\"#ma669af983a\" x=\"170.404877\" y=\"102.122856\" style=\"fill: #1f77b4; stroke: #1f77b4\"/>\n     <use xlink:href=\"#ma669af983a\" x=\"91.214579\" y=\"51.658884\" style=\"fill: #1f77b4; stroke: #1f77b4\"/>\n     <use xlink:href=\"#ma669af983a\" x=\"124.649774\" y=\"83.817588\" style=\"fill: #1f77b4; stroke: #1f77b4\"/>\n     <use xlink:href=\"#ma669af983a\" x=\"109.503152\" y=\"75.016995\" style=\"fill: #1f77b4; stroke: #1f77b4\"/>\n     <use xlink:href=\"#ma669af983a\" x=\"97.91472\" y=\"47.186077\" style=\"fill: #1f77b4; stroke: #1f77b4\"/>\n     <use xlink:href=\"#ma669af983a\" x=\"96.719939\" y=\"72.594747\" style=\"fill: #1f77b4; stroke: #1f77b4\"/>\n     <use xlink:href=\"#ma669af983a\" x=\"129.888369\" y=\"83.913412\" style=\"fill: #1f77b4; stroke: #1f77b4\"/>\n     <use xlink:href=\"#ma669af983a\" x=\"130.964186\" y=\"74.495919\" style=\"fill: #1f77b4; stroke: #1f77b4\"/>\n     <use xlink:href=\"#ma669af983a\" x=\"119.742815\" y=\"58.82067\" style=\"fill: #1f77b4; stroke: #1f77b4\"/>\n     <use xlink:href=\"#ma669af983a\" x=\"97.58012\" y=\"66.543944\" style=\"fill: #1f77b4; stroke: #1f77b4\"/>\n     <use xlink:href=\"#ma669af983a\" x=\"137.532851\" y=\"85.642477\" style=\"fill: #1f77b4; stroke: #1f77b4\"/>\n     <use xlink:href=\"#ma669af983a\" x=\"140.290532\" y=\"65.607212\" style=\"fill: #1f77b4; stroke: #1f77b4\"/>\n     <use xlink:href=\"#ma669af983a\" x=\"101.096821\" y=\"44.646862\" style=\"fill: #1f77b4; stroke: #1f77b4\"/>\n     <use xlink:href=\"#ma669af983a\" x=\"90.468872\" y=\"54.128043\" style=\"fill: #1f77b4; stroke: #1f77b4\"/>\n     <use xlink:href=\"#ma669af983a\" x=\"168.844326\" y=\"116.263526\" style=\"fill: #1f77b4; stroke: #1f77b4\"/>\n     <use xlink:href=\"#ma669af983a\" x=\"96.173332\" y=\"51.300899\" style=\"fill: #1f77b4; stroke: #1f77b4\"/>\n     <use xlink:href=\"#ma669af983a\" x=\"104.470449\" y=\"57.808049\" style=\"fill: #1f77b4; stroke: #1f77b4\"/>\n     <use xlink:href=\"#ma669af983a\" x=\"137.430428\" y=\"83.510716\" style=\"fill: #1f77b4; stroke: #1f77b4\"/>\n     <use xlink:href=\"#ma669af983a\" x=\"109.273346\" y=\"63.379075\" style=\"fill: #1f77b4; stroke: #1f77b4\"/>\n     <use xlink:href=\"#ma669af983a\" x=\"95.787887\" y=\"58.615291\" style=\"fill: #1f77b4; stroke: #1f77b4\"/>\n     <use xlink:href=\"#ma669af983a\" x=\"98.515656\" y=\"57.732533\" style=\"fill: #1f77b4; stroke: #1f77b4\"/>\n     <use xlink:href=\"#ma669af983a\" x=\"179.978849\" y=\"108.582412\" style=\"fill: #1f77b4; stroke: #1f77b4\"/>\n     <use xlink:href=\"#ma669af983a\" x=\"151.031844\" y=\"91.50269\" style=\"fill: #1f77b4; stroke: #1f77b4\"/>\n     <use xlink:href=\"#ma669af983a\" x=\"157.837365\" y=\"100.549143\" style=\"fill: #1f77b4; stroke: #1f77b4\"/>\n     <use xlink:href=\"#ma669af983a\" x=\"132.967556\" y=\"69.884509\" style=\"fill: #1f77b4; stroke: #1f77b4\"/>\n     <use xlink:href=\"#ma669af983a\" x=\"87.920208\" y=\"53.813852\" style=\"fill: #1f77b4; stroke: #1f77b4\"/>\n     <use xlink:href=\"#ma669af983a\" x=\"103.245992\" y=\"57.511377\" style=\"fill: #1f77b4; stroke: #1f77b4\"/>\n     <use xlink:href=\"#ma669af983a\" x=\"122.667094\" y=\"71.410793\" style=\"fill: #1f77b4; stroke: #1f77b4\"/>\n     <use xlink:href=\"#ma669af983a\" x=\"182.956802\" y=\"90.932946\" style=\"fill: #1f77b4; stroke: #1f77b4\"/>\n     <use xlink:href=\"#ma669af983a\" x=\"134.749236\" y=\"66.951399\" style=\"fill: #1f77b4; stroke: #1f77b4\"/>\n     <use xlink:href=\"#ma669af983a\" x=\"80.734654\" y=\"34.316537\" style=\"fill: #1f77b4; stroke: #1f77b4\"/>\n     <use xlink:href=\"#ma669af983a\" x=\"196.609629\" y=\"112.939218\" style=\"fill: #1f77b4; stroke: #1f77b4\"/>\n     <use xlink:href=\"#ma669af983a\" x=\"142.779291\" y=\"92.866849\" style=\"fill: #1f77b4; stroke: #1f77b4\"/>\n     <use xlink:href=\"#ma669af983a\" x=\"155.160431\" y=\"79.254203\" style=\"fill: #1f77b4; stroke: #1f77b4\"/>\n     <use xlink:href=\"#ma669af983a\" x=\"139.760096\" y=\"78.046813\" style=\"fill: #1f77b4; stroke: #1f77b4\"/>\n     <use xlink:href=\"#ma669af983a\" x=\"115.74066\" y=\"58.71408\" style=\"fill: #1f77b4; stroke: #1f77b4\"/>\n     <use xlink:href=\"#ma669af983a\" x=\"103.604037\" y=\"56.945351\" style=\"fill: #1f77b4; stroke: #1f77b4\"/>\n     <use xlink:href=\"#ma669af983a\" x=\"134.354805\" y=\"63.023057\" style=\"fill: #1f77b4; stroke: #1f77b4\"/>\n     <use xlink:href=\"#ma669af983a\" x=\"175.359332\" y=\"111.515469\" style=\"fill: #1f77b4; stroke: #1f77b4\"/>\n     <use xlink:href=\"#ma669af983a\" x=\"193.351094\" y=\"106.49676\" style=\"fill: #1f77b4; stroke: #1f77b4\"/>\n     <use xlink:href=\"#ma669af983a\" x=\"147.855921\" y=\"90.999594\" style=\"fill: #1f77b4; stroke: #1f77b4\"/>\n     <use xlink:href=\"#ma669af983a\" x=\"136.208311\" y=\"79.118663\" style=\"fill: #1f77b4; stroke: #1f77b4\"/>\n     <use xlink:href=\"#ma669af983a\" x=\"121.740072\" y=\"64.585348\" style=\"fill: #1f77b4; stroke: #1f77b4\"/>\n     <use xlink:href=\"#ma669af983a\" x=\"133.04647\" y=\"70.200388\" style=\"fill: #1f77b4; stroke: #1f77b4\"/>\n     <use xlink:href=\"#ma669af983a\" x=\"152.672099\" y=\"71.004844\" style=\"fill: #1f77b4; stroke: #1f77b4\"/>\n     <use xlink:href=\"#ma669af983a\" x=\"134.070529\" y=\"76.207781\" style=\"fill: #1f77b4; stroke: #1f77b4\"/>\n     <use xlink:href=\"#ma669af983a\" x=\"143.511414\" y=\"70.433614\" style=\"fill: #1f77b4; stroke: #1f77b4\"/>\n     <use xlink:href=\"#ma669af983a\" x=\"76.261702\" y=\"58.170486\" style=\"fill: #1f77b4; stroke: #1f77b4\"/>\n     <use xlink:href=\"#ma669af983a\" x=\"146.846717\" y=\"101.825193\" style=\"fill: #1f77b4; stroke: #1f77b4\"/>\n     <use xlink:href=\"#ma669af983a\" x=\"128.722632\" y=\"78.300414\" style=\"fill: #1f77b4; stroke: #1f77b4\"/>\n     <use xlink:href=\"#ma669af983a\" x=\"78.6295\" y=\"42.280991\" style=\"fill: #1f77b4; stroke: #1f77b4\"/>\n     <use xlink:href=\"#ma669af983a\" x=\"149.522447\" y=\"70.969056\" style=\"fill: #1f77b4; stroke: #1f77b4\"/>\n     <use xlink:href=\"#ma669af983a\" x=\"104.812644\" y=\"70.696005\" style=\"fill: #1f77b4; stroke: #1f77b4\"/>\n     <use xlink:href=\"#ma669af983a\" x=\"138.815413\" y=\"96.643299\" style=\"fill: #1f77b4; stroke: #1f77b4\"/>\n     <use xlink:href=\"#ma669af983a\" x=\"114.568649\" y=\"71.425883\" style=\"fill: #1f77b4; stroke: #1f77b4\"/>\n     <use xlink:href=\"#ma669af983a\" x=\"135.461259\" y=\"76.697411\" style=\"fill: #1f77b4; stroke: #1f77b4\"/>\n     <use xlink:href=\"#ma669af983a\" x=\"110.990649\" y=\"67.711563\" style=\"fill: #1f77b4; stroke: #1f77b4\"/>\n     <use xlink:href=\"#ma669af983a\" x=\"162.707309\" y=\"90.398969\" style=\"fill: #1f77b4; stroke: #1f77b4\"/>\n     <use xlink:href=\"#ma669af983a\" x=\"191.399944\" y=\"103.039298\" style=\"fill: #1f77b4; stroke: #1f77b4\"/>\n     <use xlink:href=\"#ma669af983a\" x=\"122.499496\" y=\"77.182237\" style=\"fill: #1f77b4; stroke: #1f77b4\"/>\n     <use xlink:href=\"#ma669af983a\" x=\"117.265557\" y=\"49.063545\" style=\"fill: #1f77b4; stroke: #1f77b4\"/>\n     <use xlink:href=\"#ma669af983a\" x=\"126.870226\" y=\"54.342804\" style=\"fill: #1f77b4; stroke: #1f77b4\"/>\n     <use xlink:href=\"#ma669af983a\" x=\"150.742653\" y=\"99.398695\" style=\"fill: #1f77b4; stroke: #1f77b4\"/>\n     <use xlink:href=\"#ma669af983a\" x=\"151.232653\" y=\"98.40302\" style=\"fill: #1f77b4; stroke: #1f77b4\"/>\n     <use xlink:href=\"#ma669af983a\" x=\"195.647476\" y=\"112.694577\" style=\"fill: #1f77b4; stroke: #1f77b4\"/>\n     <use xlink:href=\"#ma669af983a\" x=\"72.566997\" y=\"57.218161\" style=\"fill: #1f77b4; stroke: #1f77b4\"/>\n     <use xlink:href=\"#ma669af983a\" x=\"93.37441\" y=\"50.969997\" style=\"fill: #1f77b4; stroke: #1f77b4\"/>\n     <use xlink:href=\"#ma669af983a\" x=\"90.653155\" y=\"42.948955\" style=\"fill: #1f77b4; stroke: #1f77b4\"/>\n     <use xlink:href=\"#ma669af983a\" x=\"141.826919\" y=\"84.954503\" style=\"fill: #1f77b4; stroke: #1f77b4\"/>\n     <use xlink:href=\"#ma669af983a\" x=\"123.9466\" y=\"69.51098\" style=\"fill: #1f77b4; stroke: #1f77b4\"/>\n     <use xlink:href=\"#ma669af983a\" x=\"191.182063\" y=\"116.378135\" style=\"fill: #1f77b4; stroke: #1f77b4\"/>\n     <use xlink:href=\"#ma669af983a\" x=\"134.181544\" y=\"100.542061\" style=\"fill: #1f77b4; stroke: #1f77b4\"/>\n     <use xlink:href=\"#ma669af983a\" x=\"107.338009\" y=\"59.333789\" style=\"fill: #1f77b4; stroke: #1f77b4\"/>\n     <use xlink:href=\"#ma669af983a\" x=\"125.381179\" y=\"70.271748\" style=\"fill: #1f77b4; stroke: #1f77b4\"/>\n     <use xlink:href=\"#ma669af983a\" x=\"133.534014\" y=\"94.791807\" style=\"fill: #1f77b4; stroke: #1f77b4\"/>\n     <use xlink:href=\"#ma669af983a\" x=\"104.75335\" y=\"68.000659\" style=\"fill: #1f77b4; stroke: #1f77b4\"/>\n     <use xlink:href=\"#ma669af983a\" x=\"106.236852\" y=\"57.986727\" style=\"fill: #1f77b4; stroke: #1f77b4\"/>\n     <use xlink:href=\"#ma669af983a\" x=\"116.981263\" y=\"58.064228\" style=\"fill: #1f77b4; stroke: #1f77b4\"/>\n     <use xlink:href=\"#ma669af983a\" x=\"66.085366\" y=\"50.771979\" style=\"fill: #1f77b4; stroke: #1f77b4\"/>\n     <use xlink:href=\"#ma669af983a\" x=\"128.202432\" y=\"65.620235\" style=\"fill: #1f77b4; stroke: #1f77b4\"/>\n     <use xlink:href=\"#ma669af983a\" x=\"151.204379\" y=\"80.795221\" style=\"fill: #1f77b4; stroke: #1f77b4\"/>\n     <use xlink:href=\"#ma669af983a\" x=\"157.773264\" y=\"88.605683\" style=\"fill: #1f77b4; stroke: #1f77b4\"/>\n     <use xlink:href=\"#ma669af983a\" x=\"149.050496\" y=\"85.338585\" style=\"fill: #1f77b4; stroke: #1f77b4\"/>\n     <use xlink:href=\"#ma669af983a\" x=\"107.63549\" y=\"76.710287\" style=\"fill: #1f77b4; stroke: #1f77b4\"/>\n     <use xlink:href=\"#ma669af983a\" x=\"90.743024\" y=\"47.884105\" style=\"fill: #1f77b4; stroke: #1f77b4\"/>\n     <use xlink:href=\"#ma669af983a\" x=\"91.670119\" y=\"66.083544\" style=\"fill: #1f77b4; stroke: #1f77b4\"/>\n     <use xlink:href=\"#ma669af983a\" x=\"116.705433\" y=\"64.669828\" style=\"fill: #1f77b4; stroke: #1f77b4\"/>\n     <use xlink:href=\"#ma669af983a\" x=\"116.149342\" y=\"71.868\" style=\"fill: #1f77b4; stroke: #1f77b4\"/>\n     <use xlink:href=\"#ma669af983a\" x=\"113.24483\" y=\"67.738796\" style=\"fill: #1f77b4; stroke: #1f77b4\"/>\n     <use xlink:href=\"#ma669af983a\" x=\"110.039163\" y=\"87.062534\" style=\"fill: #1f77b4; stroke: #1f77b4\"/>\n     <use xlink:href=\"#ma669af983a\" x=\"111.99103\" y=\"82.311329\" style=\"fill: #1f77b4; stroke: #1f77b4\"/>\n     <use xlink:href=\"#ma669af983a\" x=\"140.550536\" y=\"95.198805\" style=\"fill: #1f77b4; stroke: #1f77b4\"/>\n     <use xlink:href=\"#ma669af983a\" x=\"176.057284\" y=\"98.390592\" style=\"fill: #1f77b4; stroke: #1f77b4\"/>\n     <use xlink:href=\"#ma669af983a\" x=\"126.397166\" y=\"80.789574\" style=\"fill: #1f77b4; stroke: #1f77b4\"/>\n     <use xlink:href=\"#ma669af983a\" x=\"215.364915\" y=\"122.070364\" style=\"fill: #1f77b4; stroke: #1f77b4\"/>\n     <use xlink:href=\"#ma669af983a\" x=\"105.358837\" y=\"47.771939\" style=\"fill: #1f77b4; stroke: #1f77b4\"/>\n     <use xlink:href=\"#ma669af983a\" x=\"62.357285\" y=\"35.740932\" style=\"fill: #1f77b4; stroke: #1f77b4\"/>\n     <use xlink:href=\"#ma669af983a\" x=\"80.06114\" y=\"70.851534\" style=\"fill: #1f77b4; stroke: #1f77b4\"/>\n     <use xlink:href=\"#ma669af983a\" x=\"155.459081\" y=\"60.089829\" style=\"fill: #1f77b4; stroke: #1f77b4\"/>\n     <use xlink:href=\"#ma669af983a\" x=\"126.51049\" y=\"72.423292\" style=\"fill: #1f77b4; stroke: #1f77b4\"/>\n     <use xlink:href=\"#ma669af983a\" x=\"136.590123\" y=\"62.314026\" style=\"fill: #1f77b4; stroke: #1f77b4\"/>\n     <use xlink:href=\"#ma669af983a\" x=\"101.823604\" y=\"53.091612\" style=\"fill: #1f77b4; stroke: #1f77b4\"/>\n     <use xlink:href=\"#ma669af983a\" x=\"161.10044\" y=\"70.87437\" style=\"fill: #1f77b4; stroke: #1f77b4\"/>\n     <use xlink:href=\"#ma669af983a\" x=\"161.851494\" y=\"79.970134\" style=\"fill: #1f77b4; stroke: #1f77b4\"/>\n     <use xlink:href=\"#ma669af983a\" x=\"109.301877\" y=\"87.619208\" style=\"fill: #1f77b4; stroke: #1f77b4\"/>\n     <use xlink:href=\"#ma669af983a\" x=\"106.777882\" y=\"81.338052\" style=\"fill: #1f77b4; stroke: #1f77b4\"/>\n     <use xlink:href=\"#ma669af983a\" x=\"143.225133\" y=\"59.470129\" style=\"fill: #1f77b4; stroke: #1f77b4\"/>\n     <use xlink:href=\"#ma669af983a\" x=\"75.029905\" y=\"32.891968\" style=\"fill: #1f77b4; stroke: #1f77b4\"/>\n     <use xlink:href=\"#ma669af983a\" x=\"121.737588\" y=\"62.338135\" style=\"fill: #1f77b4; stroke: #1f77b4\"/>\n     <use xlink:href=\"#ma669af983a\" x=\"77.849777\" y=\"38.791315\" style=\"fill: #1f77b4; stroke: #1f77b4\"/>\n     <use xlink:href=\"#ma669af983a\" x=\"104.193993\" y=\"47.543502\" style=\"fill: #1f77b4; stroke: #1f77b4\"/>\n     <use xlink:href=\"#ma669af983a\" x=\"117.201478\" y=\"78.793152\" style=\"fill: #1f77b4; stroke: #1f77b4\"/>\n     <use xlink:href=\"#ma669af983a\" x=\"172.662549\" y=\"85.655813\" style=\"fill: #1f77b4; stroke: #1f77b4\"/>\n     <use xlink:href=\"#ma669af983a\" x=\"105.305936\" y=\"75.647065\" style=\"fill: #1f77b4; stroke: #1f77b4\"/>\n     <use xlink:href=\"#ma669af983a\" x=\"108.840028\" y=\"55.792967\" style=\"fill: #1f77b4; stroke: #1f77b4\"/>\n     <use xlink:href=\"#ma669af983a\" x=\"176.074619\" y=\"94.344742\" style=\"fill: #1f77b4; stroke: #1f77b4\"/>\n     <use xlink:href=\"#ma669af983a\" x=\"111.108183\" y=\"63.786329\" style=\"fill: #1f77b4; stroke: #1f77b4\"/>\n     <use xlink:href=\"#ma669af983a\" x=\"139.485616\" y=\"100.523941\" style=\"fill: #1f77b4; stroke: #1f77b4\"/>\n     <use xlink:href=\"#ma669af983a\" x=\"57.762124\" y=\"45.836852\" style=\"fill: #1f77b4; stroke: #1f77b4\"/>\n     <use xlink:href=\"#ma669af983a\" x=\"199.951319\" y=\"103.096891\" style=\"fill: #1f77b4; stroke: #1f77b4\"/>\n     <use xlink:href=\"#ma669af983a\" x=\"130.090721\" y=\"84.401137\" style=\"fill: #1f77b4; stroke: #1f77b4\"/>\n     <use xlink:href=\"#ma669af983a\" x=\"75.49718\" y=\"45.460993\" style=\"fill: #1f77b4; stroke: #1f77b4\"/>\n     <use xlink:href=\"#ma669af983a\" x=\"123.147902\" y=\"66.21336\" style=\"fill: #1f77b4; stroke: #1f77b4\"/>\n     <use xlink:href=\"#ma669af983a\" x=\"139.226554\" y=\"75.408788\" style=\"fill: #1f77b4; stroke: #1f77b4\"/>\n     <use xlink:href=\"#ma669af983a\" x=\"142.602976\" y=\"84.38862\" style=\"fill: #1f77b4; stroke: #1f77b4\"/>\n     <use xlink:href=\"#ma669af983a\" x=\"82.582787\" y=\"71.42671\" style=\"fill: #1f77b4; stroke: #1f77b4\"/>\n     <use xlink:href=\"#ma669af983a\" x=\"101.673559\" y=\"53.615679\" style=\"fill: #1f77b4; stroke: #1f77b4\"/>\n     <use xlink:href=\"#ma669af983a\" x=\"111.615994\" y=\"61.253769\" style=\"fill: #1f77b4; stroke: #1f77b4\"/>\n     <use xlink:href=\"#ma669af983a\" x=\"114.942277\" y=\"75.390475\" style=\"fill: #1f77b4; stroke: #1f77b4\"/>\n     <use xlink:href=\"#ma669af983a\" x=\"148.952818\" y=\"77.162315\" style=\"fill: #1f77b4; stroke: #1f77b4\"/>\n     <use xlink:href=\"#ma669af983a\" x=\"144.399966\" y=\"77.676848\" style=\"fill: #1f77b4; stroke: #1f77b4\"/>\n     <use xlink:href=\"#ma669af983a\" x=\"92.831047\" y=\"59.402109\" style=\"fill: #1f77b4; stroke: #1f77b4\"/>\n     <use xlink:href=\"#ma669af983a\" x=\"143.131785\" y=\"84.021604\" style=\"fill: #1f77b4; stroke: #1f77b4\"/>\n     <use xlink:href=\"#ma669af983a\" x=\"123.564375\" y=\"78.143029\" style=\"fill: #1f77b4; stroke: #1f77b4\"/>\n     <use xlink:href=\"#ma669af983a\" x=\"141.370387\" y=\"96.860802\" style=\"fill: #1f77b4; stroke: #1f77b4\"/>\n     <use xlink:href=\"#ma669af983a\" x=\"144.745899\" y=\"85.500132\" style=\"fill: #1f77b4; stroke: #1f77b4\"/>\n     <use xlink:href=\"#ma669af983a\" x=\"133.574696\" y=\"76.67748\" style=\"fill: #1f77b4; stroke: #1f77b4\"/>\n     <use xlink:href=\"#ma669af983a\" x=\"133.591758\" y=\"79.400106\" style=\"fill: #1f77b4; stroke: #1f77b4\"/>\n     <use xlink:href=\"#ma669af983a\" x=\"152.271354\" y=\"95.060925\" style=\"fill: #1f77b4; stroke: #1f77b4\"/>\n     <use xlink:href=\"#ma669af983a\" x=\"133.872354\" y=\"89.263084\" style=\"fill: #1f77b4; stroke: #1f77b4\"/>\n     <use xlink:href=\"#ma669af983a\" x=\"122.113943\" y=\"60.615867\" style=\"fill: #1f77b4; stroke: #1f77b4\"/>\n     <use xlink:href=\"#ma669af983a\" x=\"197.241185\" y=\"106.774313\" style=\"fill: #1f77b4; stroke: #1f77b4\"/>\n     <use xlink:href=\"#ma669af983a\" x=\"125.331129\" y=\"64.535508\" style=\"fill: #1f77b4; stroke: #1f77b4\"/>\n     <use xlink:href=\"#ma669af983a\" x=\"134.182367\" y=\"78.84509\" style=\"fill: #1f77b4; stroke: #1f77b4\"/>\n     <use xlink:href=\"#ma669af983a\" x=\"96.633159\" y=\"58.717649\" style=\"fill: #1f77b4; stroke: #1f77b4\"/>\n     <use xlink:href=\"#ma669af983a\" x=\"108.260613\" y=\"57.265608\" style=\"fill: #1f77b4; stroke: #1f77b4\"/>\n     <use xlink:href=\"#ma669af983a\" x=\"156.761824\" y=\"92.868331\" style=\"fill: #1f77b4; stroke: #1f77b4\"/>\n     <use xlink:href=\"#ma669af983a\" x=\"81.276582\" y=\"50.216797\" style=\"fill: #1f77b4; stroke: #1f77b4\"/>\n     <use xlink:href=\"#ma669af983a\" x=\"158.191025\" y=\"97.726889\" style=\"fill: #1f77b4; stroke: #1f77b4\"/>\n     <use xlink:href=\"#ma669af983a\" x=\"114.043594\" y=\"91.589042\" style=\"fill: #1f77b4; stroke: #1f77b4\"/>\n     <use xlink:href=\"#ma669af983a\" x=\"149.035259\" y=\"73.873522\" style=\"fill: #1f77b4; stroke: #1f77b4\"/>\n     <use xlink:href=\"#ma669af983a\" x=\"171.290465\" y=\"90.885012\" style=\"fill: #1f77b4; stroke: #1f77b4\"/>\n     <use xlink:href=\"#ma669af983a\" x=\"109.281223\" y=\"77.81886\" style=\"fill: #1f77b4; stroke: #1f77b4\"/>\n     <use xlink:href=\"#ma669af983a\" x=\"129.110497\" y=\"84.074726\" style=\"fill: #1f77b4; stroke: #1f77b4\"/>\n     <use xlink:href=\"#ma669af983a\" x=\"77.363211\" y=\"41.144174\" style=\"fill: #1f77b4; stroke: #1f77b4\"/>\n     <use xlink:href=\"#ma669af983a\" x=\"148.587056\" y=\"81.17648\" style=\"fill: #1f77b4; stroke: #1f77b4\"/>\n     <use xlink:href=\"#ma669af983a\" x=\"132.011372\" y=\"64.668992\" style=\"fill: #1f77b4; stroke: #1f77b4\"/>\n     <use xlink:href=\"#ma669af983a\" x=\"149.420483\" y=\"96.082493\" style=\"fill: #1f77b4; stroke: #1f77b4\"/>\n     <use xlink:href=\"#ma669af983a\" x=\"100.097522\" y=\"68.516184\" style=\"fill: #1f77b4; stroke: #1f77b4\"/>\n     <use xlink:href=\"#ma669af983a\" x=\"133.445849\" y=\"108.32935\" style=\"fill: #1f77b4; stroke: #1f77b4\"/>\n     <use xlink:href=\"#ma669af983a\" x=\"183.749858\" y=\"119.501874\" style=\"fill: #1f77b4; stroke: #1f77b4\"/>\n     <use xlink:href=\"#ma669af983a\" x=\"159.931911\" y=\"87.596946\" style=\"fill: #1f77b4; stroke: #1f77b4\"/>\n     <use xlink:href=\"#ma669af983a\" x=\"155.412471\" y=\"82.34318\" style=\"fill: #1f77b4; stroke: #1f77b4\"/>\n     <use xlink:href=\"#ma669af983a\" x=\"159.370534\" y=\"97.706238\" style=\"fill: #1f77b4; stroke: #1f77b4\"/>\n     <use xlink:href=\"#ma669af983a\" x=\"95.289683\" y=\"50.908688\" style=\"fill: #1f77b4; stroke: #1f77b4\"/>\n     <use xlink:href=\"#ma669af983a\" x=\"109.837177\" y=\"48.966628\" style=\"fill: #1f77b4; stroke: #1f77b4\"/>\n     <use xlink:href=\"#ma669af983a\" x=\"101.280224\" y=\"50.320691\" style=\"fill: #1f77b4; stroke: #1f77b4\"/>\n     <use xlink:href=\"#ma669af983a\" x=\"135.184598\" y=\"66.358595\" style=\"fill: #1f77b4; stroke: #1f77b4\"/>\n     <use xlink:href=\"#ma669af983a\" x=\"152.369259\" y=\"98.283846\" style=\"fill: #1f77b4; stroke: #1f77b4\"/>\n     <use xlink:href=\"#ma669af983a\" x=\"139.157246\" y=\"64.986489\" style=\"fill: #1f77b4; stroke: #1f77b4\"/>\n     <use xlink:href=\"#ma669af983a\" x=\"125.922326\" y=\"65.583121\" style=\"fill: #1f77b4; stroke: #1f77b4\"/>\n     <use xlink:href=\"#ma669af983a\" x=\"122.246656\" y=\"73.288442\" style=\"fill: #1f77b4; stroke: #1f77b4\"/>\n     <use xlink:href=\"#ma669af983a\" x=\"142.03979\" y=\"88.250295\" style=\"fill: #1f77b4; stroke: #1f77b4\"/>\n     <use xlink:href=\"#ma669af983a\" x=\"85.375499\" y=\"80.801957\" style=\"fill: #1f77b4; stroke: #1f77b4\"/>\n     <use xlink:href=\"#ma669af983a\" x=\"100.305663\" y=\"69.223551\" style=\"fill: #1f77b4; stroke: #1f77b4\"/>\n     <use xlink:href=\"#ma669af983a\" x=\"185.654873\" y=\"112.517931\" style=\"fill: #1f77b4; stroke: #1f77b4\"/>\n     <use xlink:href=\"#ma669af983a\" x=\"198.722767\" y=\"116.161599\" style=\"fill: #1f77b4; stroke: #1f77b4\"/>\n     <use xlink:href=\"#ma669af983a\" x=\"56.027476\" y=\"48.060452\" style=\"fill: #1f77b4; stroke: #1f77b4\"/>\n     <use xlink:href=\"#ma669af983a\" x=\"180.775371\" y=\"104.612237\" style=\"fill: #1f77b4; stroke: #1f77b4\"/>\n     <use xlink:href=\"#ma669af983a\" x=\"89.590268\" y=\"69.638995\" style=\"fill: #1f77b4; stroke: #1f77b4\"/>\n     <use xlink:href=\"#ma669af983a\" x=\"146.998741\" y=\"100.627365\" style=\"fill: #1f77b4; stroke: #1f77b4\"/>\n     <use xlink:href=\"#ma669af983a\" x=\"148.295145\" y=\"84.244624\" style=\"fill: #1f77b4; stroke: #1f77b4\"/>\n     <use xlink:href=\"#ma669af983a\" x=\"84.575714\" y=\"44.448779\" style=\"fill: #1f77b4; stroke: #1f77b4\"/>\n     <use xlink:href=\"#ma669af983a\" x=\"93.544695\" y=\"35.000889\" style=\"fill: #1f77b4; stroke: #1f77b4\"/>\n     <use xlink:href=\"#ma669af983a\" x=\"142.005103\" y=\"89.067319\" style=\"fill: #1f77b4; stroke: #1f77b4\"/>\n     <use xlink:href=\"#ma669af983a\" x=\"126.515418\" y=\"59.396696\" style=\"fill: #1f77b4; stroke: #1f77b4\"/>\n     <use xlink:href=\"#ma669af983a\" x=\"111.32783\" y=\"57.096412\" style=\"fill: #1f77b4; stroke: #1f77b4\"/>\n     <use xlink:href=\"#ma669af983a\" x=\"141.312332\" y=\"79.403055\" style=\"fill: #1f77b4; stroke: #1f77b4\"/>\n     <use xlink:href=\"#ma669af983a\" x=\"158.305572\" y=\"99.271672\" style=\"fill: #1f77b4; stroke: #1f77b4\"/>\n     <use xlink:href=\"#ma669af983a\" x=\"139.117308\" y=\"78.63388\" style=\"fill: #1f77b4; stroke: #1f77b4\"/>\n     <use xlink:href=\"#ma669af983a\" x=\"124.246991\" y=\"55.804545\" style=\"fill: #1f77b4; stroke: #1f77b4\"/>\n     <use xlink:href=\"#ma669af983a\" x=\"59.381596\" y=\"34.051353\" style=\"fill: #1f77b4; stroke: #1f77b4\"/>\n     <use xlink:href=\"#ma669af983a\" x=\"90.253779\" y=\"67.640819\" style=\"fill: #1f77b4; stroke: #1f77b4\"/>\n     <use xlink:href=\"#ma669af983a\" x=\"101.421616\" y=\"58.714361\" style=\"fill: #1f77b4; stroke: #1f77b4\"/>\n     <use xlink:href=\"#ma669af983a\" x=\"140.733821\" y=\"80.410782\" style=\"fill: #1f77b4; stroke: #1f77b4\"/>\n     <use xlink:href=\"#ma669af983a\" x=\"112.626165\" y=\"78.001442\" style=\"fill: #1f77b4; stroke: #1f77b4\"/>\n     <use xlink:href=\"#ma669af983a\" x=\"92.874177\" y=\"57.691045\" style=\"fill: #1f77b4; stroke: #1f77b4\"/>\n     <use xlink:href=\"#ma669af983a\" x=\"185.879524\" y=\"111.829079\" style=\"fill: #1f77b4; stroke: #1f77b4\"/>\n     <use xlink:href=\"#ma669af983a\" x=\"120.526546\" y=\"66.432203\" style=\"fill: #1f77b4; stroke: #1f77b4\"/>\n     <use xlink:href=\"#ma669af983a\" x=\"133.177744\" y=\"74.236354\" style=\"fill: #1f77b4; stroke: #1f77b4\"/>\n     <use xlink:href=\"#ma669af983a\" x=\"127.414337\" y=\"75.855531\" style=\"fill: #1f77b4; stroke: #1f77b4\"/>\n     <use xlink:href=\"#ma669af983a\" x=\"135.574758\" y=\"78.247395\" style=\"fill: #1f77b4; stroke: #1f77b4\"/>\n     <use xlink:href=\"#ma669af983a\" x=\"107.065334\" y=\"65.66208\" style=\"fill: #1f77b4; stroke: #1f77b4\"/>\n     <use xlink:href=\"#ma669af983a\" x=\"156.091688\" y=\"75.961218\" style=\"fill: #1f77b4; stroke: #1f77b4\"/>\n     <use xlink:href=\"#ma669af983a\" x=\"136.764194\" y=\"95.249482\" style=\"fill: #1f77b4; stroke: #1f77b4\"/>\n     <use xlink:href=\"#ma669af983a\" x=\"180.569213\" y=\"113.057672\" style=\"fill: #1f77b4; stroke: #1f77b4\"/>\n     <use xlink:href=\"#ma669af983a\" x=\"102.944455\" y=\"91.594016\" style=\"fill: #1f77b4; stroke: #1f77b4\"/>\n     <use xlink:href=\"#ma669af983a\" x=\"196.848801\" y=\"122.884987\" style=\"fill: #1f77b4; stroke: #1f77b4\"/>\n     <use xlink:href=\"#ma669af983a\" x=\"82.614654\" y=\"59.467908\" style=\"fill: #1f77b4; stroke: #1f77b4\"/>\n     <use xlink:href=\"#ma669af983a\" x=\"74.724286\" y=\"56.248859\" style=\"fill: #1f77b4; stroke: #1f77b4\"/>\n     <use xlink:href=\"#ma669af983a\" x=\"118.045175\" y=\"60.46867\" style=\"fill: #1f77b4; stroke: #1f77b4\"/>\n     <use xlink:href=\"#ma669af983a\" x=\"87.797429\" y=\"54.494566\" style=\"fill: #1f77b4; stroke: #1f77b4\"/>\n     <use xlink:href=\"#ma669af983a\" x=\"120.649974\" y=\"68.134998\" style=\"fill: #1f77b4; stroke: #1f77b4\"/>\n     <use xlink:href=\"#ma669af983a\" x=\"138.207181\" y=\"78.78432\" style=\"fill: #1f77b4; stroke: #1f77b4\"/>\n     <use xlink:href=\"#ma669af983a\" x=\"131.942907\" y=\"96.543411\" style=\"fill: #1f77b4; stroke: #1f77b4\"/>\n     <use xlink:href=\"#ma669af983a\" x=\"116.996341\" y=\"70.197782\" style=\"fill: #1f77b4; stroke: #1f77b4\"/>\n     <use xlink:href=\"#ma669af983a\" x=\"121.234559\" y=\"70.72173\" style=\"fill: #1f77b4; stroke: #1f77b4\"/>\n     <use xlink:href=\"#ma669af983a\" x=\"100.64121\" y=\"53.862667\" style=\"fill: #1f77b4; stroke: #1f77b4\"/>\n     <use xlink:href=\"#ma669af983a\" x=\"86.284359\" y=\"55.008615\" style=\"fill: #1f77b4; stroke: #1f77b4\"/>\n     <use xlink:href=\"#ma669af983a\" x=\"95.877645\" y=\"62.354689\" style=\"fill: #1f77b4; stroke: #1f77b4\"/>\n     <use xlink:href=\"#ma669af983a\" x=\"107.842845\" y=\"62.152849\" style=\"fill: #1f77b4; stroke: #1f77b4\"/>\n     <use xlink:href=\"#ma669af983a\" x=\"103.551175\" y=\"54.250908\" style=\"fill: #1f77b4; stroke: #1f77b4\"/>\n     <use xlink:href=\"#ma669af983a\" x=\"67.420238\" y=\"54.826691\" style=\"fill: #1f77b4; stroke: #1f77b4\"/>\n     <use xlink:href=\"#ma669af983a\" x=\"148.304588\" y=\"111.228295\" style=\"fill: #1f77b4; stroke: #1f77b4\"/>\n     <use xlink:href=\"#ma669af983a\" x=\"98.77439\" y=\"59.198615\" style=\"fill: #1f77b4; stroke: #1f77b4\"/>\n     <use xlink:href=\"#ma669af983a\" x=\"74.3871\" y=\"65.063215\" style=\"fill: #1f77b4; stroke: #1f77b4\"/>\n     <use xlink:href=\"#ma669af983a\" x=\"157.571645\" y=\"96.89352\" style=\"fill: #1f77b4; stroke: #1f77b4\"/>\n     <use xlink:href=\"#ma669af983a\" x=\"130.858641\" y=\"85.306965\" style=\"fill: #1f77b4; stroke: #1f77b4\"/>\n     <use xlink:href=\"#ma669af983a\" x=\"141.565971\" y=\"71.03424\" style=\"fill: #1f77b4; stroke: #1f77b4\"/>\n     <use xlink:href=\"#ma669af983a\" x=\"99.208991\" y=\"50.392401\" style=\"fill: #1f77b4; stroke: #1f77b4\"/>\n     <use xlink:href=\"#ma669af983a\" x=\"114.714137\" y=\"64.217898\" style=\"fill: #1f77b4; stroke: #1f77b4\"/>\n     <use xlink:href=\"#ma669af983a\" x=\"121.904979\" y=\"61.884851\" style=\"fill: #1f77b4; stroke: #1f77b4\"/>\n     <use xlink:href=\"#ma669af983a\" x=\"142.163453\" y=\"85.515109\" style=\"fill: #1f77b4; stroke: #1f77b4\"/>\n     <use xlink:href=\"#ma669af983a\" x=\"103.435449\" y=\"62.922407\" style=\"fill: #1f77b4; stroke: #1f77b4\"/>\n     <use xlink:href=\"#ma669af983a\" x=\"140.513489\" y=\"95.570971\" style=\"fill: #1f77b4; stroke: #1f77b4\"/>\n     <use xlink:href=\"#ma669af983a\" x=\"202.416873\" y=\"126.974366\" style=\"fill: #1f77b4; stroke: #1f77b4\"/>\n     <use xlink:href=\"#ma669af983a\" x=\"146.50026\" y=\"90.344171\" style=\"fill: #1f77b4; stroke: #1f77b4\"/>\n     <use xlink:href=\"#ma669af983a\" x=\"131.261113\" y=\"72.260781\" style=\"fill: #1f77b4; stroke: #1f77b4\"/>\n     <use xlink:href=\"#ma669af983a\" x=\"100.906816\" y=\"66.404585\" style=\"fill: #1f77b4; stroke: #1f77b4\"/>\n     <use xlink:href=\"#ma669af983a\" x=\"116.880323\" y=\"80.119657\" style=\"fill: #1f77b4; stroke: #1f77b4\"/>\n     <use xlink:href=\"#ma669af983a\" x=\"160.409366\" y=\"105.290253\" style=\"fill: #1f77b4; stroke: #1f77b4\"/>\n     <use xlink:href=\"#ma669af983a\" x=\"104.447509\" y=\"66.916768\" style=\"fill: #1f77b4; stroke: #1f77b4\"/>\n     <use xlink:href=\"#ma669af983a\" x=\"116.59729\" y=\"56.794088\" style=\"fill: #1f77b4; stroke: #1f77b4\"/>\n     <use xlink:href=\"#ma669af983a\" x=\"130.039713\" y=\"66.51519\" style=\"fill: #1f77b4; stroke: #1f77b4\"/>\n     <use xlink:href=\"#ma669af983a\" x=\"139.613461\" y=\"77.272029\" style=\"fill: #1f77b4; stroke: #1f77b4\"/>\n     <use xlink:href=\"#ma669af983a\" x=\"136.25801\" y=\"86.722516\" style=\"fill: #1f77b4; stroke: #1f77b4\"/>\n     <use xlink:href=\"#ma669af983a\" x=\"157.98745\" y=\"100.156455\" style=\"fill: #1f77b4; stroke: #1f77b4\"/>\n     <use xlink:href=\"#ma669af983a\" x=\"160.606176\" y=\"95.666847\" style=\"fill: #1f77b4; stroke: #1f77b4\"/>\n     <use xlink:href=\"#ma669af983a\" x=\"61.531601\" y=\"56.794154\" style=\"fill: #1f77b4; stroke: #1f77b4\"/>\n     <use xlink:href=\"#ma669af983a\" x=\"156.456847\" y=\"83.190732\" style=\"fill: #1f77b4; stroke: #1f77b4\"/>\n     <use xlink:href=\"#ma669af983a\" x=\"204.68181\" y=\"113.168452\" style=\"fill: #1f77b4; stroke: #1f77b4\"/>\n     <use xlink:href=\"#ma669af983a\" x=\"145.251507\" y=\"75.744199\" style=\"fill: #1f77b4; stroke: #1f77b4\"/>\n     <use xlink:href=\"#ma669af983a\" x=\"149.702795\" y=\"69.562053\" style=\"fill: #1f77b4; stroke: #1f77b4\"/>\n     <use xlink:href=\"#ma669af983a\" x=\"119.416708\" y=\"69.668897\" style=\"fill: #1f77b4; stroke: #1f77b4\"/>\n     <use xlink:href=\"#ma669af983a\" x=\"162.273248\" y=\"91.283694\" style=\"fill: #1f77b4; stroke: #1f77b4\"/>\n     <use xlink:href=\"#ma669af983a\" x=\"75.808485\" y=\"43.556806\" style=\"fill: #1f77b4; stroke: #1f77b4\"/>\n     <use xlink:href=\"#ma669af983a\" x=\"87.371936\" y=\"70.594932\" style=\"fill: #1f77b4; stroke: #1f77b4\"/>\n     <use xlink:href=\"#ma669af983a\" x=\"82.52086\" y=\"46.809853\" style=\"fill: #1f77b4; stroke: #1f77b4\"/>\n     <use xlink:href=\"#ma669af983a\" x=\"122.42362\" y=\"107.527302\" style=\"fill: #1f77b4; stroke: #1f77b4\"/>\n     <use xlink:href=\"#ma669af983a\" x=\"120.325106\" y=\"83.225184\" style=\"fill: #1f77b4; stroke: #1f77b4\"/>\n     <use xlink:href=\"#ma669af983a\" x=\"116.720723\" y=\"63.745505\" style=\"fill: #1f77b4; stroke: #1f77b4\"/>\n     <use xlink:href=\"#ma669af983a\" x=\"134.304738\" y=\"96.861\" style=\"fill: #1f77b4; stroke: #1f77b4\"/>\n     <use xlink:href=\"#ma669af983a\" x=\"104.166616\" y=\"56.061032\" style=\"fill: #1f77b4; stroke: #1f77b4\"/>\n     <use xlink:href=\"#ma669af983a\" x=\"141.614093\" y=\"58.967004\" style=\"fill: #1f77b4; stroke: #1f77b4\"/>\n     <use xlink:href=\"#ma669af983a\" x=\"110.192592\" y=\"67.128547\" style=\"fill: #1f77b4; stroke: #1f77b4\"/>\n     <use xlink:href=\"#ma669af983a\" x=\"155.234803\" y=\"95.835537\" style=\"fill: #1f77b4; stroke: #1f77b4\"/>\n     <use xlink:href=\"#ma669af983a\" x=\"154.590729\" y=\"96.531777\" style=\"fill: #1f77b4; stroke: #1f77b4\"/>\n     <use xlink:href=\"#ma669af983a\" x=\"129.949404\" y=\"96.186074\" style=\"fill: #1f77b4; stroke: #1f77b4\"/>\n     <use xlink:href=\"#ma669af983a\" x=\"134.311476\" y=\"80.686595\" style=\"fill: #1f77b4; stroke: #1f77b4\"/>\n     <use xlink:href=\"#ma669af983a\" x=\"179.901784\" y=\"97.434418\" style=\"fill: #1f77b4; stroke: #1f77b4\"/>\n     <use xlink:href=\"#ma669af983a\" x=\"133.809059\" y=\"78.211601\" style=\"fill: #1f77b4; stroke: #1f77b4\"/>\n     <use xlink:href=\"#ma669af983a\" x=\"138.730062\" y=\"81.788815\" style=\"fill: #1f77b4; stroke: #1f77b4\"/>\n     <use xlink:href=\"#ma669af983a\" x=\"162.819659\" y=\"88.568412\" style=\"fill: #1f77b4; stroke: #1f77b4\"/>\n     <use xlink:href=\"#ma669af983a\" x=\"136.876968\" y=\"82.034372\" style=\"fill: #1f77b4; stroke: #1f77b4\"/>\n     <use xlink:href=\"#ma669af983a\" x=\"151.079096\" y=\"74.501334\" style=\"fill: #1f77b4; stroke: #1f77b4\"/>\n     <use xlink:href=\"#ma669af983a\" x=\"181.216524\" y=\"107.750194\" style=\"fill: #1f77b4; stroke: #1f77b4\"/>\n     <use xlink:href=\"#ma669af983a\" x=\"108.475363\" y=\"67.841647\" style=\"fill: #1f77b4; stroke: #1f77b4\"/>\n     <use xlink:href=\"#ma669af983a\" x=\"117.365456\" y=\"71.471504\" style=\"fill: #1f77b4; stroke: #1f77b4\"/>\n     <use xlink:href=\"#ma669af983a\" x=\"123.460607\" y=\"63.389814\" style=\"fill: #1f77b4; stroke: #1f77b4\"/>\n     <use xlink:href=\"#ma669af983a\" x=\"107.792659\" y=\"67.493485\" style=\"fill: #1f77b4; stroke: #1f77b4\"/>\n     <use xlink:href=\"#ma669af983a\" x=\"105.14366\" y=\"45.575905\" style=\"fill: #1f77b4; stroke: #1f77b4\"/>\n     <use xlink:href=\"#ma669af983a\" x=\"140.402415\" y=\"96.617919\" style=\"fill: #1f77b4; stroke: #1f77b4\"/>\n     <use xlink:href=\"#ma669af983a\" x=\"107.397088\" y=\"78.518788\" style=\"fill: #1f77b4; stroke: #1f77b4\"/>\n     <use xlink:href=\"#ma669af983a\" x=\"120.145025\" y=\"94.011014\" style=\"fill: #1f77b4; stroke: #1f77b4\"/>\n     <use xlink:href=\"#ma669af983a\" x=\"105.025172\" y=\"66.675653\" style=\"fill: #1f77b4; stroke: #1f77b4\"/>\n     <use xlink:href=\"#ma669af983a\" x=\"97.565448\" y=\"73.600413\" style=\"fill: #1f77b4; stroke: #1f77b4\"/>\n     <use xlink:href=\"#ma669af983a\" x=\"106.295265\" y=\"67.679993\" style=\"fill: #1f77b4; stroke: #1f77b4\"/>\n     <use xlink:href=\"#ma669af983a\" x=\"94.279589\" y=\"53.009963\" style=\"fill: #1f77b4; stroke: #1f77b4\"/>\n     <use xlink:href=\"#ma669af983a\" x=\"101.31055\" y=\"55.802854\" style=\"fill: #1f77b4; stroke: #1f77b4\"/>\n     <use xlink:href=\"#ma669af983a\" x=\"90.256491\" y=\"44.916959\" style=\"fill: #1f77b4; stroke: #1f77b4\"/>\n     <use xlink:href=\"#ma669af983a\" x=\"100.056714\" y=\"45.291292\" style=\"fill: #1f77b4; stroke: #1f77b4\"/>\n     <use xlink:href=\"#ma669af983a\" x=\"138.62081\" y=\"87.562792\" style=\"fill: #1f77b4; stroke: #1f77b4\"/>\n     <use xlink:href=\"#ma669af983a\" x=\"134.75559\" y=\"65.065931\" style=\"fill: #1f77b4; stroke: #1f77b4\"/>\n     <use xlink:href=\"#ma669af983a\" x=\"142.589107\" y=\"90.548866\" style=\"fill: #1f77b4; stroke: #1f77b4\"/>\n     <use xlink:href=\"#ma669af983a\" x=\"137.495028\" y=\"92.932101\" style=\"fill: #1f77b4; stroke: #1f77b4\"/>\n     <use xlink:href=\"#ma669af983a\" x=\"127.108272\" y=\"89.091304\" style=\"fill: #1f77b4; stroke: #1f77b4\"/>\n     <use xlink:href=\"#ma669af983a\" x=\"136.95644\" y=\"96.583517\" style=\"fill: #1f77b4; stroke: #1f77b4\"/>\n     <use xlink:href=\"#ma669af983a\" x=\"127.472771\" y=\"92.383997\" style=\"fill: #1f77b4; stroke: #1f77b4\"/>\n     <use xlink:href=\"#ma669af983a\" x=\"116.630375\" y=\"69.38218\" style=\"fill: #1f77b4; stroke: #1f77b4\"/>\n     <use xlink:href=\"#ma669af983a\" x=\"111.401963\" y=\"54.322712\" style=\"fill: #1f77b4; stroke: #1f77b4\"/>\n     <use xlink:href=\"#ma669af983a\" x=\"172.597096\" y=\"94.091113\" style=\"fill: #1f77b4; stroke: #1f77b4\"/>\n     <use xlink:href=\"#ma669af983a\" x=\"99.040578\" y=\"45.586679\" style=\"fill: #1f77b4; stroke: #1f77b4\"/>\n     <use xlink:href=\"#ma669af983a\" x=\"131.711898\" y=\"71.631005\" style=\"fill: #1f77b4; stroke: #1f77b4\"/>\n     <use xlink:href=\"#ma669af983a\" x=\"135.914616\" y=\"100.748518\" style=\"fill: #1f77b4; stroke: #1f77b4\"/>\n     <use xlink:href=\"#ma669af983a\" x=\"146.412632\" y=\"74.959289\" style=\"fill: #1f77b4; stroke: #1f77b4\"/>\n     <use xlink:href=\"#ma669af983a\" x=\"63.76155\" y=\"40.208467\" style=\"fill: #1f77b4; stroke: #1f77b4\"/>\n     <use xlink:href=\"#ma669af983a\" x=\"82.786907\" y=\"47.39791\" style=\"fill: #1f77b4; stroke: #1f77b4\"/>\n     <use xlink:href=\"#ma669af983a\" x=\"135.757574\" y=\"60.161233\" style=\"fill: #1f77b4; stroke: #1f77b4\"/>\n     <use xlink:href=\"#ma669af983a\" x=\"143.354085\" y=\"76.146825\" style=\"fill: #1f77b4; stroke: #1f77b4\"/>\n     <use xlink:href=\"#ma669af983a\" x=\"140.082276\" y=\"82.654611\" style=\"fill: #1f77b4; stroke: #1f77b4\"/>\n     <use xlink:href=\"#ma669af983a\" x=\"75.887178\" y=\"37.301491\" style=\"fill: #1f77b4; stroke: #1f77b4\"/>\n     <use xlink:href=\"#ma669af983a\" x=\"133.193622\" y=\"83.86159\" style=\"fill: #1f77b4; stroke: #1f77b4\"/>\n     <use xlink:href=\"#ma669af983a\" x=\"196.19479\" y=\"131.428802\" style=\"fill: #1f77b4; stroke: #1f77b4\"/>\n     <use xlink:href=\"#ma669af983a\" x=\"131.471428\" y=\"83.107361\" style=\"fill: #1f77b4; stroke: #1f77b4\"/>\n     <use xlink:href=\"#ma669af983a\" x=\"144.738471\" y=\"88.010222\" style=\"fill: #1f77b4; stroke: #1f77b4\"/>\n     <use xlink:href=\"#ma669af983a\" x=\"144.575637\" y=\"78.599605\" style=\"fill: #1f77b4; stroke: #1f77b4\"/>\n     <use xlink:href=\"#ma669af983a\" x=\"128.526079\" y=\"57.804584\" style=\"fill: #1f77b4; stroke: #1f77b4\"/>\n     <use xlink:href=\"#ma669af983a\" x=\"133.671333\" y=\"78.402445\" style=\"fill: #1f77b4; stroke: #1f77b4\"/>\n     <use xlink:href=\"#ma669af983a\" x=\"100.490112\" y=\"66.633129\" style=\"fill: #1f77b4; stroke: #1f77b4\"/>\n     <use xlink:href=\"#ma669af983a\" x=\"91.724544\" y=\"53.305365\" style=\"fill: #1f77b4; stroke: #1f77b4\"/>\n     <use xlink:href=\"#ma669af983a\" x=\"117.878548\" y=\"59.865306\" style=\"fill: #1f77b4; stroke: #1f77b4\"/>\n     <use xlink:href=\"#ma669af983a\" x=\"158.331906\" y=\"108.550093\" style=\"fill: #1f77b4; stroke: #1f77b4\"/>\n     <use xlink:href=\"#ma669af983a\" x=\"107.13759\" y=\"64.816648\" style=\"fill: #1f77b4; stroke: #1f77b4\"/>\n     <use xlink:href=\"#ma669af983a\" x=\"141.771363\" y=\"72.933572\" style=\"fill: #1f77b4; stroke: #1f77b4\"/>\n     <use xlink:href=\"#ma669af983a\" x=\"162.352192\" y=\"100.716414\" style=\"fill: #1f77b4; stroke: #1f77b4\"/>\n     <use xlink:href=\"#ma669af983a\" x=\"126.719073\" y=\"67.695312\" style=\"fill: #1f77b4; stroke: #1f77b4\"/>\n     <use xlink:href=\"#ma669af983a\" x=\"167.572265\" y=\"91.010076\" style=\"fill: #1f77b4; stroke: #1f77b4\"/>\n     <use xlink:href=\"#ma669af983a\" x=\"134.310256\" y=\"76.469163\" style=\"fill: #1f77b4; stroke: #1f77b4\"/>\n     <use xlink:href=\"#ma669af983a\" x=\"154.954358\" y=\"86.131033\" style=\"fill: #1f77b4; stroke: #1f77b4\"/>\n     <use xlink:href=\"#ma669af983a\" x=\"136.431193\" y=\"83.598238\" style=\"fill: #1f77b4; stroke: #1f77b4\"/>\n     <use xlink:href=\"#ma669af983a\" x=\"191.469378\" y=\"124.564231\" style=\"fill: #1f77b4; stroke: #1f77b4\"/>\n     <use xlink:href=\"#ma669af983a\" x=\"135.133344\" y=\"82.744314\" style=\"fill: #1f77b4; stroke: #1f77b4\"/>\n     <use xlink:href=\"#ma669af983a\" x=\"104.485942\" y=\"67.30166\" style=\"fill: #1f77b4; stroke: #1f77b4\"/>\n     <use xlink:href=\"#ma669af983a\" x=\"158.546669\" y=\"88.621941\" style=\"fill: #1f77b4; stroke: #1f77b4\"/>\n     <use xlink:href=\"#ma669af983a\" x=\"153.011477\" y=\"92.157487\" style=\"fill: #1f77b4; stroke: #1f77b4\"/>\n     <use xlink:href=\"#ma669af983a\" x=\"103.649491\" y=\"51.852564\" style=\"fill: #1f77b4; stroke: #1f77b4\"/>\n     <use xlink:href=\"#ma669af983a\" x=\"137.596623\" y=\"75.370466\" style=\"fill: #1f77b4; stroke: #1f77b4\"/>\n     <use xlink:href=\"#ma669af983a\" x=\"119.947577\" y=\"74.521602\" style=\"fill: #1f77b4; stroke: #1f77b4\"/>\n     <use xlink:href=\"#ma669af983a\" x=\"150.05025\" y=\"89.297176\" style=\"fill: #1f77b4; stroke: #1f77b4\"/>\n     <use xlink:href=\"#ma669af983a\" x=\"164.092667\" y=\"90.549162\" style=\"fill: #1f77b4; stroke: #1f77b4\"/>\n     <use xlink:href=\"#ma669af983a\" x=\"159.181375\" y=\"87.560782\" style=\"fill: #1f77b4; stroke: #1f77b4\"/>\n     <use xlink:href=\"#ma669af983a\" x=\"111.239629\" y=\"48.128972\" style=\"fill: #1f77b4; stroke: #1f77b4\"/>\n     <use xlink:href=\"#ma669af983a\" x=\"128.415152\" y=\"85.746129\" style=\"fill: #1f77b4; stroke: #1f77b4\"/>\n     <use xlink:href=\"#ma669af983a\" x=\"121.647209\" y=\"69.048067\" style=\"fill: #1f77b4; stroke: #1f77b4\"/>\n     <use xlink:href=\"#ma669af983a\" x=\"134.182732\" y=\"84.164992\" style=\"fill: #1f77b4; stroke: #1f77b4\"/>\n     <use xlink:href=\"#ma669af983a\" x=\"169.722622\" y=\"114.973078\" style=\"fill: #1f77b4; stroke: #1f77b4\"/>\n     <use xlink:href=\"#ma669af983a\" x=\"144.386672\" y=\"75.96013\" style=\"fill: #1f77b4; stroke: #1f77b4\"/>\n     <use xlink:href=\"#ma669af983a\" x=\"178.482944\" y=\"99.848694\" style=\"fill: #1f77b4; stroke: #1f77b4\"/>\n     <use xlink:href=\"#ma669af983a\" x=\"126.081452\" y=\"66.357681\" style=\"fill: #1f77b4; stroke: #1f77b4\"/>\n     <use xlink:href=\"#ma669af983a\" x=\"102.604584\" y=\"79.097696\" style=\"fill: #1f77b4; stroke: #1f77b4\"/>\n     <use xlink:href=\"#ma669af983a\" x=\"105.879756\" y=\"70.165965\" style=\"fill: #1f77b4; stroke: #1f77b4\"/>\n     <use xlink:href=\"#ma669af983a\" x=\"136.817276\" y=\"80.597708\" style=\"fill: #1f77b4; stroke: #1f77b4\"/>\n     <use xlink:href=\"#ma669af983a\" x=\"144.917239\" y=\"98.185003\" style=\"fill: #1f77b4; stroke: #1f77b4\"/>\n     <use xlink:href=\"#ma669af983a\" x=\"156.726371\" y=\"80.885077\" style=\"fill: #1f77b4; stroke: #1f77b4\"/>\n     <use xlink:href=\"#ma669af983a\" x=\"127.267487\" y=\"78.283622\" style=\"fill: #1f77b4; stroke: #1f77b4\"/>\n     <use xlink:href=\"#ma669af983a\" x=\"81.547549\" y=\"56.164058\" style=\"fill: #1f77b4; stroke: #1f77b4\"/>\n     <use xlink:href=\"#ma669af983a\" x=\"129.325242\" y=\"72.183823\" style=\"fill: #1f77b4; stroke: #1f77b4\"/>\n     <use xlink:href=\"#ma669af983a\" x=\"124.529844\" y=\"72.078678\" style=\"fill: #1f77b4; stroke: #1f77b4\"/>\n     <use xlink:href=\"#ma669af983a\" x=\"147.72313\" y=\"81.188886\" style=\"fill: #1f77b4; stroke: #1f77b4\"/>\n     <use xlink:href=\"#ma669af983a\" x=\"101.252828\" y=\"61.790573\" style=\"fill: #1f77b4; stroke: #1f77b4\"/>\n     <use xlink:href=\"#ma669af983a\" x=\"163.218514\" y=\"94.39481\" style=\"fill: #1f77b4; stroke: #1f77b4\"/>\n     <use xlink:href=\"#ma669af983a\" x=\"79.23772\" y=\"53.711564\" style=\"fill: #1f77b4; stroke: #1f77b4\"/>\n     <use xlink:href=\"#ma669af983a\" x=\"137.062733\" y=\"79.77647\" style=\"fill: #1f77b4; stroke: #1f77b4\"/>\n     <use xlink:href=\"#ma669af983a\" x=\"147.314417\" y=\"84.541004\" style=\"fill: #1f77b4; stroke: #1f77b4\"/>\n     <use xlink:href=\"#ma669af983a\" x=\"112.389389\" y=\"60.66177\" style=\"fill: #1f77b4; stroke: #1f77b4\"/>\n     <use xlink:href=\"#ma669af983a\" x=\"154.723962\" y=\"96.928551\" style=\"fill: #1f77b4; stroke: #1f77b4\"/>\n     <use xlink:href=\"#ma669af983a\" x=\"180.651039\" y=\"97.67716\" style=\"fill: #1f77b4; stroke: #1f77b4\"/>\n     <use xlink:href=\"#ma669af983a\" x=\"112.035505\" y=\"53.213609\" style=\"fill: #1f77b4; stroke: #1f77b4\"/>\n     <use xlink:href=\"#ma669af983a\" x=\"139.168997\" y=\"82.627478\" style=\"fill: #1f77b4; stroke: #1f77b4\"/>\n     <use xlink:href=\"#ma669af983a\" x=\"129.082152\" y=\"76.873961\" style=\"fill: #1f77b4; stroke: #1f77b4\"/>\n     <use xlink:href=\"#ma669af983a\" x=\"106.90808\" y=\"53.888999\" style=\"fill: #1f77b4; stroke: #1f77b4\"/>\n     <use xlink:href=\"#ma669af983a\" x=\"157.530216\" y=\"83.102071\" style=\"fill: #1f77b4; stroke: #1f77b4\"/>\n     <use xlink:href=\"#ma669af983a\" x=\"122.388907\" y=\"83.599179\" style=\"fill: #1f77b4; stroke: #1f77b4\"/>\n     <use xlink:href=\"#ma669af983a\" x=\"159.407021\" y=\"92.475358\" style=\"fill: #1f77b4; stroke: #1f77b4\"/>\n     <use xlink:href=\"#ma669af983a\" x=\"164.071225\" y=\"93.054846\" style=\"fill: #1f77b4; stroke: #1f77b4\"/>\n     <use xlink:href=\"#ma669af983a\" x=\"140.716764\" y=\"76.494687\" style=\"fill: #1f77b4; stroke: #1f77b4\"/>\n     <use xlink:href=\"#ma669af983a\" x=\"113.469128\" y=\"72.726152\" style=\"fill: #1f77b4; stroke: #1f77b4\"/>\n     <use xlink:href=\"#ma669af983a\" x=\"131.548669\" y=\"98.366985\" style=\"fill: #1f77b4; stroke: #1f77b4\"/>\n     <use xlink:href=\"#ma669af983a\" x=\"103.666469\" y=\"59.93759\" style=\"fill: #1f77b4; stroke: #1f77b4\"/>\n     <use xlink:href=\"#ma669af983a\" x=\"103.369606\" y=\"75.000011\" style=\"fill: #1f77b4; stroke: #1f77b4\"/>\n     <use xlink:href=\"#ma669af983a\" x=\"151.762768\" y=\"84.917981\" style=\"fill: #1f77b4; stroke: #1f77b4\"/>\n     <use xlink:href=\"#ma669af983a\" x=\"159.722327\" y=\"94.277948\" style=\"fill: #1f77b4; stroke: #1f77b4\"/>\n     <use xlink:href=\"#ma669af983a\" x=\"127.242411\" y=\"87.187343\" style=\"fill: #1f77b4; stroke: #1f77b4\"/>\n     <use xlink:href=\"#ma669af983a\" x=\"109.334853\" y=\"76.188158\" style=\"fill: #1f77b4; stroke: #1f77b4\"/>\n     <use xlink:href=\"#ma669af983a\" x=\"106.362301\" y=\"59.592262\" style=\"fill: #1f77b4; stroke: #1f77b4\"/>\n     <use xlink:href=\"#ma669af983a\" x=\"139.010885\" y=\"98.546766\" style=\"fill: #1f77b4; stroke: #1f77b4\"/>\n     <use xlink:href=\"#ma669af983a\" x=\"97.117987\" y=\"71.315366\" style=\"fill: #1f77b4; stroke: #1f77b4\"/>\n     <use xlink:href=\"#ma669af983a\" x=\"157.016159\" y=\"99.633657\" style=\"fill: #1f77b4; stroke: #1f77b4\"/>\n     <use xlink:href=\"#ma669af983a\" x=\"155.2186\" y=\"94.06448\" style=\"fill: #1f77b4; stroke: #1f77b4\"/>\n     <use xlink:href=\"#ma669af983a\" x=\"127.729897\" y=\"64.468062\" style=\"fill: #1f77b4; stroke: #1f77b4\"/>\n     <use xlink:href=\"#ma669af983a\" x=\"117.808576\" y=\"72.909185\" style=\"fill: #1f77b4; stroke: #1f77b4\"/>\n     <use xlink:href=\"#ma669af983a\" x=\"123.707166\" y=\"55.653563\" style=\"fill: #1f77b4; stroke: #1f77b4\"/>\n     <use xlink:href=\"#ma669af983a\" x=\"100.545637\" y=\"66.620089\" style=\"fill: #1f77b4; stroke: #1f77b4\"/>\n     <use xlink:href=\"#ma669af983a\" x=\"135.005953\" y=\"95.928761\" style=\"fill: #1f77b4; stroke: #1f77b4\"/>\n     <use xlink:href=\"#ma669af983a\" x=\"132.805973\" y=\"72.066929\" style=\"fill: #1f77b4; stroke: #1f77b4\"/>\n     <use xlink:href=\"#ma669af983a\" x=\"132.265648\" y=\"89.681418\" style=\"fill: #1f77b4; stroke: #1f77b4\"/>\n     <use xlink:href=\"#ma669af983a\" x=\"159.266504\" y=\"85.340035\" style=\"fill: #1f77b4; stroke: #1f77b4\"/>\n     <use xlink:href=\"#ma669af983a\" x=\"124.87249\" y=\"87.92493\" style=\"fill: #1f77b4; stroke: #1f77b4\"/>\n     <use xlink:href=\"#ma669af983a\" x=\"133.766178\" y=\"69.970177\" style=\"fill: #1f77b4; stroke: #1f77b4\"/>\n     <use xlink:href=\"#ma669af983a\" x=\"196.918171\" y=\"108.623142\" style=\"fill: #1f77b4; stroke: #1f77b4\"/>\n     <use xlink:href=\"#ma669af983a\" x=\"143.443671\" y=\"85.145073\" style=\"fill: #1f77b4; stroke: #1f77b4\"/>\n     <use xlink:href=\"#ma669af983a\" x=\"212.007769\" y=\"124.947447\" style=\"fill: #1f77b4; stroke: #1f77b4\"/>\n     <use xlink:href=\"#ma669af983a\" x=\"151.310796\" y=\"87.715248\" style=\"fill: #1f77b4; stroke: #1f77b4\"/>\n     <use xlink:href=\"#ma669af983a\" x=\"128.751782\" y=\"99.398693\" style=\"fill: #1f77b4; stroke: #1f77b4\"/>\n     <use xlink:href=\"#ma669af983a\" x=\"108.103525\" y=\"60.723521\" style=\"fill: #1f77b4; stroke: #1f77b4\"/>\n     <use xlink:href=\"#ma669af983a\" x=\"153.743102\" y=\"78.908594\" style=\"fill: #1f77b4; stroke: #1f77b4\"/>\n     <use xlink:href=\"#ma669af983a\" x=\"102.107304\" y=\"67.650174\" style=\"fill: #1f77b4; stroke: #1f77b4\"/>\n     <use xlink:href=\"#ma669af983a\" x=\"123.613939\" y=\"64.783399\" style=\"fill: #1f77b4; stroke: #1f77b4\"/>\n     <use xlink:href=\"#ma669af983a\" x=\"137.65165\" y=\"59.004994\" style=\"fill: #1f77b4; stroke: #1f77b4\"/>\n     <use xlink:href=\"#ma669af983a\" x=\"83.834039\" y=\"29.219191\" style=\"fill: #1f77b4; stroke: #1f77b4\"/>\n     <use xlink:href=\"#ma669af983a\" x=\"115.803763\" y=\"59.258212\" style=\"fill: #1f77b4; stroke: #1f77b4\"/>\n     <use xlink:href=\"#ma669af983a\" x=\"104.418839\" y=\"67.969874\" style=\"fill: #1f77b4; stroke: #1f77b4\"/>\n     <use xlink:href=\"#ma669af983a\" x=\"82.947527\" y=\"62.140187\" style=\"fill: #1f77b4; stroke: #1f77b4\"/>\n     <use xlink:href=\"#ma669af983a\" x=\"133.115128\" y=\"102.227532\" style=\"fill: #1f77b4; stroke: #1f77b4\"/>\n     <use xlink:href=\"#ma669af983a\" x=\"124.719725\" y=\"59.00738\" style=\"fill: #1f77b4; stroke: #1f77b4\"/>\n     <use xlink:href=\"#ma669af983a\" x=\"167.316983\" y=\"93.895334\" style=\"fill: #1f77b4; stroke: #1f77b4\"/>\n     <use xlink:href=\"#ma669af983a\" x=\"136.493629\" y=\"85.249666\" style=\"fill: #1f77b4; stroke: #1f77b4\"/>\n     <use xlink:href=\"#ma669af983a\" x=\"99.814818\" y=\"59.833621\" style=\"fill: #1f77b4; stroke: #1f77b4\"/>\n     <use xlink:href=\"#ma669af983a\" x=\"107.216059\" y=\"65.554863\" style=\"fill: #1f77b4; stroke: #1f77b4\"/>\n     <use xlink:href=\"#ma669af983a\" x=\"138.449644\" y=\"96.06805\" style=\"fill: #1f77b4; stroke: #1f77b4\"/>\n     <use xlink:href=\"#ma669af983a\" x=\"106.097225\" y=\"72.235068\" style=\"fill: #1f77b4; stroke: #1f77b4\"/>\n     <use xlink:href=\"#ma669af983a\" x=\"136.963204\" y=\"79.59134\" style=\"fill: #1f77b4; stroke: #1f77b4\"/>\n     <use xlink:href=\"#ma669af983a\" x=\"117.916355\" y=\"80.85877\" style=\"fill: #1f77b4; stroke: #1f77b4\"/>\n     <use xlink:href=\"#ma669af983a\" x=\"161.446225\" y=\"91.499865\" style=\"fill: #1f77b4; stroke: #1f77b4\"/>\n     <use xlink:href=\"#ma669af983a\" x=\"99.950006\" y=\"45.941854\" style=\"fill: #1f77b4; stroke: #1f77b4\"/>\n     <use xlink:href=\"#ma669af983a\" x=\"130.316903\" y=\"75.022681\" style=\"fill: #1f77b4; stroke: #1f77b4\"/>\n     <use xlink:href=\"#ma669af983a\" x=\"129.254215\" y=\"69.654337\" style=\"fill: #1f77b4; stroke: #1f77b4\"/>\n     <use xlink:href=\"#ma669af983a\" x=\"183.616011\" y=\"114.254819\" style=\"fill: #1f77b4; stroke: #1f77b4\"/>\n     <use xlink:href=\"#ma669af983a\" x=\"150.164775\" y=\"100.990128\" style=\"fill: #1f77b4; stroke: #1f77b4\"/>\n     <use xlink:href=\"#ma669af983a\" x=\"84.09803\" y=\"51.539615\" style=\"fill: #1f77b4; stroke: #1f77b4\"/>\n     <use xlink:href=\"#ma669af983a\" x=\"122.189396\" y=\"73.78374\" style=\"fill: #1f77b4; stroke: #1f77b4\"/>\n     <use xlink:href=\"#ma669af983a\" x=\"214.515821\" y=\"116.626446\" style=\"fill: #1f77b4; stroke: #1f77b4\"/>\n     <use xlink:href=\"#ma669af983a\" x=\"131.217675\" y=\"78.931295\" style=\"fill: #1f77b4; stroke: #1f77b4\"/>\n     <use xlink:href=\"#ma669af983a\" x=\"123.426091\" y=\"82.584167\" style=\"fill: #1f77b4; stroke: #1f77b4\"/>\n     <use xlink:href=\"#ma669af983a\" x=\"203.751589\" y=\"139.5\" style=\"fill: #1f77b4; stroke: #1f77b4\"/>\n     <use xlink:href=\"#ma669af983a\" x=\"95.590767\" y=\"63.018081\" style=\"fill: #1f77b4; stroke: #1f77b4\"/>\n     <use xlink:href=\"#ma669af983a\" x=\"107.071775\" y=\"42.58671\" style=\"fill: #1f77b4; stroke: #1f77b4\"/>\n     <use xlink:href=\"#ma669af983a\" x=\"131.988427\" y=\"71.636883\" style=\"fill: #1f77b4; stroke: #1f77b4\"/>\n     <use xlink:href=\"#ma669af983a\" x=\"134.380294\" y=\"82.406863\" style=\"fill: #1f77b4; stroke: #1f77b4\"/>\n     <use xlink:href=\"#ma669af983a\" x=\"104.21522\" y=\"72.773588\" style=\"fill: #1f77b4; stroke: #1f77b4\"/>\n     <use xlink:href=\"#ma669af983a\" x=\"60.389399\" y=\"54.028907\" style=\"fill: #1f77b4; stroke: #1f77b4\"/>\n     <use xlink:href=\"#ma669af983a\" x=\"139.963199\" y=\"89.644136\" style=\"fill: #1f77b4; stroke: #1f77b4\"/>\n     <use xlink:href=\"#ma669af983a\" x=\"85.934869\" y=\"52.35481\" style=\"fill: #1f77b4; stroke: #1f77b4\"/>\n     <use xlink:href=\"#ma669af983a\" x=\"109.522463\" y=\"67.150947\" style=\"fill: #1f77b4; stroke: #1f77b4\"/>\n     <use xlink:href=\"#ma669af983a\" x=\"96.989789\" y=\"69.851967\" style=\"fill: #1f77b4; stroke: #1f77b4\"/>\n     <use xlink:href=\"#ma669af983a\" x=\"122.746021\" y=\"76.677347\" style=\"fill: #1f77b4; stroke: #1f77b4\"/>\n     <use xlink:href=\"#ma669af983a\" x=\"157.944528\" y=\"91.41491\" style=\"fill: #1f77b4; stroke: #1f77b4\"/>\n     <use xlink:href=\"#ma669af983a\" x=\"117.443655\" y=\"77.626834\" style=\"fill: #1f77b4; stroke: #1f77b4\"/>\n     <use xlink:href=\"#ma669af983a\" x=\"170.423863\" y=\"76.365745\" style=\"fill: #1f77b4; stroke: #1f77b4\"/>\n     <use xlink:href=\"#ma669af983a\" x=\"88.973643\" y=\"62.992648\" style=\"fill: #1f77b4; stroke: #1f77b4\"/>\n     <use xlink:href=\"#ma669af983a\" x=\"136.544746\" y=\"79.578608\" style=\"fill: #1f77b4; stroke: #1f77b4\"/>\n     <use xlink:href=\"#ma669af983a\" x=\"99.558779\" y=\"63.43651\" style=\"fill: #1f77b4; stroke: #1f77b4\"/>\n     <use xlink:href=\"#ma669af983a\" x=\"84.156224\" y=\"54.15692\" style=\"fill: #1f77b4; stroke: #1f77b4\"/>\n     <use xlink:href=\"#ma669af983a\" x=\"82.042658\" y=\"66.738583\" style=\"fill: #1f77b4; stroke: #1f77b4\"/>\n     <use xlink:href=\"#ma669af983a\" x=\"144.991218\" y=\"74.516221\" style=\"fill: #1f77b4; stroke: #1f77b4\"/>\n     <use xlink:href=\"#ma669af983a\" x=\"173.736531\" y=\"116.770941\" style=\"fill: #1f77b4; stroke: #1f77b4\"/>\n     <use xlink:href=\"#ma669af983a\" x=\"110.030789\" y=\"69.762292\" style=\"fill: #1f77b4; stroke: #1f77b4\"/>\n     <use xlink:href=\"#ma669af983a\" x=\"117.313404\" y=\"64.29238\" style=\"fill: #1f77b4; stroke: #1f77b4\"/>\n     <use xlink:href=\"#ma669af983a\" x=\"182.356536\" y=\"93.659238\" style=\"fill: #1f77b4; stroke: #1f77b4\"/>\n     <use xlink:href=\"#ma669af983a\" x=\"129.317299\" y=\"106.940618\" style=\"fill: #1f77b4; stroke: #1f77b4\"/>\n     <use xlink:href=\"#ma669af983a\" x=\"141.810913\" y=\"90.230496\" style=\"fill: #1f77b4; stroke: #1f77b4\"/>\n     <use xlink:href=\"#ma669af983a\" x=\"95.776963\" y=\"59.223562\" style=\"fill: #1f77b4; stroke: #1f77b4\"/>\n     <use xlink:href=\"#ma669af983a\" x=\"119.479909\" y=\"88.438191\" style=\"fill: #1f77b4; stroke: #1f77b4\"/>\n     <use xlink:href=\"#ma669af983a\" x=\"163.141593\" y=\"93.136057\" style=\"fill: #1f77b4; stroke: #1f77b4\"/>\n     <use xlink:href=\"#ma669af983a\" x=\"112.411017\" y=\"84.291921\" style=\"fill: #1f77b4; stroke: #1f77b4\"/>\n     <use xlink:href=\"#ma669af983a\" x=\"160.604943\" y=\"85.301445\" style=\"fill: #1f77b4; stroke: #1f77b4\"/>\n     <use xlink:href=\"#ma669af983a\" x=\"122.974082\" y=\"55.58239\" style=\"fill: #1f77b4; stroke: #1f77b4\"/>\n     <use xlink:href=\"#ma669af983a\" x=\"132.30025\" y=\"70.175887\" style=\"fill: #1f77b4; stroke: #1f77b4\"/>\n     <use xlink:href=\"#ma669af983a\" x=\"127.242489\" y=\"76.154094\" style=\"fill: #1f77b4; stroke: #1f77b4\"/>\n     <use xlink:href=\"#ma669af983a\" x=\"136.678136\" y=\"70.777666\" style=\"fill: #1f77b4; stroke: #1f77b4\"/>\n     <use xlink:href=\"#ma669af983a\" x=\"148.357098\" y=\"101.304974\" style=\"fill: #1f77b4; stroke: #1f77b4\"/>\n     <use xlink:href=\"#ma669af983a\" x=\"131.425711\" y=\"73.804703\" style=\"fill: #1f77b4; stroke: #1f77b4\"/>\n     <use xlink:href=\"#ma669af983a\" x=\"157.110904\" y=\"108.390131\" style=\"fill: #1f77b4; stroke: #1f77b4\"/>\n     <use xlink:href=\"#ma669af983a\" x=\"99.646421\" y=\"60.014985\" style=\"fill: #1f77b4; stroke: #1f77b4\"/>\n     <use xlink:href=\"#ma669af983a\" x=\"128.751059\" y=\"78.56298\" style=\"fill: #1f77b4; stroke: #1f77b4\"/>\n     <use xlink:href=\"#ma669af983a\" x=\"133.757989\" y=\"80.401964\" style=\"fill: #1f77b4; stroke: #1f77b4\"/>\n     <use xlink:href=\"#ma669af983a\" x=\"164.710087\" y=\"100.223296\" style=\"fill: #1f77b4; stroke: #1f77b4\"/>\n     <use xlink:href=\"#ma669af983a\" x=\"127.521548\" y=\"71.556476\" style=\"fill: #1f77b4; stroke: #1f77b4\"/>\n     <use xlink:href=\"#ma669af983a\" x=\"109.047797\" y=\"69.049305\" style=\"fill: #1f77b4; stroke: #1f77b4\"/>\n     <use xlink:href=\"#ma669af983a\" x=\"119.949604\" y=\"71.010128\" style=\"fill: #1f77b4; stroke: #1f77b4\"/>\n     <use xlink:href=\"#ma669af983a\" x=\"163.907528\" y=\"88.322109\" style=\"fill: #1f77b4; stroke: #1f77b4\"/>\n     <use xlink:href=\"#ma669af983a\" x=\"140.062706\" y=\"66.609463\" style=\"fill: #1f77b4; stroke: #1f77b4\"/>\n     <use xlink:href=\"#ma669af983a\" x=\"78.580524\" y=\"41.272948\" style=\"fill: #1f77b4; stroke: #1f77b4\"/>\n     <use xlink:href=\"#ma669af983a\" x=\"135.026495\" y=\"77.685357\" style=\"fill: #1f77b4; stroke: #1f77b4\"/>\n     <use xlink:href=\"#ma669af983a\" x=\"116.98308\" y=\"62.558977\" style=\"fill: #1f77b4; stroke: #1f77b4\"/>\n     <use xlink:href=\"#ma669af983a\" x=\"125.668348\" y=\"71.125143\" style=\"fill: #1f77b4; stroke: #1f77b4\"/>\n     <use xlink:href=\"#ma669af983a\" x=\"123.534255\" y=\"74.379783\" style=\"fill: #1f77b4; stroke: #1f77b4\"/>\n     <use xlink:href=\"#ma669af983a\" x=\"167.070794\" y=\"104.118081\" style=\"fill: #1f77b4; stroke: #1f77b4\"/>\n     <use xlink:href=\"#ma669af983a\" x=\"115.845462\" y=\"86.110481\" style=\"fill: #1f77b4; stroke: #1f77b4\"/>\n     <use xlink:href=\"#ma669af983a\" x=\"118.967636\" y=\"83.694386\" style=\"fill: #1f77b4; stroke: #1f77b4\"/>\n     <use xlink:href=\"#ma669af983a\" x=\"109.594643\" y=\"92.764897\" style=\"fill: #1f77b4; stroke: #1f77b4\"/>\n     <use xlink:href=\"#ma669af983a\" x=\"145.103378\" y=\"81.659025\" style=\"fill: #1f77b4; stroke: #1f77b4\"/>\n     <use xlink:href=\"#ma669af983a\" x=\"110.5824\" y=\"76.683208\" style=\"fill: #1f77b4; stroke: #1f77b4\"/>\n     <use xlink:href=\"#ma669af983a\" x=\"95.257535\" y=\"55.736809\" style=\"fill: #1f77b4; stroke: #1f77b4\"/>\n     <use xlink:href=\"#ma669af983a\" x=\"76.542417\" y=\"48.073249\" style=\"fill: #1f77b4; stroke: #1f77b4\"/>\n     <use xlink:href=\"#ma669af983a\" x=\"159.929462\" y=\"84.219056\" style=\"fill: #1f77b4; stroke: #1f77b4\"/>\n     <use xlink:href=\"#ma669af983a\" x=\"77.248027\" y=\"42.615284\" style=\"fill: #1f77b4; stroke: #1f77b4\"/>\n     <use xlink:href=\"#ma669af983a\" x=\"156.108028\" y=\"76.798573\" style=\"fill: #1f77b4; stroke: #1f77b4\"/>\n     <use xlink:href=\"#ma669af983a\" x=\"78.50724\" y=\"48.586836\" style=\"fill: #1f77b4; stroke: #1f77b4\"/>\n     <use xlink:href=\"#ma669af983a\" x=\"123.094019\" y=\"74.024278\" style=\"fill: #1f77b4; stroke: #1f77b4\"/>\n     <use xlink:href=\"#ma669af983a\" x=\"119.802617\" y=\"65.959878\" style=\"fill: #1f77b4; stroke: #1f77b4\"/>\n     <use xlink:href=\"#ma669af983a\" x=\"137.43964\" y=\"75.690573\" style=\"fill: #1f77b4; stroke: #1f77b4\"/>\n     <use xlink:href=\"#ma669af983a\" x=\"114.897027\" y=\"56.402373\" style=\"fill: #1f77b4; stroke: #1f77b4\"/>\n     <use xlink:href=\"#ma669af983a\" x=\"121.821033\" y=\"84.755194\" style=\"fill: #1f77b4; stroke: #1f77b4\"/>\n     <use xlink:href=\"#ma669af983a\" x=\"106.383204\" y=\"58.323215\" style=\"fill: #1f77b4; stroke: #1f77b4\"/>\n     <use xlink:href=\"#ma669af983a\" x=\"158.244453\" y=\"105.804388\" style=\"fill: #1f77b4; stroke: #1f77b4\"/>\n     <use xlink:href=\"#ma669af983a\" x=\"135.688955\" y=\"82.394929\" style=\"fill: #1f77b4; stroke: #1f77b4\"/>\n     <use xlink:href=\"#ma669af983a\" x=\"140.347822\" y=\"83.64063\" style=\"fill: #1f77b4; stroke: #1f77b4\"/>\n     <use xlink:href=\"#ma669af983a\" x=\"128.820389\" y=\"65.633898\" style=\"fill: #1f77b4; stroke: #1f77b4\"/>\n     <use xlink:href=\"#ma669af983a\" x=\"165.297946\" y=\"114.346046\" style=\"fill: #1f77b4; stroke: #1f77b4\"/>\n     <use xlink:href=\"#ma669af983a\" x=\"120.504223\" y=\"82.857248\" style=\"fill: #1f77b4; stroke: #1f77b4\"/>\n     <use xlink:href=\"#ma669af983a\" x=\"106.34492\" y=\"74.939229\" style=\"fill: #1f77b4; stroke: #1f77b4\"/>\n     <use xlink:href=\"#ma669af983a\" x=\"131.673726\" y=\"95.603563\" style=\"fill: #1f77b4; stroke: #1f77b4\"/>\n     <use xlink:href=\"#ma669af983a\" x=\"137.105299\" y=\"83.425591\" style=\"fill: #1f77b4; stroke: #1f77b4\"/>\n     <use xlink:href=\"#ma669af983a\" x=\"107.314956\" y=\"55.395754\" style=\"fill: #1f77b4; stroke: #1f77b4\"/>\n     <use xlink:href=\"#ma669af983a\" x=\"135.414204\" y=\"78.038378\" style=\"fill: #1f77b4; stroke: #1f77b4\"/>\n     <use xlink:href=\"#ma669af983a\" x=\"107.717557\" y=\"58.039358\" style=\"fill: #1f77b4; stroke: #1f77b4\"/>\n     <use xlink:href=\"#ma669af983a\" x=\"85.757591\" y=\"40.414168\" style=\"fill: #1f77b4; stroke: #1f77b4\"/>\n     <use xlink:href=\"#ma669af983a\" x=\"104.123863\" y=\"72.216241\" style=\"fill: #1f77b4; stroke: #1f77b4\"/>\n     <use xlink:href=\"#ma669af983a\" x=\"132.175445\" y=\"93.079068\" style=\"fill: #1f77b4; stroke: #1f77b4\"/>\n     <use xlink:href=\"#ma669af983a\" x=\"170.63432\" y=\"97.947147\" style=\"fill: #1f77b4; stroke: #1f77b4\"/>\n     <use xlink:href=\"#ma669af983a\" x=\"101.173712\" y=\"64.664823\" style=\"fill: #1f77b4; stroke: #1f77b4\"/>\n     <use xlink:href=\"#ma669af983a\" x=\"143.528437\" y=\"90.055659\" style=\"fill: #1f77b4; stroke: #1f77b4\"/>\n     <use xlink:href=\"#ma669af983a\" x=\"172.053126\" y=\"101.711635\" style=\"fill: #1f77b4; stroke: #1f77b4\"/>\n     <use xlink:href=\"#ma669af983a\" x=\"131.757809\" y=\"70.370323\" style=\"fill: #1f77b4; stroke: #1f77b4\"/>\n     <use xlink:href=\"#ma669af983a\" x=\"84.273661\" y=\"30.918257\" style=\"fill: #1f77b4; stroke: #1f77b4\"/>\n     <use xlink:href=\"#ma669af983a\" x=\"98.389445\" y=\"57.391986\" style=\"fill: #1f77b4; stroke: #1f77b4\"/>\n     <use xlink:href=\"#ma669af983a\" x=\"161.313651\" y=\"96.11998\" style=\"fill: #1f77b4; stroke: #1f77b4\"/>\n     <use xlink:href=\"#ma669af983a\" x=\"110.367237\" y=\"47.486635\" style=\"fill: #1f77b4; stroke: #1f77b4\"/>\n     <use xlink:href=\"#ma669af983a\" x=\"147.834981\" y=\"96.581911\" style=\"fill: #1f77b4; stroke: #1f77b4\"/>\n     <use xlink:href=\"#ma669af983a\" x=\"199.144487\" y=\"112.311652\" style=\"fill: #1f77b4; stroke: #1f77b4\"/>\n     <use xlink:href=\"#ma669af983a\" x=\"88.804046\" y=\"49.657916\" style=\"fill: #1f77b4; stroke: #1f77b4\"/>\n     <use xlink:href=\"#ma669af983a\" x=\"136.072433\" y=\"86.949357\" style=\"fill: #1f77b4; stroke: #1f77b4\"/>\n     <use xlink:href=\"#ma669af983a\" x=\"123.684152\" y=\"75.919637\" style=\"fill: #1f77b4; stroke: #1f77b4\"/>\n     <use xlink:href=\"#ma669af983a\" x=\"147.684204\" y=\"84.371424\" style=\"fill: #1f77b4; stroke: #1f77b4\"/>\n     <use xlink:href=\"#ma669af983a\" x=\"124.207654\" y=\"64.373856\" style=\"fill: #1f77b4; stroke: #1f77b4\"/>\n     <use xlink:href=\"#ma669af983a\" x=\"160.973487\" y=\"104.079913\" style=\"fill: #1f77b4; stroke: #1f77b4\"/>\n     <use xlink:href=\"#ma669af983a\" x=\"152.722843\" y=\"103.212536\" style=\"fill: #1f77b4; stroke: #1f77b4\"/>\n     <use xlink:href=\"#ma669af983a\" x=\"165.543151\" y=\"108.502698\" style=\"fill: #1f77b4; stroke: #1f77b4\"/>\n     <use xlink:href=\"#ma669af983a\" x=\"88.210005\" y=\"31.71314\" style=\"fill: #1f77b4; stroke: #1f77b4\"/>\n     <use xlink:href=\"#ma669af983a\" x=\"105.419159\" y=\"77.541077\" style=\"fill: #1f77b4; stroke: #1f77b4\"/>\n     <use xlink:href=\"#ma669af983a\" x=\"122.866576\" y=\"77.691359\" style=\"fill: #1f77b4; stroke: #1f77b4\"/>\n     <use xlink:href=\"#ma669af983a\" x=\"111.925416\" y=\"71.345117\" style=\"fill: #1f77b4; stroke: #1f77b4\"/>\n     <use xlink:href=\"#ma669af983a\" x=\"162.129335\" y=\"82.362512\" style=\"fill: #1f77b4; stroke: #1f77b4\"/>\n     <use xlink:href=\"#ma669af983a\" x=\"91.00899\" y=\"43.987305\" style=\"fill: #1f77b4; stroke: #1f77b4\"/>\n     <use xlink:href=\"#ma669af983a\" x=\"145.45167\" y=\"87.082718\" style=\"fill: #1f77b4; stroke: #1f77b4\"/>\n     <use xlink:href=\"#ma669af983a\" x=\"100.918326\" y=\"51.82661\" style=\"fill: #1f77b4; stroke: #1f77b4\"/>\n     <use xlink:href=\"#ma669af983a\" x=\"107.736821\" y=\"73.435985\" style=\"fill: #1f77b4; stroke: #1f77b4\"/>\n     <use xlink:href=\"#ma669af983a\" x=\"134.469928\" y=\"73.278751\" style=\"fill: #1f77b4; stroke: #1f77b4\"/>\n     <use xlink:href=\"#ma669af983a\" x=\"141.692348\" y=\"98.025336\" style=\"fill: #1f77b4; stroke: #1f77b4\"/>\n     <use xlink:href=\"#ma669af983a\" x=\"175.895022\" y=\"103.603142\" style=\"fill: #1f77b4; stroke: #1f77b4\"/>\n     <use xlink:href=\"#ma669af983a\" x=\"116.62364\" y=\"59.22338\" style=\"fill: #1f77b4; stroke: #1f77b4\"/>\n     <use xlink:href=\"#ma669af983a\" x=\"135.305064\" y=\"75.385564\" style=\"fill: #1f77b4; stroke: #1f77b4\"/>\n     <use xlink:href=\"#ma669af983a\" x=\"118.530756\" y=\"70.127583\" style=\"fill: #1f77b4; stroke: #1f77b4\"/>\n     <use xlink:href=\"#ma669af983a\" x=\"114.481636\" y=\"72.360411\" style=\"fill: #1f77b4; stroke: #1f77b4\"/>\n     <use xlink:href=\"#ma669af983a\" x=\"64.219657\" y=\"50.119969\" style=\"fill: #1f77b4; stroke: #1f77b4\"/>\n     <use xlink:href=\"#ma669af983a\" x=\"137.456362\" y=\"92.640855\" style=\"fill: #1f77b4; stroke: #1f77b4\"/>\n     <use xlink:href=\"#ma669af983a\" x=\"158.722855\" y=\"76.946876\" style=\"fill: #1f77b4; stroke: #1f77b4\"/>\n     <use xlink:href=\"#ma669af983a\" x=\"137.171457\" y=\"79.53522\" style=\"fill: #1f77b4; stroke: #1f77b4\"/>\n     <use xlink:href=\"#ma669af983a\" x=\"148.744263\" y=\"74.510451\" style=\"fill: #1f77b4; stroke: #1f77b4\"/>\n     <use xlink:href=\"#ma669af983a\" x=\"141.994777\" y=\"90.779542\" style=\"fill: #1f77b4; stroke: #1f77b4\"/>\n     <use xlink:href=\"#ma669af983a\" x=\"65.435321\" y=\"50.009345\" style=\"fill: #1f77b4; stroke: #1f77b4\"/>\n     <use xlink:href=\"#ma669af983a\" x=\"137.298543\" y=\"81.446323\" style=\"fill: #1f77b4; stroke: #1f77b4\"/>\n     <use xlink:href=\"#ma669af983a\" x=\"91.170678\" y=\"76.660766\" style=\"fill: #1f77b4; stroke: #1f77b4\"/>\n     <use xlink:href=\"#ma669af983a\" x=\"83.848722\" y=\"52.45317\" style=\"fill: #1f77b4; stroke: #1f77b4\"/>\n     <use xlink:href=\"#ma669af983a\" x=\"139.975807\" y=\"82.504706\" style=\"fill: #1f77b4; stroke: #1f77b4\"/>\n     <use xlink:href=\"#ma669af983a\" x=\"125.761904\" y=\"73.993326\" style=\"fill: #1f77b4; stroke: #1f77b4\"/>\n     <use xlink:href=\"#ma669af983a\" x=\"164.875382\" y=\"99.08474\" style=\"fill: #1f77b4; stroke: #1f77b4\"/>\n     <use xlink:href=\"#ma669af983a\" x=\"89.517387\" y=\"69.942537\" style=\"fill: #1f77b4; stroke: #1f77b4\"/>\n     <use xlink:href=\"#ma669af983a\" x=\"184.041227\" y=\"96.487432\" style=\"fill: #1f77b4; stroke: #1f77b4\"/>\n     <use xlink:href=\"#ma669af983a\" x=\"147.038429\" y=\"81.705398\" style=\"fill: #1f77b4; stroke: #1f77b4\"/>\n     <use xlink:href=\"#ma669af983a\" x=\"118.989259\" y=\"69.82355\" style=\"fill: #1f77b4; stroke: #1f77b4\"/>\n     <use xlink:href=\"#ma669af983a\" x=\"135.180714\" y=\"72.651705\" style=\"fill: #1f77b4; stroke: #1f77b4\"/>\n     <use xlink:href=\"#ma669af983a\" x=\"149.003217\" y=\"87.266662\" style=\"fill: #1f77b4; stroke: #1f77b4\"/>\n     <use xlink:href=\"#ma669af983a\" x=\"130.375007\" y=\"99.896656\" style=\"fill: #1f77b4; stroke: #1f77b4\"/>\n     <use xlink:href=\"#ma669af983a\" x=\"115.663407\" y=\"74.043884\" style=\"fill: #1f77b4; stroke: #1f77b4\"/>\n     <use xlink:href=\"#ma669af983a\" x=\"88.972189\" y=\"47.221914\" style=\"fill: #1f77b4; stroke: #1f77b4\"/>\n     <use xlink:href=\"#ma669af983a\" x=\"116.855886\" y=\"74.95811\" style=\"fill: #1f77b4; stroke: #1f77b4\"/>\n     <use xlink:href=\"#ma669af983a\" x=\"115.268942\" y=\"67.559967\" style=\"fill: #1f77b4; stroke: #1f77b4\"/>\n     <use xlink:href=\"#ma669af983a\" x=\"158.566159\" y=\"94.113719\" style=\"fill: #1f77b4; stroke: #1f77b4\"/>\n     <use xlink:href=\"#ma669af983a\" x=\"87.591574\" y=\"74.83391\" style=\"fill: #1f77b4; stroke: #1f77b4\"/>\n     <use xlink:href=\"#ma669af983a\" x=\"114.809389\" y=\"61.891782\" style=\"fill: #1f77b4; stroke: #1f77b4\"/>\n     <use xlink:href=\"#ma669af983a\" x=\"160.393659\" y=\"105.853344\" style=\"fill: #1f77b4; stroke: #1f77b4\"/>\n     <use xlink:href=\"#ma669af983a\" x=\"89.587516\" y=\"66.433632\" style=\"fill: #1f77b4; stroke: #1f77b4\"/>\n     <use xlink:href=\"#ma669af983a\" x=\"130.785597\" y=\"73.687449\" style=\"fill: #1f77b4; stroke: #1f77b4\"/>\n     <use xlink:href=\"#ma669af983a\" x=\"169.604738\" y=\"89.885757\" style=\"fill: #1f77b4; stroke: #1f77b4\"/>\n     <use xlink:href=\"#ma669af983a\" x=\"91.157431\" y=\"65.393195\" style=\"fill: #1f77b4; stroke: #1f77b4\"/>\n     <use xlink:href=\"#ma669af983a\" x=\"146.414413\" y=\"90.590813\" style=\"fill: #1f77b4; stroke: #1f77b4\"/>\n     <use xlink:href=\"#ma669af983a\" x=\"128.267345\" y=\"68.221936\" style=\"fill: #1f77b4; stroke: #1f77b4\"/>\n     <use xlink:href=\"#ma669af983a\" x=\"162.193863\" y=\"92.444522\" style=\"fill: #1f77b4; stroke: #1f77b4\"/>\n     <use xlink:href=\"#ma669af983a\" x=\"153.773803\" y=\"95.729572\" style=\"fill: #1f77b4; stroke: #1f77b4\"/>\n     <use xlink:href=\"#ma669af983a\" x=\"42.955187\" y=\"21.410487\" style=\"fill: #1f77b4; stroke: #1f77b4\"/>\n     <use xlink:href=\"#ma669af983a\" x=\"134.667377\" y=\"73.095377\" style=\"fill: #1f77b4; stroke: #1f77b4\"/>\n     <use xlink:href=\"#ma669af983a\" x=\"158.987689\" y=\"84.228976\" style=\"fill: #1f77b4; stroke: #1f77b4\"/>\n     <use xlink:href=\"#ma669af983a\" x=\"177.738668\" y=\"105.146154\" style=\"fill: #1f77b4; stroke: #1f77b4\"/>\n     <use xlink:href=\"#ma669af983a\" x=\"173.929904\" y=\"106.852122\" style=\"fill: #1f77b4; stroke: #1f77b4\"/>\n     <use xlink:href=\"#ma669af983a\" x=\"132.970949\" y=\"90.33679\" style=\"fill: #1f77b4; stroke: #1f77b4\"/>\n     <use xlink:href=\"#ma669af983a\" x=\"69.502134\" y=\"46.397088\" style=\"fill: #1f77b4; stroke: #1f77b4\"/>\n     <use xlink:href=\"#ma669af983a\" x=\"132.259789\" y=\"66.34318\" style=\"fill: #1f77b4; stroke: #1f77b4\"/>\n     <use xlink:href=\"#ma669af983a\" x=\"159.498421\" y=\"99.479756\" style=\"fill: #1f77b4; stroke: #1f77b4\"/>\n     <use xlink:href=\"#ma669af983a\" x=\"128.937322\" y=\"75.237167\" style=\"fill: #1f77b4; stroke: #1f77b4\"/>\n     <use xlink:href=\"#ma669af983a\" x=\"165.683587\" y=\"113.808115\" style=\"fill: #1f77b4; stroke: #1f77b4\"/>\n     <use xlink:href=\"#ma669af983a\" x=\"118.083904\" y=\"72.415207\" style=\"fill: #1f77b4; stroke: #1f77b4\"/>\n     <use xlink:href=\"#ma669af983a\" x=\"159.086612\" y=\"83.889844\" style=\"fill: #1f77b4; stroke: #1f77b4\"/>\n     <use xlink:href=\"#ma669af983a\" x=\"142.038261\" y=\"94.705201\" style=\"fill: #1f77b4; stroke: #1f77b4\"/>\n     <use xlink:href=\"#ma669af983a\" x=\"155.750495\" y=\"80.331272\" style=\"fill: #1f77b4; stroke: #1f77b4\"/>\n     <use xlink:href=\"#ma669af983a\" x=\"135.653626\" y=\"60.070201\" style=\"fill: #1f77b4; stroke: #1f77b4\"/>\n     <use xlink:href=\"#ma669af983a\" x=\"172.929122\" y=\"85.901197\" style=\"fill: #1f77b4; stroke: #1f77b4\"/>\n     <use xlink:href=\"#ma669af983a\" x=\"201.281101\" y=\"117.56551\" style=\"fill: #1f77b4; stroke: #1f77b4\"/>\n     <use xlink:href=\"#ma669af983a\" x=\"70.378133\" y=\"37.689564\" style=\"fill: #1f77b4; stroke: #1f77b4\"/>\n     <use xlink:href=\"#ma669af983a\" x=\"119.299865\" y=\"70.220712\" style=\"fill: #1f77b4; stroke: #1f77b4\"/>\n     <use xlink:href=\"#ma669af983a\" x=\"162.729517\" y=\"69.508691\" style=\"fill: #1f77b4; stroke: #1f77b4\"/>\n     <use xlink:href=\"#ma669af983a\" x=\"172.13132\" y=\"84.693962\" style=\"fill: #1f77b4; stroke: #1f77b4\"/>\n     <use xlink:href=\"#ma669af983a\" x=\"90.164869\" y=\"61.248954\" style=\"fill: #1f77b4; stroke: #1f77b4\"/>\n     <use xlink:href=\"#ma669af983a\" x=\"162.459962\" y=\"78.851407\" style=\"fill: #1f77b4; stroke: #1f77b4\"/>\n     <use xlink:href=\"#ma669af983a\" x=\"153.656328\" y=\"103.702712\" style=\"fill: #1f77b4; stroke: #1f77b4\"/>\n     <use xlink:href=\"#ma669af983a\" x=\"134.718119\" y=\"93.232623\" style=\"fill: #1f77b4; stroke: #1f77b4\"/>\n     <use xlink:href=\"#ma669af983a\" x=\"144.239627\" y=\"89.795195\" style=\"fill: #1f77b4; stroke: #1f77b4\"/>\n     <use xlink:href=\"#ma669af983a\" x=\"143.622894\" y=\"97.261046\" style=\"fill: #1f77b4; stroke: #1f77b4\"/>\n     <use xlink:href=\"#ma669af983a\" x=\"127.786056\" y=\"77.85691\" style=\"fill: #1f77b4; stroke: #1f77b4\"/>\n     <use xlink:href=\"#ma669af983a\" x=\"150.129028\" y=\"85.909455\" style=\"fill: #1f77b4; stroke: #1f77b4\"/>\n     <use xlink:href=\"#ma669af983a\" x=\"137.874822\" y=\"77.554243\" style=\"fill: #1f77b4; stroke: #1f77b4\"/>\n     <use xlink:href=\"#ma669af983a\" x=\"176.294495\" y=\"95.452329\" style=\"fill: #1f77b4; stroke: #1f77b4\"/>\n     <use xlink:href=\"#ma669af983a\" x=\"173.822722\" y=\"111.905851\" style=\"fill: #1f77b4; stroke: #1f77b4\"/>\n    </g>\n   </g>\n   <g id=\"matplotlib.axis_1\">\n    <g id=\"xtick_1\">\n     <g id=\"line2d_1\">\n      <defs>\n       <path id=\"m7517c2d200\" d=\"M 0 0 \nL 0 3.5 \n\" style=\"stroke: #000000; stroke-width: 0.8\"/>\n      </defs>\n      <g>\n       <use xlink:href=\"#m7517c2d200\" x=\"68.295619\" y=\"145.8\" style=\"stroke: #000000; stroke-width: 0.8\"/>\n      </g>\n     </g>\n     <g id=\"text_1\">\n      <!-- −2 -->\n      <g transform=\"translate(60.924525 160.398438) scale(0.1 -0.1)\">\n       <defs>\n        <path id=\"DejaVuSans-2212\" d=\"M 678 2272 \nL 4684 2272 \nL 4684 1741 \nL 678 1741 \nL 678 2272 \nz\n\" transform=\"scale(0.015625)\"/>\n        <path id=\"DejaVuSans-32\" d=\"M 1228 531 \nL 3431 531 \nL 3431 0 \nL 469 0 \nL 469 531 \nQ 828 903 1448 1529 \nQ 2069 2156 2228 2338 \nQ 2531 2678 2651 2914 \nQ 2772 3150 2772 3378 \nQ 2772 3750 2511 3984 \nQ 2250 4219 1831 4219 \nQ 1534 4219 1204 4116 \nQ 875 4013 500 3803 \nL 500 4441 \nQ 881 4594 1212 4672 \nQ 1544 4750 1819 4750 \nQ 2544 4750 2975 4387 \nQ 3406 4025 3406 3419 \nQ 3406 3131 3298 2873 \nQ 3191 2616 2906 2266 \nQ 2828 2175 2409 1742 \nQ 1991 1309 1228 531 \nz\n\" transform=\"scale(0.015625)\"/>\n       </defs>\n       <use xlink:href=\"#DejaVuSans-2212\"/>\n       <use xlink:href=\"#DejaVuSans-32\" x=\"83.789062\"/>\n      </g>\n     </g>\n    </g>\n    <g id=\"xtick_2\">\n     <g id=\"line2d_2\">\n      <g>\n       <use xlink:href=\"#m7517c2d200\" x=\"130.360692\" y=\"145.8\" style=\"stroke: #000000; stroke-width: 0.8\"/>\n      </g>\n     </g>\n     <g id=\"text_2\">\n      <!-- 0 -->\n      <g transform=\"translate(127.179442 160.398438) scale(0.1 -0.1)\">\n       <defs>\n        <path id=\"DejaVuSans-30\" d=\"M 2034 4250 \nQ 1547 4250 1301 3770 \nQ 1056 3291 1056 2328 \nQ 1056 1369 1301 889 \nQ 1547 409 2034 409 \nQ 2525 409 2770 889 \nQ 3016 1369 3016 2328 \nQ 3016 3291 2770 3770 \nQ 2525 4250 2034 4250 \nz\nM 2034 4750 \nQ 2819 4750 3233 4129 \nQ 3647 3509 3647 2328 \nQ 3647 1150 3233 529 \nQ 2819 -91 2034 -91 \nQ 1250 -91 836 529 \nQ 422 1150 422 2328 \nQ 422 3509 836 4129 \nQ 1250 4750 2034 4750 \nz\n\" transform=\"scale(0.015625)\"/>\n       </defs>\n       <use xlink:href=\"#DejaVuSans-30\"/>\n      </g>\n     </g>\n    </g>\n    <g id=\"xtick_3\">\n     <g id=\"line2d_3\">\n      <g>\n       <use xlink:href=\"#m7517c2d200\" x=\"192.425764\" y=\"145.8\" style=\"stroke: #000000; stroke-width: 0.8\"/>\n      </g>\n     </g>\n     <g id=\"text_3\">\n      <!-- 2 -->\n      <g transform=\"translate(189.244514 160.398438) scale(0.1 -0.1)\">\n       <use xlink:href=\"#DejaVuSans-32\"/>\n      </g>\n     </g>\n    </g>\n   </g>\n   <g id=\"matplotlib.axis_2\">\n    <g id=\"ytick_1\">\n     <g id=\"line2d_4\">\n      <defs>\n       <path id=\"m5b9a9bbec2\" d=\"M 0 0 \nL -3.5 0 \n\" style=\"stroke: #000000; stroke-width: 0.8\"/>\n      </defs>\n      <g>\n       <use xlink:href=\"#m5b9a9bbec2\" x=\"28.942188\" y=\"122.63898\" style=\"stroke: #000000; stroke-width: 0.8\"/>\n      </g>\n     </g>\n     <g id=\"text_4\">\n      <!-- −5 -->\n      <g transform=\"translate(7.2 126.438199) scale(0.1 -0.1)\">\n       <defs>\n        <path id=\"DejaVuSans-35\" d=\"M 691 4666 \nL 3169 4666 \nL 3169 4134 \nL 1269 4134 \nL 1269 2991 \nQ 1406 3038 1543 3061 \nQ 1681 3084 1819 3084 \nQ 2600 3084 3056 2656 \nQ 3513 2228 3513 1497 \nQ 3513 744 3044 326 \nQ 2575 -91 1722 -91 \nQ 1428 -91 1123 -41 \nQ 819 9 494 109 \nL 494 744 \nQ 775 591 1075 516 \nQ 1375 441 1709 441 \nQ 2250 441 2565 725 \nQ 2881 1009 2881 1497 \nQ 2881 1984 2565 2268 \nQ 2250 2553 1709 2553 \nQ 1456 2553 1204 2497 \nQ 953 2441 691 2322 \nL 691 4666 \nz\n\" transform=\"scale(0.015625)\"/>\n       </defs>\n       <use xlink:href=\"#DejaVuSans-2212\"/>\n       <use xlink:href=\"#DejaVuSans-35\" x=\"83.789062\"/>\n      </g>\n     </g>\n    </g>\n    <g id=\"ytick_2\">\n     <g id=\"line2d_5\">\n      <g>\n       <use xlink:href=\"#m5b9a9bbec2\" x=\"28.942188\" y=\"98.152338\" style=\"stroke: #000000; stroke-width: 0.8\"/>\n      </g>\n     </g>\n     <g id=\"text_5\">\n      <!-- 0 -->\n      <g transform=\"translate(15.579688 101.951557) scale(0.1 -0.1)\">\n       <use xlink:href=\"#DejaVuSans-30\"/>\n      </g>\n     </g>\n    </g>\n    <g id=\"ytick_3\">\n     <g id=\"line2d_6\">\n      <g>\n       <use xlink:href=\"#m5b9a9bbec2\" x=\"28.942188\" y=\"73.665696\" style=\"stroke: #000000; stroke-width: 0.8\"/>\n      </g>\n     </g>\n     <g id=\"text_6\">\n      <!-- 5 -->\n      <g transform=\"translate(15.579688 77.464915) scale(0.1 -0.1)\">\n       <use xlink:href=\"#DejaVuSans-35\"/>\n      </g>\n     </g>\n    </g>\n    <g id=\"ytick_4\">\n     <g id=\"line2d_7\">\n      <g>\n       <use xlink:href=\"#m5b9a9bbec2\" x=\"28.942188\" y=\"49.179054\" style=\"stroke: #000000; stroke-width: 0.8\"/>\n      </g>\n     </g>\n     <g id=\"text_7\">\n      <!-- 10 -->\n      <g transform=\"translate(9.217188 52.978273) scale(0.1 -0.1)\">\n       <defs>\n        <path id=\"DejaVuSans-31\" d=\"M 794 531 \nL 1825 531 \nL 1825 4091 \nL 703 3866 \nL 703 4441 \nL 1819 4666 \nL 2450 4666 \nL 2450 531 \nL 3481 531 \nL 3481 0 \nL 794 0 \nL 794 531 \nz\n\" transform=\"scale(0.015625)\"/>\n       </defs>\n       <use xlink:href=\"#DejaVuSans-31\"/>\n       <use xlink:href=\"#DejaVuSans-30\" x=\"63.623047\"/>\n      </g>\n     </g>\n    </g>\n    <g id=\"ytick_5\">\n     <g id=\"line2d_8\">\n      <g>\n       <use xlink:href=\"#m5b9a9bbec2\" x=\"28.942188\" y=\"24.692412\" style=\"stroke: #000000; stroke-width: 0.8\"/>\n      </g>\n     </g>\n     <g id=\"text_8\">\n      <!-- 15 -->\n      <g transform=\"translate(9.217188 28.491631) scale(0.1 -0.1)\">\n       <use xlink:href=\"#DejaVuSans-31\"/>\n       <use xlink:href=\"#DejaVuSans-35\" x=\"63.623047\"/>\n      </g>\n     </g>\n    </g>\n   </g>\n   <g id=\"patch_3\">\n    <path d=\"M 28.942188 145.8 \nL 28.942188 7.2 \n\" style=\"fill: none; stroke: #000000; stroke-width: 0.8; stroke-linejoin: miter; stroke-linecap: square\"/>\n   </g>\n   <g id=\"patch_4\">\n    <path d=\"M 224.242188 145.8 \nL 224.242188 7.2 \n\" style=\"fill: none; stroke: #000000; stroke-width: 0.8; stroke-linejoin: miter; stroke-linecap: square\"/>\n   </g>\n   <g id=\"patch_5\">\n    <path d=\"M 28.942188 145.8 \nL 224.242188 145.8 \n\" style=\"fill: none; stroke: #000000; stroke-width: 0.8; stroke-linejoin: miter; stroke-linecap: square\"/>\n   </g>\n   <g id=\"patch_6\">\n    <path d=\"M 28.942188 7.2 \nL 224.242188 7.2 \n\" style=\"fill: none; stroke: #000000; stroke-width: 0.8; stroke-linejoin: miter; stroke-linecap: square\"/>\n   </g>\n  </g>\n </g>\n <defs>\n  <clipPath id=\"pf6a73d655d\">\n   <rect x=\"28.942188\" y=\"7.2\" width=\"195.3\" height=\"138.6\"/>\n  </clipPath>\n </defs>\n</svg>\n"
          },
          "metadata": {}
        }
      ],
      "source": [
        "d2l.set_figsize()\n",
        "d2l.plt.scatter(features[:, (1)].detach().numpy(), labels.detach().numpy(), 1);"
      ]
    },
    {
      "cell_type": "markdown",
      "id": "b032f500",
      "metadata": {
        "origin_pos": 13,
        "id": "b032f500"
      },
      "source": [
        "## 读取数据集\n",
        "\n",
        "回想一下，训练模型时要对数据集进行遍历，每次抽取一小批量样本，并使用它们来更新我们的模型。\n",
        "由于这个过程是训练机器学习算法的基础，所以有必要定义一个函数，\n",
        "该函数能打乱数据集中的样本并以小批量方式获取数据。\n",
        "\n",
        "在下面的代码中，我们[**定义一个`data_iter`函数，\n",
        "该函数接收批量大小、特征矩阵和标签向量作为输入，生成大小为`batch_size`的小批量**]。\n",
        "每个小批量包含一组特征和标签。\n"
      ]
    },
    {
      "cell_type": "code",
      "execution_count": 7,
      "id": "3da34ac6",
      "metadata": {
        "execution": {
          "iopub.execute_input": "2023-08-18T07:02:04.839342Z",
          "iopub.status.busy": "2023-08-18T07:02:04.838682Z",
          "iopub.status.idle": "2023-08-18T07:02:04.846329Z",
          "shell.execute_reply": "2023-08-18T07:02:04.845247Z"
        },
        "origin_pos": 14,
        "tab": [
          "pytorch"
        ],
        "id": "3da34ac6"
      },
      "outputs": [],
      "source": [
        "def data_iter(batch_size, features, labels):\n",
        "    num_examples = len(features)\n",
        "    indices = list(range(num_examples))\n",
        "    # 这些样本是随机读取的，没有特定的顺序\n",
        "    random.shuffle(indices)\n",
        "    for i in range(0, num_examples, batch_size):\n",
        "        batch_indices = torch.tensor(\n",
        "            indices[i: min(i + batch_size, num_examples)])\n",
        "        yield features[batch_indices], labels[batch_indices]"
      ]
    },
    {
      "cell_type": "markdown",
      "id": "52e08a78",
      "metadata": {
        "origin_pos": 16,
        "id": "52e08a78"
      },
      "source": [
        "通常，我们利用GPU并行运算的优势，处理合理大小的“小批量”。\n",
        "每个样本都可以并行地进行模型计算，且每个样本损失函数的梯度也可以被并行计算。\n",
        "GPU可以在处理几百个样本时，所花费的时间不比处理一个样本时多太多。\n",
        "\n",
        "我们直观感受一下小批量运算：读取第一个小批量数据样本并打印。\n",
        "每个批量的特征维度显示批量大小和输入特征数。\n",
        "同样的，批量的标签形状与`batch_size`相等。\n"
      ]
    },
    {
      "cell_type": "code",
      "execution_count": 8,
      "id": "1dce0726",
      "metadata": {
        "execution": {
          "iopub.execute_input": "2023-08-18T07:02:04.851066Z",
          "iopub.status.busy": "2023-08-18T07:02:04.850456Z",
          "iopub.status.idle": "2023-08-18T07:02:04.859860Z",
          "shell.execute_reply": "2023-08-18T07:02:04.858756Z"
        },
        "origin_pos": 17,
        "tab": [
          "pytorch"
        ],
        "id": "1dce0726",
        "outputId": "5e8674f7-bd53-4be7-ac8c-f4b13128cf1d",
        "colab": {
          "base_uri": "https://localhost:8080/"
        }
      },
      "outputs": [
        {
          "output_type": "stream",
          "name": "stdout",
          "text": [
            "tensor([[-0.4246, -0.8252],\n",
            "        [-1.2759,  0.1345],\n",
            "        [ 1.8447, -0.1918],\n",
            "        [ 1.1193, -0.4780],\n",
            "        [ 0.8987, -0.1379],\n",
            "        [ 2.3736, -1.3583],\n",
            "        [-3.0491, -0.0336],\n",
            "        [-0.4184,  0.5201],\n",
            "        [-0.1942, -1.2094],\n",
            "        [-0.0141, -1.1144]]) \n",
            " tensor([[ 6.1568],\n",
            "        [ 1.1897],\n",
            "        [ 8.5371],\n",
            "        [ 8.0569],\n",
            "        [ 6.4922],\n",
            "        [13.5664],\n",
            "        [-1.7945],\n",
            "        [ 1.5944],\n",
            "        [ 7.9125],\n",
            "        [ 7.9490]])\n"
          ]
        }
      ],
      "source": [
        "batch_size = 10\n",
        "\n",
        "for X, y in data_iter(batch_size, features, labels):\n",
        "    print(X, '\\n', y)\n",
        "    break"
      ]
    },
    {
      "cell_type": "markdown",
      "id": "d86e62d7",
      "metadata": {
        "origin_pos": 18,
        "id": "d86e62d7"
      },
      "source": [
        "当我们运行迭代时，我们会连续地获得不同的小批量，直至遍历完整个数据集。\n",
        "上面实现的迭代对教学来说很好，但它的执行效率很低，可能会在实际问题上陷入麻烦。\n",
        "例如，它要求我们将所有数据加载到内存中，并执行大量的随机内存访问。\n",
        "在深度学习框架中实现的内置迭代器效率要高得多，\n",
        "它可以处理存储在文件中的数据和数据流提供的数据。\n",
        "\n",
        "## 初始化模型参数\n",
        "\n",
        "[**在我们开始用小批量随机梯度下降优化我们的模型参数之前**]，\n",
        "(**我们需要先有一些参数**)。\n",
        "在下面的代码中，我们通过从均值为0、标准差为0.01的正态分布中采样随机数来初始化权重，\n",
        "并将偏置初始化为0。\n"
      ]
    },
    {
      "cell_type": "code",
      "execution_count": 9,
      "id": "12c51289",
      "metadata": {
        "execution": {
          "iopub.execute_input": "2023-08-18T07:02:04.864457Z",
          "iopub.status.busy": "2023-08-18T07:02:04.863853Z",
          "iopub.status.idle": "2023-08-18T07:02:04.869983Z",
          "shell.execute_reply": "2023-08-18T07:02:04.868859Z"
        },
        "origin_pos": 20,
        "tab": [
          "pytorch"
        ],
        "id": "12c51289"
      },
      "outputs": [],
      "source": [
        "w = torch.normal(0, 0.01, size=(2,1), requires_grad=True)\n",
        "b = torch.zeros(1, requires_grad=True)"
      ]
    },
    {
      "cell_type": "markdown",
      "id": "c59d5d68",
      "metadata": {
        "origin_pos": 23,
        "id": "c59d5d68"
      },
      "source": [
        "在初始化参数之后，我们的任务是更新这些参数，直到这些参数足够拟合我们的数据。\n",
        "每次更新都需要计算损失函数关于模型参数的梯度。\n",
        "有了这个梯度，我们就可以向减小损失的方向更新每个参数。\n",
        "因为手动计算梯度很枯燥而且容易出错，所以没有人会手动计算梯度。\n",
        "我们使用 :numref:`sec_autograd`中引入的自动微分来计算梯度。\n",
        "\n",
        "## 定义模型\n",
        "\n",
        "接下来，我们必须[**定义模型，将模型的输入和参数同模型的输出关联起来。**]\n",
        "回想一下，要计算线性模型的输出，\n",
        "我们只需计算输入特征$\\mathbf{X}$和模型权重$\\mathbf{w}$的矩阵-向量乘法后加上偏置$b$。\n",
        "注意，上面的$\\mathbf{Xw}$是一个向量，而$b$是一个标量。\n",
        "回想一下 :numref:`subsec_broadcasting`中描述的广播机制：\n",
        "当我们用一个向量加一个标量时，标量会被加到向量的每个分量上。\n"
      ]
    },
    {
      "cell_type": "code",
      "execution_count": 10,
      "id": "b8b29b19",
      "metadata": {
        "execution": {
          "iopub.execute_input": "2023-08-18T07:02:04.874642Z",
          "iopub.status.busy": "2023-08-18T07:02:04.874004Z",
          "iopub.status.idle": "2023-08-18T07:02:04.879521Z",
          "shell.execute_reply": "2023-08-18T07:02:04.878471Z"
        },
        "origin_pos": 24,
        "tab": [
          "pytorch"
        ],
        "id": "b8b29b19"
      },
      "outputs": [],
      "source": [
        "def linreg(X, w, b):  #@save\n",
        "    \"\"\"线性回归模型\"\"\"\n",
        "    return torch.matmul(X, w) + b"
      ]
    },
    {
      "cell_type": "markdown",
      "id": "6b7765ef",
      "metadata": {
        "origin_pos": 25,
        "id": "6b7765ef"
      },
      "source": [
        "## [**定义损失函数**]\n",
        "\n",
        "因为需要计算损失函数的梯度，所以我们应该先定义损失函数。\n",
        "这里我们使用 :numref:`sec_linear_regression`中描述的平方损失函数。\n",
        "在实现中，我们需要将真实值`y`的形状转换为和预测值`y_hat`的形状相同。\n"
      ]
    },
    {
      "cell_type": "code",
      "execution_count": 11,
      "id": "3dda15c7",
      "metadata": {
        "execution": {
          "iopub.execute_input": "2023-08-18T07:02:04.884156Z",
          "iopub.status.busy": "2023-08-18T07:02:04.883559Z",
          "iopub.status.idle": "2023-08-18T07:02:04.889065Z",
          "shell.execute_reply": "2023-08-18T07:02:04.887964Z"
        },
        "origin_pos": 26,
        "tab": [
          "pytorch"
        ],
        "id": "3dda15c7"
      },
      "outputs": [],
      "source": [
        "def squared_loss(y_hat, y):  #@save\n",
        "    \"\"\"均方损失\"\"\"\n",
        "    return (y_hat - y.reshape(y_hat.shape)) ** 2 / 2"
      ]
    },
    {
      "cell_type": "markdown",
      "id": "56969029",
      "metadata": {
        "origin_pos": 27,
        "id": "56969029"
      },
      "source": [
        "## (**定义优化算法**)\n",
        "\n",
        "正如我们在 :numref:`sec_linear_regression`中讨论的，线性回归有解析解。\n",
        "尽管线性回归有解析解，但本书中的其他模型却没有。\n",
        "这里我们介绍小批量随机梯度下降。\n",
        "\n",
        "在每一步中，使用从数据集中随机抽取的一个小批量，然后根据参数计算损失的梯度。\n",
        "接下来，朝着减少损失的方向更新我们的参数。\n",
        "下面的函数实现小批量随机梯度下降更新。\n",
        "该函数接受模型参数集合、学习速率和批量大小作为输入。每\n",
        "一步更新的大小由学习速率`lr`决定。\n",
        "因为我们计算的损失是一个批量样本的总和，所以我们用批量大小（`batch_size`）\n",
        "来规范化步长，这样步长大小就不会取决于我们对批量大小的选择。\n"
      ]
    },
    {
      "cell_type": "code",
      "execution_count": 12,
      "id": "8f92242d",
      "metadata": {
        "execution": {
          "iopub.execute_input": "2023-08-18T07:02:04.893665Z",
          "iopub.status.busy": "2023-08-18T07:02:04.892999Z",
          "iopub.status.idle": "2023-08-18T07:02:04.899100Z",
          "shell.execute_reply": "2023-08-18T07:02:04.898003Z"
        },
        "origin_pos": 29,
        "tab": [
          "pytorch"
        ],
        "id": "8f92242d"
      },
      "outputs": [],
      "source": [
        "def sgd(params, lr, batch_size):  #@save\n",
        "    \"\"\"小批量随机梯度下降\"\"\"\n",
        "    with torch.no_grad():\n",
        "        for param in params:\n",
        "            param -= lr * param.grad / batch_size\n",
        "            param.grad.zero_()"
      ]
    },
    {
      "cell_type": "markdown",
      "id": "89067f86",
      "metadata": {
        "origin_pos": 32,
        "id": "89067f86"
      },
      "source": [
        "## 训练\n",
        "\n",
        "现在我们已经准备好了模型训练所有需要的要素，可以实现主要的[**训练过程**]部分了。\n",
        "理解这段代码至关重要，因为从事深度学习后，\n",
        "相同的训练过程几乎一遍又一遍地出现。\n",
        "在每次迭代中，我们读取一小批量训练样本，并通过我们的模型来获得一组预测。\n",
        "计算完损失后，我们开始反向传播，存储每个参数的梯度。\n",
        "最后，我们调用优化算法`sgd`来更新模型参数。\n",
        "\n",
        "概括一下，我们将执行以下循环：\n",
        "\n",
        "* 初始化参数\n",
        "* 重复以下训练，直到完成\n",
        "    * 计算梯度$\\mathbf{g} \\leftarrow \\partial_{(\\mathbf{w},b)} \\frac{1}{|\\mathcal{B}|} \\sum_{i \\in \\mathcal{B}} l(\\mathbf{x}^{(i)}, y^{(i)}, \\mathbf{w}, b)$\n",
        "    * 更新参数$(\\mathbf{w}, b) \\leftarrow (\\mathbf{w}, b) - \\eta \\mathbf{g}$\n",
        "\n",
        "在每个*迭代周期*（epoch）中，我们使用`data_iter`函数遍历整个数据集，\n",
        "并将训练数据集中所有样本都使用一次（假设样本数能够被批量大小整除）。\n",
        "这里的迭代周期个数`num_epochs`和学习率`lr`都是超参数，分别设为3和0.03。\n",
        "设置超参数很棘手，需要通过反复试验进行调整。\n",
        "我们现在忽略这些细节，以后会在 :numref:`chap_optimization`中详细介绍。\n"
      ]
    },
    {
      "cell_type": "code",
      "execution_count": 13,
      "id": "9163db58",
      "metadata": {
        "execution": {
          "iopub.execute_input": "2023-08-18T07:02:04.903791Z",
          "iopub.status.busy": "2023-08-18T07:02:04.903216Z",
          "iopub.status.idle": "2023-08-18T07:02:04.908499Z",
          "shell.execute_reply": "2023-08-18T07:02:04.907341Z"
        },
        "origin_pos": 33,
        "tab": [
          "pytorch"
        ],
        "id": "9163db58"
      },
      "outputs": [],
      "source": [
        "lr = 0.03\n",
        "num_epochs = 3\n",
        "net = linreg\n",
        "loss = squared_loss"
      ]
    },
    {
      "cell_type": "code",
      "execution_count": 14,
      "id": "ad5c2cd1",
      "metadata": {
        "execution": {
          "iopub.execute_input": "2023-08-18T07:02:04.913061Z",
          "iopub.status.busy": "2023-08-18T07:02:04.912436Z",
          "iopub.status.idle": "2023-08-18T07:02:05.067276Z",
          "shell.execute_reply": "2023-08-18T07:02:05.066107Z"
        },
        "origin_pos": 35,
        "tab": [
          "pytorch"
        ],
        "id": "ad5c2cd1",
        "outputId": "254568f1-9045-4432-f81a-08cb8e50d4f3",
        "colab": {
          "base_uri": "https://localhost:8080/"
        }
      },
      "outputs": [
        {
          "output_type": "stream",
          "name": "stdout",
          "text": [
            "epoch 1, loss 0.033840\n",
            "epoch 2, loss 0.000122\n",
            "epoch 3, loss 0.000050\n"
          ]
        }
      ],
      "source": [
        "for epoch in range(num_epochs):\n",
        "    for X, y in data_iter(batch_size, features, labels):\n",
        "        l = loss(net(X, w, b), y)  # X和y的小批量损失\n",
        "        # 因为l形状是(batch_size,1)，而不是一个标量。l中的所有元素被加到一起，\n",
        "        # 并以此计算关于[w,b]的梯度\n",
        "        l.sum().backward()\n",
        "        sgd([w, b], lr, batch_size)  # 使用参数的梯度更新参数\n",
        "    with torch.no_grad():\n",
        "        train_l = loss(net(features, w, b), labels)\n",
        "        print(f'epoch {epoch + 1}, loss {float(train_l.mean()):f}')"
      ]
    },
    {
      "cell_type": "markdown",
      "id": "427d8cda",
      "metadata": {
        "origin_pos": 38,
        "id": "427d8cda"
      },
      "source": [
        "因为我们使用的是自己合成的数据集，所以我们知道真正的参数是什么。\n",
        "因此，我们可以通过[**比较真实参数和通过训练学到的参数来评估训练的成功程度**]。\n",
        "事实上，真实参数和通过训练学到的参数确实非常接近。\n"
      ]
    },
    {
      "cell_type": "code",
      "execution_count": 15,
      "id": "a4c3d525",
      "metadata": {
        "execution": {
          "iopub.execute_input": "2023-08-18T07:02:05.072546Z",
          "iopub.status.busy": "2023-08-18T07:02:05.071769Z",
          "iopub.status.idle": "2023-08-18T07:02:05.079203Z",
          "shell.execute_reply": "2023-08-18T07:02:05.078107Z"
        },
        "origin_pos": 39,
        "tab": [
          "pytorch"
        ],
        "id": "a4c3d525",
        "outputId": "16cfa796-4e77-4f68-eac9-2c7e8c6249bc",
        "colab": {
          "base_uri": "https://localhost:8080/"
        }
      },
      "outputs": [
        {
          "output_type": "stream",
          "name": "stdout",
          "text": [
            "w的估计误差: tensor([ 0.0002, -0.0001], grad_fn=<SubBackward0>)\n",
            "b的估计误差: tensor([0.0005], grad_fn=<RsubBackward1>)\n"
          ]
        }
      ],
      "source": [
        "print(f'w的估计误差: {true_w - w.reshape(true_w.shape)}')\n",
        "print(f'b的估计误差: {true_b - b}')"
      ]
    },
    {
      "cell_type": "markdown",
      "id": "9f3d71ee",
      "metadata": {
        "origin_pos": 40,
        "id": "9f3d71ee"
      },
      "source": [
        "注意，我们不应该想当然地认为我们能够完美地求解参数。\n",
        "在机器学习中，我们通常不太关心恢复真正的参数，而更关心如何高度准确预测参数。\n",
        "幸运的是，即使是在复杂的优化问题上，随机梯度下降通常也能找到非常好的解。\n",
        "其中一个原因是，在深度网络中存在许多参数组合能够实现高度精确的预测。\n",
        "\n",
        "## 小结\n",
        "\n",
        "* 我们学习了深度网络是如何实现和优化的。在这一过程中只使用张量和自动微分，不需要定义层或复杂的优化器。\n",
        "* 这一节只触及到了表面知识。在下面的部分中，我们将基于刚刚介绍的概念描述其他模型，并学习如何更简洁地实现其他模型。\n",
        "\n",
        "## 练习\n",
        "\n",
        "1. 如果我们将权重初始化为零，会发生什么。算法仍然有效吗？\n",
        "1. 假设试图为电压和电流的关系建立一个模型。自动微分可以用来学习模型的参数吗?\n",
        "1. 能基于[普朗克定律](https://en.wikipedia.org/wiki/Planck%27s_law)使用光谱能量密度来确定物体的温度吗？\n",
        "1. 计算二阶导数时可能会遇到什么问题？这些问题可以如何解决？\n",
        "1. 为什么在`squared_loss`函数中需要使用`reshape`函数？\n",
        "1. 尝试使用不同的学习率，观察损失函数值下降的快慢。\n",
        "1. 如果样本个数不能被批量大小整除，`data_iter`函数的行为会有什么变化？\n"
      ]
    },
    {
      "cell_type": "markdown",
      "id": "193224b1",
      "metadata": {
        "origin_pos": 42,
        "tab": [
          "pytorch"
        ],
        "id": "193224b1"
      },
      "source": [
        "[Discussions](https://discuss.d2l.ai/t/1778)\n"
      ]
    }
  ],
  "metadata": {
    "kernelspec": {
      "display_name": "Python 3",
      "name": "python3"
    },
    "language_info": {
      "name": "python"
    },
    "required_libs": [],
    "colab": {
      "provenance": [],
      "include_colab_link": true
    }
  },
  "nbformat": 4,
  "nbformat_minor": 5
}