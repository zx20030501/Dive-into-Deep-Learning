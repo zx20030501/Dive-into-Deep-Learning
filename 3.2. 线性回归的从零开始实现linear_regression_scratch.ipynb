{
  "cells": [
    {
      "cell_type": "markdown",
      "metadata": {
        "id": "view-in-github",
        "colab_type": "text"
      },
      "source": [
        "<a href=\"https://colab.research.google.com/github/zx20030501/Dive-into-Deep-Learning/blob/main/3.2.%20%E7%BA%BF%E6%80%A7%E5%9B%9E%E5%BD%92%E7%9A%84%E4%BB%8E%E9%9B%B6%E5%BC%80%E5%A7%8B%E5%AE%9E%E7%8E%B0linear_regression_scratch.ipynb\" target=\"_parent\"><img src=\"https://colab.research.google.com/assets/colab-badge.svg\" alt=\"Open In Colab\"/></a>"
      ]
    },
    {
      "cell_type": "markdown",
      "id": "8b2fbfca",
      "metadata": {
        "id": "8b2fbfca"
      },
      "source": [
        "The following additional libraries are needed to run this\n",
        "notebook. Note that running on Colab is experimental, please report a Github\n",
        "issue if you have any problem."
      ]
    },
    {
      "cell_type": "code",
      "execution_count": 1,
      "id": "4d4b16ae",
      "metadata": {
        "id": "4d4b16ae",
        "outputId": "93362adc-eee2-4215-a781-2e7558bdd3ca",
        "colab": {
          "base_uri": "https://localhost:8080/",
          "height": 1000
        },
        "collapsed": true
      },
      "outputs": [
        {
          "output_type": "stream",
          "name": "stdout",
          "text": [
            "Collecting d2l==1.0.3\n",
            "  Downloading d2l-1.0.3-py3-none-any.whl.metadata (556 bytes)\n",
            "Collecting jupyter==1.0.0 (from d2l==1.0.3)\n",
            "  Downloading jupyter-1.0.0-py2.py3-none-any.whl.metadata (995 bytes)\n",
            "Collecting numpy==1.23.5 (from d2l==1.0.3)\n",
            "  Downloading numpy-1.23.5-cp311-cp311-manylinux_2_17_x86_64.manylinux2014_x86_64.whl.metadata (2.3 kB)\n",
            "Collecting matplotlib==3.7.2 (from d2l==1.0.3)\n",
            "  Downloading matplotlib-3.7.2-cp311-cp311-manylinux_2_17_x86_64.manylinux2014_x86_64.whl.metadata (5.6 kB)\n",
            "Collecting matplotlib-inline==0.1.6 (from d2l==1.0.3)\n",
            "  Downloading matplotlib_inline-0.1.6-py3-none-any.whl.metadata (2.8 kB)\n",
            "Collecting requests==2.31.0 (from d2l==1.0.3)\n",
            "  Downloading requests-2.31.0-py3-none-any.whl.metadata (4.6 kB)\n",
            "Collecting pandas==2.0.3 (from d2l==1.0.3)\n",
            "  Downloading pandas-2.0.3-cp311-cp311-manylinux_2_17_x86_64.manylinux2014_x86_64.whl.metadata (18 kB)\n",
            "Collecting scipy==1.10.1 (from d2l==1.0.3)\n",
            "  Downloading scipy-1.10.1-cp311-cp311-manylinux_2_17_x86_64.manylinux2014_x86_64.whl.metadata (58 kB)\n",
            "\u001b[2K     \u001b[90m━━━━━━━━━━━━━━━━━━━━━━━━━━━━━━━━━━━━━━━━\u001b[0m \u001b[32m58.9/58.9 kB\u001b[0m \u001b[31m4.0 MB/s\u001b[0m eta \u001b[36m0:00:00\u001b[0m\n",
            "\u001b[?25hRequirement already satisfied: notebook in /usr/local/lib/python3.11/dist-packages (from jupyter==1.0.0->d2l==1.0.3) (6.5.7)\n",
            "Collecting qtconsole (from jupyter==1.0.0->d2l==1.0.3)\n",
            "  Downloading qtconsole-5.6.1-py3-none-any.whl.metadata (5.0 kB)\n",
            "Requirement already satisfied: jupyter-console in /usr/local/lib/python3.11/dist-packages (from jupyter==1.0.0->d2l==1.0.3) (6.1.0)\n",
            "Requirement already satisfied: nbconvert in /usr/local/lib/python3.11/dist-packages (from jupyter==1.0.0->d2l==1.0.3) (7.16.6)\n",
            "Requirement already satisfied: ipykernel in /usr/local/lib/python3.11/dist-packages (from jupyter==1.0.0->d2l==1.0.3) (6.17.1)\n",
            "Requirement already satisfied: ipywidgets in /usr/local/lib/python3.11/dist-packages (from jupyter==1.0.0->d2l==1.0.3) (7.7.1)\n",
            "Requirement already satisfied: contourpy>=1.0.1 in /usr/local/lib/python3.11/dist-packages (from matplotlib==3.7.2->d2l==1.0.3) (1.3.2)\n",
            "Requirement already satisfied: cycler>=0.10 in /usr/local/lib/python3.11/dist-packages (from matplotlib==3.7.2->d2l==1.0.3) (0.12.1)\n",
            "Requirement already satisfied: fonttools>=4.22.0 in /usr/local/lib/python3.11/dist-packages (from matplotlib==3.7.2->d2l==1.0.3) (4.58.4)\n",
            "Requirement already satisfied: kiwisolver>=1.0.1 in /usr/local/lib/python3.11/dist-packages (from matplotlib==3.7.2->d2l==1.0.3) (1.4.8)\n",
            "Requirement already satisfied: packaging>=20.0 in /usr/local/lib/python3.11/dist-packages (from matplotlib==3.7.2->d2l==1.0.3) (24.2)\n",
            "Requirement already satisfied: pillow>=6.2.0 in /usr/local/lib/python3.11/dist-packages (from matplotlib==3.7.2->d2l==1.0.3) (11.2.1)\n",
            "Collecting pyparsing<3.1,>=2.3.1 (from matplotlib==3.7.2->d2l==1.0.3)\n",
            "  Downloading pyparsing-3.0.9-py3-none-any.whl.metadata (4.2 kB)\n",
            "Requirement already satisfied: python-dateutil>=2.7 in /usr/local/lib/python3.11/dist-packages (from matplotlib==3.7.2->d2l==1.0.3) (2.9.0.post0)\n",
            "Requirement already satisfied: traitlets in /usr/local/lib/python3.11/dist-packages (from matplotlib-inline==0.1.6->d2l==1.0.3) (5.7.1)\n",
            "Requirement already satisfied: pytz>=2020.1 in /usr/local/lib/python3.11/dist-packages (from pandas==2.0.3->d2l==1.0.3) (2025.2)\n",
            "Requirement already satisfied: tzdata>=2022.1 in /usr/local/lib/python3.11/dist-packages (from pandas==2.0.3->d2l==1.0.3) (2025.2)\n",
            "Requirement already satisfied: charset-normalizer<4,>=2 in /usr/local/lib/python3.11/dist-packages (from requests==2.31.0->d2l==1.0.3) (3.4.2)\n",
            "Requirement already satisfied: idna<4,>=2.5 in /usr/local/lib/python3.11/dist-packages (from requests==2.31.0->d2l==1.0.3) (3.10)\n",
            "Requirement already satisfied: urllib3<3,>=1.21.1 in /usr/local/lib/python3.11/dist-packages (from requests==2.31.0->d2l==1.0.3) (2.4.0)\n",
            "Requirement already satisfied: certifi>=2017.4.17 in /usr/local/lib/python3.11/dist-packages (from requests==2.31.0->d2l==1.0.3) (2025.6.15)\n",
            "Requirement already satisfied: six>=1.5 in /usr/local/lib/python3.11/dist-packages (from python-dateutil>=2.7->matplotlib==3.7.2->d2l==1.0.3) (1.17.0)\n",
            "Requirement already satisfied: debugpy>=1.0 in /usr/local/lib/python3.11/dist-packages (from ipykernel->jupyter==1.0.0->d2l==1.0.3) (1.8.0)\n",
            "Requirement already satisfied: ipython>=7.23.1 in /usr/local/lib/python3.11/dist-packages (from ipykernel->jupyter==1.0.0->d2l==1.0.3) (7.34.0)\n",
            "Requirement already satisfied: jupyter-client>=6.1.12 in /usr/local/lib/python3.11/dist-packages (from ipykernel->jupyter==1.0.0->d2l==1.0.3) (6.1.12)\n",
            "Requirement already satisfied: nest-asyncio in /usr/local/lib/python3.11/dist-packages (from ipykernel->jupyter==1.0.0->d2l==1.0.3) (1.6.0)\n",
            "Requirement already satisfied: psutil in /usr/local/lib/python3.11/dist-packages (from ipykernel->jupyter==1.0.0->d2l==1.0.3) (5.9.5)\n",
            "Requirement already satisfied: pyzmq>=17 in /usr/local/lib/python3.11/dist-packages (from ipykernel->jupyter==1.0.0->d2l==1.0.3) (24.0.1)\n",
            "Requirement already satisfied: tornado>=6.1 in /usr/local/lib/python3.11/dist-packages (from ipykernel->jupyter==1.0.0->d2l==1.0.3) (6.4.2)\n",
            "Requirement already satisfied: ipython-genutils~=0.2.0 in /usr/local/lib/python3.11/dist-packages (from ipywidgets->jupyter==1.0.0->d2l==1.0.3) (0.2.0)\n",
            "Requirement already satisfied: widgetsnbextension~=3.6.0 in /usr/local/lib/python3.11/dist-packages (from ipywidgets->jupyter==1.0.0->d2l==1.0.3) (3.6.10)\n",
            "Requirement already satisfied: jupyterlab-widgets>=1.0.0 in /usr/local/lib/python3.11/dist-packages (from ipywidgets->jupyter==1.0.0->d2l==1.0.3) (3.0.15)\n",
            "Requirement already satisfied: prompt-toolkit!=3.0.0,!=3.0.1,<3.1.0,>=2.0.0 in /usr/local/lib/python3.11/dist-packages (from jupyter-console->jupyter==1.0.0->d2l==1.0.3) (3.0.51)\n",
            "Requirement already satisfied: pygments in /usr/local/lib/python3.11/dist-packages (from jupyter-console->jupyter==1.0.0->d2l==1.0.3) (2.19.2)\n",
            "Requirement already satisfied: beautifulsoup4 in /usr/local/lib/python3.11/dist-packages (from nbconvert->jupyter==1.0.0->d2l==1.0.3) (4.13.4)\n",
            "Requirement already satisfied: bleach!=5.0.0 in /usr/local/lib/python3.11/dist-packages (from bleach[css]!=5.0.0->nbconvert->jupyter==1.0.0->d2l==1.0.3) (6.2.0)\n",
            "Requirement already satisfied: defusedxml in /usr/local/lib/python3.11/dist-packages (from nbconvert->jupyter==1.0.0->d2l==1.0.3) (0.7.1)\n",
            "Requirement already satisfied: jinja2>=3.0 in /usr/local/lib/python3.11/dist-packages (from nbconvert->jupyter==1.0.0->d2l==1.0.3) (3.1.6)\n",
            "Requirement already satisfied: jupyter-core>=4.7 in /usr/local/lib/python3.11/dist-packages (from nbconvert->jupyter==1.0.0->d2l==1.0.3) (5.8.1)\n",
            "Requirement already satisfied: jupyterlab-pygments in /usr/local/lib/python3.11/dist-packages (from nbconvert->jupyter==1.0.0->d2l==1.0.3) (0.3.0)\n",
            "Requirement already satisfied: markupsafe>=2.0 in /usr/local/lib/python3.11/dist-packages (from nbconvert->jupyter==1.0.0->d2l==1.0.3) (3.0.2)\n",
            "Requirement already satisfied: mistune<4,>=2.0.3 in /usr/local/lib/python3.11/dist-packages (from nbconvert->jupyter==1.0.0->d2l==1.0.3) (3.1.3)\n",
            "Requirement already satisfied: nbclient>=0.5.0 in /usr/local/lib/python3.11/dist-packages (from nbconvert->jupyter==1.0.0->d2l==1.0.3) (0.10.2)\n",
            "Requirement already satisfied: nbformat>=5.7 in /usr/local/lib/python3.11/dist-packages (from nbconvert->jupyter==1.0.0->d2l==1.0.3) (5.10.4)\n",
            "Requirement already satisfied: pandocfilters>=1.4.1 in /usr/local/lib/python3.11/dist-packages (from nbconvert->jupyter==1.0.0->d2l==1.0.3) (1.5.1)\n",
            "Requirement already satisfied: argon2-cffi in /usr/local/lib/python3.11/dist-packages (from notebook->jupyter==1.0.0->d2l==1.0.3) (25.1.0)\n",
            "Requirement already satisfied: Send2Trash>=1.8.0 in /usr/local/lib/python3.11/dist-packages (from notebook->jupyter==1.0.0->d2l==1.0.3) (1.8.3)\n",
            "Requirement already satisfied: terminado>=0.8.3 in /usr/local/lib/python3.11/dist-packages (from notebook->jupyter==1.0.0->d2l==1.0.3) (0.18.1)\n",
            "Requirement already satisfied: prometheus-client in /usr/local/lib/python3.11/dist-packages (from notebook->jupyter==1.0.0->d2l==1.0.3) (0.22.1)\n",
            "Requirement already satisfied: nbclassic>=0.4.7 in /usr/local/lib/python3.11/dist-packages (from notebook->jupyter==1.0.0->d2l==1.0.3) (1.3.1)\n",
            "Collecting qtpy>=2.4.0 (from qtconsole->jupyter==1.0.0->d2l==1.0.3)\n",
            "  Downloading QtPy-2.4.3-py3-none-any.whl.metadata (12 kB)\n",
            "Requirement already satisfied: webencodings in /usr/local/lib/python3.11/dist-packages (from bleach!=5.0.0->bleach[css]!=5.0.0->nbconvert->jupyter==1.0.0->d2l==1.0.3) (0.5.1)\n",
            "Requirement already satisfied: tinycss2<1.5,>=1.1.0 in /usr/local/lib/python3.11/dist-packages (from bleach[css]!=5.0.0->nbconvert->jupyter==1.0.0->d2l==1.0.3) (1.4.0)\n",
            "Requirement already satisfied: setuptools>=18.5 in /usr/local/lib/python3.11/dist-packages (from ipython>=7.23.1->ipykernel->jupyter==1.0.0->d2l==1.0.3) (75.2.0)\n",
            "Collecting jedi>=0.16 (from ipython>=7.23.1->ipykernel->jupyter==1.0.0->d2l==1.0.3)\n",
            "  Downloading jedi-0.19.2-py2.py3-none-any.whl.metadata (22 kB)\n",
            "Requirement already satisfied: decorator in /usr/local/lib/python3.11/dist-packages (from ipython>=7.23.1->ipykernel->jupyter==1.0.0->d2l==1.0.3) (4.4.2)\n",
            "Requirement already satisfied: pickleshare in /usr/local/lib/python3.11/dist-packages (from ipython>=7.23.1->ipykernel->jupyter==1.0.0->d2l==1.0.3) (0.7.5)\n",
            "Requirement already satisfied: backcall in /usr/local/lib/python3.11/dist-packages (from ipython>=7.23.1->ipykernel->jupyter==1.0.0->d2l==1.0.3) (0.2.0)\n",
            "Requirement already satisfied: pexpect>4.3 in /usr/local/lib/python3.11/dist-packages (from ipython>=7.23.1->ipykernel->jupyter==1.0.0->d2l==1.0.3) (4.9.0)\n",
            "Requirement already satisfied: platformdirs>=2.5 in /usr/local/lib/python3.11/dist-packages (from jupyter-core>=4.7->nbconvert->jupyter==1.0.0->d2l==1.0.3) (4.3.8)\n",
            "Requirement already satisfied: notebook-shim>=0.2.3 in /usr/local/lib/python3.11/dist-packages (from nbclassic>=0.4.7->notebook->jupyter==1.0.0->d2l==1.0.3) (0.2.4)\n",
            "Requirement already satisfied: fastjsonschema>=2.15 in /usr/local/lib/python3.11/dist-packages (from nbformat>=5.7->nbconvert->jupyter==1.0.0->d2l==1.0.3) (2.21.1)\n",
            "Requirement already satisfied: jsonschema>=2.6 in /usr/local/lib/python3.11/dist-packages (from nbformat>=5.7->nbconvert->jupyter==1.0.0->d2l==1.0.3) (4.24.0)\n",
            "Requirement already satisfied: wcwidth in /usr/local/lib/python3.11/dist-packages (from prompt-toolkit!=3.0.0,!=3.0.1,<3.1.0,>=2.0.0->jupyter-console->jupyter==1.0.0->d2l==1.0.3) (0.2.13)\n",
            "Requirement already satisfied: ptyprocess in /usr/local/lib/python3.11/dist-packages (from terminado>=0.8.3->notebook->jupyter==1.0.0->d2l==1.0.3) (0.7.0)\n",
            "Requirement already satisfied: argon2-cffi-bindings in /usr/local/lib/python3.11/dist-packages (from argon2-cffi->notebook->jupyter==1.0.0->d2l==1.0.3) (21.2.0)\n",
            "Requirement already satisfied: soupsieve>1.2 in /usr/local/lib/python3.11/dist-packages (from beautifulsoup4->nbconvert->jupyter==1.0.0->d2l==1.0.3) (2.7)\n",
            "Requirement already satisfied: typing-extensions>=4.0.0 in /usr/local/lib/python3.11/dist-packages (from beautifulsoup4->nbconvert->jupyter==1.0.0->d2l==1.0.3) (4.14.0)\n",
            "Requirement already satisfied: parso<0.9.0,>=0.8.4 in /usr/local/lib/python3.11/dist-packages (from jedi>=0.16->ipython>=7.23.1->ipykernel->jupyter==1.0.0->d2l==1.0.3) (0.8.4)\n",
            "Requirement already satisfied: attrs>=22.2.0 in /usr/local/lib/python3.11/dist-packages (from jsonschema>=2.6->nbformat>=5.7->nbconvert->jupyter==1.0.0->d2l==1.0.3) (25.3.0)\n",
            "Requirement already satisfied: jsonschema-specifications>=2023.03.6 in /usr/local/lib/python3.11/dist-packages (from jsonschema>=2.6->nbformat>=5.7->nbconvert->jupyter==1.0.0->d2l==1.0.3) (2025.4.1)\n",
            "Requirement already satisfied: referencing>=0.28.4 in /usr/local/lib/python3.11/dist-packages (from jsonschema>=2.6->nbformat>=5.7->nbconvert->jupyter==1.0.0->d2l==1.0.3) (0.36.2)\n",
            "Requirement already satisfied: rpds-py>=0.7.1 in /usr/local/lib/python3.11/dist-packages (from jsonschema>=2.6->nbformat>=5.7->nbconvert->jupyter==1.0.0->d2l==1.0.3) (0.25.1)\n",
            "Requirement already satisfied: jupyter-server<3,>=1.8 in /usr/local/lib/python3.11/dist-packages (from notebook-shim>=0.2.3->nbclassic>=0.4.7->notebook->jupyter==1.0.0->d2l==1.0.3) (1.16.0)\n",
            "Requirement already satisfied: cffi>=1.0.1 in /usr/local/lib/python3.11/dist-packages (from argon2-cffi-bindings->argon2-cffi->notebook->jupyter==1.0.0->d2l==1.0.3) (1.17.1)\n",
            "Requirement already satisfied: pycparser in /usr/local/lib/python3.11/dist-packages (from cffi>=1.0.1->argon2-cffi-bindings->argon2-cffi->notebook->jupyter==1.0.0->d2l==1.0.3) (2.22)\n",
            "Requirement already satisfied: anyio>=3.1.0 in /usr/local/lib/python3.11/dist-packages (from jupyter-server<3,>=1.8->notebook-shim>=0.2.3->nbclassic>=0.4.7->notebook->jupyter==1.0.0->d2l==1.0.3) (4.9.0)\n",
            "Requirement already satisfied: websocket-client in /usr/local/lib/python3.11/dist-packages (from jupyter-server<3,>=1.8->notebook-shim>=0.2.3->nbclassic>=0.4.7->notebook->jupyter==1.0.0->d2l==1.0.3) (1.8.0)\n",
            "Requirement already satisfied: sniffio>=1.1 in /usr/local/lib/python3.11/dist-packages (from anyio>=3.1.0->jupyter-server<3,>=1.8->notebook-shim>=0.2.3->nbclassic>=0.4.7->notebook->jupyter==1.0.0->d2l==1.0.3) (1.3.1)\n",
            "Downloading d2l-1.0.3-py3-none-any.whl (111 kB)\n",
            "\u001b[2K   \u001b[90m━━━━━━━━━━━━━━━━━━━━━━━━━━━━━━━━━━━━━━━━\u001b[0m \u001b[32m111.7/111.7 kB\u001b[0m \u001b[31m7.0 MB/s\u001b[0m eta \u001b[36m0:00:00\u001b[0m\n",
            "\u001b[?25hDownloading jupyter-1.0.0-py2.py3-none-any.whl (2.7 kB)\n",
            "Downloading matplotlib-3.7.2-cp311-cp311-manylinux_2_17_x86_64.manylinux2014_x86_64.whl (11.6 MB)\n",
            "\u001b[2K   \u001b[90m━━━━━━━━━━━━━━━━━━━━━━━━━━━━━━━━━━━━━━━━\u001b[0m \u001b[32m11.6/11.6 MB\u001b[0m \u001b[31m85.4 MB/s\u001b[0m eta \u001b[36m0:00:00\u001b[0m\n",
            "\u001b[?25hDownloading matplotlib_inline-0.1.6-py3-none-any.whl (9.4 kB)\n",
            "Downloading numpy-1.23.5-cp311-cp311-manylinux_2_17_x86_64.manylinux2014_x86_64.whl (17.1 MB)\n",
            "\u001b[2K   \u001b[90m━━━━━━━━━━━━━━━━━━━━━━━━━━━━━━━━━━━━━━━━\u001b[0m \u001b[32m17.1/17.1 MB\u001b[0m \u001b[31m88.1 MB/s\u001b[0m eta \u001b[36m0:00:00\u001b[0m\n",
            "\u001b[?25hDownloading pandas-2.0.3-cp311-cp311-manylinux_2_17_x86_64.manylinux2014_x86_64.whl (12.2 MB)\n",
            "\u001b[2K   \u001b[90m━━━━━━━━━━━━━━━━━━━━━━━━━━━━━━━━━━━━━━━━\u001b[0m \u001b[32m12.2/12.2 MB\u001b[0m \u001b[31m100.8 MB/s\u001b[0m eta \u001b[36m0:00:00\u001b[0m\n",
            "\u001b[?25hDownloading requests-2.31.0-py3-none-any.whl (62 kB)\n",
            "\u001b[2K   \u001b[90m━━━━━━━━━━━━━━━━━━━━━━━━━━━━━━━━━━━━━━━━\u001b[0m \u001b[32m62.6/62.6 kB\u001b[0m \u001b[31m4.8 MB/s\u001b[0m eta \u001b[36m0:00:00\u001b[0m\n",
            "\u001b[?25hDownloading scipy-1.10.1-cp311-cp311-manylinux_2_17_x86_64.manylinux2014_x86_64.whl (34.1 MB)\n",
            "\u001b[2K   \u001b[90m━━━━━━━━━━━━━━━━━━━━━━━━━━━━━━━━━━━━━━━━\u001b[0m \u001b[32m34.1/34.1 MB\u001b[0m \u001b[31m14.3 MB/s\u001b[0m eta \u001b[36m0:00:00\u001b[0m\n",
            "\u001b[?25hDownloading pyparsing-3.0.9-py3-none-any.whl (98 kB)\n",
            "\u001b[2K   \u001b[90m━━━━━━━━━━━━━━━━━━━━━━━━━━━━━━━━━━━━━━━━\u001b[0m \u001b[32m98.3/98.3 kB\u001b[0m \u001b[31m8.4 MB/s\u001b[0m eta \u001b[36m0:00:00\u001b[0m\n",
            "\u001b[?25hDownloading qtconsole-5.6.1-py3-none-any.whl (125 kB)\n",
            "\u001b[2K   \u001b[90m━━━━━━━━━━━━━━━━━━━━━━━━━━━━━━━━━━━━━━━━\u001b[0m \u001b[32m125.0/125.0 kB\u001b[0m \u001b[31m10.5 MB/s\u001b[0m eta \u001b[36m0:00:00\u001b[0m\n",
            "\u001b[?25hDownloading QtPy-2.4.3-py3-none-any.whl (95 kB)\n",
            "\u001b[2K   \u001b[90m━━━━━━━━━━━━━━━━━━━━━━━━━━━━━━━━━━━━━━━━\u001b[0m \u001b[32m95.0/95.0 kB\u001b[0m \u001b[31m9.2 MB/s\u001b[0m eta \u001b[36m0:00:00\u001b[0m\n",
            "\u001b[?25hDownloading jedi-0.19.2-py2.py3-none-any.whl (1.6 MB)\n",
            "\u001b[2K   \u001b[90m━━━━━━━━━━━━━━━━━━━━━━━━━━━━━━━━━━━━━━━━\u001b[0m \u001b[32m1.6/1.6 MB\u001b[0m \u001b[31m66.0 MB/s\u001b[0m eta \u001b[36m0:00:00\u001b[0m\n",
            "\u001b[?25hInstalling collected packages: requests, qtpy, pyparsing, numpy, matplotlib-inline, jedi, scipy, pandas, matplotlib, qtconsole, jupyter, d2l\n",
            "  Attempting uninstall: requests\n",
            "    Found existing installation: requests 2.32.3\n",
            "    Uninstalling requests-2.32.3:\n",
            "      Successfully uninstalled requests-2.32.3\n",
            "  Attempting uninstall: pyparsing\n",
            "    Found existing installation: pyparsing 3.2.3\n",
            "    Uninstalling pyparsing-3.2.3:\n",
            "      Successfully uninstalled pyparsing-3.2.3\n",
            "  Attempting uninstall: numpy\n",
            "    Found existing installation: numpy 2.0.2\n",
            "    Uninstalling numpy-2.0.2:\n",
            "      Successfully uninstalled numpy-2.0.2\n",
            "  Attempting uninstall: matplotlib-inline\n",
            "    Found existing installation: matplotlib-inline 0.1.7\n",
            "    Uninstalling matplotlib-inline-0.1.7:\n",
            "      Successfully uninstalled matplotlib-inline-0.1.7\n",
            "  Attempting uninstall: scipy\n",
            "    Found existing installation: scipy 1.15.3\n",
            "    Uninstalling scipy-1.15.3:\n",
            "      Successfully uninstalled scipy-1.15.3\n",
            "  Attempting uninstall: pandas\n",
            "    Found existing installation: pandas 2.2.2\n",
            "    Uninstalling pandas-2.2.2:\n",
            "      Successfully uninstalled pandas-2.2.2\n",
            "  Attempting uninstall: matplotlib\n",
            "    Found existing installation: matplotlib 3.10.0\n",
            "    Uninstalling matplotlib-3.10.0:\n",
            "      Successfully uninstalled matplotlib-3.10.0\n",
            "\u001b[31mERROR: pip's dependency resolver does not currently take into account all the packages that are installed. This behaviour is the source of the following dependency conflicts.\n",
            "google-colab 1.0.0 requires pandas==2.2.2, but you have pandas 2.0.3 which is incompatible.\n",
            "google-colab 1.0.0 requires requests==2.32.3, but you have requests 2.31.0 which is incompatible.\n",
            "scikit-image 0.25.2 requires numpy>=1.24, but you have numpy 1.23.5 which is incompatible.\n",
            "scikit-image 0.25.2 requires scipy>=1.11.4, but you have scipy 1.10.1 which is incompatible.\n",
            "jaxlib 0.5.1 requires numpy>=1.25, but you have numpy 1.23.5 which is incompatible.\n",
            "jaxlib 0.5.1 requires scipy>=1.11.1, but you have scipy 1.10.1 which is incompatible.\n",
            "bigframes 2.8.0 requires numpy>=1.24.0, but you have numpy 1.23.5 which is incompatible.\n",
            "mizani 0.13.5 requires pandas>=2.2.0, but you have pandas 2.0.3 which is incompatible.\n",
            "treescope 0.1.9 requires numpy>=1.25.2, but you have numpy 1.23.5 which is incompatible.\n",
            "tsfresh 0.21.0 requires scipy>=1.14.0; python_version >= \"3.10\", but you have scipy 1.10.1 which is incompatible.\n",
            "pymc 5.23.0 requires numpy>=1.25.0, but you have numpy 1.23.5 which is incompatible.\n",
            "xarray 2025.3.1 requires numpy>=1.24, but you have numpy 1.23.5 which is incompatible.\n",
            "xarray 2025.3.1 requires pandas>=2.1, but you have pandas 2.0.3 which is incompatible.\n",
            "thinc 8.3.6 requires numpy<3.0.0,>=2.0.0, but you have numpy 1.23.5 which is incompatible.\n",
            "albucore 0.0.24 requires numpy>=1.24.4, but you have numpy 1.23.5 which is incompatible.\n",
            "plotnine 0.14.5 requires matplotlib>=3.8.0, but you have matplotlib 3.7.2 which is incompatible.\n",
            "plotnine 0.14.5 requires pandas>=2.2.0, but you have pandas 2.0.3 which is incompatible.\n",
            "tensorflow 2.18.0 requires numpy<2.1.0,>=1.26.0, but you have numpy 1.23.5 which is incompatible.\n",
            "cvxpy 1.6.6 requires scipy>=1.11.0, but you have scipy 1.10.1 which is incompatible.\n",
            "jax 0.5.2 requires numpy>=1.25, but you have numpy 1.23.5 which is incompatible.\n",
            "jax 0.5.2 requires scipy>=1.11.1, but you have scipy 1.10.1 which is incompatible.\n",
            "albumentations 2.0.8 requires numpy>=1.24.4, but you have numpy 1.23.5 which is incompatible.\n",
            "db-dtypes 1.4.3 requires numpy>=1.24.0, but you have numpy 1.23.5 which is incompatible.\n",
            "imbalanced-learn 0.13.0 requires numpy<3,>=1.24.3, but you have numpy 1.23.5 which is incompatible.\n",
            "xarray-einstats 0.9.1 requires numpy>=1.25, but you have numpy 1.23.5 which is incompatible.\n",
            "xarray-einstats 0.9.1 requires scipy>=1.11, but you have scipy 1.10.1 which is incompatible.\n",
            "chex 0.1.89 requires numpy>=1.24.1, but you have numpy 1.23.5 which is incompatible.\n",
            "blosc2 3.5.0 requires numpy>=1.26, but you have numpy 1.23.5 which is incompatible.\u001b[0m\u001b[31m\n",
            "\u001b[0mSuccessfully installed d2l-1.0.3 jedi-0.19.2 jupyter-1.0.0 matplotlib-3.7.2 matplotlib-inline-0.1.6 numpy-1.23.5 pandas-2.0.3 pyparsing-3.0.9 qtconsole-5.6.1 qtpy-2.4.3 requests-2.31.0 scipy-1.10.1\n"
          ]
        },
        {
          "output_type": "display_data",
          "data": {
            "application/vnd.colab-display-data+json": {
              "pip_warning": {
                "packages": [
                  "matplotlib",
                  "matplotlib_inline",
                  "mpl_toolkits",
                  "numpy",
                  "pyparsing"
                ]
              },
              "id": "1fa1f206f5664bce80720dad290a6ce6"
            }
          },
          "metadata": {}
        }
      ],
      "source": [
        "# !pip install git+https://github.com/d2l-ai/d2l-zh@release  # installing d2l\n",
        "\n",
        "!pip install d2l==1.0.3  # 这是在线教材英文版的安装dl2的方法。 不会报错\n"
      ]
    },
    {
      "cell_type": "markdown",
      "id": "3b3e0a72",
      "metadata": {
        "origin_pos": 0,
        "id": "3b3e0a72"
      },
      "source": [
        "# 线性回归的从零开始实现\n",
        ":label:`sec_linear_scratch`\n",
        "\n",
        "在了解线性回归的关键思想之后，我们可以开始通过代码来动手实现线性回归了。\n",
        "在这一节中，(**我们将从零开始实现整个方法，\n",
        "包括数据流水线、模型、损失函数和小批量随机梯度下降优化器**)。\n",
        "虽然现代的深度学习框架几乎可以自动化地进行所有这些工作，但从零开始实现可以确保我们真正知道自己在做什么。\n",
        "同时，了解更细致的工作原理将方便我们自定义模型、自定义层或自定义损失函数。\n",
        "在这一节中，我们将只使用张量和自动求导。\n",
        "在之后的章节中，我们会充分利用深度学习框架的优势，介绍更简洁的实现方式。\n"
      ]
    },
    {
      "cell_type": "code",
      "execution_count": 1,
      "id": "c6f4cd71",
      "metadata": {
        "execution": {
          "iopub.execute_input": "2023-08-18T07:02:01.462670Z",
          "iopub.status.busy": "2023-08-18T07:02:01.461918Z",
          "iopub.status.idle": "2023-08-18T07:02:04.547486Z",
          "shell.execute_reply": "2023-08-18T07:02:04.546281Z"
        },
        "origin_pos": 2,
        "tab": [
          "pytorch"
        ],
        "id": "c6f4cd71"
      },
      "outputs": [],
      "source": [
        "%matplotlib inline\n",
        "import random\n",
        "import torch\n",
        "from d2l import torch as d2l"
      ]
    },
    {
      "cell_type": "markdown",
      "id": "18283191",
      "metadata": {
        "origin_pos": 5,
        "id": "18283191"
      },
      "source": [
        "## 生成数据集\n",
        "\n",
        "为了简单起见，我们将[**根据带有噪声的线性模型构造一个人造数据集。**]\n",
        "我们的任务是使用这个有限样本的数据集来恢复这个模型的参数。\n",
        "我们将使用低维数据，这样可以很容易地将其可视化。\n",
        "在下面的代码中，我们生成一个包含1000个样本的数据集，\n",
        "每个样本包含从标准正态分布中采样的2个特征。\n",
        "我们的合成数据集是一个矩阵$\\mathbf{X}\\in \\mathbb{R}^{1000 \\times 2}$。\n",
        "\n",
        "(**我们使用线性模型参数$\\mathbf{w} = [2, -3.4]^\\top$、$b = 4.2$\n",
        "和噪声项$\\epsilon$生成数据集及其标签：\n",
        "\n",
        "$$\\mathbf{y}= \\mathbf{X} \\mathbf{w} + b + \\mathbf\\epsilon.$$\n",
        "**)\n",
        "\n",
        "$\\epsilon$可以视为模型预测和标签时的潜在观测误差。\n",
        "在这里我们认为标准假设成立，即$\\epsilon$服从均值为0的正态分布。\n",
        "为了简化问题，我们将标准差设为0.01。\n",
        "下面的代码生成合成数据集。\n"
      ]
    },
    {
      "cell_type": "code",
      "execution_count": 2,
      "id": "54efeafe",
      "metadata": {
        "execution": {
          "iopub.execute_input": "2023-08-18T07:02:04.553500Z",
          "iopub.status.busy": "2023-08-18T07:02:04.552544Z",
          "iopub.status.idle": "2023-08-18T07:02:04.560226Z",
          "shell.execute_reply": "2023-08-18T07:02:04.559125Z"
        },
        "origin_pos": 6,
        "tab": [
          "pytorch"
        ],
        "id": "54efeafe"
      },
      "outputs": [],
      "source": [
        "def synthetic_data(w, b, num_examples):  #@save\n",
        "    \"\"\"生成y=Xw+b+噪声\"\"\"\n",
        "    X = torch.normal(0, 1, (num_examples, len(w)))\n",
        "    y = torch.matmul(X, w) + b\n",
        "    y += torch.normal(0, 0.01, y.shape)\n",
        "    return X, y.reshape((-1, 1))\n",
        "\n",
        "# 这是给目标变量y添加高斯噪声（正态分布噪声），模拟现实数据中的误差或扰动。\n",
        "# 等价写法   y += torch.normal(0, 0.01, y.shape)\n",
        "# noise = torch.normal(0, 0.01, y.shape)\n",
        "# y = y + noise"
      ]
    },
    {
      "cell_type": "code",
      "execution_count": 3,
      "id": "1e60261c",
      "metadata": {
        "execution": {
          "iopub.execute_input": "2023-08-18T07:02:04.564932Z",
          "iopub.status.busy": "2023-08-18T07:02:04.564190Z",
          "iopub.status.idle": "2023-08-18T07:02:04.575309Z",
          "shell.execute_reply": "2023-08-18T07:02:04.574216Z"
        },
        "origin_pos": 8,
        "tab": [
          "pytorch"
        ],
        "id": "1e60261c"
      },
      "outputs": [],
      "source": [
        "true_w = torch.tensor([2, -3.4])\n",
        "true_b = 4.2\n",
        "features, labels = synthetic_data(true_w, true_b, 1000)"
      ]
    },
    {
      "cell_type": "markdown",
      "id": "772256cb",
      "metadata": {
        "origin_pos": 9,
        "id": "772256cb"
      },
      "source": [
        "注意，[**`features`中的每一行都包含一个二维数据样本，\n",
        "`labels`中的每一行都包含一维标签值（一个标量）**]。\n"
      ]
    },
    {
      "cell_type": "code",
      "execution_count": 4,
      "id": "ec13e4f8",
      "metadata": {
        "execution": {
          "iopub.execute_input": "2023-08-18T07:02:04.580067Z",
          "iopub.status.busy": "2023-08-18T07:02:04.579449Z",
          "iopub.status.idle": "2023-08-18T07:02:04.587391Z",
          "shell.execute_reply": "2023-08-18T07:02:04.586306Z"
        },
        "origin_pos": 10,
        "tab": [
          "pytorch"
        ],
        "id": "ec13e4f8",
        "outputId": "1ebc5c16-a834-4690-be73-73430e1d1253",
        "colab": {
          "base_uri": "https://localhost:8080/"
        }
      },
      "outputs": [
        {
          "output_type": "stream",
          "name": "stdout",
          "text": [
            "features: tensor([-1.7142, -0.6058]) \n",
            "label: tensor([2.8154])\n"
          ]
        }
      ],
      "source": [
        "print('features:', features[0],'\\nlabel:', labels[0])"
      ]
    },
    {
      "cell_type": "markdown",
      "id": "6b8c624b",
      "metadata": {
        "origin_pos": 11,
        "id": "6b8c624b"
      },
      "source": [
        "通过生成第二个特征`features[:, 1]`和`labels`的散点图，\n",
        "可以直观观察到两者之间的线性关系。\n"
      ]
    },
    {
      "cell_type": "code",
      "execution_count": 5,
      "id": "53ef493c",
      "metadata": {
        "execution": {
          "iopub.execute_input": "2023-08-18T07:02:04.592131Z",
          "iopub.status.busy": "2023-08-18T07:02:04.591402Z",
          "iopub.status.idle": "2023-08-18T07:02:04.829190Z",
          "shell.execute_reply": "2023-08-18T07:02:04.827927Z"
        },
        "origin_pos": 12,
        "tab": [
          "pytorch"
        ],
        "id": "53ef493c",
        "outputId": "17e19e1d-8530-4b48-cacc-b3cf15842986",
        "colab": {
          "base_uri": "https://localhost:8080/",
          "height": 247
        }
      },
      "outputs": [
        {
          "output_type": "display_data",
          "data": {
            "text/plain": [
              "<Figure size 350x250 with 1 Axes>"
            ],
            "image/svg+xml": "<?xml version=\"1.0\" encoding=\"utf-8\" standalone=\"no\"?>\n<!DOCTYPE svg PUBLIC \"-//W3C//DTD SVG 1.1//EN\"\n  \"http://www.w3.org/Graphics/SVG/1.1/DTD/svg11.dtd\">\n<svg xmlns:xlink=\"http://www.w3.org/1999/xlink\" width=\"240.576831pt\" height=\"169.678125pt\" viewBox=\"0 0 240.576831 169.678125\" xmlns=\"http://www.w3.org/2000/svg\" version=\"1.1\">\n <metadata>\n  <rdf:RDF xmlns:dc=\"http://purl.org/dc/elements/1.1/\" xmlns:cc=\"http://creativecommons.org/ns#\" xmlns:rdf=\"http://www.w3.org/1999/02/22-rdf-syntax-ns#\">\n   <cc:Work>\n    <dc:type rdf:resource=\"http://purl.org/dc/dcmitype/StillImage\"/>\n    <dc:date>2025-06-28T07:52:29.584704</dc:date>\n    <dc:format>image/svg+xml</dc:format>\n    <dc:creator>\n     <cc:Agent>\n      <dc:title>Matplotlib v3.7.2, https://matplotlib.org/</dc:title>\n     </cc:Agent>\n    </dc:creator>\n   </cc:Work>\n  </rdf:RDF>\n </metadata>\n <defs>\n  <style type=\"text/css\">*{stroke-linejoin: round; stroke-linecap: butt}</style>\n </defs>\n <g id=\"figure_1\">\n  <g id=\"patch_1\">\n   <path d=\"M 0 169.678125 \nL 240.576831 169.678125 \nL 240.576831 0 \nL 0 0 \nz\n\" style=\"fill: #ffffff\"/>\n  </g>\n  <g id=\"axes_1\">\n   <g id=\"patch_2\">\n    <path d=\"M 35.304688 145.8 \nL 230.604688 145.8 \nL 230.604688 7.2 \nL 35.304688 7.2 \nz\n\" style=\"fill: #ffffff\"/>\n   </g>\n   <g id=\"PathCollection_1\">\n    <defs>\n     <path id=\"me39c638742\" d=\"M 0 0.5 \nC 0.132602 0.5 0.25979 0.447317 0.353553 0.353553 \nC 0.447317 0.25979 0.5 0.132602 0.5 0 \nC 0.5 -0.132602 0.447317 -0.25979 0.353553 -0.353553 \nC 0.25979 -0.447317 0.132602 -0.5 0 -0.5 \nC -0.132602 -0.5 -0.25979 -0.447317 -0.353553 -0.353553 \nC -0.447317 -0.25979 -0.5 -0.132602 -0.5 0 \nC -0.5 0.132602 -0.447317 0.25979 -0.353553 0.353553 \nC -0.25979 0.447317 -0.132602 0.5 0 0.5 \nz\n\" style=\"stroke: #1f77b4\"/>\n    </defs>\n    <g clip-path=\"url(#p4d931c2dae)\">\n     <use xlink:href=\"#me39c638742\" x=\"111.087493\" y=\"80.525755\" style=\"fill: #1f77b4; stroke: #1f77b4\"/>\n     <use xlink:href=\"#me39c638742\" x=\"146.577855\" y=\"99.29695\" style=\"fill: #1f77b4; stroke: #1f77b4\"/>\n     <use xlink:href=\"#me39c638742\" x=\"150.101006\" y=\"95.743073\" style=\"fill: #1f77b4; stroke: #1f77b4\"/>\n     <use xlink:href=\"#me39c638742\" x=\"112.30178\" y=\"55.492258\" style=\"fill: #1f77b4; stroke: #1f77b4\"/>\n     <use xlink:href=\"#me39c638742\" x=\"140.767881\" y=\"92.923114\" style=\"fill: #1f77b4; stroke: #1f77b4\"/>\n     <use xlink:href=\"#me39c638742\" x=\"165.714536\" y=\"103.165784\" style=\"fill: #1f77b4; stroke: #1f77b4\"/>\n     <use xlink:href=\"#me39c638742\" x=\"117.158344\" y=\"67.256699\" style=\"fill: #1f77b4; stroke: #1f77b4\"/>\n     <use xlink:href=\"#me39c638742\" x=\"185.637802\" y=\"117.181323\" style=\"fill: #1f77b4; stroke: #1f77b4\"/>\n     <use xlink:href=\"#me39c638742\" x=\"71.567603\" y=\"33.690371\" style=\"fill: #1f77b4; stroke: #1f77b4\"/>\n     <use xlink:href=\"#me39c638742\" x=\"139.333907\" y=\"77.616124\" style=\"fill: #1f77b4; stroke: #1f77b4\"/>\n     <use xlink:href=\"#me39c638742\" x=\"139.627331\" y=\"87.851033\" style=\"fill: #1f77b4; stroke: #1f77b4\"/>\n     <use xlink:href=\"#me39c638742\" x=\"112.553596\" y=\"70.586267\" style=\"fill: #1f77b4; stroke: #1f77b4\"/>\n     <use xlink:href=\"#me39c638742\" x=\"84.256349\" y=\"40.128185\" style=\"fill: #1f77b4; stroke: #1f77b4\"/>\n     <use xlink:href=\"#me39c638742\" x=\"119.349748\" y=\"73.041326\" style=\"fill: #1f77b4; stroke: #1f77b4\"/>\n     <use xlink:href=\"#me39c638742\" x=\"77.415028\" y=\"37.931869\" style=\"fill: #1f77b4; stroke: #1f77b4\"/>\n     <use xlink:href=\"#me39c638742\" x=\"103.741654\" y=\"52.270943\" style=\"fill: #1f77b4; stroke: #1f77b4\"/>\n     <use xlink:href=\"#me39c638742\" x=\"118.938977\" y=\"62.872173\" style=\"fill: #1f77b4; stroke: #1f77b4\"/>\n     <use xlink:href=\"#me39c638742\" x=\"122.729211\" y=\"50.990553\" style=\"fill: #1f77b4; stroke: #1f77b4\"/>\n     <use xlink:href=\"#me39c638742\" x=\"141.917515\" y=\"83.066232\" style=\"fill: #1f77b4; stroke: #1f77b4\"/>\n     <use xlink:href=\"#me39c638742\" x=\"126.05218\" y=\"68.720286\" style=\"fill: #1f77b4; stroke: #1f77b4\"/>\n     <use xlink:href=\"#me39c638742\" x=\"115.353697\" y=\"56.621909\" style=\"fill: #1f77b4; stroke: #1f77b4\"/>\n     <use xlink:href=\"#me39c638742\" x=\"93.208189\" y=\"60.633114\" style=\"fill: #1f77b4; stroke: #1f77b4\"/>\n     <use xlink:href=\"#me39c638742\" x=\"120.750619\" y=\"71.780146\" style=\"fill: #1f77b4; stroke: #1f77b4\"/>\n     <use xlink:href=\"#me39c638742\" x=\"84.500714\" y=\"59.670486\" style=\"fill: #1f77b4; stroke: #1f77b4\"/>\n     <use xlink:href=\"#me39c638742\" x=\"95.516916\" y=\"48.856295\" style=\"fill: #1f77b4; stroke: #1f77b4\"/>\n     <use xlink:href=\"#me39c638742\" x=\"132.593184\" y=\"74.289356\" style=\"fill: #1f77b4; stroke: #1f77b4\"/>\n     <use xlink:href=\"#me39c638742\" x=\"126.720667\" y=\"74.032106\" style=\"fill: #1f77b4; stroke: #1f77b4\"/>\n     <use xlink:href=\"#me39c638742\" x=\"116.949207\" y=\"62.669073\" style=\"fill: #1f77b4; stroke: #1f77b4\"/>\n     <use xlink:href=\"#me39c638742\" x=\"128.66568\" y=\"78.39954\" style=\"fill: #1f77b4; stroke: #1f77b4\"/>\n     <use xlink:href=\"#me39c638742\" x=\"142.242831\" y=\"74.093327\" style=\"fill: #1f77b4; stroke: #1f77b4\"/>\n     <use xlink:href=\"#me39c638742\" x=\"133.062384\" y=\"99.75633\" style=\"fill: #1f77b4; stroke: #1f77b4\"/>\n     <use xlink:href=\"#me39c638742\" x=\"97.371869\" y=\"41.467877\" style=\"fill: #1f77b4; stroke: #1f77b4\"/>\n     <use xlink:href=\"#me39c638742\" x=\"110.014679\" y=\"79.651494\" style=\"fill: #1f77b4; stroke: #1f77b4\"/>\n     <use xlink:href=\"#me39c638742\" x=\"139.611906\" y=\"80.844293\" style=\"fill: #1f77b4; stroke: #1f77b4\"/>\n     <use xlink:href=\"#me39c638742\" x=\"114.377203\" y=\"75.171978\" style=\"fill: #1f77b4; stroke: #1f77b4\"/>\n     <use xlink:href=\"#me39c638742\" x=\"139.944617\" y=\"75.302931\" style=\"fill: #1f77b4; stroke: #1f77b4\"/>\n     <use xlink:href=\"#me39c638742\" x=\"136.45919\" y=\"78.914984\" style=\"fill: #1f77b4; stroke: #1f77b4\"/>\n     <use xlink:href=\"#me39c638742\" x=\"191.18995\" y=\"133.727356\" style=\"fill: #1f77b4; stroke: #1f77b4\"/>\n     <use xlink:href=\"#me39c638742\" x=\"155.243935\" y=\"87.919624\" style=\"fill: #1f77b4; stroke: #1f77b4\"/>\n     <use xlink:href=\"#me39c638742\" x=\"141.821554\" y=\"82.878261\" style=\"fill: #1f77b4; stroke: #1f77b4\"/>\n     <use xlink:href=\"#me39c638742\" x=\"185.554986\" y=\"108.294975\" style=\"fill: #1f77b4; stroke: #1f77b4\"/>\n     <use xlink:href=\"#me39c638742\" x=\"134.147171\" y=\"78.44469\" style=\"fill: #1f77b4; stroke: #1f77b4\"/>\n     <use xlink:href=\"#me39c638742\" x=\"131.941007\" y=\"98.144335\" style=\"fill: #1f77b4; stroke: #1f77b4\"/>\n     <use xlink:href=\"#me39c638742\" x=\"104.872373\" y=\"57.853339\" style=\"fill: #1f77b4; stroke: #1f77b4\"/>\n     <use xlink:href=\"#me39c638742\" x=\"94.603277\" y=\"42.003263\" style=\"fill: #1f77b4; stroke: #1f77b4\"/>\n     <use xlink:href=\"#me39c638742\" x=\"118.276214\" y=\"69.600602\" style=\"fill: #1f77b4; stroke: #1f77b4\"/>\n     <use xlink:href=\"#me39c638742\" x=\"88.722697\" y=\"45.546451\" style=\"fill: #1f77b4; stroke: #1f77b4\"/>\n     <use xlink:href=\"#me39c638742\" x=\"163.528563\" y=\"109.477884\" style=\"fill: #1f77b4; stroke: #1f77b4\"/>\n     <use xlink:href=\"#me39c638742\" x=\"117.306457\" y=\"62.376153\" style=\"fill: #1f77b4; stroke: #1f77b4\"/>\n     <use xlink:href=\"#me39c638742\" x=\"137.272894\" y=\"73.439075\" style=\"fill: #1f77b4; stroke: #1f77b4\"/>\n     <use xlink:href=\"#me39c638742\" x=\"98.198181\" y=\"60.234379\" style=\"fill: #1f77b4; stroke: #1f77b4\"/>\n     <use xlink:href=\"#me39c638742\" x=\"135.498373\" y=\"84.132904\" style=\"fill: #1f77b4; stroke: #1f77b4\"/>\n     <use xlink:href=\"#me39c638742\" x=\"127.348241\" y=\"78.939077\" style=\"fill: #1f77b4; stroke: #1f77b4\"/>\n     <use xlink:href=\"#me39c638742\" x=\"68.004536\" y=\"42.065247\" style=\"fill: #1f77b4; stroke: #1f77b4\"/>\n     <use xlink:href=\"#me39c638742\" x=\"167.955448\" y=\"109.837241\" style=\"fill: #1f77b4; stroke: #1f77b4\"/>\n     <use xlink:href=\"#me39c638742\" x=\"153.114143\" y=\"93.46789\" style=\"fill: #1f77b4; stroke: #1f77b4\"/>\n     <use xlink:href=\"#me39c638742\" x=\"144.349803\" y=\"86.271591\" style=\"fill: #1f77b4; stroke: #1f77b4\"/>\n     <use xlink:href=\"#me39c638742\" x=\"125.950341\" y=\"76.395964\" style=\"fill: #1f77b4; stroke: #1f77b4\"/>\n     <use xlink:href=\"#me39c638742\" x=\"151.096485\" y=\"90.814606\" style=\"fill: #1f77b4; stroke: #1f77b4\"/>\n     <use xlink:href=\"#me39c638742\" x=\"126.190925\" y=\"77.707424\" style=\"fill: #1f77b4; stroke: #1f77b4\"/>\n     <use xlink:href=\"#me39c638742\" x=\"127.629556\" y=\"82.526746\" style=\"fill: #1f77b4; stroke: #1f77b4\"/>\n     <use xlink:href=\"#me39c638742\" x=\"96.07773\" y=\"45.289497\" style=\"fill: #1f77b4; stroke: #1f77b4\"/>\n     <use xlink:href=\"#me39c638742\" x=\"102.160905\" y=\"56.424113\" style=\"fill: #1f77b4; stroke: #1f77b4\"/>\n     <use xlink:href=\"#me39c638742\" x=\"140.57035\" y=\"70.440712\" style=\"fill: #1f77b4; stroke: #1f77b4\"/>\n     <use xlink:href=\"#me39c638742\" x=\"146.200467\" y=\"98.269241\" style=\"fill: #1f77b4; stroke: #1f77b4\"/>\n     <use xlink:href=\"#me39c638742\" x=\"98.472665\" y=\"47.333512\" style=\"fill: #1f77b4; stroke: #1f77b4\"/>\n     <use xlink:href=\"#me39c638742\" x=\"142.401534\" y=\"88.48499\" style=\"fill: #1f77b4; stroke: #1f77b4\"/>\n     <use xlink:href=\"#me39c638742\" x=\"97.919545\" y=\"58.796984\" style=\"fill: #1f77b4; stroke: #1f77b4\"/>\n     <use xlink:href=\"#me39c638742\" x=\"132.044011\" y=\"80.896839\" style=\"fill: #1f77b4; stroke: #1f77b4\"/>\n     <use xlink:href=\"#me39c638742\" x=\"95.602168\" y=\"49.870659\" style=\"fill: #1f77b4; stroke: #1f77b4\"/>\n     <use xlink:href=\"#me39c638742\" x=\"133.702997\" y=\"82.351561\" style=\"fill: #1f77b4; stroke: #1f77b4\"/>\n     <use xlink:href=\"#me39c638742\" x=\"130.189574\" y=\"70.564826\" style=\"fill: #1f77b4; stroke: #1f77b4\"/>\n     <use xlink:href=\"#me39c638742\" x=\"137.327554\" y=\"98.671537\" style=\"fill: #1f77b4; stroke: #1f77b4\"/>\n     <use xlink:href=\"#me39c638742\" x=\"147.763242\" y=\"77.756635\" style=\"fill: #1f77b4; stroke: #1f77b4\"/>\n     <use xlink:href=\"#me39c638742\" x=\"131.864641\" y=\"60.304876\" style=\"fill: #1f77b4; stroke: #1f77b4\"/>\n     <use xlink:href=\"#me39c638742\" x=\"161.264737\" y=\"88.421764\" style=\"fill: #1f77b4; stroke: #1f77b4\"/>\n     <use xlink:href=\"#me39c638742\" x=\"129.880199\" y=\"82.581742\" style=\"fill: #1f77b4; stroke: #1f77b4\"/>\n     <use xlink:href=\"#me39c638742\" x=\"109.931381\" y=\"57.717021\" style=\"fill: #1f77b4; stroke: #1f77b4\"/>\n     <use xlink:href=\"#me39c638742\" x=\"149.608385\" y=\"82.598319\" style=\"fill: #1f77b4; stroke: #1f77b4\"/>\n     <use xlink:href=\"#me39c638742\" x=\"138.194847\" y=\"67.835991\" style=\"fill: #1f77b4; stroke: #1f77b4\"/>\n     <use xlink:href=\"#me39c638742\" x=\"161.35605\" y=\"87.528788\" style=\"fill: #1f77b4; stroke: #1f77b4\"/>\n     <use xlink:href=\"#me39c638742\" x=\"119.856903\" y=\"62.634206\" style=\"fill: #1f77b4; stroke: #1f77b4\"/>\n     <use xlink:href=\"#me39c638742\" x=\"110.988088\" y=\"74.964102\" style=\"fill: #1f77b4; stroke: #1f77b4\"/>\n     <use xlink:href=\"#me39c638742\" x=\"148.275844\" y=\"103.347437\" style=\"fill: #1f77b4; stroke: #1f77b4\"/>\n     <use xlink:href=\"#me39c638742\" x=\"139.00241\" y=\"82.263812\" style=\"fill: #1f77b4; stroke: #1f77b4\"/>\n     <use xlink:href=\"#me39c638742\" x=\"123.474738\" y=\"73.99206\" style=\"fill: #1f77b4; stroke: #1f77b4\"/>\n     <use xlink:href=\"#me39c638742\" x=\"144.943944\" y=\"70.798267\" style=\"fill: #1f77b4; stroke: #1f77b4\"/>\n     <use xlink:href=\"#me39c638742\" x=\"100.07014\" y=\"53.137949\" style=\"fill: #1f77b4; stroke: #1f77b4\"/>\n     <use xlink:href=\"#me39c638742\" x=\"128.190592\" y=\"83.012072\" style=\"fill: #1f77b4; stroke: #1f77b4\"/>\n     <use xlink:href=\"#me39c638742\" x=\"166.42888\" y=\"101.322123\" style=\"fill: #1f77b4; stroke: #1f77b4\"/>\n     <use xlink:href=\"#me39c638742\" x=\"111.862749\" y=\"79.639697\" style=\"fill: #1f77b4; stroke: #1f77b4\"/>\n     <use xlink:href=\"#me39c638742\" x=\"149.78078\" y=\"99.744459\" style=\"fill: #1f77b4; stroke: #1f77b4\"/>\n     <use xlink:href=\"#me39c638742\" x=\"134.410952\" y=\"88.177161\" style=\"fill: #1f77b4; stroke: #1f77b4\"/>\n     <use xlink:href=\"#me39c638742\" x=\"101.27713\" y=\"64.105064\" style=\"fill: #1f77b4; stroke: #1f77b4\"/>\n     <use xlink:href=\"#me39c638742\" x=\"125.938892\" y=\"74.723576\" style=\"fill: #1f77b4; stroke: #1f77b4\"/>\n     <use xlink:href=\"#me39c638742\" x=\"171.325032\" y=\"91.188826\" style=\"fill: #1f77b4; stroke: #1f77b4\"/>\n     <use xlink:href=\"#me39c638742\" x=\"139.737858\" y=\"66.710616\" style=\"fill: #1f77b4; stroke: #1f77b4\"/>\n     <use xlink:href=\"#me39c638742\" x=\"128.024097\" y=\"69.498762\" style=\"fill: #1f77b4; stroke: #1f77b4\"/>\n     <use xlink:href=\"#me39c638742\" x=\"149.194464\" y=\"80.409912\" style=\"fill: #1f77b4; stroke: #1f77b4\"/>\n     <use xlink:href=\"#me39c638742\" x=\"153.826696\" y=\"95.127852\" style=\"fill: #1f77b4; stroke: #1f77b4\"/>\n     <use xlink:href=\"#me39c638742\" x=\"110.9091\" y=\"69.501704\" style=\"fill: #1f77b4; stroke: #1f77b4\"/>\n     <use xlink:href=\"#me39c638742\" x=\"149.928982\" y=\"91.955046\" style=\"fill: #1f77b4; stroke: #1f77b4\"/>\n     <use xlink:href=\"#me39c638742\" x=\"93.578646\" y=\"61.742806\" style=\"fill: #1f77b4; stroke: #1f77b4\"/>\n     <use xlink:href=\"#me39c638742\" x=\"140.547158\" y=\"75.007888\" style=\"fill: #1f77b4; stroke: #1f77b4\"/>\n     <use xlink:href=\"#me39c638742\" x=\"143.703109\" y=\"88.753282\" style=\"fill: #1f77b4; stroke: #1f77b4\"/>\n     <use xlink:href=\"#me39c638742\" x=\"135.726486\" y=\"78.495971\" style=\"fill: #1f77b4; stroke: #1f77b4\"/>\n     <use xlink:href=\"#me39c638742\" x=\"109.256563\" y=\"86.692322\" style=\"fill: #1f77b4; stroke: #1f77b4\"/>\n     <use xlink:href=\"#me39c638742\" x=\"115.881037\" y=\"64.412259\" style=\"fill: #1f77b4; stroke: #1f77b4\"/>\n     <use xlink:href=\"#me39c638742\" x=\"118.205681\" y=\"55.973163\" style=\"fill: #1f77b4; stroke: #1f77b4\"/>\n     <use xlink:href=\"#me39c638742\" x=\"126.607273\" y=\"68.255833\" style=\"fill: #1f77b4; stroke: #1f77b4\"/>\n     <use xlink:href=\"#me39c638742\" x=\"129.556257\" y=\"81.012976\" style=\"fill: #1f77b4; stroke: #1f77b4\"/>\n     <use xlink:href=\"#me39c638742\" x=\"150.821591\" y=\"81.631969\" style=\"fill: #1f77b4; stroke: #1f77b4\"/>\n     <use xlink:href=\"#me39c638742\" x=\"187.026568\" y=\"119.703545\" style=\"fill: #1f77b4; stroke: #1f77b4\"/>\n     <use xlink:href=\"#me39c638742\" x=\"98.29294\" y=\"58.536468\" style=\"fill: #1f77b4; stroke: #1f77b4\"/>\n     <use xlink:href=\"#me39c638742\" x=\"151.650445\" y=\"89.477434\" style=\"fill: #1f77b4; stroke: #1f77b4\"/>\n     <use xlink:href=\"#me39c638742\" x=\"168.904279\" y=\"101.670112\" style=\"fill: #1f77b4; stroke: #1f77b4\"/>\n     <use xlink:href=\"#me39c638742\" x=\"165.444606\" y=\"88.680778\" style=\"fill: #1f77b4; stroke: #1f77b4\"/>\n     <use xlink:href=\"#me39c638742\" x=\"135.074637\" y=\"74.164956\" style=\"fill: #1f77b4; stroke: #1f77b4\"/>\n     <use xlink:href=\"#me39c638742\" x=\"134.770997\" y=\"93.373216\" style=\"fill: #1f77b4; stroke: #1f77b4\"/>\n     <use xlink:href=\"#me39c638742\" x=\"120.759763\" y=\"56.569935\" style=\"fill: #1f77b4; stroke: #1f77b4\"/>\n     <use xlink:href=\"#me39c638742\" x=\"106.349328\" y=\"59.081737\" style=\"fill: #1f77b4; stroke: #1f77b4\"/>\n     <use xlink:href=\"#me39c638742\" x=\"97.208971\" y=\"63.033028\" style=\"fill: #1f77b4; stroke: #1f77b4\"/>\n     <use xlink:href=\"#me39c638742\" x=\"148.394677\" y=\"71.126747\" style=\"fill: #1f77b4; stroke: #1f77b4\"/>\n     <use xlink:href=\"#me39c638742\" x=\"96.39656\" y=\"55.335973\" style=\"fill: #1f77b4; stroke: #1f77b4\"/>\n     <use xlink:href=\"#me39c638742\" x=\"109.417094\" y=\"60.441275\" style=\"fill: #1f77b4; stroke: #1f77b4\"/>\n     <use xlink:href=\"#me39c638742\" x=\"114.862911\" y=\"56.788136\" style=\"fill: #1f77b4; stroke: #1f77b4\"/>\n     <use xlink:href=\"#me39c638742\" x=\"121.832551\" y=\"71.560639\" style=\"fill: #1f77b4; stroke: #1f77b4\"/>\n     <use xlink:href=\"#me39c638742\" x=\"96.273651\" y=\"59.376583\" style=\"fill: #1f77b4; stroke: #1f77b4\"/>\n     <use xlink:href=\"#me39c638742\" x=\"162.020452\" y=\"81.351778\" style=\"fill: #1f77b4; stroke: #1f77b4\"/>\n     <use xlink:href=\"#me39c638742\" x=\"178.188799\" y=\"115.147807\" style=\"fill: #1f77b4; stroke: #1f77b4\"/>\n     <use xlink:href=\"#me39c638742\" x=\"153.849866\" y=\"87.821972\" style=\"fill: #1f77b4; stroke: #1f77b4\"/>\n     <use xlink:href=\"#me39c638742\" x=\"70.785052\" y=\"29.621016\" style=\"fill: #1f77b4; stroke: #1f77b4\"/>\n     <use xlink:href=\"#me39c638742\" x=\"141.784704\" y=\"91.470978\" style=\"fill: #1f77b4; stroke: #1f77b4\"/>\n     <use xlink:href=\"#me39c638742\" x=\"149.577902\" y=\"73.83193\" style=\"fill: #1f77b4; stroke: #1f77b4\"/>\n     <use xlink:href=\"#me39c638742\" x=\"180.567472\" y=\"111.091203\" style=\"fill: #1f77b4; stroke: #1f77b4\"/>\n     <use xlink:href=\"#me39c638742\" x=\"121.486527\" y=\"74.259221\" style=\"fill: #1f77b4; stroke: #1f77b4\"/>\n     <use xlink:href=\"#me39c638742\" x=\"137.213844\" y=\"89.926169\" style=\"fill: #1f77b4; stroke: #1f77b4\"/>\n     <use xlink:href=\"#me39c638742\" x=\"107.361982\" y=\"61.413055\" style=\"fill: #1f77b4; stroke: #1f77b4\"/>\n     <use xlink:href=\"#me39c638742\" x=\"162.916876\" y=\"109.455138\" style=\"fill: #1f77b4; stroke: #1f77b4\"/>\n     <use xlink:href=\"#me39c638742\" x=\"113.078463\" y=\"70.733763\" style=\"fill: #1f77b4; stroke: #1f77b4\"/>\n     <use xlink:href=\"#me39c638742\" x=\"171.803887\" y=\"97.698341\" style=\"fill: #1f77b4; stroke: #1f77b4\"/>\n     <use xlink:href=\"#me39c638742\" x=\"149.980117\" y=\"86.332743\" style=\"fill: #1f77b4; stroke: #1f77b4\"/>\n     <use xlink:href=\"#me39c638742\" x=\"125.735892\" y=\"80.778231\" style=\"fill: #1f77b4; stroke: #1f77b4\"/>\n     <use xlink:href=\"#me39c638742\" x=\"104.726302\" y=\"60.835463\" style=\"fill: #1f77b4; stroke: #1f77b4\"/>\n     <use xlink:href=\"#me39c638742\" x=\"110.36161\" y=\"71.392008\" style=\"fill: #1f77b4; stroke: #1f77b4\"/>\n     <use xlink:href=\"#me39c638742\" x=\"139.842183\" y=\"82.658475\" style=\"fill: #1f77b4; stroke: #1f77b4\"/>\n     <use xlink:href=\"#me39c638742\" x=\"114.477507\" y=\"77.380993\" style=\"fill: #1f77b4; stroke: #1f77b4\"/>\n     <use xlink:href=\"#me39c638742\" x=\"74.148335\" y=\"40.787412\" style=\"fill: #1f77b4; stroke: #1f77b4\"/>\n     <use xlink:href=\"#me39c638742\" x=\"115.815043\" y=\"78.338917\" style=\"fill: #1f77b4; stroke: #1f77b4\"/>\n     <use xlink:href=\"#me39c638742\" x=\"84.735368\" y=\"57.334318\" style=\"fill: #1f77b4; stroke: #1f77b4\"/>\n     <use xlink:href=\"#me39c638742\" x=\"128.982147\" y=\"75.055779\" style=\"fill: #1f77b4; stroke: #1f77b4\"/>\n     <use xlink:href=\"#me39c638742\" x=\"106.734377\" y=\"69.648575\" style=\"fill: #1f77b4; stroke: #1f77b4\"/>\n     <use xlink:href=\"#me39c638742\" x=\"109.861759\" y=\"75.753338\" style=\"fill: #1f77b4; stroke: #1f77b4\"/>\n     <use xlink:href=\"#me39c638742\" x=\"154.909235\" y=\"101.123473\" style=\"fill: #1f77b4; stroke: #1f77b4\"/>\n     <use xlink:href=\"#me39c638742\" x=\"163.370785\" y=\"110.028773\" style=\"fill: #1f77b4; stroke: #1f77b4\"/>\n     <use xlink:href=\"#me39c638742\" x=\"162.613454\" y=\"77.718826\" style=\"fill: #1f77b4; stroke: #1f77b4\"/>\n     <use xlink:href=\"#me39c638742\" x=\"137.000628\" y=\"94.858429\" style=\"fill: #1f77b4; stroke: #1f77b4\"/>\n     <use xlink:href=\"#me39c638742\" x=\"137.149256\" y=\"83.134241\" style=\"fill: #1f77b4; stroke: #1f77b4\"/>\n     <use xlink:href=\"#me39c638742\" x=\"72.991408\" y=\"24.028215\" style=\"fill: #1f77b4; stroke: #1f77b4\"/>\n     <use xlink:href=\"#me39c638742\" x=\"122.448722\" y=\"57.144341\" style=\"fill: #1f77b4; stroke: #1f77b4\"/>\n     <use xlink:href=\"#me39c638742\" x=\"93.00534\" y=\"62.501163\" style=\"fill: #1f77b4; stroke: #1f77b4\"/>\n     <use xlink:href=\"#me39c638742\" x=\"124.861814\" y=\"76.048077\" style=\"fill: #1f77b4; stroke: #1f77b4\"/>\n     <use xlink:href=\"#me39c638742\" x=\"105.2821\" y=\"50.954236\" style=\"fill: #1f77b4; stroke: #1f77b4\"/>\n     <use xlink:href=\"#me39c638742\" x=\"121.256601\" y=\"70.579528\" style=\"fill: #1f77b4; stroke: #1f77b4\"/>\n     <use xlink:href=\"#me39c638742\" x=\"114.954699\" y=\"47.643479\" style=\"fill: #1f77b4; stroke: #1f77b4\"/>\n     <use xlink:href=\"#me39c638742\" x=\"174.734274\" y=\"104.538205\" style=\"fill: #1f77b4; stroke: #1f77b4\"/>\n     <use xlink:href=\"#me39c638742\" x=\"120.623878\" y=\"75.246161\" style=\"fill: #1f77b4; stroke: #1f77b4\"/>\n     <use xlink:href=\"#me39c638742\" x=\"128.092009\" y=\"81.771469\" style=\"fill: #1f77b4; stroke: #1f77b4\"/>\n     <use xlink:href=\"#me39c638742\" x=\"121.959658\" y=\"79.163197\" style=\"fill: #1f77b4; stroke: #1f77b4\"/>\n     <use xlink:href=\"#me39c638742\" x=\"117.819545\" y=\"80.035173\" style=\"fill: #1f77b4; stroke: #1f77b4\"/>\n     <use xlink:href=\"#me39c638742\" x=\"147.163447\" y=\"93.448448\" style=\"fill: #1f77b4; stroke: #1f77b4\"/>\n     <use xlink:href=\"#me39c638742\" x=\"88.944474\" y=\"56.226396\" style=\"fill: #1f77b4; stroke: #1f77b4\"/>\n     <use xlink:href=\"#me39c638742\" x=\"71.859162\" y=\"36.381577\" style=\"fill: #1f77b4; stroke: #1f77b4\"/>\n     <use xlink:href=\"#me39c638742\" x=\"127.180662\" y=\"91.922562\" style=\"fill: #1f77b4; stroke: #1f77b4\"/>\n     <use xlink:href=\"#me39c638742\" x=\"125.825217\" y=\"78.377114\" style=\"fill: #1f77b4; stroke: #1f77b4\"/>\n     <use xlink:href=\"#me39c638742\" x=\"104.571476\" y=\"58.84197\" style=\"fill: #1f77b4; stroke: #1f77b4\"/>\n     <use xlink:href=\"#me39c638742\" x=\"92.866645\" y=\"59.199088\" style=\"fill: #1f77b4; stroke: #1f77b4\"/>\n     <use xlink:href=\"#me39c638742\" x=\"161.448712\" y=\"95.169571\" style=\"fill: #1f77b4; stroke: #1f77b4\"/>\n     <use xlink:href=\"#me39c638742\" x=\"116.989207\" y=\"53.717762\" style=\"fill: #1f77b4; stroke: #1f77b4\"/>\n     <use xlink:href=\"#me39c638742\" x=\"119.134278\" y=\"72.757007\" style=\"fill: #1f77b4; stroke: #1f77b4\"/>\n     <use xlink:href=\"#me39c638742\" x=\"151.946861\" y=\"93.014411\" style=\"fill: #1f77b4; stroke: #1f77b4\"/>\n     <use xlink:href=\"#me39c638742\" x=\"157.73841\" y=\"99.261347\" style=\"fill: #1f77b4; stroke: #1f77b4\"/>\n     <use xlink:href=\"#me39c638742\" x=\"136.246343\" y=\"78.1275\" style=\"fill: #1f77b4; stroke: #1f77b4\"/>\n     <use xlink:href=\"#me39c638742\" x=\"127.900335\" y=\"79.100085\" style=\"fill: #1f77b4; stroke: #1f77b4\"/>\n     <use xlink:href=\"#me39c638742\" x=\"146.501979\" y=\"76.739702\" style=\"fill: #1f77b4; stroke: #1f77b4\"/>\n     <use xlink:href=\"#me39c638742\" x=\"130.502187\" y=\"72.667547\" style=\"fill: #1f77b4; stroke: #1f77b4\"/>\n     <use xlink:href=\"#me39c638742\" x=\"127.740533\" y=\"88.651869\" style=\"fill: #1f77b4; stroke: #1f77b4\"/>\n     <use xlink:href=\"#me39c638742\" x=\"121.572178\" y=\"65.39813\" style=\"fill: #1f77b4; stroke: #1f77b4\"/>\n     <use xlink:href=\"#me39c638742\" x=\"102.608563\" y=\"68.342634\" style=\"fill: #1f77b4; stroke: #1f77b4\"/>\n     <use xlink:href=\"#me39c638742\" x=\"159.202058\" y=\"92.881434\" style=\"fill: #1f77b4; stroke: #1f77b4\"/>\n     <use xlink:href=\"#me39c638742\" x=\"142.231727\" y=\"87.234061\" style=\"fill: #1f77b4; stroke: #1f77b4\"/>\n     <use xlink:href=\"#me39c638742\" x=\"84.874223\" y=\"19.317438\" style=\"fill: #1f77b4; stroke: #1f77b4\"/>\n     <use xlink:href=\"#me39c638742\" x=\"89.566488\" y=\"58.352342\" style=\"fill: #1f77b4; stroke: #1f77b4\"/>\n     <use xlink:href=\"#me39c638742\" x=\"146.839173\" y=\"84.016384\" style=\"fill: #1f77b4; stroke: #1f77b4\"/>\n     <use xlink:href=\"#me39c638742\" x=\"131.929423\" y=\"67.962325\" style=\"fill: #1f77b4; stroke: #1f77b4\"/>\n     <use xlink:href=\"#me39c638742\" x=\"87.352085\" y=\"52.477381\" style=\"fill: #1f77b4; stroke: #1f77b4\"/>\n     <use xlink:href=\"#me39c638742\" x=\"111.568595\" y=\"64.439829\" style=\"fill: #1f77b4; stroke: #1f77b4\"/>\n     <use xlink:href=\"#me39c638742\" x=\"101.996732\" y=\"69.323039\" style=\"fill: #1f77b4; stroke: #1f77b4\"/>\n     <use xlink:href=\"#me39c638742\" x=\"121.602416\" y=\"68.687956\" style=\"fill: #1f77b4; stroke: #1f77b4\"/>\n     <use xlink:href=\"#me39c638742\" x=\"106.030107\" y=\"57.243993\" style=\"fill: #1f77b4; stroke: #1f77b4\"/>\n     <use xlink:href=\"#me39c638742\" x=\"171.393045\" y=\"94.249607\" style=\"fill: #1f77b4; stroke: #1f77b4\"/>\n     <use xlink:href=\"#me39c638742\" x=\"120.662361\" y=\"73.766018\" style=\"fill: #1f77b4; stroke: #1f77b4\"/>\n     <use xlink:href=\"#me39c638742\" x=\"92.426488\" y=\"42.178908\" style=\"fill: #1f77b4; stroke: #1f77b4\"/>\n     <use xlink:href=\"#me39c638742\" x=\"169.412461\" y=\"90.378242\" style=\"fill: #1f77b4; stroke: #1f77b4\"/>\n     <use xlink:href=\"#me39c638742\" x=\"125.775715\" y=\"86.824349\" style=\"fill: #1f77b4; stroke: #1f77b4\"/>\n     <use xlink:href=\"#me39c638742\" x=\"120.392109\" y=\"65.745277\" style=\"fill: #1f77b4; stroke: #1f77b4\"/>\n     <use xlink:href=\"#me39c638742\" x=\"115.642918\" y=\"49.178691\" style=\"fill: #1f77b4; stroke: #1f77b4\"/>\n     <use xlink:href=\"#me39c638742\" x=\"87.024809\" y=\"42.576757\" style=\"fill: #1f77b4; stroke: #1f77b4\"/>\n     <use xlink:href=\"#me39c638742\" x=\"147.49303\" y=\"75.774093\" style=\"fill: #1f77b4; stroke: #1f77b4\"/>\n     <use xlink:href=\"#me39c638742\" x=\"149.299502\" y=\"93.120172\" style=\"fill: #1f77b4; stroke: #1f77b4\"/>\n     <use xlink:href=\"#me39c638742\" x=\"127.097516\" y=\"79.243607\" style=\"fill: #1f77b4; stroke: #1f77b4\"/>\n     <use xlink:href=\"#me39c638742\" x=\"115.640841\" y=\"75.028399\" style=\"fill: #1f77b4; stroke: #1f77b4\"/>\n     <use xlink:href=\"#me39c638742\" x=\"128.809667\" y=\"51.919714\" style=\"fill: #1f77b4; stroke: #1f77b4\"/>\n     <use xlink:href=\"#me39c638742\" x=\"134.240242\" y=\"81.073397\" style=\"fill: #1f77b4; stroke: #1f77b4\"/>\n     <use xlink:href=\"#me39c638742\" x=\"159.645562\" y=\"118.13766\" style=\"fill: #1f77b4; stroke: #1f77b4\"/>\n     <use xlink:href=\"#me39c638742\" x=\"98.283189\" y=\"58.210095\" style=\"fill: #1f77b4; stroke: #1f77b4\"/>\n     <use xlink:href=\"#me39c638742\" x=\"142.89759\" y=\"85.553656\" style=\"fill: #1f77b4; stroke: #1f77b4\"/>\n     <use xlink:href=\"#me39c638742\" x=\"133.297909\" y=\"70.833183\" style=\"fill: #1f77b4; stroke: #1f77b4\"/>\n     <use xlink:href=\"#me39c638742\" x=\"99.567032\" y=\"58.193784\" style=\"fill: #1f77b4; stroke: #1f77b4\"/>\n     <use xlink:href=\"#me39c638742\" x=\"138.232151\" y=\"84.13945\" style=\"fill: #1f77b4; stroke: #1f77b4\"/>\n     <use xlink:href=\"#me39c638742\" x=\"113.051348\" y=\"60.002953\" style=\"fill: #1f77b4; stroke: #1f77b4\"/>\n     <use xlink:href=\"#me39c638742\" x=\"123.479\" y=\"78.745178\" style=\"fill: #1f77b4; stroke: #1f77b4\"/>\n     <use xlink:href=\"#me39c638742\" x=\"134.156482\" y=\"69.272883\" style=\"fill: #1f77b4; stroke: #1f77b4\"/>\n     <use xlink:href=\"#me39c638742\" x=\"114.151972\" y=\"89.422933\" style=\"fill: #1f77b4; stroke: #1f77b4\"/>\n     <use xlink:href=\"#me39c638742\" x=\"180.65429\" y=\"107.247455\" style=\"fill: #1f77b4; stroke: #1f77b4\"/>\n     <use xlink:href=\"#me39c638742\" x=\"93.387084\" y=\"55.640897\" style=\"fill: #1f77b4; stroke: #1f77b4\"/>\n     <use xlink:href=\"#me39c638742\" x=\"152.46037\" y=\"97.616309\" style=\"fill: #1f77b4; stroke: #1f77b4\"/>\n     <use xlink:href=\"#me39c638742\" x=\"115.263032\" y=\"69.539631\" style=\"fill: #1f77b4; stroke: #1f77b4\"/>\n     <use xlink:href=\"#me39c638742\" x=\"106.811071\" y=\"85.333099\" style=\"fill: #1f77b4; stroke: #1f77b4\"/>\n     <use xlink:href=\"#me39c638742\" x=\"137.966307\" y=\"93.762614\" style=\"fill: #1f77b4; stroke: #1f77b4\"/>\n     <use xlink:href=\"#me39c638742\" x=\"149.04399\" y=\"83.084322\" style=\"fill: #1f77b4; stroke: #1f77b4\"/>\n     <use xlink:href=\"#me39c638742\" x=\"119.156443\" y=\"66.042041\" style=\"fill: #1f77b4; stroke: #1f77b4\"/>\n     <use xlink:href=\"#me39c638742\" x=\"142.400247\" y=\"90.377451\" style=\"fill: #1f77b4; stroke: #1f77b4\"/>\n     <use xlink:href=\"#me39c638742\" x=\"127.619095\" y=\"67.0533\" style=\"fill: #1f77b4; stroke: #1f77b4\"/>\n     <use xlink:href=\"#me39c638742\" x=\"102.606103\" y=\"53.668378\" style=\"fill: #1f77b4; stroke: #1f77b4\"/>\n     <use xlink:href=\"#me39c638742\" x=\"176.336182\" y=\"106.589945\" style=\"fill: #1f77b4; stroke: #1f77b4\"/>\n     <use xlink:href=\"#me39c638742\" x=\"131.692038\" y=\"74.909717\" style=\"fill: #1f77b4; stroke: #1f77b4\"/>\n     <use xlink:href=\"#me39c638742\" x=\"116.071705\" y=\"67.698176\" style=\"fill: #1f77b4; stroke: #1f77b4\"/>\n     <use xlink:href=\"#me39c638742\" x=\"77.525183\" y=\"37.42442\" style=\"fill: #1f77b4; stroke: #1f77b4\"/>\n     <use xlink:href=\"#me39c638742\" x=\"181.815089\" y=\"106.460615\" style=\"fill: #1f77b4; stroke: #1f77b4\"/>\n     <use xlink:href=\"#me39c638742\" x=\"114.440499\" y=\"45.283134\" style=\"fill: #1f77b4; stroke: #1f77b4\"/>\n     <use xlink:href=\"#me39c638742\" x=\"147.800339\" y=\"84.459974\" style=\"fill: #1f77b4; stroke: #1f77b4\"/>\n     <use xlink:href=\"#me39c638742\" x=\"140.590429\" y=\"78.808887\" style=\"fill: #1f77b4; stroke: #1f77b4\"/>\n     <use xlink:href=\"#me39c638742\" x=\"122.735498\" y=\"75.118371\" style=\"fill: #1f77b4; stroke: #1f77b4\"/>\n     <use xlink:href=\"#me39c638742\" x=\"113.514216\" y=\"65.802134\" style=\"fill: #1f77b4; stroke: #1f77b4\"/>\n     <use xlink:href=\"#me39c638742\" x=\"146.007519\" y=\"87.657121\" style=\"fill: #1f77b4; stroke: #1f77b4\"/>\n     <use xlink:href=\"#me39c638742\" x=\"70.403728\" y=\"41.345198\" style=\"fill: #1f77b4; stroke: #1f77b4\"/>\n     <use xlink:href=\"#me39c638742\" x=\"84.671227\" y=\"38.11482\" style=\"fill: #1f77b4; stroke: #1f77b4\"/>\n     <use xlink:href=\"#me39c638742\" x=\"139.962797\" y=\"87.529547\" style=\"fill: #1f77b4; stroke: #1f77b4\"/>\n     <use xlink:href=\"#me39c638742\" x=\"77.286374\" y=\"26.422655\" style=\"fill: #1f77b4; stroke: #1f77b4\"/>\n     <use xlink:href=\"#me39c638742\" x=\"137.65502\" y=\"82.188311\" style=\"fill: #1f77b4; stroke: #1f77b4\"/>\n     <use xlink:href=\"#me39c638742\" x=\"129.425048\" y=\"71.342254\" style=\"fill: #1f77b4; stroke: #1f77b4\"/>\n     <use xlink:href=\"#me39c638742\" x=\"157.685605\" y=\"90.828268\" style=\"fill: #1f77b4; stroke: #1f77b4\"/>\n     <use xlink:href=\"#me39c638742\" x=\"133.829942\" y=\"62.820057\" style=\"fill: #1f77b4; stroke: #1f77b4\"/>\n     <use xlink:href=\"#me39c638742\" x=\"108.611981\" y=\"63.404364\" style=\"fill: #1f77b4; stroke: #1f77b4\"/>\n     <use xlink:href=\"#me39c638742\" x=\"85.68566\" y=\"42.774819\" style=\"fill: #1f77b4; stroke: #1f77b4\"/>\n     <use xlink:href=\"#me39c638742\" x=\"120.092345\" y=\"63.375582\" style=\"fill: #1f77b4; stroke: #1f77b4\"/>\n     <use xlink:href=\"#me39c638742\" x=\"105.023479\" y=\"41.840462\" style=\"fill: #1f77b4; stroke: #1f77b4\"/>\n     <use xlink:href=\"#me39c638742\" x=\"126.463504\" y=\"77.640369\" style=\"fill: #1f77b4; stroke: #1f77b4\"/>\n     <use xlink:href=\"#me39c638742\" x=\"112.1517\" y=\"56.48066\" style=\"fill: #1f77b4; stroke: #1f77b4\"/>\n     <use xlink:href=\"#me39c638742\" x=\"91.013701\" y=\"49.341178\" style=\"fill: #1f77b4; stroke: #1f77b4\"/>\n     <use xlink:href=\"#me39c638742\" x=\"111.051591\" y=\"70.554223\" style=\"fill: #1f77b4; stroke: #1f77b4\"/>\n     <use xlink:href=\"#me39c638742\" x=\"152.585222\" y=\"88.127261\" style=\"fill: #1f77b4; stroke: #1f77b4\"/>\n     <use xlink:href=\"#me39c638742\" x=\"124.098736\" y=\"73.764013\" style=\"fill: #1f77b4; stroke: #1f77b4\"/>\n     <use xlink:href=\"#me39c638742\" x=\"92.366802\" y=\"60.101244\" style=\"fill: #1f77b4; stroke: #1f77b4\"/>\n     <use xlink:href=\"#me39c638742\" x=\"177.604355\" y=\"112.93603\" style=\"fill: #1f77b4; stroke: #1f77b4\"/>\n     <use xlink:href=\"#me39c638742\" x=\"94.777175\" y=\"54.866877\" style=\"fill: #1f77b4; stroke: #1f77b4\"/>\n     <use xlink:href=\"#me39c638742\" x=\"105.746962\" y=\"71.487761\" style=\"fill: #1f77b4; stroke: #1f77b4\"/>\n     <use xlink:href=\"#me39c638742\" x=\"102.667317\" y=\"44.479549\" style=\"fill: #1f77b4; stroke: #1f77b4\"/>\n     <use xlink:href=\"#me39c638742\" x=\"109.583102\" y=\"72.818888\" style=\"fill: #1f77b4; stroke: #1f77b4\"/>\n     <use xlink:href=\"#me39c638742\" x=\"113.431611\" y=\"69.210218\" style=\"fill: #1f77b4; stroke: #1f77b4\"/>\n     <use xlink:href=\"#me39c638742\" x=\"128.345542\" y=\"59.684612\" style=\"fill: #1f77b4; stroke: #1f77b4\"/>\n     <use xlink:href=\"#me39c638742\" x=\"130.241483\" y=\"77.554546\" style=\"fill: #1f77b4; stroke: #1f77b4\"/>\n     <use xlink:href=\"#me39c638742\" x=\"100.009097\" y=\"56.135921\" style=\"fill: #1f77b4; stroke: #1f77b4\"/>\n     <use xlink:href=\"#me39c638742\" x=\"76.19889\" y=\"35.459587\" style=\"fill: #1f77b4; stroke: #1f77b4\"/>\n     <use xlink:href=\"#me39c638742\" x=\"132.401026\" y=\"85.16949\" style=\"fill: #1f77b4; stroke: #1f77b4\"/>\n     <use xlink:href=\"#me39c638742\" x=\"110.396116\" y=\"82.196052\" style=\"fill: #1f77b4; stroke: #1f77b4\"/>\n     <use xlink:href=\"#me39c638742\" x=\"142.863939\" y=\"92.408284\" style=\"fill: #1f77b4; stroke: #1f77b4\"/>\n     <use xlink:href=\"#me39c638742\" x=\"125.108869\" y=\"84.408164\" style=\"fill: #1f77b4; stroke: #1f77b4\"/>\n     <use xlink:href=\"#me39c638742\" x=\"124.528258\" y=\"53.608752\" style=\"fill: #1f77b4; stroke: #1f77b4\"/>\n     <use xlink:href=\"#me39c638742\" x=\"122.293607\" y=\"74.14752\" style=\"fill: #1f77b4; stroke: #1f77b4\"/>\n     <use xlink:href=\"#me39c638742\" x=\"117.266863\" y=\"51.894519\" style=\"fill: #1f77b4; stroke: #1f77b4\"/>\n     <use xlink:href=\"#me39c638742\" x=\"132.323307\" y=\"79.561866\" style=\"fill: #1f77b4; stroke: #1f77b4\"/>\n     <use xlink:href=\"#me39c638742\" x=\"150.880864\" y=\"85.612721\" style=\"fill: #1f77b4; stroke: #1f77b4\"/>\n     <use xlink:href=\"#me39c638742\" x=\"109.076369\" y=\"62.106327\" style=\"fill: #1f77b4; stroke: #1f77b4\"/>\n     <use xlink:href=\"#me39c638742\" x=\"133.201326\" y=\"101.965116\" style=\"fill: #1f77b4; stroke: #1f77b4\"/>\n     <use xlink:href=\"#me39c638742\" x=\"112.819799\" y=\"59.636295\" style=\"fill: #1f77b4; stroke: #1f77b4\"/>\n     <use xlink:href=\"#me39c638742\" x=\"135.425571\" y=\"69.893716\" style=\"fill: #1f77b4; stroke: #1f77b4\"/>\n     <use xlink:href=\"#me39c638742\" x=\"109.520172\" y=\"63.030019\" style=\"fill: #1f77b4; stroke: #1f77b4\"/>\n     <use xlink:href=\"#me39c638742\" x=\"96.936649\" y=\"57.684396\" style=\"fill: #1f77b4; stroke: #1f77b4\"/>\n     <use xlink:href=\"#me39c638742\" x=\"151.066105\" y=\"84.853454\" style=\"fill: #1f77b4; stroke: #1f77b4\"/>\n     <use xlink:href=\"#me39c638742\" x=\"157.783126\" y=\"96.615497\" style=\"fill: #1f77b4; stroke: #1f77b4\"/>\n     <use xlink:href=\"#me39c638742\" x=\"148.92091\" y=\"88.615385\" style=\"fill: #1f77b4; stroke: #1f77b4\"/>\n     <use xlink:href=\"#me39c638742\" x=\"112.817878\" y=\"62.560072\" style=\"fill: #1f77b4; stroke: #1f77b4\"/>\n     <use xlink:href=\"#me39c638742\" x=\"134.9532\" y=\"77.15897\" style=\"fill: #1f77b4; stroke: #1f77b4\"/>\n     <use xlink:href=\"#me39c638742\" x=\"147.986554\" y=\"107.224305\" style=\"fill: #1f77b4; stroke: #1f77b4\"/>\n     <use xlink:href=\"#me39c638742\" x=\"131.008618\" y=\"67.617431\" style=\"fill: #1f77b4; stroke: #1f77b4\"/>\n     <use xlink:href=\"#me39c638742\" x=\"119.771642\" y=\"62.816624\" style=\"fill: #1f77b4; stroke: #1f77b4\"/>\n     <use xlink:href=\"#me39c638742\" x=\"143.052013\" y=\"83.362437\" style=\"fill: #1f77b4; stroke: #1f77b4\"/>\n     <use xlink:href=\"#me39c638742\" x=\"140.474934\" y=\"82.764586\" style=\"fill: #1f77b4; stroke: #1f77b4\"/>\n     <use xlink:href=\"#me39c638742\" x=\"149.577757\" y=\"96.691526\" style=\"fill: #1f77b4; stroke: #1f77b4\"/>\n     <use xlink:href=\"#me39c638742\" x=\"108.303624\" y=\"39.936334\" style=\"fill: #1f77b4; stroke: #1f77b4\"/>\n     <use xlink:href=\"#me39c638742\" x=\"142.283202\" y=\"83.196222\" style=\"fill: #1f77b4; stroke: #1f77b4\"/>\n     <use xlink:href=\"#me39c638742\" x=\"96.20053\" y=\"37.681758\" style=\"fill: #1f77b4; stroke: #1f77b4\"/>\n     <use xlink:href=\"#me39c638742\" x=\"156.19637\" y=\"103.12912\" style=\"fill: #1f77b4; stroke: #1f77b4\"/>\n     <use xlink:href=\"#me39c638742\" x=\"160.63931\" y=\"89.756564\" style=\"fill: #1f77b4; stroke: #1f77b4\"/>\n     <use xlink:href=\"#me39c638742\" x=\"167.337746\" y=\"97.695902\" style=\"fill: #1f77b4; stroke: #1f77b4\"/>\n     <use xlink:href=\"#me39c638742\" x=\"168.31674\" y=\"94.261891\" style=\"fill: #1f77b4; stroke: #1f77b4\"/>\n     <use xlink:href=\"#me39c638742\" x=\"152.857342\" y=\"85.5878\" style=\"fill: #1f77b4; stroke: #1f77b4\"/>\n     <use xlink:href=\"#me39c638742\" x=\"127.786824\" y=\"76.876809\" style=\"fill: #1f77b4; stroke: #1f77b4\"/>\n     <use xlink:href=\"#me39c638742\" x=\"161.52762\" y=\"86.665548\" style=\"fill: #1f77b4; stroke: #1f77b4\"/>\n     <use xlink:href=\"#me39c638742\" x=\"154.747653\" y=\"88.802411\" style=\"fill: #1f77b4; stroke: #1f77b4\"/>\n     <use xlink:href=\"#me39c638742\" x=\"87.148889\" y=\"43.963798\" style=\"fill: #1f77b4; stroke: #1f77b4\"/>\n     <use xlink:href=\"#me39c638742\" x=\"97.901039\" y=\"59.935303\" style=\"fill: #1f77b4; stroke: #1f77b4\"/>\n     <use xlink:href=\"#me39c638742\" x=\"116.966186\" y=\"66.052895\" style=\"fill: #1f77b4; stroke: #1f77b4\"/>\n     <use xlink:href=\"#me39c638742\" x=\"139.180507\" y=\"90.092144\" style=\"fill: #1f77b4; stroke: #1f77b4\"/>\n     <use xlink:href=\"#me39c638742\" x=\"144.930289\" y=\"85.658372\" style=\"fill: #1f77b4; stroke: #1f77b4\"/>\n     <use xlink:href=\"#me39c638742\" x=\"170.18244\" y=\"91.35459\" style=\"fill: #1f77b4; stroke: #1f77b4\"/>\n     <use xlink:href=\"#me39c638742\" x=\"143.815394\" y=\"78.553703\" style=\"fill: #1f77b4; stroke: #1f77b4\"/>\n     <use xlink:href=\"#me39c638742\" x=\"106.775429\" y=\"70.313274\" style=\"fill: #1f77b4; stroke: #1f77b4\"/>\n     <use xlink:href=\"#me39c638742\" x=\"83.091641\" y=\"45.82425\" style=\"fill: #1f77b4; stroke: #1f77b4\"/>\n     <use xlink:href=\"#me39c638742\" x=\"164.105861\" y=\"92.911009\" style=\"fill: #1f77b4; stroke: #1f77b4\"/>\n     <use xlink:href=\"#me39c638742\" x=\"157.386795\" y=\"69.507442\" style=\"fill: #1f77b4; stroke: #1f77b4\"/>\n     <use xlink:href=\"#me39c638742\" x=\"147.445021\" y=\"104.783222\" style=\"fill: #1f77b4; stroke: #1f77b4\"/>\n     <use xlink:href=\"#me39c638742\" x=\"78.94154\" y=\"40.535524\" style=\"fill: #1f77b4; stroke: #1f77b4\"/>\n     <use xlink:href=\"#me39c638742\" x=\"128.141669\" y=\"74.647669\" style=\"fill: #1f77b4; stroke: #1f77b4\"/>\n     <use xlink:href=\"#me39c638742\" x=\"94.187413\" y=\"63.583748\" style=\"fill: #1f77b4; stroke: #1f77b4\"/>\n     <use xlink:href=\"#me39c638742\" x=\"136.789949\" y=\"70.844607\" style=\"fill: #1f77b4; stroke: #1f77b4\"/>\n     <use xlink:href=\"#me39c638742\" x=\"129.818922\" y=\"92.787052\" style=\"fill: #1f77b4; stroke: #1f77b4\"/>\n     <use xlink:href=\"#me39c638742\" x=\"140.957426\" y=\"94.320045\" style=\"fill: #1f77b4; stroke: #1f77b4\"/>\n     <use xlink:href=\"#me39c638742\" x=\"150.144003\" y=\"91.24718\" style=\"fill: #1f77b4; stroke: #1f77b4\"/>\n     <use xlink:href=\"#me39c638742\" x=\"152.506208\" y=\"102.657308\" style=\"fill: #1f77b4; stroke: #1f77b4\"/>\n     <use xlink:href=\"#me39c638742\" x=\"117.438757\" y=\"83.358766\" style=\"fill: #1f77b4; stroke: #1f77b4\"/>\n     <use xlink:href=\"#me39c638742\" x=\"141.874888\" y=\"89.8908\" style=\"fill: #1f77b4; stroke: #1f77b4\"/>\n     <use xlink:href=\"#me39c638742\" x=\"145.995832\" y=\"95.221081\" style=\"fill: #1f77b4; stroke: #1f77b4\"/>\n     <use xlink:href=\"#me39c638742\" x=\"113.806819\" y=\"67.125302\" style=\"fill: #1f77b4; stroke: #1f77b4\"/>\n     <use xlink:href=\"#me39c638742\" x=\"151.287858\" y=\"93.580036\" style=\"fill: #1f77b4; stroke: #1f77b4\"/>\n     <use xlink:href=\"#me39c638742\" x=\"143.547472\" y=\"88.038006\" style=\"fill: #1f77b4; stroke: #1f77b4\"/>\n     <use xlink:href=\"#me39c638742\" x=\"139.485439\" y=\"76.32804\" style=\"fill: #1f77b4; stroke: #1f77b4\"/>\n     <use xlink:href=\"#me39c638742\" x=\"144.480551\" y=\"77.167741\" style=\"fill: #1f77b4; stroke: #1f77b4\"/>\n     <use xlink:href=\"#me39c638742\" x=\"108.807326\" y=\"74.811189\" style=\"fill: #1f77b4; stroke: #1f77b4\"/>\n     <use xlink:href=\"#me39c638742\" x=\"105.746323\" y=\"57.680238\" style=\"fill: #1f77b4; stroke: #1f77b4\"/>\n     <use xlink:href=\"#me39c638742\" x=\"118.846788\" y=\"60.693714\" style=\"fill: #1f77b4; stroke: #1f77b4\"/>\n     <use xlink:href=\"#me39c638742\" x=\"83.488617\" y=\"53.889817\" style=\"fill: #1f77b4; stroke: #1f77b4\"/>\n     <use xlink:href=\"#me39c638742\" x=\"106.348134\" y=\"59.330332\" style=\"fill: #1f77b4; stroke: #1f77b4\"/>\n     <use xlink:href=\"#me39c638742\" x=\"143.843295\" y=\"89.725481\" style=\"fill: #1f77b4; stroke: #1f77b4\"/>\n     <use xlink:href=\"#me39c638742\" x=\"136.381092\" y=\"73.397357\" style=\"fill: #1f77b4; stroke: #1f77b4\"/>\n     <use xlink:href=\"#me39c638742\" x=\"136.56531\" y=\"86.355575\" style=\"fill: #1f77b4; stroke: #1f77b4\"/>\n     <use xlink:href=\"#me39c638742\" x=\"131.825966\" y=\"94.691987\" style=\"fill: #1f77b4; stroke: #1f77b4\"/>\n     <use xlink:href=\"#me39c638742\" x=\"67.902822\" y=\"38.659491\" style=\"fill: #1f77b4; stroke: #1f77b4\"/>\n     <use xlink:href=\"#me39c638742\" x=\"111.436267\" y=\"63.453205\" style=\"fill: #1f77b4; stroke: #1f77b4\"/>\n     <use xlink:href=\"#me39c638742\" x=\"146.230537\" y=\"105.844526\" style=\"fill: #1f77b4; stroke: #1f77b4\"/>\n     <use xlink:href=\"#me39c638742\" x=\"138.945477\" y=\"64.480241\" style=\"fill: #1f77b4; stroke: #1f77b4\"/>\n     <use xlink:href=\"#me39c638742\" x=\"117.853563\" y=\"79.441949\" style=\"fill: #1f77b4; stroke: #1f77b4\"/>\n     <use xlink:href=\"#me39c638742\" x=\"160.553136\" y=\"89.414858\" style=\"fill: #1f77b4; stroke: #1f77b4\"/>\n     <use xlink:href=\"#me39c638742\" x=\"132.453241\" y=\"80.400232\" style=\"fill: #1f77b4; stroke: #1f77b4\"/>\n     <use xlink:href=\"#me39c638742\" x=\"130.720464\" y=\"70.096554\" style=\"fill: #1f77b4; stroke: #1f77b4\"/>\n     <use xlink:href=\"#me39c638742\" x=\"147.980029\" y=\"88.411017\" style=\"fill: #1f77b4; stroke: #1f77b4\"/>\n     <use xlink:href=\"#me39c638742\" x=\"98.076099\" y=\"62.330553\" style=\"fill: #1f77b4; stroke: #1f77b4\"/>\n     <use xlink:href=\"#me39c638742\" x=\"111.64516\" y=\"75.245597\" style=\"fill: #1f77b4; stroke: #1f77b4\"/>\n     <use xlink:href=\"#me39c638742\" x=\"104.296627\" y=\"39.369508\" style=\"fill: #1f77b4; stroke: #1f77b4\"/>\n     <use xlink:href=\"#me39c638742\" x=\"124.083102\" y=\"79.09704\" style=\"fill: #1f77b4; stroke: #1f77b4\"/>\n     <use xlink:href=\"#me39c638742\" x=\"148.450912\" y=\"84.233129\" style=\"fill: #1f77b4; stroke: #1f77b4\"/>\n     <use xlink:href=\"#me39c638742\" x=\"107.209397\" y=\"56.752772\" style=\"fill: #1f77b4; stroke: #1f77b4\"/>\n     <use xlink:href=\"#me39c638742\" x=\"140.714007\" y=\"78.956\" style=\"fill: #1f77b4; stroke: #1f77b4\"/>\n     <use xlink:href=\"#me39c638742\" x=\"115.764789\" y=\"45.227173\" style=\"fill: #1f77b4; stroke: #1f77b4\"/>\n     <use xlink:href=\"#me39c638742\" x=\"100.455114\" y=\"47.332123\" style=\"fill: #1f77b4; stroke: #1f77b4\"/>\n     <use xlink:href=\"#me39c638742\" x=\"169.064249\" y=\"83.85151\" style=\"fill: #1f77b4; stroke: #1f77b4\"/>\n     <use xlink:href=\"#me39c638742\" x=\"160.827971\" y=\"88.994964\" style=\"fill: #1f77b4; stroke: #1f77b4\"/>\n     <use xlink:href=\"#me39c638742\" x=\"132.421248\" y=\"85.501042\" style=\"fill: #1f77b4; stroke: #1f77b4\"/>\n     <use xlink:href=\"#me39c638742\" x=\"134.870211\" y=\"73.833231\" style=\"fill: #1f77b4; stroke: #1f77b4\"/>\n     <use xlink:href=\"#me39c638742\" x=\"159.048808\" y=\"96.773995\" style=\"fill: #1f77b4; stroke: #1f77b4\"/>\n     <use xlink:href=\"#me39c638742\" x=\"98.02588\" y=\"53.111885\" style=\"fill: #1f77b4; stroke: #1f77b4\"/>\n     <use xlink:href=\"#me39c638742\" x=\"146.350616\" y=\"81.535877\" style=\"fill: #1f77b4; stroke: #1f77b4\"/>\n     <use xlink:href=\"#me39c638742\" x=\"140.23083\" y=\"73.451305\" style=\"fill: #1f77b4; stroke: #1f77b4\"/>\n     <use xlink:href=\"#me39c638742\" x=\"118.300599\" y=\"63.146714\" style=\"fill: #1f77b4; stroke: #1f77b4\"/>\n     <use xlink:href=\"#me39c638742\" x=\"123.177144\" y=\"94.516008\" style=\"fill: #1f77b4; stroke: #1f77b4\"/>\n     <use xlink:href=\"#me39c638742\" x=\"111.264096\" y=\"86.205313\" style=\"fill: #1f77b4; stroke: #1f77b4\"/>\n     <use xlink:href=\"#me39c638742\" x=\"113.294292\" y=\"67.106015\" style=\"fill: #1f77b4; stroke: #1f77b4\"/>\n     <use xlink:href=\"#me39c638742\" x=\"122.898188\" y=\"79.422553\" style=\"fill: #1f77b4; stroke: #1f77b4\"/>\n     <use xlink:href=\"#me39c638742\" x=\"101.665901\" y=\"65.02573\" style=\"fill: #1f77b4; stroke: #1f77b4\"/>\n     <use xlink:href=\"#me39c638742\" x=\"127.053088\" y=\"82.763758\" style=\"fill: #1f77b4; stroke: #1f77b4\"/>\n     <use xlink:href=\"#me39c638742\" x=\"155.733194\" y=\"68.372001\" style=\"fill: #1f77b4; stroke: #1f77b4\"/>\n     <use xlink:href=\"#me39c638742\" x=\"154.452561\" y=\"80.709492\" style=\"fill: #1f77b4; stroke: #1f77b4\"/>\n     <use xlink:href=\"#me39c638742\" x=\"111.403765\" y=\"48.901954\" style=\"fill: #1f77b4; stroke: #1f77b4\"/>\n     <use xlink:href=\"#me39c638742\" x=\"148.17795\" y=\"87.1683\" style=\"fill: #1f77b4; stroke: #1f77b4\"/>\n     <use xlink:href=\"#me39c638742\" x=\"131.140773\" y=\"86.829324\" style=\"fill: #1f77b4; stroke: #1f77b4\"/>\n     <use xlink:href=\"#me39c638742\" x=\"125.738322\" y=\"74.314822\" style=\"fill: #1f77b4; stroke: #1f77b4\"/>\n     <use xlink:href=\"#me39c638742\" x=\"97.995823\" y=\"60.071955\" style=\"fill: #1f77b4; stroke: #1f77b4\"/>\n     <use xlink:href=\"#me39c638742\" x=\"205.605677\" y=\"129.464676\" style=\"fill: #1f77b4; stroke: #1f77b4\"/>\n     <use xlink:href=\"#me39c638742\" x=\"129.127751\" y=\"50.814406\" style=\"fill: #1f77b4; stroke: #1f77b4\"/>\n     <use xlink:href=\"#me39c638742\" x=\"97.982258\" y=\"40.631363\" style=\"fill: #1f77b4; stroke: #1f77b4\"/>\n     <use xlink:href=\"#me39c638742\" x=\"115.02052\" y=\"67.862904\" style=\"fill: #1f77b4; stroke: #1f77b4\"/>\n     <use xlink:href=\"#me39c638742\" x=\"119.720822\" y=\"67.747967\" style=\"fill: #1f77b4; stroke: #1f77b4\"/>\n     <use xlink:href=\"#me39c638742\" x=\"118.604663\" y=\"58.772708\" style=\"fill: #1f77b4; stroke: #1f77b4\"/>\n     <use xlink:href=\"#me39c638742\" x=\"143.128284\" y=\"82.352846\" style=\"fill: #1f77b4; stroke: #1f77b4\"/>\n     <use xlink:href=\"#me39c638742\" x=\"95.63552\" y=\"66.420733\" style=\"fill: #1f77b4; stroke: #1f77b4\"/>\n     <use xlink:href=\"#me39c638742\" x=\"138.5115\" y=\"56.598553\" style=\"fill: #1f77b4; stroke: #1f77b4\"/>\n     <use xlink:href=\"#me39c638742\" x=\"130.337202\" y=\"69.424015\" style=\"fill: #1f77b4; stroke: #1f77b4\"/>\n     <use xlink:href=\"#me39c638742\" x=\"100.10524\" y=\"50.385039\" style=\"fill: #1f77b4; stroke: #1f77b4\"/>\n     <use xlink:href=\"#me39c638742\" x=\"170.715016\" y=\"113.302682\" style=\"fill: #1f77b4; stroke: #1f77b4\"/>\n     <use xlink:href=\"#me39c638742\" x=\"166.369986\" y=\"89.607944\" style=\"fill: #1f77b4; stroke: #1f77b4\"/>\n     <use xlink:href=\"#me39c638742\" x=\"132.564158\" y=\"83.848357\" style=\"fill: #1f77b4; stroke: #1f77b4\"/>\n     <use xlink:href=\"#me39c638742\" x=\"85.921809\" y=\"62.706647\" style=\"fill: #1f77b4; stroke: #1f77b4\"/>\n     <use xlink:href=\"#me39c638742\" x=\"109.712405\" y=\"71.433179\" style=\"fill: #1f77b4; stroke: #1f77b4\"/>\n     <use xlink:href=\"#me39c638742\" x=\"179.557064\" y=\"100.649733\" style=\"fill: #1f77b4; stroke: #1f77b4\"/>\n     <use xlink:href=\"#me39c638742\" x=\"163.15702\" y=\"102.607789\" style=\"fill: #1f77b4; stroke: #1f77b4\"/>\n     <use xlink:href=\"#me39c638742\" x=\"137.09468\" y=\"81.271484\" style=\"fill: #1f77b4; stroke: #1f77b4\"/>\n     <use xlink:href=\"#me39c638742\" x=\"168.18105\" y=\"85.730023\" style=\"fill: #1f77b4; stroke: #1f77b4\"/>\n     <use xlink:href=\"#me39c638742\" x=\"158.217176\" y=\"90.657782\" style=\"fill: #1f77b4; stroke: #1f77b4\"/>\n     <use xlink:href=\"#me39c638742\" x=\"168.779931\" y=\"95.981338\" style=\"fill: #1f77b4; stroke: #1f77b4\"/>\n     <use xlink:href=\"#me39c638742\" x=\"119.176922\" y=\"69.363093\" style=\"fill: #1f77b4; stroke: #1f77b4\"/>\n     <use xlink:href=\"#me39c638742\" x=\"148.741625\" y=\"103.865672\" style=\"fill: #1f77b4; stroke: #1f77b4\"/>\n     <use xlink:href=\"#me39c638742\" x=\"132.191885\" y=\"79.430319\" style=\"fill: #1f77b4; stroke: #1f77b4\"/>\n     <use xlink:href=\"#me39c638742\" x=\"100.476019\" y=\"50.543866\" style=\"fill: #1f77b4; stroke: #1f77b4\"/>\n     <use xlink:href=\"#me39c638742\" x=\"87.019479\" y=\"34.700211\" style=\"fill: #1f77b4; stroke: #1f77b4\"/>\n     <use xlink:href=\"#me39c638742\" x=\"117.782385\" y=\"72.283092\" style=\"fill: #1f77b4; stroke: #1f77b4\"/>\n     <use xlink:href=\"#me39c638742\" x=\"125.226934\" y=\"50.754309\" style=\"fill: #1f77b4; stroke: #1f77b4\"/>\n     <use xlink:href=\"#me39c638742\" x=\"154.298368\" y=\"79.90622\" style=\"fill: #1f77b4; stroke: #1f77b4\"/>\n     <use xlink:href=\"#me39c638742\" x=\"145.380117\" y=\"83.563584\" style=\"fill: #1f77b4; stroke: #1f77b4\"/>\n     <use xlink:href=\"#me39c638742\" x=\"127.773446\" y=\"89.194049\" style=\"fill: #1f77b4; stroke: #1f77b4\"/>\n     <use xlink:href=\"#me39c638742\" x=\"140.676784\" y=\"59.17389\" style=\"fill: #1f77b4; stroke: #1f77b4\"/>\n     <use xlink:href=\"#me39c638742\" x=\"112.908126\" y=\"66.61139\" style=\"fill: #1f77b4; stroke: #1f77b4\"/>\n     <use xlink:href=\"#me39c638742\" x=\"138.320855\" y=\"94.024507\" style=\"fill: #1f77b4; stroke: #1f77b4\"/>\n     <use xlink:href=\"#me39c638742\" x=\"142.443752\" y=\"80.004812\" style=\"fill: #1f77b4; stroke: #1f77b4\"/>\n     <use xlink:href=\"#me39c638742\" x=\"151.230423\" y=\"98.498987\" style=\"fill: #1f77b4; stroke: #1f77b4\"/>\n     <use xlink:href=\"#me39c638742\" x=\"104.37263\" y=\"67.982513\" style=\"fill: #1f77b4; stroke: #1f77b4\"/>\n     <use xlink:href=\"#me39c638742\" x=\"99.999149\" y=\"56.708253\" style=\"fill: #1f77b4; stroke: #1f77b4\"/>\n     <use xlink:href=\"#me39c638742\" x=\"138.928661\" y=\"98.49281\" style=\"fill: #1f77b4; stroke: #1f77b4\"/>\n     <use xlink:href=\"#me39c638742\" x=\"150.290796\" y=\"90.021678\" style=\"fill: #1f77b4; stroke: #1f77b4\"/>\n     <use xlink:href=\"#me39c638742\" x=\"131.461189\" y=\"72.433715\" style=\"fill: #1f77b4; stroke: #1f77b4\"/>\n     <use xlink:href=\"#me39c638742\" x=\"102.133752\" y=\"45.066948\" style=\"fill: #1f77b4; stroke: #1f77b4\"/>\n     <use xlink:href=\"#me39c638742\" x=\"137.816858\" y=\"83.030138\" style=\"fill: #1f77b4; stroke: #1f77b4\"/>\n     <use xlink:href=\"#me39c638742\" x=\"116.187825\" y=\"51.836387\" style=\"fill: #1f77b4; stroke: #1f77b4\"/>\n     <use xlink:href=\"#me39c638742\" x=\"131.306119\" y=\"84.022846\" style=\"fill: #1f77b4; stroke: #1f77b4\"/>\n     <use xlink:href=\"#me39c638742\" x=\"113.231079\" y=\"59.937255\" style=\"fill: #1f77b4; stroke: #1f77b4\"/>\n     <use xlink:href=\"#me39c638742\" x=\"127.599683\" y=\"60.977989\" style=\"fill: #1f77b4; stroke: #1f77b4\"/>\n     <use xlink:href=\"#me39c638742\" x=\"90.324685\" y=\"56.576769\" style=\"fill: #1f77b4; stroke: #1f77b4\"/>\n     <use xlink:href=\"#me39c638742\" x=\"149.674594\" y=\"88.138928\" style=\"fill: #1f77b4; stroke: #1f77b4\"/>\n     <use xlink:href=\"#me39c638742\" x=\"117.116985\" y=\"64.688151\" style=\"fill: #1f77b4; stroke: #1f77b4\"/>\n     <use xlink:href=\"#me39c638742\" x=\"93.84381\" y=\"42.393504\" style=\"fill: #1f77b4; stroke: #1f77b4\"/>\n     <use xlink:href=\"#me39c638742\" x=\"98.932419\" y=\"61.517665\" style=\"fill: #1f77b4; stroke: #1f77b4\"/>\n     <use xlink:href=\"#me39c638742\" x=\"179.620046\" y=\"106.149297\" style=\"fill: #1f77b4; stroke: #1f77b4\"/>\n     <use xlink:href=\"#me39c638742\" x=\"73.865987\" y=\"49.782044\" style=\"fill: #1f77b4; stroke: #1f77b4\"/>\n     <use xlink:href=\"#me39c638742\" x=\"114.954198\" y=\"71.925557\" style=\"fill: #1f77b4; stroke: #1f77b4\"/>\n     <use xlink:href=\"#me39c638742\" x=\"133.826769\" y=\"86.389407\" style=\"fill: #1f77b4; stroke: #1f77b4\"/>\n     <use xlink:href=\"#me39c638742\" x=\"121.953247\" y=\"70.41586\" style=\"fill: #1f77b4; stroke: #1f77b4\"/>\n     <use xlink:href=\"#me39c638742\" x=\"106.101681\" y=\"52.081192\" style=\"fill: #1f77b4; stroke: #1f77b4\"/>\n     <use xlink:href=\"#me39c638742\" x=\"130.772247\" y=\"78.061155\" style=\"fill: #1f77b4; stroke: #1f77b4\"/>\n     <use xlink:href=\"#me39c638742\" x=\"105.922796\" y=\"63.601551\" style=\"fill: #1f77b4; stroke: #1f77b4\"/>\n     <use xlink:href=\"#me39c638742\" x=\"86.503568\" y=\"50.707562\" style=\"fill: #1f77b4; stroke: #1f77b4\"/>\n     <use xlink:href=\"#me39c638742\" x=\"103.619624\" y=\"54.362237\" style=\"fill: #1f77b4; stroke: #1f77b4\"/>\n     <use xlink:href=\"#me39c638742\" x=\"142.855633\" y=\"84.44031\" style=\"fill: #1f77b4; stroke: #1f77b4\"/>\n     <use xlink:href=\"#me39c638742\" x=\"172.143816\" y=\"91.994027\" style=\"fill: #1f77b4; stroke: #1f77b4\"/>\n     <use xlink:href=\"#me39c638742\" x=\"143.566351\" y=\"70.005056\" style=\"fill: #1f77b4; stroke: #1f77b4\"/>\n     <use xlink:href=\"#me39c638742\" x=\"95.086396\" y=\"63.40862\" style=\"fill: #1f77b4; stroke: #1f77b4\"/>\n     <use xlink:href=\"#me39c638742\" x=\"135.513808\" y=\"98.733483\" style=\"fill: #1f77b4; stroke: #1f77b4\"/>\n     <use xlink:href=\"#me39c638742\" x=\"123.800582\" y=\"90.885662\" style=\"fill: #1f77b4; stroke: #1f77b4\"/>\n     <use xlink:href=\"#me39c638742\" x=\"80.896818\" y=\"44.912655\" style=\"fill: #1f77b4; stroke: #1f77b4\"/>\n     <use xlink:href=\"#me39c638742\" x=\"51.835168\" y=\"21.325982\" style=\"fill: #1f77b4; stroke: #1f77b4\"/>\n     <use xlink:href=\"#me39c638742\" x=\"128.182559\" y=\"77.188967\" style=\"fill: #1f77b4; stroke: #1f77b4\"/>\n     <use xlink:href=\"#me39c638742\" x=\"156.850187\" y=\"100.310559\" style=\"fill: #1f77b4; stroke: #1f77b4\"/>\n     <use xlink:href=\"#me39c638742\" x=\"141.239767\" y=\"81.693743\" style=\"fill: #1f77b4; stroke: #1f77b4\"/>\n     <use xlink:href=\"#me39c638742\" x=\"95.389916\" y=\"56.717734\" style=\"fill: #1f77b4; stroke: #1f77b4\"/>\n     <use xlink:href=\"#me39c638742\" x=\"121.891375\" y=\"70.110081\" style=\"fill: #1f77b4; stroke: #1f77b4\"/>\n     <use xlink:href=\"#me39c638742\" x=\"78.052574\" y=\"42.911823\" style=\"fill: #1f77b4; stroke: #1f77b4\"/>\n     <use xlink:href=\"#me39c638742\" x=\"116.471814\" y=\"69.140161\" style=\"fill: #1f77b4; stroke: #1f77b4\"/>\n     <use xlink:href=\"#me39c638742\" x=\"137.768963\" y=\"93.200909\" style=\"fill: #1f77b4; stroke: #1f77b4\"/>\n     <use xlink:href=\"#me39c638742\" x=\"131.346526\" y=\"73.992584\" style=\"fill: #1f77b4; stroke: #1f77b4\"/>\n     <use xlink:href=\"#me39c638742\" x=\"121.180134\" y=\"59.978281\" style=\"fill: #1f77b4; stroke: #1f77b4\"/>\n     <use xlink:href=\"#me39c638742\" x=\"150.3424\" y=\"74.096581\" style=\"fill: #1f77b4; stroke: #1f77b4\"/>\n     <use xlink:href=\"#me39c638742\" x=\"66.450809\" y=\"40.32682\" style=\"fill: #1f77b4; stroke: #1f77b4\"/>\n     <use xlink:href=\"#me39c638742\" x=\"133.585558\" y=\"88.629051\" style=\"fill: #1f77b4; stroke: #1f77b4\"/>\n     <use xlink:href=\"#me39c638742\" x=\"139.003004\" y=\"89.17446\" style=\"fill: #1f77b4; stroke: #1f77b4\"/>\n     <use xlink:href=\"#me39c638742\" x=\"154.150754\" y=\"79.786106\" style=\"fill: #1f77b4; stroke: #1f77b4\"/>\n     <use xlink:href=\"#me39c638742\" x=\"142.846008\" y=\"90.677093\" style=\"fill: #1f77b4; stroke: #1f77b4\"/>\n     <use xlink:href=\"#me39c638742\" x=\"123.58311\" y=\"75.768487\" style=\"fill: #1f77b4; stroke: #1f77b4\"/>\n     <use xlink:href=\"#me39c638742\" x=\"77.814535\" y=\"37.230411\" style=\"fill: #1f77b4; stroke: #1f77b4\"/>\n     <use xlink:href=\"#me39c638742\" x=\"160.04189\" y=\"98.102999\" style=\"fill: #1f77b4; stroke: #1f77b4\"/>\n     <use xlink:href=\"#me39c638742\" x=\"143.767036\" y=\"75.155352\" style=\"fill: #1f77b4; stroke: #1f77b4\"/>\n     <use xlink:href=\"#me39c638742\" x=\"112.309398\" y=\"50.206088\" style=\"fill: #1f77b4; stroke: #1f77b4\"/>\n     <use xlink:href=\"#me39c638742\" x=\"66.807261\" y=\"22.897582\" style=\"fill: #1f77b4; stroke: #1f77b4\"/>\n     <use xlink:href=\"#me39c638742\" x=\"176.598732\" y=\"111.950585\" style=\"fill: #1f77b4; stroke: #1f77b4\"/>\n     <use xlink:href=\"#me39c638742\" x=\"150.323665\" y=\"86.076971\" style=\"fill: #1f77b4; stroke: #1f77b4\"/>\n     <use xlink:href=\"#me39c638742\" x=\"133.554248\" y=\"82.70519\" style=\"fill: #1f77b4; stroke: #1f77b4\"/>\n     <use xlink:href=\"#me39c638742\" x=\"130.18827\" y=\"82.001923\" style=\"fill: #1f77b4; stroke: #1f77b4\"/>\n     <use xlink:href=\"#me39c638742\" x=\"127.241327\" y=\"88.839424\" style=\"fill: #1f77b4; stroke: #1f77b4\"/>\n     <use xlink:href=\"#me39c638742\" x=\"117.372844\" y=\"68.775222\" style=\"fill: #1f77b4; stroke: #1f77b4\"/>\n     <use xlink:href=\"#me39c638742\" x=\"169.788757\" y=\"98.031585\" style=\"fill: #1f77b4; stroke: #1f77b4\"/>\n     <use xlink:href=\"#me39c638742\" x=\"77.510635\" y=\"35.708235\" style=\"fill: #1f77b4; stroke: #1f77b4\"/>\n     <use xlink:href=\"#me39c638742\" x=\"108.831013\" y=\"62.70493\" style=\"fill: #1f77b4; stroke: #1f77b4\"/>\n     <use xlink:href=\"#me39c638742\" x=\"133.940281\" y=\"60.551377\" style=\"fill: #1f77b4; stroke: #1f77b4\"/>\n     <use xlink:href=\"#me39c638742\" x=\"104.101944\" y=\"43.642795\" style=\"fill: #1f77b4; stroke: #1f77b4\"/>\n     <use xlink:href=\"#me39c638742\" x=\"82.810746\" y=\"49.399148\" style=\"fill: #1f77b4; stroke: #1f77b4\"/>\n     <use xlink:href=\"#me39c638742\" x=\"84.231043\" y=\"57.724006\" style=\"fill: #1f77b4; stroke: #1f77b4\"/>\n     <use xlink:href=\"#me39c638742\" x=\"136.143655\" y=\"80.78942\" style=\"fill: #1f77b4; stroke: #1f77b4\"/>\n     <use xlink:href=\"#me39c638742\" x=\"112.505325\" y=\"76.751698\" style=\"fill: #1f77b4; stroke: #1f77b4\"/>\n     <use xlink:href=\"#me39c638742\" x=\"133.184549\" y=\"74.47017\" style=\"fill: #1f77b4; stroke: #1f77b4\"/>\n     <use xlink:href=\"#me39c638742\" x=\"140.888881\" y=\"84.036293\" style=\"fill: #1f77b4; stroke: #1f77b4\"/>\n     <use xlink:href=\"#me39c638742\" x=\"112.869512\" y=\"58.537763\" style=\"fill: #1f77b4; stroke: #1f77b4\"/>\n     <use xlink:href=\"#me39c638742\" x=\"106.963212\" y=\"58.348366\" style=\"fill: #1f77b4; stroke: #1f77b4\"/>\n     <use xlink:href=\"#me39c638742\" x=\"174.634302\" y=\"97.145632\" style=\"fill: #1f77b4; stroke: #1f77b4\"/>\n     <use xlink:href=\"#me39c638742\" x=\"108.589775\" y=\"62.050477\" style=\"fill: #1f77b4; stroke: #1f77b4\"/>\n     <use xlink:href=\"#me39c638742\" x=\"122.301808\" y=\"73.721996\" style=\"fill: #1f77b4; stroke: #1f77b4\"/>\n     <use xlink:href=\"#me39c638742\" x=\"117.130597\" y=\"72.105069\" style=\"fill: #1f77b4; stroke: #1f77b4\"/>\n     <use xlink:href=\"#me39c638742\" x=\"147.357913\" y=\"82.162032\" style=\"fill: #1f77b4; stroke: #1f77b4\"/>\n     <use xlink:href=\"#me39c638742\" x=\"128.446821\" y=\"75.192807\" style=\"fill: #1f77b4; stroke: #1f77b4\"/>\n     <use xlink:href=\"#me39c638742\" x=\"166.787925\" y=\"102.277323\" style=\"fill: #1f77b4; stroke: #1f77b4\"/>\n     <use xlink:href=\"#me39c638742\" x=\"136.544269\" y=\"84.219634\" style=\"fill: #1f77b4; stroke: #1f77b4\"/>\n     <use xlink:href=\"#me39c638742\" x=\"80.04769\" y=\"51.508907\" style=\"fill: #1f77b4; stroke: #1f77b4\"/>\n     <use xlink:href=\"#me39c638742\" x=\"119.777752\" y=\"77.018991\" style=\"fill: #1f77b4; stroke: #1f77b4\"/>\n     <use xlink:href=\"#me39c638742\" x=\"117.335898\" y=\"68.623079\" style=\"fill: #1f77b4; stroke: #1f77b4\"/>\n     <use xlink:href=\"#me39c638742\" x=\"170.52768\" y=\"102.677008\" style=\"fill: #1f77b4; stroke: #1f77b4\"/>\n     <use xlink:href=\"#me39c638742\" x=\"129.351851\" y=\"64.565319\" style=\"fill: #1f77b4; stroke: #1f77b4\"/>\n     <use xlink:href=\"#me39c638742\" x=\"126.493459\" y=\"79.289373\" style=\"fill: #1f77b4; stroke: #1f77b4\"/>\n     <use xlink:href=\"#me39c638742\" x=\"129.164793\" y=\"70.85327\" style=\"fill: #1f77b4; stroke: #1f77b4\"/>\n     <use xlink:href=\"#me39c638742\" x=\"116.547104\" y=\"77.486978\" style=\"fill: #1f77b4; stroke: #1f77b4\"/>\n     <use xlink:href=\"#me39c638742\" x=\"81.222534\" y=\"48.934464\" style=\"fill: #1f77b4; stroke: #1f77b4\"/>\n     <use xlink:href=\"#me39c638742\" x=\"75.090526\" y=\"51.078588\" style=\"fill: #1f77b4; stroke: #1f77b4\"/>\n     <use xlink:href=\"#me39c638742\" x=\"139.125033\" y=\"70.489834\" style=\"fill: #1f77b4; stroke: #1f77b4\"/>\n     <use xlink:href=\"#me39c638742\" x=\"83.696413\" y=\"51.126697\" style=\"fill: #1f77b4; stroke: #1f77b4\"/>\n     <use xlink:href=\"#me39c638742\" x=\"128.682759\" y=\"78.622284\" style=\"fill: #1f77b4; stroke: #1f77b4\"/>\n     <use xlink:href=\"#me39c638742\" x=\"135.065884\" y=\"89.723914\" style=\"fill: #1f77b4; stroke: #1f77b4\"/>\n     <use xlink:href=\"#me39c638742\" x=\"118.831424\" y=\"62.313514\" style=\"fill: #1f77b4; stroke: #1f77b4\"/>\n     <use xlink:href=\"#me39c638742\" x=\"137.679463\" y=\"78.375624\" style=\"fill: #1f77b4; stroke: #1f77b4\"/>\n     <use xlink:href=\"#me39c638742\" x=\"114.993379\" y=\"60.035039\" style=\"fill: #1f77b4; stroke: #1f77b4\"/>\n     <use xlink:href=\"#me39c638742\" x=\"116.912804\" y=\"81.006927\" style=\"fill: #1f77b4; stroke: #1f77b4\"/>\n     <use xlink:href=\"#me39c638742\" x=\"110.917254\" y=\"73.781076\" style=\"fill: #1f77b4; stroke: #1f77b4\"/>\n     <use xlink:href=\"#me39c638742\" x=\"161.922194\" y=\"90.47088\" style=\"fill: #1f77b4; stroke: #1f77b4\"/>\n     <use xlink:href=\"#me39c638742\" x=\"113.945701\" y=\"64.283033\" style=\"fill: #1f77b4; stroke: #1f77b4\"/>\n     <use xlink:href=\"#me39c638742\" x=\"91.447362\" y=\"70.044055\" style=\"fill: #1f77b4; stroke: #1f77b4\"/>\n     <use xlink:href=\"#me39c638742\" x=\"112.740235\" y=\"53.038835\" style=\"fill: #1f77b4; stroke: #1f77b4\"/>\n     <use xlink:href=\"#me39c638742\" x=\"199.479301\" y=\"114.143583\" style=\"fill: #1f77b4; stroke: #1f77b4\"/>\n     <use xlink:href=\"#me39c638742\" x=\"109.146114\" y=\"67.054783\" style=\"fill: #1f77b4; stroke: #1f77b4\"/>\n     <use xlink:href=\"#me39c638742\" x=\"151.239285\" y=\"84.097644\" style=\"fill: #1f77b4; stroke: #1f77b4\"/>\n     <use xlink:href=\"#me39c638742\" x=\"125.856819\" y=\"61.870949\" style=\"fill: #1f77b4; stroke: #1f77b4\"/>\n     <use xlink:href=\"#me39c638742\" x=\"151.658566\" y=\"75.727125\" style=\"fill: #1f77b4; stroke: #1f77b4\"/>\n     <use xlink:href=\"#me39c638742\" x=\"93.506659\" y=\"50.29569\" style=\"fill: #1f77b4; stroke: #1f77b4\"/>\n     <use xlink:href=\"#me39c638742\" x=\"84.376014\" y=\"44.412582\" style=\"fill: #1f77b4; stroke: #1f77b4\"/>\n     <use xlink:href=\"#me39c638742\" x=\"123.897386\" y=\"86.881714\" style=\"fill: #1f77b4; stroke: #1f77b4\"/>\n     <use xlink:href=\"#me39c638742\" x=\"158.361846\" y=\"106.58018\" style=\"fill: #1f77b4; stroke: #1f77b4\"/>\n     <use xlink:href=\"#me39c638742\" x=\"182.294311\" y=\"108.110423\" style=\"fill: #1f77b4; stroke: #1f77b4\"/>\n     <use xlink:href=\"#me39c638742\" x=\"118.435168\" y=\"63.728901\" style=\"fill: #1f77b4; stroke: #1f77b4\"/>\n     <use xlink:href=\"#me39c638742\" x=\"156.82836\" y=\"85.473977\" style=\"fill: #1f77b4; stroke: #1f77b4\"/>\n     <use xlink:href=\"#me39c638742\" x=\"99.948141\" y=\"61.503262\" style=\"fill: #1f77b4; stroke: #1f77b4\"/>\n     <use xlink:href=\"#me39c638742\" x=\"113.196493\" y=\"65.790775\" style=\"fill: #1f77b4; stroke: #1f77b4\"/>\n     <use xlink:href=\"#me39c638742\" x=\"146.201253\" y=\"83.131967\" style=\"fill: #1f77b4; stroke: #1f77b4\"/>\n     <use xlink:href=\"#me39c638742\" x=\"93.992167\" y=\"74.446661\" style=\"fill: #1f77b4; stroke: #1f77b4\"/>\n     <use xlink:href=\"#me39c638742\" x=\"103.469734\" y=\"57.007846\" style=\"fill: #1f77b4; stroke: #1f77b4\"/>\n     <use xlink:href=\"#me39c638742\" x=\"121.45992\" y=\"57.201449\" style=\"fill: #1f77b4; stroke: #1f77b4\"/>\n     <use xlink:href=\"#me39c638742\" x=\"97.464708\" y=\"50.411033\" style=\"fill: #1f77b4; stroke: #1f77b4\"/>\n     <use xlink:href=\"#me39c638742\" x=\"147.234438\" y=\"86.653191\" style=\"fill: #1f77b4; stroke: #1f77b4\"/>\n     <use xlink:href=\"#me39c638742\" x=\"141.8371\" y=\"81.94223\" style=\"fill: #1f77b4; stroke: #1f77b4\"/>\n     <use xlink:href=\"#me39c638742\" x=\"143.142808\" y=\"81.588527\" style=\"fill: #1f77b4; stroke: #1f77b4\"/>\n     <use xlink:href=\"#me39c638742\" x=\"143.391891\" y=\"71.748744\" style=\"fill: #1f77b4; stroke: #1f77b4\"/>\n     <use xlink:href=\"#me39c638742\" x=\"155.786971\" y=\"83.062517\" style=\"fill: #1f77b4; stroke: #1f77b4\"/>\n     <use xlink:href=\"#me39c638742\" x=\"123.247952\" y=\"80.040915\" style=\"fill: #1f77b4; stroke: #1f77b4\"/>\n     <use xlink:href=\"#me39c638742\" x=\"121.604446\" y=\"75.40294\" style=\"fill: #1f77b4; stroke: #1f77b4\"/>\n     <use xlink:href=\"#me39c638742\" x=\"120.723871\" y=\"61.37386\" style=\"fill: #1f77b4; stroke: #1f77b4\"/>\n     <use xlink:href=\"#me39c638742\" x=\"124.208251\" y=\"50.588132\" style=\"fill: #1f77b4; stroke: #1f77b4\"/>\n     <use xlink:href=\"#me39c638742\" x=\"131.313873\" y=\"58.731375\" style=\"fill: #1f77b4; stroke: #1f77b4\"/>\n     <use xlink:href=\"#me39c638742\" x=\"149.900776\" y=\"76.133616\" style=\"fill: #1f77b4; stroke: #1f77b4\"/>\n     <use xlink:href=\"#me39c638742\" x=\"130.687848\" y=\"75.668205\" style=\"fill: #1f77b4; stroke: #1f77b4\"/>\n     <use xlink:href=\"#me39c638742\" x=\"144.501649\" y=\"65.451639\" style=\"fill: #1f77b4; stroke: #1f77b4\"/>\n     <use xlink:href=\"#me39c638742\" x=\"146.060861\" y=\"92.975913\" style=\"fill: #1f77b4; stroke: #1f77b4\"/>\n     <use xlink:href=\"#me39c638742\" x=\"101.103499\" y=\"70.043915\" style=\"fill: #1f77b4; stroke: #1f77b4\"/>\n     <use xlink:href=\"#me39c638742\" x=\"112.335623\" y=\"54.84598\" style=\"fill: #1f77b4; stroke: #1f77b4\"/>\n     <use xlink:href=\"#me39c638742\" x=\"140.600232\" y=\"91.578653\" style=\"fill: #1f77b4; stroke: #1f77b4\"/>\n     <use xlink:href=\"#me39c638742\" x=\"128.746498\" y=\"64.768742\" style=\"fill: #1f77b4; stroke: #1f77b4\"/>\n     <use xlink:href=\"#me39c638742\" x=\"93.866746\" y=\"58.612425\" style=\"fill: #1f77b4; stroke: #1f77b4\"/>\n     <use xlink:href=\"#me39c638742\" x=\"112.106282\" y=\"50.468134\" style=\"fill: #1f77b4; stroke: #1f77b4\"/>\n     <use xlink:href=\"#me39c638742\" x=\"117.228584\" y=\"85.057006\" style=\"fill: #1f77b4; stroke: #1f77b4\"/>\n     <use xlink:href=\"#me39c638742\" x=\"92.177521\" y=\"29.090443\" style=\"fill: #1f77b4; stroke: #1f77b4\"/>\n     <use xlink:href=\"#me39c638742\" x=\"126.968027\" y=\"78.054238\" style=\"fill: #1f77b4; stroke: #1f77b4\"/>\n     <use xlink:href=\"#me39c638742\" x=\"118.903581\" y=\"62.316504\" style=\"fill: #1f77b4; stroke: #1f77b4\"/>\n     <use xlink:href=\"#me39c638742\" x=\"71.16354\" y=\"49.406285\" style=\"fill: #1f77b4; stroke: #1f77b4\"/>\n     <use xlink:href=\"#me39c638742\" x=\"137.569496\" y=\"88.663315\" style=\"fill: #1f77b4; stroke: #1f77b4\"/>\n     <use xlink:href=\"#me39c638742\" x=\"126.832484\" y=\"80.205589\" style=\"fill: #1f77b4; stroke: #1f77b4\"/>\n     <use xlink:href=\"#me39c638742\" x=\"127.284025\" y=\"73.255163\" style=\"fill: #1f77b4; stroke: #1f77b4\"/>\n     <use xlink:href=\"#me39c638742\" x=\"92.078036\" y=\"51.916115\" style=\"fill: #1f77b4; stroke: #1f77b4\"/>\n     <use xlink:href=\"#me39c638742\" x=\"120.918195\" y=\"79.522856\" style=\"fill: #1f77b4; stroke: #1f77b4\"/>\n     <use xlink:href=\"#me39c638742\" x=\"90.408183\" y=\"34.367639\" style=\"fill: #1f77b4; stroke: #1f77b4\"/>\n     <use xlink:href=\"#me39c638742\" x=\"136.726372\" y=\"72.053152\" style=\"fill: #1f77b4; stroke: #1f77b4\"/>\n     <use xlink:href=\"#me39c638742\" x=\"121.130157\" y=\"57.670578\" style=\"fill: #1f77b4; stroke: #1f77b4\"/>\n     <use xlink:href=\"#me39c638742\" x=\"137.419301\" y=\"90.122112\" style=\"fill: #1f77b4; stroke: #1f77b4\"/>\n     <use xlink:href=\"#me39c638742\" x=\"129.260494\" y=\"86.167149\" style=\"fill: #1f77b4; stroke: #1f77b4\"/>\n     <use xlink:href=\"#me39c638742\" x=\"177.530204\" y=\"119.376762\" style=\"fill: #1f77b4; stroke: #1f77b4\"/>\n     <use xlink:href=\"#me39c638742\" x=\"117.451354\" y=\"72.552482\" style=\"fill: #1f77b4; stroke: #1f77b4\"/>\n     <use xlink:href=\"#me39c638742\" x=\"158.743922\" y=\"91.274046\" style=\"fill: #1f77b4; stroke: #1f77b4\"/>\n     <use xlink:href=\"#me39c638742\" x=\"151.217638\" y=\"77.843872\" style=\"fill: #1f77b4; stroke: #1f77b4\"/>\n     <use xlink:href=\"#me39c638742\" x=\"128.043897\" y=\"78.63351\" style=\"fill: #1f77b4; stroke: #1f77b4\"/>\n     <use xlink:href=\"#me39c638742\" x=\"81.474014\" y=\"46.024229\" style=\"fill: #1f77b4; stroke: #1f77b4\"/>\n     <use xlink:href=\"#me39c638742\" x=\"133.916827\" y=\"76.749573\" style=\"fill: #1f77b4; stroke: #1f77b4\"/>\n     <use xlink:href=\"#me39c638742\" x=\"152.698658\" y=\"80.395233\" style=\"fill: #1f77b4; stroke: #1f77b4\"/>\n     <use xlink:href=\"#me39c638742\" x=\"148.584351\" y=\"79.009067\" style=\"fill: #1f77b4; stroke: #1f77b4\"/>\n     <use xlink:href=\"#me39c638742\" x=\"103.248324\" y=\"66.638528\" style=\"fill: #1f77b4; stroke: #1f77b4\"/>\n     <use xlink:href=\"#me39c638742\" x=\"124.129407\" y=\"87.910953\" style=\"fill: #1f77b4; stroke: #1f77b4\"/>\n     <use xlink:href=\"#me39c638742\" x=\"107.735306\" y=\"64.300045\" style=\"fill: #1f77b4; stroke: #1f77b4\"/>\n     <use xlink:href=\"#me39c638742\" x=\"112.838886\" y=\"63.653169\" style=\"fill: #1f77b4; stroke: #1f77b4\"/>\n     <use xlink:href=\"#me39c638742\" x=\"136.42066\" y=\"71.382304\" style=\"fill: #1f77b4; stroke: #1f77b4\"/>\n     <use xlink:href=\"#me39c638742\" x=\"135.233183\" y=\"95.17478\" style=\"fill: #1f77b4; stroke: #1f77b4\"/>\n     <use xlink:href=\"#me39c638742\" x=\"123.768189\" y=\"77.72476\" style=\"fill: #1f77b4; stroke: #1f77b4\"/>\n     <use xlink:href=\"#me39c638742\" x=\"127.379841\" y=\"91.527621\" style=\"fill: #1f77b4; stroke: #1f77b4\"/>\n     <use xlink:href=\"#me39c638742\" x=\"106.841244\" y=\"74.414527\" style=\"fill: #1f77b4; stroke: #1f77b4\"/>\n     <use xlink:href=\"#me39c638742\" x=\"130.64174\" y=\"80.8493\" style=\"fill: #1f77b4; stroke: #1f77b4\"/>\n     <use xlink:href=\"#me39c638742\" x=\"127.533582\" y=\"71.497631\" style=\"fill: #1f77b4; stroke: #1f77b4\"/>\n     <use xlink:href=\"#me39c638742\" x=\"96.443132\" y=\"66.459236\" style=\"fill: #1f77b4; stroke: #1f77b4\"/>\n     <use xlink:href=\"#me39c638742\" x=\"132.301338\" y=\"79.217021\" style=\"fill: #1f77b4; stroke: #1f77b4\"/>\n     <use xlink:href=\"#me39c638742\" x=\"142.642051\" y=\"71.923096\" style=\"fill: #1f77b4; stroke: #1f77b4\"/>\n     <use xlink:href=\"#me39c638742\" x=\"111.972612\" y=\"80.402357\" style=\"fill: #1f77b4; stroke: #1f77b4\"/>\n     <use xlink:href=\"#me39c638742\" x=\"92.915504\" y=\"48.189761\" style=\"fill: #1f77b4; stroke: #1f77b4\"/>\n     <use xlink:href=\"#me39c638742\" x=\"124.43338\" y=\"69.427282\" style=\"fill: #1f77b4; stroke: #1f77b4\"/>\n     <use xlink:href=\"#me39c638742\" x=\"116.033263\" y=\"77.096644\" style=\"fill: #1f77b4; stroke: #1f77b4\"/>\n     <use xlink:href=\"#me39c638742\" x=\"124.046778\" y=\"77.004788\" style=\"fill: #1f77b4; stroke: #1f77b4\"/>\n     <use xlink:href=\"#me39c638742\" x=\"164.733267\" y=\"97.920034\" style=\"fill: #1f77b4; stroke: #1f77b4\"/>\n     <use xlink:href=\"#me39c638742\" x=\"88.281375\" y=\"51.638688\" style=\"fill: #1f77b4; stroke: #1f77b4\"/>\n     <use xlink:href=\"#me39c638742\" x=\"164.27187\" y=\"96.577663\" style=\"fill: #1f77b4; stroke: #1f77b4\"/>\n     <use xlink:href=\"#me39c638742\" x=\"122.080216\" y=\"71.653912\" style=\"fill: #1f77b4; stroke: #1f77b4\"/>\n     <use xlink:href=\"#me39c638742\" x=\"147.803657\" y=\"93.319816\" style=\"fill: #1f77b4; stroke: #1f77b4\"/>\n     <use xlink:href=\"#me39c638742\" x=\"135.222858\" y=\"66.186781\" style=\"fill: #1f77b4; stroke: #1f77b4\"/>\n     <use xlink:href=\"#me39c638742\" x=\"158.431138\" y=\"98.257902\" style=\"fill: #1f77b4; stroke: #1f77b4\"/>\n     <use xlink:href=\"#me39c638742\" x=\"142.82351\" y=\"90.098206\" style=\"fill: #1f77b4; stroke: #1f77b4\"/>\n     <use xlink:href=\"#me39c638742\" x=\"44.18196\" y=\"23.834778\" style=\"fill: #1f77b4; stroke: #1f77b4\"/>\n     <use xlink:href=\"#me39c638742\" x=\"71.317933\" y=\"35.1109\" style=\"fill: #1f77b4; stroke: #1f77b4\"/>\n     <use xlink:href=\"#me39c638742\" x=\"112.647806\" y=\"69.571673\" style=\"fill: #1f77b4; stroke: #1f77b4\"/>\n     <use xlink:href=\"#me39c638742\" x=\"181.608411\" y=\"105.735053\" style=\"fill: #1f77b4; stroke: #1f77b4\"/>\n     <use xlink:href=\"#me39c638742\" x=\"128.676756\" y=\"72.925922\" style=\"fill: #1f77b4; stroke: #1f77b4\"/>\n     <use xlink:href=\"#me39c638742\" x=\"88.190676\" y=\"55.306468\" style=\"fill: #1f77b4; stroke: #1f77b4\"/>\n     <use xlink:href=\"#me39c638742\" x=\"119.903303\" y=\"72.063699\" style=\"fill: #1f77b4; stroke: #1f77b4\"/>\n     <use xlink:href=\"#me39c638742\" x=\"100.506418\" y=\"39.091849\" style=\"fill: #1f77b4; stroke: #1f77b4\"/>\n     <use xlink:href=\"#me39c638742\" x=\"114.007102\" y=\"71.499376\" style=\"fill: #1f77b4; stroke: #1f77b4\"/>\n     <use xlink:href=\"#me39c638742\" x=\"107.360963\" y=\"67.102877\" style=\"fill: #1f77b4; stroke: #1f77b4\"/>\n     <use xlink:href=\"#me39c638742\" x=\"127.698454\" y=\"84.703899\" style=\"fill: #1f77b4; stroke: #1f77b4\"/>\n     <use xlink:href=\"#me39c638742\" x=\"82.402012\" y=\"34.20969\" style=\"fill: #1f77b4; stroke: #1f77b4\"/>\n     <use xlink:href=\"#me39c638742\" x=\"180.364204\" y=\"94.675819\" style=\"fill: #1f77b4; stroke: #1f77b4\"/>\n     <use xlink:href=\"#me39c638742\" x=\"123.66797\" y=\"79.221218\" style=\"fill: #1f77b4; stroke: #1f77b4\"/>\n     <use xlink:href=\"#me39c638742\" x=\"76.364893\" y=\"42.898241\" style=\"fill: #1f77b4; stroke: #1f77b4\"/>\n     <use xlink:href=\"#me39c638742\" x=\"95.65406\" y=\"38.135499\" style=\"fill: #1f77b4; stroke: #1f77b4\"/>\n     <use xlink:href=\"#me39c638742\" x=\"120.838715\" y=\"61.568653\" style=\"fill: #1f77b4; stroke: #1f77b4\"/>\n     <use xlink:href=\"#me39c638742\" x=\"134.48619\" y=\"93.757072\" style=\"fill: #1f77b4; stroke: #1f77b4\"/>\n     <use xlink:href=\"#me39c638742\" x=\"106.40924\" y=\"62.80813\" style=\"fill: #1f77b4; stroke: #1f77b4\"/>\n     <use xlink:href=\"#me39c638742\" x=\"115.185665\" y=\"68.140785\" style=\"fill: #1f77b4; stroke: #1f77b4\"/>\n     <use xlink:href=\"#me39c638742\" x=\"128.774999\" y=\"75.098331\" style=\"fill: #1f77b4; stroke: #1f77b4\"/>\n     <use xlink:href=\"#me39c638742\" x=\"114.229435\" y=\"64.496804\" style=\"fill: #1f77b4; stroke: #1f77b4\"/>\n     <use xlink:href=\"#me39c638742\" x=\"94.811888\" y=\"51.123522\" style=\"fill: #1f77b4; stroke: #1f77b4\"/>\n     <use xlink:href=\"#me39c638742\" x=\"132.742689\" y=\"94.604977\" style=\"fill: #1f77b4; stroke: #1f77b4\"/>\n     <use xlink:href=\"#me39c638742\" x=\"54.189265\" y=\"13.5\" style=\"fill: #1f77b4; stroke: #1f77b4\"/>\n     <use xlink:href=\"#me39c638742\" x=\"161.672058\" y=\"84.371451\" style=\"fill: #1f77b4; stroke: #1f77b4\"/>\n     <use xlink:href=\"#me39c638742\" x=\"129.079012\" y=\"72.715316\" style=\"fill: #1f77b4; stroke: #1f77b4\"/>\n     <use xlink:href=\"#me39c638742\" x=\"82.070503\" y=\"38.98808\" style=\"fill: #1f77b4; stroke: #1f77b4\"/>\n     <use xlink:href=\"#me39c638742\" x=\"157.551771\" y=\"107.070699\" style=\"fill: #1f77b4; stroke: #1f77b4\"/>\n     <use xlink:href=\"#me39c638742\" x=\"141.157426\" y=\"64.967384\" style=\"fill: #1f77b4; stroke: #1f77b4\"/>\n     <use xlink:href=\"#me39c638742\" x=\"134.034642\" y=\"85.4569\" style=\"fill: #1f77b4; stroke: #1f77b4\"/>\n     <use xlink:href=\"#me39c638742\" x=\"152.304116\" y=\"94.341694\" style=\"fill: #1f77b4; stroke: #1f77b4\"/>\n     <use xlink:href=\"#me39c638742\" x=\"118.451274\" y=\"66.784767\" style=\"fill: #1f77b4; stroke: #1f77b4\"/>\n     <use xlink:href=\"#me39c638742\" x=\"95.002245\" y=\"62.662333\" style=\"fill: #1f77b4; stroke: #1f77b4\"/>\n     <use xlink:href=\"#me39c638742\" x=\"118.149417\" y=\"59.859663\" style=\"fill: #1f77b4; stroke: #1f77b4\"/>\n     <use xlink:href=\"#me39c638742\" x=\"130.034267\" y=\"54.147557\" style=\"fill: #1f77b4; stroke: #1f77b4\"/>\n     <use xlink:href=\"#me39c638742\" x=\"114.226296\" y=\"76.94867\" style=\"fill: #1f77b4; stroke: #1f77b4\"/>\n     <use xlink:href=\"#me39c638742\" x=\"164.725613\" y=\"94.215711\" style=\"fill: #1f77b4; stroke: #1f77b4\"/>\n     <use xlink:href=\"#me39c638742\" x=\"94.249467\" y=\"58.821361\" style=\"fill: #1f77b4; stroke: #1f77b4\"/>\n     <use xlink:href=\"#me39c638742\" x=\"145.947093\" y=\"63.528572\" style=\"fill: #1f77b4; stroke: #1f77b4\"/>\n     <use xlink:href=\"#me39c638742\" x=\"160.024997\" y=\"109.746138\" style=\"fill: #1f77b4; stroke: #1f77b4\"/>\n     <use xlink:href=\"#me39c638742\" x=\"130.829259\" y=\"78.196589\" style=\"fill: #1f77b4; stroke: #1f77b4\"/>\n     <use xlink:href=\"#me39c638742\" x=\"171.147265\" y=\"112.331042\" style=\"fill: #1f77b4; stroke: #1f77b4\"/>\n     <use xlink:href=\"#me39c638742\" x=\"134.115979\" y=\"78.870776\" style=\"fill: #1f77b4; stroke: #1f77b4\"/>\n     <use xlink:href=\"#me39c638742\" x=\"146.664477\" y=\"89.845102\" style=\"fill: #1f77b4; stroke: #1f77b4\"/>\n     <use xlink:href=\"#me39c638742\" x=\"172.551112\" y=\"102.031182\" style=\"fill: #1f77b4; stroke: #1f77b4\"/>\n     <use xlink:href=\"#me39c638742\" x=\"124.3469\" y=\"66.87798\" style=\"fill: #1f77b4; stroke: #1f77b4\"/>\n     <use xlink:href=\"#me39c638742\" x=\"168.173201\" y=\"96.145824\" style=\"fill: #1f77b4; stroke: #1f77b4\"/>\n     <use xlink:href=\"#me39c638742\" x=\"130.747735\" y=\"69.810824\" style=\"fill: #1f77b4; stroke: #1f77b4\"/>\n     <use xlink:href=\"#me39c638742\" x=\"150.474828\" y=\"83.670937\" style=\"fill: #1f77b4; stroke: #1f77b4\"/>\n     <use xlink:href=\"#me39c638742\" x=\"129.044282\" y=\"86.886003\" style=\"fill: #1f77b4; stroke: #1f77b4\"/>\n     <use xlink:href=\"#me39c638742\" x=\"138.460882\" y=\"64.130366\" style=\"fill: #1f77b4; stroke: #1f77b4\"/>\n     <use xlink:href=\"#me39c638742\" x=\"134.689615\" y=\"74.809081\" style=\"fill: #1f77b4; stroke: #1f77b4\"/>\n     <use xlink:href=\"#me39c638742\" x=\"195.389062\" y=\"119.975494\" style=\"fill: #1f77b4; stroke: #1f77b4\"/>\n     <use xlink:href=\"#me39c638742\" x=\"131.930573\" y=\"61.39882\" style=\"fill: #1f77b4; stroke: #1f77b4\"/>\n     <use xlink:href=\"#me39c638742\" x=\"158.162703\" y=\"96.673926\" style=\"fill: #1f77b4; stroke: #1f77b4\"/>\n     <use xlink:href=\"#me39c638742\" x=\"122.973958\" y=\"68.863195\" style=\"fill: #1f77b4; stroke: #1f77b4\"/>\n     <use xlink:href=\"#me39c638742\" x=\"128.087563\" y=\"66.298949\" style=\"fill: #1f77b4; stroke: #1f77b4\"/>\n     <use xlink:href=\"#me39c638742\" x=\"179.321156\" y=\"108.564694\" style=\"fill: #1f77b4; stroke: #1f77b4\"/>\n     <use xlink:href=\"#me39c638742\" x=\"135.631972\" y=\"73.833205\" style=\"fill: #1f77b4; stroke: #1f77b4\"/>\n     <use xlink:href=\"#me39c638742\" x=\"139.333324\" y=\"66.559827\" style=\"fill: #1f77b4; stroke: #1f77b4\"/>\n     <use xlink:href=\"#me39c638742\" x=\"93.615242\" y=\"66.182019\" style=\"fill: #1f77b4; stroke: #1f77b4\"/>\n     <use xlink:href=\"#me39c638742\" x=\"168.867893\" y=\"96.140477\" style=\"fill: #1f77b4; stroke: #1f77b4\"/>\n     <use xlink:href=\"#me39c638742\" x=\"140.142019\" y=\"88.694015\" style=\"fill: #1f77b4; stroke: #1f77b4\"/>\n     <use xlink:href=\"#me39c638742\" x=\"129.202173\" y=\"71.621843\" style=\"fill: #1f77b4; stroke: #1f77b4\"/>\n     <use xlink:href=\"#me39c638742\" x=\"129.819265\" y=\"78.671249\" style=\"fill: #1f77b4; stroke: #1f77b4\"/>\n     <use xlink:href=\"#me39c638742\" x=\"137.45223\" y=\"70.740805\" style=\"fill: #1f77b4; stroke: #1f77b4\"/>\n     <use xlink:href=\"#me39c638742\" x=\"80.602345\" y=\"47.109631\" style=\"fill: #1f77b4; stroke: #1f77b4\"/>\n     <use xlink:href=\"#me39c638742\" x=\"123.740947\" y=\"84.28718\" style=\"fill: #1f77b4; stroke: #1f77b4\"/>\n     <use xlink:href=\"#me39c638742\" x=\"133.944432\" y=\"87.551393\" style=\"fill: #1f77b4; stroke: #1f77b4\"/>\n     <use xlink:href=\"#me39c638742\" x=\"151.48377\" y=\"74.852867\" style=\"fill: #1f77b4; stroke: #1f77b4\"/>\n     <use xlink:href=\"#me39c638742\" x=\"99.318256\" y=\"58.991063\" style=\"fill: #1f77b4; stroke: #1f77b4\"/>\n     <use xlink:href=\"#me39c638742\" x=\"147.289779\" y=\"93.258174\" style=\"fill: #1f77b4; stroke: #1f77b4\"/>\n     <use xlink:href=\"#me39c638742\" x=\"141.225085\" y=\"81.207717\" style=\"fill: #1f77b4; stroke: #1f77b4\"/>\n     <use xlink:href=\"#me39c638742\" x=\"119.252722\" y=\"54.99233\" style=\"fill: #1f77b4; stroke: #1f77b4\"/>\n     <use xlink:href=\"#me39c638742\" x=\"176.707046\" y=\"104.522274\" style=\"fill: #1f77b4; stroke: #1f77b4\"/>\n     <use xlink:href=\"#me39c638742\" x=\"125.948909\" y=\"96.530835\" style=\"fill: #1f77b4; stroke: #1f77b4\"/>\n     <use xlink:href=\"#me39c638742\" x=\"116.369796\" y=\"53.006417\" style=\"fill: #1f77b4; stroke: #1f77b4\"/>\n     <use xlink:href=\"#me39c638742\" x=\"111.547837\" y=\"85.714361\" style=\"fill: #1f77b4; stroke: #1f77b4\"/>\n     <use xlink:href=\"#me39c638742\" x=\"124.570627\" y=\"58.980634\" style=\"fill: #1f77b4; stroke: #1f77b4\"/>\n     <use xlink:href=\"#me39c638742\" x=\"120.277184\" y=\"69.930455\" style=\"fill: #1f77b4; stroke: #1f77b4\"/>\n     <use xlink:href=\"#me39c638742\" x=\"88.589665\" y=\"56.205294\" style=\"fill: #1f77b4; stroke: #1f77b4\"/>\n     <use xlink:href=\"#me39c638742\" x=\"119.469551\" y=\"81.114107\" style=\"fill: #1f77b4; stroke: #1f77b4\"/>\n     <use xlink:href=\"#me39c638742\" x=\"130.996259\" y=\"58.836668\" style=\"fill: #1f77b4; stroke: #1f77b4\"/>\n     <use xlink:href=\"#me39c638742\" x=\"116.786728\" y=\"63.714751\" style=\"fill: #1f77b4; stroke: #1f77b4\"/>\n     <use xlink:href=\"#me39c638742\" x=\"152.564346\" y=\"75.616593\" style=\"fill: #1f77b4; stroke: #1f77b4\"/>\n     <use xlink:href=\"#me39c638742\" x=\"132.695146\" y=\"66.889641\" style=\"fill: #1f77b4; stroke: #1f77b4\"/>\n     <use xlink:href=\"#me39c638742\" x=\"69.95222\" y=\"42.360803\" style=\"fill: #1f77b4; stroke: #1f77b4\"/>\n     <use xlink:href=\"#me39c638742\" x=\"105.220359\" y=\"65.156026\" style=\"fill: #1f77b4; stroke: #1f77b4\"/>\n     <use xlink:href=\"#me39c638742\" x=\"136.918973\" y=\"85.38769\" style=\"fill: #1f77b4; stroke: #1f77b4\"/>\n     <use xlink:href=\"#me39c638742\" x=\"87.533197\" y=\"63.851825\" style=\"fill: #1f77b4; stroke: #1f77b4\"/>\n     <use xlink:href=\"#me39c638742\" x=\"122.994677\" y=\"71.976631\" style=\"fill: #1f77b4; stroke: #1f77b4\"/>\n     <use xlink:href=\"#me39c638742\" x=\"148.712886\" y=\"72.681574\" style=\"fill: #1f77b4; stroke: #1f77b4\"/>\n     <use xlink:href=\"#me39c638742\" x=\"103.211258\" y=\"35.091894\" style=\"fill: #1f77b4; stroke: #1f77b4\"/>\n     <use xlink:href=\"#me39c638742\" x=\"120.870528\" y=\"69.834418\" style=\"fill: #1f77b4; stroke: #1f77b4\"/>\n     <use xlink:href=\"#me39c638742\" x=\"127.427473\" y=\"81.541974\" style=\"fill: #1f77b4; stroke: #1f77b4\"/>\n     <use xlink:href=\"#me39c638742\" x=\"107.416731\" y=\"61.265697\" style=\"fill: #1f77b4; stroke: #1f77b4\"/>\n     <use xlink:href=\"#me39c638742\" x=\"146.096065\" y=\"76.062416\" style=\"fill: #1f77b4; stroke: #1f77b4\"/>\n     <use xlink:href=\"#me39c638742\" x=\"137.896586\" y=\"81.036146\" style=\"fill: #1f77b4; stroke: #1f77b4\"/>\n     <use xlink:href=\"#me39c638742\" x=\"138.21425\" y=\"89.374886\" style=\"fill: #1f77b4; stroke: #1f77b4\"/>\n     <use xlink:href=\"#me39c638742\" x=\"60.574849\" y=\"31.577093\" style=\"fill: #1f77b4; stroke: #1f77b4\"/>\n     <use xlink:href=\"#me39c638742\" x=\"113.040357\" y=\"72.867017\" style=\"fill: #1f77b4; stroke: #1f77b4\"/>\n     <use xlink:href=\"#me39c638742\" x=\"129.367315\" y=\"77.786416\" style=\"fill: #1f77b4; stroke: #1f77b4\"/>\n     <use xlink:href=\"#me39c638742\" x=\"167.797811\" y=\"93.222177\" style=\"fill: #1f77b4; stroke: #1f77b4\"/>\n     <use xlink:href=\"#me39c638742\" x=\"160.892488\" y=\"86.628003\" style=\"fill: #1f77b4; stroke: #1f77b4\"/>\n     <use xlink:href=\"#me39c638742\" x=\"141.572046\" y=\"90.844279\" style=\"fill: #1f77b4; stroke: #1f77b4\"/>\n     <use xlink:href=\"#me39c638742\" x=\"151.608978\" y=\"97.621273\" style=\"fill: #1f77b4; stroke: #1f77b4\"/>\n     <use xlink:href=\"#me39c638742\" x=\"127.185399\" y=\"72.974695\" style=\"fill: #1f77b4; stroke: #1f77b4\"/>\n     <use xlink:href=\"#me39c638742\" x=\"96.278988\" y=\"59.80157\" style=\"fill: #1f77b4; stroke: #1f77b4\"/>\n     <use xlink:href=\"#me39c638742\" x=\"160.143478\" y=\"91.58713\" style=\"fill: #1f77b4; stroke: #1f77b4\"/>\n     <use xlink:href=\"#me39c638742\" x=\"147.518433\" y=\"76.047006\" style=\"fill: #1f77b4; stroke: #1f77b4\"/>\n     <use xlink:href=\"#me39c638742\" x=\"95.271518\" y=\"46.157198\" style=\"fill: #1f77b4; stroke: #1f77b4\"/>\n     <use xlink:href=\"#me39c638742\" x=\"156.615878\" y=\"89.680378\" style=\"fill: #1f77b4; stroke: #1f77b4\"/>\n     <use xlink:href=\"#me39c638742\" x=\"84.356029\" y=\"42.862936\" style=\"fill: #1f77b4; stroke: #1f77b4\"/>\n     <use xlink:href=\"#me39c638742\" x=\"124.158833\" y=\"78.825474\" style=\"fill: #1f77b4; stroke: #1f77b4\"/>\n     <use xlink:href=\"#me39c638742\" x=\"165.172302\" y=\"96.40586\" style=\"fill: #1f77b4; stroke: #1f77b4\"/>\n     <use xlink:href=\"#me39c638742\" x=\"124.642038\" y=\"80.118148\" style=\"fill: #1f77b4; stroke: #1f77b4\"/>\n     <use xlink:href=\"#me39c638742\" x=\"120.949138\" y=\"70.814277\" style=\"fill: #1f77b4; stroke: #1f77b4\"/>\n     <use xlink:href=\"#me39c638742\" x=\"75.592382\" y=\"56.794034\" style=\"fill: #1f77b4; stroke: #1f77b4\"/>\n     <use xlink:href=\"#me39c638742\" x=\"129.53581\" y=\"78.25909\" style=\"fill: #1f77b4; stroke: #1f77b4\"/>\n     <use xlink:href=\"#me39c638742\" x=\"142.657878\" y=\"77.741666\" style=\"fill: #1f77b4; stroke: #1f77b4\"/>\n     <use xlink:href=\"#me39c638742\" x=\"146.299554\" y=\"90.022505\" style=\"fill: #1f77b4; stroke: #1f77b4\"/>\n     <use xlink:href=\"#me39c638742\" x=\"127.999312\" y=\"91.072309\" style=\"fill: #1f77b4; stroke: #1f77b4\"/>\n     <use xlink:href=\"#me39c638742\" x=\"174.537625\" y=\"95.015878\" style=\"fill: #1f77b4; stroke: #1f77b4\"/>\n     <use xlink:href=\"#me39c638742\" x=\"146.94922\" y=\"72.093732\" style=\"fill: #1f77b4; stroke: #1f77b4\"/>\n     <use xlink:href=\"#me39c638742\" x=\"154.56438\" y=\"96.277702\" style=\"fill: #1f77b4; stroke: #1f77b4\"/>\n     <use xlink:href=\"#me39c638742\" x=\"127.525016\" y=\"93.58699\" style=\"fill: #1f77b4; stroke: #1f77b4\"/>\n     <use xlink:href=\"#me39c638742\" x=\"140.660356\" y=\"95.763384\" style=\"fill: #1f77b4; stroke: #1f77b4\"/>\n     <use xlink:href=\"#me39c638742\" x=\"153.870604\" y=\"91.317826\" style=\"fill: #1f77b4; stroke: #1f77b4\"/>\n     <use xlink:href=\"#me39c638742\" x=\"126.717575\" y=\"63.685259\" style=\"fill: #1f77b4; stroke: #1f77b4\"/>\n     <use xlink:href=\"#me39c638742\" x=\"157.690473\" y=\"79.937169\" style=\"fill: #1f77b4; stroke: #1f77b4\"/>\n     <use xlink:href=\"#me39c638742\" x=\"163.805485\" y=\"78.53263\" style=\"fill: #1f77b4; stroke: #1f77b4\"/>\n     <use xlink:href=\"#me39c638742\" x=\"122.527276\" y=\"74.468596\" style=\"fill: #1f77b4; stroke: #1f77b4\"/>\n     <use xlink:href=\"#me39c638742\" x=\"77.615571\" y=\"43.713701\" style=\"fill: #1f77b4; stroke: #1f77b4\"/>\n     <use xlink:href=\"#me39c638742\" x=\"130.650283\" y=\"84.050244\" style=\"fill: #1f77b4; stroke: #1f77b4\"/>\n     <use xlink:href=\"#me39c638742\" x=\"139.908626\" y=\"101.670465\" style=\"fill: #1f77b4; stroke: #1f77b4\"/>\n     <use xlink:href=\"#me39c638742\" x=\"132.324635\" y=\"77.973582\" style=\"fill: #1f77b4; stroke: #1f77b4\"/>\n     <use xlink:href=\"#me39c638742\" x=\"112.563997\" y=\"68.815752\" style=\"fill: #1f77b4; stroke: #1f77b4\"/>\n     <use xlink:href=\"#me39c638742\" x=\"142.086361\" y=\"95.600507\" style=\"fill: #1f77b4; stroke: #1f77b4\"/>\n     <use xlink:href=\"#me39c638742\" x=\"121.108409\" y=\"85.671655\" style=\"fill: #1f77b4; stroke: #1f77b4\"/>\n     <use xlink:href=\"#me39c638742\" x=\"120.908165\" y=\"83.196459\" style=\"fill: #1f77b4; stroke: #1f77b4\"/>\n     <use xlink:href=\"#me39c638742\" x=\"165.971469\" y=\"95.745452\" style=\"fill: #1f77b4; stroke: #1f77b4\"/>\n     <use xlink:href=\"#me39c638742\" x=\"199.497521\" y=\"122.093203\" style=\"fill: #1f77b4; stroke: #1f77b4\"/>\n     <use xlink:href=\"#me39c638742\" x=\"131.704925\" y=\"84.04472\" style=\"fill: #1f77b4; stroke: #1f77b4\"/>\n     <use xlink:href=\"#me39c638742\" x=\"120.145688\" y=\"83.027419\" style=\"fill: #1f77b4; stroke: #1f77b4\"/>\n     <use xlink:href=\"#me39c638742\" x=\"128.476999\" y=\"65.56746\" style=\"fill: #1f77b4; stroke: #1f77b4\"/>\n     <use xlink:href=\"#me39c638742\" x=\"117.138637\" y=\"72.952082\" style=\"fill: #1f77b4; stroke: #1f77b4\"/>\n     <use xlink:href=\"#me39c638742\" x=\"149.384794\" y=\"86.809068\" style=\"fill: #1f77b4; stroke: #1f77b4\"/>\n     <use xlink:href=\"#me39c638742\" x=\"130.55802\" y=\"68.574834\" style=\"fill: #1f77b4; stroke: #1f77b4\"/>\n     <use xlink:href=\"#me39c638742\" x=\"171.609803\" y=\"117.587747\" style=\"fill: #1f77b4; stroke: #1f77b4\"/>\n     <use xlink:href=\"#me39c638742\" x=\"139.816474\" y=\"87.648232\" style=\"fill: #1f77b4; stroke: #1f77b4\"/>\n     <use xlink:href=\"#me39c638742\" x=\"98.010562\" y=\"53.285997\" style=\"fill: #1f77b4; stroke: #1f77b4\"/>\n     <use xlink:href=\"#me39c638742\" x=\"144.632801\" y=\"98.981307\" style=\"fill: #1f77b4; stroke: #1f77b4\"/>\n     <use xlink:href=\"#me39c638742\" x=\"138.190171\" y=\"76.277943\" style=\"fill: #1f77b4; stroke: #1f77b4\"/>\n     <use xlink:href=\"#me39c638742\" x=\"116.413529\" y=\"78.83207\" style=\"fill: #1f77b4; stroke: #1f77b4\"/>\n     <use xlink:href=\"#me39c638742\" x=\"123.184975\" y=\"65.128087\" style=\"fill: #1f77b4; stroke: #1f77b4\"/>\n     <use xlink:href=\"#me39c638742\" x=\"126.504029\" y=\"70.015662\" style=\"fill: #1f77b4; stroke: #1f77b4\"/>\n     <use xlink:href=\"#me39c638742\" x=\"118.773316\" y=\"64.670394\" style=\"fill: #1f77b4; stroke: #1f77b4\"/>\n     <use xlink:href=\"#me39c638742\" x=\"146.695462\" y=\"78.097169\" style=\"fill: #1f77b4; stroke: #1f77b4\"/>\n     <use xlink:href=\"#me39c638742\" x=\"124.739593\" y=\"74.321781\" style=\"fill: #1f77b4; stroke: #1f77b4\"/>\n     <use xlink:href=\"#me39c638742\" x=\"120.999612\" y=\"73.313495\" style=\"fill: #1f77b4; stroke: #1f77b4\"/>\n     <use xlink:href=\"#me39c638742\" x=\"114.732355\" y=\"53.575234\" style=\"fill: #1f77b4; stroke: #1f77b4\"/>\n     <use xlink:href=\"#me39c638742\" x=\"129.740255\" y=\"87.482941\" style=\"fill: #1f77b4; stroke: #1f77b4\"/>\n     <use xlink:href=\"#me39c638742\" x=\"117.529165\" y=\"57.666774\" style=\"fill: #1f77b4; stroke: #1f77b4\"/>\n     <use xlink:href=\"#me39c638742\" x=\"157.559789\" y=\"85.703497\" style=\"fill: #1f77b4; stroke: #1f77b4\"/>\n     <use xlink:href=\"#me39c638742\" x=\"136.266628\" y=\"85.031735\" style=\"fill: #1f77b4; stroke: #1f77b4\"/>\n     <use xlink:href=\"#me39c638742\" x=\"109.548005\" y=\"66.344518\" style=\"fill: #1f77b4; stroke: #1f77b4\"/>\n     <use xlink:href=\"#me39c638742\" x=\"96.922939\" y=\"51.784199\" style=\"fill: #1f77b4; stroke: #1f77b4\"/>\n     <use xlink:href=\"#me39c638742\" x=\"74.506791\" y=\"32.21375\" style=\"fill: #1f77b4; stroke: #1f77b4\"/>\n     <use xlink:href=\"#me39c638742\" x=\"158.062105\" y=\"106.659158\" style=\"fill: #1f77b4; stroke: #1f77b4\"/>\n     <use xlink:href=\"#me39c638742\" x=\"108.885596\" y=\"57.030399\" style=\"fill: #1f77b4; stroke: #1f77b4\"/>\n     <use xlink:href=\"#me39c638742\" x=\"131.257776\" y=\"88.315986\" style=\"fill: #1f77b4; stroke: #1f77b4\"/>\n     <use xlink:href=\"#me39c638742\" x=\"136.31784\" y=\"78.167723\" style=\"fill: #1f77b4; stroke: #1f77b4\"/>\n     <use xlink:href=\"#me39c638742\" x=\"172.313663\" y=\"108.595528\" style=\"fill: #1f77b4; stroke: #1f77b4\"/>\n     <use xlink:href=\"#me39c638742\" x=\"128.050735\" y=\"78.566903\" style=\"fill: #1f77b4; stroke: #1f77b4\"/>\n     <use xlink:href=\"#me39c638742\" x=\"129.176175\" y=\"72.924387\" style=\"fill: #1f77b4; stroke: #1f77b4\"/>\n     <use xlink:href=\"#me39c638742\" x=\"96.835819\" y=\"55.97246\" style=\"fill: #1f77b4; stroke: #1f77b4\"/>\n     <use xlink:href=\"#me39c638742\" x=\"97.335024\" y=\"56.114329\" style=\"fill: #1f77b4; stroke: #1f77b4\"/>\n     <use xlink:href=\"#me39c638742\" x=\"173.025658\" y=\"123.48781\" style=\"fill: #1f77b4; stroke: #1f77b4\"/>\n     <use xlink:href=\"#me39c638742\" x=\"221.727415\" y=\"139.5\" style=\"fill: #1f77b4; stroke: #1f77b4\"/>\n     <use xlink:href=\"#me39c638742\" x=\"140.164622\" y=\"83.234445\" style=\"fill: #1f77b4; stroke: #1f77b4\"/>\n     <use xlink:href=\"#me39c638742\" x=\"135.49635\" y=\"84.882919\" style=\"fill: #1f77b4; stroke: #1f77b4\"/>\n     <use xlink:href=\"#me39c638742\" x=\"120.139228\" y=\"77.290263\" style=\"fill: #1f77b4; stroke: #1f77b4\"/>\n     <use xlink:href=\"#me39c638742\" x=\"115.610437\" y=\"82.927469\" style=\"fill: #1f77b4; stroke: #1f77b4\"/>\n     <use xlink:href=\"#me39c638742\" x=\"103.782379\" y=\"63.012289\" style=\"fill: #1f77b4; stroke: #1f77b4\"/>\n     <use xlink:href=\"#me39c638742\" x=\"120.72911\" y=\"71.526544\" style=\"fill: #1f77b4; stroke: #1f77b4\"/>\n     <use xlink:href=\"#me39c638742\" x=\"77.778294\" y=\"42.463603\" style=\"fill: #1f77b4; stroke: #1f77b4\"/>\n     <use xlink:href=\"#me39c638742\" x=\"178.398716\" y=\"98.335648\" style=\"fill: #1f77b4; stroke: #1f77b4\"/>\n     <use xlink:href=\"#me39c638742\" x=\"99.365876\" y=\"54.810828\" style=\"fill: #1f77b4; stroke: #1f77b4\"/>\n     <use xlink:href=\"#me39c638742\" x=\"116.075342\" y=\"56.542299\" style=\"fill: #1f77b4; stroke: #1f77b4\"/>\n     <use xlink:href=\"#me39c638742\" x=\"130.613362\" y=\"81.398684\" style=\"fill: #1f77b4; stroke: #1f77b4\"/>\n     <use xlink:href=\"#me39c638742\" x=\"134.245915\" y=\"87.265916\" style=\"fill: #1f77b4; stroke: #1f77b4\"/>\n     <use xlink:href=\"#me39c638742\" x=\"103.263872\" y=\"59.385512\" style=\"fill: #1f77b4; stroke: #1f77b4\"/>\n     <use xlink:href=\"#me39c638742\" x=\"191.388119\" y=\"125.885377\" style=\"fill: #1f77b4; stroke: #1f77b4\"/>\n     <use xlink:href=\"#me39c638742\" x=\"100.191608\" y=\"66.578935\" style=\"fill: #1f77b4; stroke: #1f77b4\"/>\n     <use xlink:href=\"#me39c638742\" x=\"97.579432\" y=\"55.995554\" style=\"fill: #1f77b4; stroke: #1f77b4\"/>\n     <use xlink:href=\"#me39c638742\" x=\"92.135367\" y=\"54.135395\" style=\"fill: #1f77b4; stroke: #1f77b4\"/>\n     <use xlink:href=\"#me39c638742\" x=\"107.493972\" y=\"73.495637\" style=\"fill: #1f77b4; stroke: #1f77b4\"/>\n     <use xlink:href=\"#me39c638742\" x=\"81.149389\" y=\"49.91648\" style=\"fill: #1f77b4; stroke: #1f77b4\"/>\n     <use xlink:href=\"#me39c638742\" x=\"112.617168\" y=\"58.23606\" style=\"fill: #1f77b4; stroke: #1f77b4\"/>\n     <use xlink:href=\"#me39c638742\" x=\"138.613365\" y=\"86.720199\" style=\"fill: #1f77b4; stroke: #1f77b4\"/>\n     <use xlink:href=\"#me39c638742\" x=\"100.372372\" y=\"50.738923\" style=\"fill: #1f77b4; stroke: #1f77b4\"/>\n     <use xlink:href=\"#me39c638742\" x=\"112.382845\" y=\"66.013049\" style=\"fill: #1f77b4; stroke: #1f77b4\"/>\n     <use xlink:href=\"#me39c638742\" x=\"120.487313\" y=\"67.684959\" style=\"fill: #1f77b4; stroke: #1f77b4\"/>\n     <use xlink:href=\"#me39c638742\" x=\"156.108026\" y=\"72.118066\" style=\"fill: #1f77b4; stroke: #1f77b4\"/>\n     <use xlink:href=\"#me39c638742\" x=\"151.523644\" y=\"85.637534\" style=\"fill: #1f77b4; stroke: #1f77b4\"/>\n     <use xlink:href=\"#me39c638742\" x=\"111.296108\" y=\"58.690596\" style=\"fill: #1f77b4; stroke: #1f77b4\"/>\n     <use xlink:href=\"#me39c638742\" x=\"113.30215\" y=\"53.496593\" style=\"fill: #1f77b4; stroke: #1f77b4\"/>\n     <use xlink:href=\"#me39c638742\" x=\"79.793276\" y=\"42.865076\" style=\"fill: #1f77b4; stroke: #1f77b4\"/>\n     <use xlink:href=\"#me39c638742\" x=\"103.843809\" y=\"47.227292\" style=\"fill: #1f77b4; stroke: #1f77b4\"/>\n     <use xlink:href=\"#me39c638742\" x=\"66.717977\" y=\"25.331816\" style=\"fill: #1f77b4; stroke: #1f77b4\"/>\n     <use xlink:href=\"#me39c638742\" x=\"175.088618\" y=\"97.648288\" style=\"fill: #1f77b4; stroke: #1f77b4\"/>\n     <use xlink:href=\"#me39c638742\" x=\"91.309718\" y=\"53.172747\" style=\"fill: #1f77b4; stroke: #1f77b4\"/>\n     <use xlink:href=\"#me39c638742\" x=\"174.179943\" y=\"97.054679\" style=\"fill: #1f77b4; stroke: #1f77b4\"/>\n     <use xlink:href=\"#me39c638742\" x=\"138.325949\" y=\"91.016777\" style=\"fill: #1f77b4; stroke: #1f77b4\"/>\n     <use xlink:href=\"#me39c638742\" x=\"133.858919\" y=\"78.906631\" style=\"fill: #1f77b4; stroke: #1f77b4\"/>\n     <use xlink:href=\"#me39c638742\" x=\"185.588502\" y=\"94.63243\" style=\"fill: #1f77b4; stroke: #1f77b4\"/>\n     <use xlink:href=\"#me39c638742\" x=\"128.824371\" y=\"72.891026\" style=\"fill: #1f77b4; stroke: #1f77b4\"/>\n     <use xlink:href=\"#me39c638742\" x=\"85.479609\" y=\"47.623945\" style=\"fill: #1f77b4; stroke: #1f77b4\"/>\n     <use xlink:href=\"#me39c638742\" x=\"104.95311\" y=\"75.728514\" style=\"fill: #1f77b4; stroke: #1f77b4\"/>\n     <use xlink:href=\"#me39c638742\" x=\"141.939907\" y=\"84.454763\" style=\"fill: #1f77b4; stroke: #1f77b4\"/>\n     <use xlink:href=\"#me39c638742\" x=\"108.670576\" y=\"68.896113\" style=\"fill: #1f77b4; stroke: #1f77b4\"/>\n     <use xlink:href=\"#me39c638742\" x=\"169.110651\" y=\"87.302929\" style=\"fill: #1f77b4; stroke: #1f77b4\"/>\n     <use xlink:href=\"#me39c638742\" x=\"126.361782\" y=\"83.787486\" style=\"fill: #1f77b4; stroke: #1f77b4\"/>\n     <use xlink:href=\"#me39c638742\" x=\"130.430046\" y=\"71.216515\" style=\"fill: #1f77b4; stroke: #1f77b4\"/>\n     <use xlink:href=\"#me39c638742\" x=\"74.290829\" y=\"47.21489\" style=\"fill: #1f77b4; stroke: #1f77b4\"/>\n     <use xlink:href=\"#me39c638742\" x=\"121.553156\" y=\"79.467329\" style=\"fill: #1f77b4; stroke: #1f77b4\"/>\n     <use xlink:href=\"#me39c638742\" x=\"134.04721\" y=\"84.917034\" style=\"fill: #1f77b4; stroke: #1f77b4\"/>\n     <use xlink:href=\"#me39c638742\" x=\"135.200354\" y=\"89.378718\" style=\"fill: #1f77b4; stroke: #1f77b4\"/>\n     <use xlink:href=\"#me39c638742\" x=\"148.600331\" y=\"74.103774\" style=\"fill: #1f77b4; stroke: #1f77b4\"/>\n     <use xlink:href=\"#me39c638742\" x=\"121.957688\" y=\"62.542581\" style=\"fill: #1f77b4; stroke: #1f77b4\"/>\n     <use xlink:href=\"#me39c638742\" x=\"94.114884\" y=\"51.140764\" style=\"fill: #1f77b4; stroke: #1f77b4\"/>\n     <use xlink:href=\"#me39c638742\" x=\"137.421752\" y=\"79.659862\" style=\"fill: #1f77b4; stroke: #1f77b4\"/>\n     <use xlink:href=\"#me39c638742\" x=\"142.720877\" y=\"91.787712\" style=\"fill: #1f77b4; stroke: #1f77b4\"/>\n     <use xlink:href=\"#me39c638742\" x=\"148.12535\" y=\"101.635764\" style=\"fill: #1f77b4; stroke: #1f77b4\"/>\n     <use xlink:href=\"#me39c638742\" x=\"152.25062\" y=\"82.066687\" style=\"fill: #1f77b4; stroke: #1f77b4\"/>\n     <use xlink:href=\"#me39c638742\" x=\"157.802391\" y=\"80.790502\" style=\"fill: #1f77b4; stroke: #1f77b4\"/>\n     <use xlink:href=\"#me39c638742\" x=\"97.643908\" y=\"64.048703\" style=\"fill: #1f77b4; stroke: #1f77b4\"/>\n     <use xlink:href=\"#me39c638742\" x=\"111.773776\" y=\"76.209093\" style=\"fill: #1f77b4; stroke: #1f77b4\"/>\n     <use xlink:href=\"#me39c638742\" x=\"159.957983\" y=\"92.327026\" style=\"fill: #1f77b4; stroke: #1f77b4\"/>\n     <use xlink:href=\"#me39c638742\" x=\"107.172804\" y=\"64.756913\" style=\"fill: #1f77b4; stroke: #1f77b4\"/>\n     <use xlink:href=\"#me39c638742\" x=\"142.358993\" y=\"86.732473\" style=\"fill: #1f77b4; stroke: #1f77b4\"/>\n     <use xlink:href=\"#me39c638742\" x=\"95.287167\" y=\"48.829122\" style=\"fill: #1f77b4; stroke: #1f77b4\"/>\n     <use xlink:href=\"#me39c638742\" x=\"178.23198\" y=\"103.11971\" style=\"fill: #1f77b4; stroke: #1f77b4\"/>\n     <use xlink:href=\"#me39c638742\" x=\"93.179793\" y=\"66.705401\" style=\"fill: #1f77b4; stroke: #1f77b4\"/>\n     <use xlink:href=\"#me39c638742\" x=\"153.034332\" y=\"76.423435\" style=\"fill: #1f77b4; stroke: #1f77b4\"/>\n     <use xlink:href=\"#me39c638742\" x=\"152.968456\" y=\"94.634334\" style=\"fill: #1f77b4; stroke: #1f77b4\"/>\n     <use xlink:href=\"#me39c638742\" x=\"93.526738\" y=\"60.960616\" style=\"fill: #1f77b4; stroke: #1f77b4\"/>\n     <use xlink:href=\"#me39c638742\" x=\"164.081544\" y=\"93.805166\" style=\"fill: #1f77b4; stroke: #1f77b4\"/>\n     <use xlink:href=\"#me39c638742\" x=\"91.158707\" y=\"65.011602\" style=\"fill: #1f77b4; stroke: #1f77b4\"/>\n     <use xlink:href=\"#me39c638742\" x=\"138.499932\" y=\"84.176915\" style=\"fill: #1f77b4; stroke: #1f77b4\"/>\n     <use xlink:href=\"#me39c638742\" x=\"108.044289\" y=\"73.310417\" style=\"fill: #1f77b4; stroke: #1f77b4\"/>\n     <use xlink:href=\"#me39c638742\" x=\"136.142749\" y=\"72.569252\" style=\"fill: #1f77b4; stroke: #1f77b4\"/>\n     <use xlink:href=\"#me39c638742\" x=\"139.034956\" y=\"85.477655\" style=\"fill: #1f77b4; stroke: #1f77b4\"/>\n     <use xlink:href=\"#me39c638742\" x=\"152.773213\" y=\"80.795787\" style=\"fill: #1f77b4; stroke: #1f77b4\"/>\n     <use xlink:href=\"#me39c638742\" x=\"98.526605\" y=\"62.503685\" style=\"fill: #1f77b4; stroke: #1f77b4\"/>\n     <use xlink:href=\"#me39c638742\" x=\"137.376417\" y=\"92.238521\" style=\"fill: #1f77b4; stroke: #1f77b4\"/>\n     <use xlink:href=\"#me39c638742\" x=\"111.041585\" y=\"65.743764\" style=\"fill: #1f77b4; stroke: #1f77b4\"/>\n     <use xlink:href=\"#me39c638742\" x=\"104.256347\" y=\"46.228584\" style=\"fill: #1f77b4; stroke: #1f77b4\"/>\n     <use xlink:href=\"#me39c638742\" x=\"131.632081\" y=\"79.030809\" style=\"fill: #1f77b4; stroke: #1f77b4\"/>\n     <use xlink:href=\"#me39c638742\" x=\"134.026006\" y=\"73.508125\" style=\"fill: #1f77b4; stroke: #1f77b4\"/>\n     <use xlink:href=\"#me39c638742\" x=\"73.362146\" y=\"60.66941\" style=\"fill: #1f77b4; stroke: #1f77b4\"/>\n     <use xlink:href=\"#me39c638742\" x=\"133.576114\" y=\"86.041195\" style=\"fill: #1f77b4; stroke: #1f77b4\"/>\n     <use xlink:href=\"#me39c638742\" x=\"98.226395\" y=\"56.00828\" style=\"fill: #1f77b4; stroke: #1f77b4\"/>\n     <use xlink:href=\"#me39c638742\" x=\"109.707815\" y=\"53.039957\" style=\"fill: #1f77b4; stroke: #1f77b4\"/>\n     <use xlink:href=\"#me39c638742\" x=\"97.800761\" y=\"49.456525\" style=\"fill: #1f77b4; stroke: #1f77b4\"/>\n     <use xlink:href=\"#me39c638742\" x=\"131.427133\" y=\"87.125775\" style=\"fill: #1f77b4; stroke: #1f77b4\"/>\n     <use xlink:href=\"#me39c638742\" x=\"117.410992\" y=\"61.107444\" style=\"fill: #1f77b4; stroke: #1f77b4\"/>\n     <use xlink:href=\"#me39c638742\" x=\"79.963671\" y=\"27.208968\" style=\"fill: #1f77b4; stroke: #1f77b4\"/>\n     <use xlink:href=\"#me39c638742\" x=\"144.578507\" y=\"101.082441\" style=\"fill: #1f77b4; stroke: #1f77b4\"/>\n     <use xlink:href=\"#me39c638742\" x=\"136.986413\" y=\"74.69725\" style=\"fill: #1f77b4; stroke: #1f77b4\"/>\n     <use xlink:href=\"#me39c638742\" x=\"107.428746\" y=\"69.731122\" style=\"fill: #1f77b4; stroke: #1f77b4\"/>\n     <use xlink:href=\"#me39c638742\" x=\"155.145621\" y=\"99.702227\" style=\"fill: #1f77b4; stroke: #1f77b4\"/>\n     <use xlink:href=\"#me39c638742\" x=\"164.73081\" y=\"94.851663\" style=\"fill: #1f77b4; stroke: #1f77b4\"/>\n     <use xlink:href=\"#me39c638742\" x=\"121.880394\" y=\"68.290284\" style=\"fill: #1f77b4; stroke: #1f77b4\"/>\n     <use xlink:href=\"#me39c638742\" x=\"162.999992\" y=\"92.786659\" style=\"fill: #1f77b4; stroke: #1f77b4\"/>\n     <use xlink:href=\"#me39c638742\" x=\"118.470016\" y=\"70.36155\" style=\"fill: #1f77b4; stroke: #1f77b4\"/>\n     <use xlink:href=\"#me39c638742\" x=\"137.782138\" y=\"80.476011\" style=\"fill: #1f77b4; stroke: #1f77b4\"/>\n     <use xlink:href=\"#me39c638742\" x=\"123.139169\" y=\"79.529033\" style=\"fill: #1f77b4; stroke: #1f77b4\"/>\n     <use xlink:href=\"#me39c638742\" x=\"109.423722\" y=\"75.017677\" style=\"fill: #1f77b4; stroke: #1f77b4\"/>\n     <use xlink:href=\"#me39c638742\" x=\"173.444158\" y=\"91.847791\" style=\"fill: #1f77b4; stroke: #1f77b4\"/>\n     <use xlink:href=\"#me39c638742\" x=\"140.633882\" y=\"80.103196\" style=\"fill: #1f77b4; stroke: #1f77b4\"/>\n     <use xlink:href=\"#me39c638742\" x=\"117.643207\" y=\"76.248981\" style=\"fill: #1f77b4; stroke: #1f77b4\"/>\n     <use xlink:href=\"#me39c638742\" x=\"117.830736\" y=\"85.919427\" style=\"fill: #1f77b4; stroke: #1f77b4\"/>\n     <use xlink:href=\"#me39c638742\" x=\"155.524211\" y=\"89.708925\" style=\"fill: #1f77b4; stroke: #1f77b4\"/>\n     <use xlink:href=\"#me39c638742\" x=\"68.987056\" y=\"42.999106\" style=\"fill: #1f77b4; stroke: #1f77b4\"/>\n     <use xlink:href=\"#me39c638742\" x=\"88.195007\" y=\"66.025823\" style=\"fill: #1f77b4; stroke: #1f77b4\"/>\n     <use xlink:href=\"#me39c638742\" x=\"113.627919\" y=\"90.853217\" style=\"fill: #1f77b4; stroke: #1f77b4\"/>\n     <use xlink:href=\"#me39c638742\" x=\"131.650273\" y=\"68.708004\" style=\"fill: #1f77b4; stroke: #1f77b4\"/>\n     <use xlink:href=\"#me39c638742\" x=\"136.575258\" y=\"78.516361\" style=\"fill: #1f77b4; stroke: #1f77b4\"/>\n     <use xlink:href=\"#me39c638742\" x=\"148.349932\" y=\"98.48892\" style=\"fill: #1f77b4; stroke: #1f77b4\"/>\n     <use xlink:href=\"#me39c638742\" x=\"138.121064\" y=\"81.89988\" style=\"fill: #1f77b4; stroke: #1f77b4\"/>\n     <use xlink:href=\"#me39c638742\" x=\"86.821251\" y=\"56.276475\" style=\"fill: #1f77b4; stroke: #1f77b4\"/>\n     <use xlink:href=\"#me39c638742\" x=\"114.276664\" y=\"62.430999\" style=\"fill: #1f77b4; stroke: #1f77b4\"/>\n     <use xlink:href=\"#me39c638742\" x=\"83.014513\" y=\"53.387535\" style=\"fill: #1f77b4; stroke: #1f77b4\"/>\n     <use xlink:href=\"#me39c638742\" x=\"114.505501\" y=\"73.842138\" style=\"fill: #1f77b4; stroke: #1f77b4\"/>\n     <use xlink:href=\"#me39c638742\" x=\"120.556959\" y=\"74.946714\" style=\"fill: #1f77b4; stroke: #1f77b4\"/>\n     <use xlink:href=\"#me39c638742\" x=\"144.998761\" y=\"79.94349\" style=\"fill: #1f77b4; stroke: #1f77b4\"/>\n     <use xlink:href=\"#me39c638742\" x=\"117.838799\" y=\"83.831903\" style=\"fill: #1f77b4; stroke: #1f77b4\"/>\n     <use xlink:href=\"#me39c638742\" x=\"121.60964\" y=\"56.861232\" style=\"fill: #1f77b4; stroke: #1f77b4\"/>\n     <use xlink:href=\"#me39c638742\" x=\"131.934383\" y=\"93.312977\" style=\"fill: #1f77b4; stroke: #1f77b4\"/>\n     <use xlink:href=\"#me39c638742\" x=\"131.66777\" y=\"73.110798\" style=\"fill: #1f77b4; stroke: #1f77b4\"/>\n     <use xlink:href=\"#me39c638742\" x=\"129.187644\" y=\"77.814593\" style=\"fill: #1f77b4; stroke: #1f77b4\"/>\n     <use xlink:href=\"#me39c638742\" x=\"157.104\" y=\"94.34913\" style=\"fill: #1f77b4; stroke: #1f77b4\"/>\n     <use xlink:href=\"#me39c638742\" x=\"147.657459\" y=\"86.603383\" style=\"fill: #1f77b4; stroke: #1f77b4\"/>\n     <use xlink:href=\"#me39c638742\" x=\"166.664992\" y=\"100.724505\" style=\"fill: #1f77b4; stroke: #1f77b4\"/>\n     <use xlink:href=\"#me39c638742\" x=\"110.337661\" y=\"77.287483\" style=\"fill: #1f77b4; stroke: #1f77b4\"/>\n     <use xlink:href=\"#me39c638742\" x=\"161.370317\" y=\"90.266046\" style=\"fill: #1f77b4; stroke: #1f77b4\"/>\n     <use xlink:href=\"#me39c638742\" x=\"108.039771\" y=\"61.372873\" style=\"fill: #1f77b4; stroke: #1f77b4\"/>\n     <use xlink:href=\"#me39c638742\" x=\"115.933891\" y=\"73.043809\" style=\"fill: #1f77b4; stroke: #1f77b4\"/>\n     <use xlink:href=\"#me39c638742\" x=\"119.661183\" y=\"68.920626\" style=\"fill: #1f77b4; stroke: #1f77b4\"/>\n     <use xlink:href=\"#me39c638742\" x=\"101.580307\" y=\"62.785783\" style=\"fill: #1f77b4; stroke: #1f77b4\"/>\n     <use xlink:href=\"#me39c638742\" x=\"107.289594\" y=\"59.296333\" style=\"fill: #1f77b4; stroke: #1f77b4\"/>\n     <use xlink:href=\"#me39c638742\" x=\"97.524607\" y=\"49.313114\" style=\"fill: #1f77b4; stroke: #1f77b4\"/>\n     <use xlink:href=\"#me39c638742\" x=\"100.539352\" y=\"48.165091\" style=\"fill: #1f77b4; stroke: #1f77b4\"/>\n     <use xlink:href=\"#me39c638742\" x=\"135.634355\" y=\"84.138588\" style=\"fill: #1f77b4; stroke: #1f77b4\"/>\n     <use xlink:href=\"#me39c638742\" x=\"125.867597\" y=\"68.195247\" style=\"fill: #1f77b4; stroke: #1f77b4\"/>\n     <use xlink:href=\"#me39c638742\" x=\"139.024486\" y=\"83.136265\" style=\"fill: #1f77b4; stroke: #1f77b4\"/>\n     <use xlink:href=\"#me39c638742\" x=\"96.653715\" y=\"53.877698\" style=\"fill: #1f77b4; stroke: #1f77b4\"/>\n     <use xlink:href=\"#me39c638742\" x=\"114.948162\" y=\"53.347366\" style=\"fill: #1f77b4; stroke: #1f77b4\"/>\n     <use xlink:href=\"#me39c638742\" x=\"95.170264\" y=\"64.302482\" style=\"fill: #1f77b4; stroke: #1f77b4\"/>\n     <use xlink:href=\"#me39c638742\" x=\"95.368186\" y=\"58.939519\" style=\"fill: #1f77b4; stroke: #1f77b4\"/>\n     <use xlink:href=\"#me39c638742\" x=\"95.576959\" y=\"55.47941\" style=\"fill: #1f77b4; stroke: #1f77b4\"/>\n     <use xlink:href=\"#me39c638742\" x=\"106.31976\" y=\"52.441876\" style=\"fill: #1f77b4; stroke: #1f77b4\"/>\n     <use xlink:href=\"#me39c638742\" x=\"153.337168\" y=\"89.181289\" style=\"fill: #1f77b4; stroke: #1f77b4\"/>\n     <use xlink:href=\"#me39c638742\" x=\"83.283823\" y=\"50.461387\" style=\"fill: #1f77b4; stroke: #1f77b4\"/>\n     <use xlink:href=\"#me39c638742\" x=\"142.347053\" y=\"82.435026\" style=\"fill: #1f77b4; stroke: #1f77b4\"/>\n     <use xlink:href=\"#me39c638742\" x=\"159.008766\" y=\"90.347288\" style=\"fill: #1f77b4; stroke: #1f77b4\"/>\n     <use xlink:href=\"#me39c638742\" x=\"107.916402\" y=\"61.539395\" style=\"fill: #1f77b4; stroke: #1f77b4\"/>\n     <use xlink:href=\"#me39c638742\" x=\"128.664408\" y=\"79.959791\" style=\"fill: #1f77b4; stroke: #1f77b4\"/>\n     <use xlink:href=\"#me39c638742\" x=\"131.399103\" y=\"51.916596\" style=\"fill: #1f77b4; stroke: #1f77b4\"/>\n     <use xlink:href=\"#me39c638742\" x=\"125.417939\" y=\"89.558597\" style=\"fill: #1f77b4; stroke: #1f77b4\"/>\n     <use xlink:href=\"#me39c638742\" x=\"159.502172\" y=\"93.185665\" style=\"fill: #1f77b4; stroke: #1f77b4\"/>\n     <use xlink:href=\"#me39c638742\" x=\"162.135447\" y=\"104.358785\" style=\"fill: #1f77b4; stroke: #1f77b4\"/>\n     <use xlink:href=\"#me39c638742\" x=\"101.148017\" y=\"61.63398\" style=\"fill: #1f77b4; stroke: #1f77b4\"/>\n     <use xlink:href=\"#me39c638742\" x=\"154.016125\" y=\"98.447737\" style=\"fill: #1f77b4; stroke: #1f77b4\"/>\n     <use xlink:href=\"#me39c638742\" x=\"116.468181\" y=\"66.404614\" style=\"fill: #1f77b4; stroke: #1f77b4\"/>\n     <use xlink:href=\"#me39c638742\" x=\"121.628134\" y=\"77.091717\" style=\"fill: #1f77b4; stroke: #1f77b4\"/>\n     <use xlink:href=\"#me39c638742\" x=\"136.054602\" y=\"89.020455\" style=\"fill: #1f77b4; stroke: #1f77b4\"/>\n     <use xlink:href=\"#me39c638742\" x=\"135.128471\" y=\"85.633878\" style=\"fill: #1f77b4; stroke: #1f77b4\"/>\n     <use xlink:href=\"#me39c638742\" x=\"117.295477\" y=\"69.496273\" style=\"fill: #1f77b4; stroke: #1f77b4\"/>\n     <use xlink:href=\"#me39c638742\" x=\"153.731539\" y=\"78.808894\" style=\"fill: #1f77b4; stroke: #1f77b4\"/>\n     <use xlink:href=\"#me39c638742\" x=\"123.238612\" y=\"73.495827\" style=\"fill: #1f77b4; stroke: #1f77b4\"/>\n     <use xlink:href=\"#me39c638742\" x=\"126.033236\" y=\"69.679661\" style=\"fill: #1f77b4; stroke: #1f77b4\"/>\n     <use xlink:href=\"#me39c638742\" x=\"109.587512\" y=\"60.876348\" style=\"fill: #1f77b4; stroke: #1f77b4\"/>\n     <use xlink:href=\"#me39c638742\" x=\"114.096571\" y=\"74.345436\" style=\"fill: #1f77b4; stroke: #1f77b4\"/>\n     <use xlink:href=\"#me39c638742\" x=\"111.586198\" y=\"68.434777\" style=\"fill: #1f77b4; stroke: #1f77b4\"/>\n     <use xlink:href=\"#me39c638742\" x=\"103.632124\" y=\"52.614123\" style=\"fill: #1f77b4; stroke: #1f77b4\"/>\n     <use xlink:href=\"#me39c638742\" x=\"114.339181\" y=\"67.717619\" style=\"fill: #1f77b4; stroke: #1f77b4\"/>\n     <use xlink:href=\"#me39c638742\" x=\"131.951102\" y=\"66.663683\" style=\"fill: #1f77b4; stroke: #1f77b4\"/>\n     <use xlink:href=\"#me39c638742\" x=\"90.258291\" y=\"54.481392\" style=\"fill: #1f77b4; stroke: #1f77b4\"/>\n     <use xlink:href=\"#me39c638742\" x=\"122.60909\" y=\"56.270081\" style=\"fill: #1f77b4; stroke: #1f77b4\"/>\n     <use xlink:href=\"#me39c638742\" x=\"80.289635\" y=\"37.323659\" style=\"fill: #1f77b4; stroke: #1f77b4\"/>\n     <use xlink:href=\"#me39c638742\" x=\"150.773065\" y=\"102.289639\" style=\"fill: #1f77b4; stroke: #1f77b4\"/>\n     <use xlink:href=\"#me39c638742\" x=\"129.332738\" y=\"80.808168\" style=\"fill: #1f77b4; stroke: #1f77b4\"/>\n     <use xlink:href=\"#me39c638742\" x=\"66.654317\" y=\"39.095051\" style=\"fill: #1f77b4; stroke: #1f77b4\"/>\n     <use xlink:href=\"#me39c638742\" x=\"80.081475\" y=\"46.897948\" style=\"fill: #1f77b4; stroke: #1f77b4\"/>\n     <use xlink:href=\"#me39c638742\" x=\"132.004328\" y=\"83.038686\" style=\"fill: #1f77b4; stroke: #1f77b4\"/>\n     <use xlink:href=\"#me39c638742\" x=\"128.546999\" y=\"71.362284\" style=\"fill: #1f77b4; stroke: #1f77b4\"/>\n     <use xlink:href=\"#me39c638742\" x=\"124.163768\" y=\"74.012335\" style=\"fill: #1f77b4; stroke: #1f77b4\"/>\n     <use xlink:href=\"#me39c638742\" x=\"147.60816\" y=\"91.243299\" style=\"fill: #1f77b4; stroke: #1f77b4\"/>\n     <use xlink:href=\"#me39c638742\" x=\"121.628178\" y=\"76.41308\" style=\"fill: #1f77b4; stroke: #1f77b4\"/>\n     <use xlink:href=\"#me39c638742\" x=\"94.301906\" y=\"49.801732\" style=\"fill: #1f77b4; stroke: #1f77b4\"/>\n     <use xlink:href=\"#me39c638742\" x=\"133.158806\" y=\"89.670673\" style=\"fill: #1f77b4; stroke: #1f77b4\"/>\n     <use xlink:href=\"#me39c638742\" x=\"170.984959\" y=\"112.303603\" style=\"fill: #1f77b4; stroke: #1f77b4\"/>\n     <use xlink:href=\"#me39c638742\" x=\"112.594603\" y=\"70.37916\" style=\"fill: #1f77b4; stroke: #1f77b4\"/>\n     <use xlink:href=\"#me39c638742\" x=\"143.319067\" y=\"68.378375\" style=\"fill: #1f77b4; stroke: #1f77b4\"/>\n     <use xlink:href=\"#me39c638742\" x=\"136.515808\" y=\"75.940213\" style=\"fill: #1f77b4; stroke: #1f77b4\"/>\n     <use xlink:href=\"#me39c638742\" x=\"121.523852\" y=\"48.902181\" style=\"fill: #1f77b4; stroke: #1f77b4\"/>\n     <use xlink:href=\"#me39c638742\" x=\"95.413056\" y=\"78.783983\" style=\"fill: #1f77b4; stroke: #1f77b4\"/>\n     <use xlink:href=\"#me39c638742\" x=\"110.272807\" y=\"63.082555\" style=\"fill: #1f77b4; stroke: #1f77b4\"/>\n     <use xlink:href=\"#me39c638742\" x=\"147.15711\" y=\"90.334557\" style=\"fill: #1f77b4; stroke: #1f77b4\"/>\n     <use xlink:href=\"#me39c638742\" x=\"111.157266\" y=\"72.299659\" style=\"fill: #1f77b4; stroke: #1f77b4\"/>\n     <use xlink:href=\"#me39c638742\" x=\"136.346377\" y=\"84.883612\" style=\"fill: #1f77b4; stroke: #1f77b4\"/>\n     <use xlink:href=\"#me39c638742\" x=\"114.578799\" y=\"71.666256\" style=\"fill: #1f77b4; stroke: #1f77b4\"/>\n     <use xlink:href=\"#me39c638742\" x=\"99.395813\" y=\"52.017011\" style=\"fill: #1f77b4; stroke: #1f77b4\"/>\n     <use xlink:href=\"#me39c638742\" x=\"120.100231\" y=\"79.398452\" style=\"fill: #1f77b4; stroke: #1f77b4\"/>\n     <use xlink:href=\"#me39c638742\" x=\"82.901035\" y=\"40.055113\" style=\"fill: #1f77b4; stroke: #1f77b4\"/>\n    </g>\n   </g>\n   <g id=\"matplotlib.axis_1\">\n    <g id=\"xtick_1\">\n     <g id=\"line2d_1\">\n      <defs>\n       <path id=\"mc0f8572733\" d=\"M 0 0 \nL 0 3.5 \n\" style=\"stroke: #000000; stroke-width: 0.8\"/>\n      </defs>\n      <g>\n       <use xlink:href=\"#mc0f8572733\" x=\"75.032989\" y=\"145.8\" style=\"stroke: #000000; stroke-width: 0.8\"/>\n      </g>\n     </g>\n     <g id=\"text_1\">\n      <!-- −2 -->\n      <g transform=\"translate(67.661895 160.398438) scale(0.1 -0.1)\">\n       <defs>\n        <path id=\"DejaVuSans-2212\" d=\"M 678 2272 \nL 4684 2272 \nL 4684 1741 \nL 678 1741 \nL 678 2272 \nz\n\" transform=\"scale(0.015625)\"/>\n        <path id=\"DejaVuSans-32\" d=\"M 1228 531 \nL 3431 531 \nL 3431 0 \nL 469 0 \nL 469 531 \nQ 828 903 1448 1529 \nQ 2069 2156 2228 2338 \nQ 2531 2678 2651 2914 \nQ 2772 3150 2772 3378 \nQ 2772 3750 2511 3984 \nQ 2250 4219 1831 4219 \nQ 1534 4219 1204 4116 \nQ 875 4013 500 3803 \nL 500 4441 \nQ 881 4594 1212 4672 \nQ 1544 4750 1819 4750 \nQ 2544 4750 2975 4387 \nQ 3406 4025 3406 3419 \nQ 3406 3131 3298 2873 \nQ 3191 2616 2906 2266 \nQ 2828 2175 2409 1742 \nQ 1991 1309 1228 531 \nz\n\" transform=\"scale(0.015625)\"/>\n       </defs>\n       <use xlink:href=\"#DejaVuSans-2212\"/>\n       <use xlink:href=\"#DejaVuSans-32\" x=\"83.789062\"/>\n      </g>\n     </g>\n    </g>\n    <g id=\"xtick_2\">\n     <g id=\"line2d_2\">\n      <g>\n       <use xlink:href=\"#mc0f8572733\" x=\"126.753853\" y=\"145.8\" style=\"stroke: #000000; stroke-width: 0.8\"/>\n      </g>\n     </g>\n     <g id=\"text_2\">\n      <!-- 0 -->\n      <g transform=\"translate(123.572603 160.398438) scale(0.1 -0.1)\">\n       <defs>\n        <path id=\"DejaVuSans-30\" d=\"M 2034 4250 \nQ 1547 4250 1301 3770 \nQ 1056 3291 1056 2328 \nQ 1056 1369 1301 889 \nQ 1547 409 2034 409 \nQ 2525 409 2770 889 \nQ 3016 1369 3016 2328 \nQ 3016 3291 2770 3770 \nQ 2525 4250 2034 4250 \nz\nM 2034 4750 \nQ 2819 4750 3233 4129 \nQ 3647 3509 3647 2328 \nQ 3647 1150 3233 529 \nQ 2819 -91 2034 -91 \nQ 1250 -91 836 529 \nQ 422 1150 422 2328 \nQ 422 3509 836 4129 \nQ 1250 4750 2034 4750 \nz\n\" transform=\"scale(0.015625)\"/>\n       </defs>\n       <use xlink:href=\"#DejaVuSans-30\"/>\n      </g>\n     </g>\n    </g>\n    <g id=\"xtick_3\">\n     <g id=\"line2d_3\">\n      <g>\n       <use xlink:href=\"#mc0f8572733\" x=\"178.474717\" y=\"145.8\" style=\"stroke: #000000; stroke-width: 0.8\"/>\n      </g>\n     </g>\n     <g id=\"text_3\">\n      <!-- 2 -->\n      <g transform=\"translate(175.293467 160.398438) scale(0.1 -0.1)\">\n       <use xlink:href=\"#DejaVuSans-32\"/>\n      </g>\n     </g>\n    </g>\n    <g id=\"xtick_4\">\n     <g id=\"line2d_4\">\n      <g>\n       <use xlink:href=\"#mc0f8572733\" x=\"230.195581\" y=\"145.8\" style=\"stroke: #000000; stroke-width: 0.8\"/>\n      </g>\n     </g>\n     <g id=\"text_4\">\n      <!-- 4 -->\n      <g transform=\"translate(227.014331 160.398438) scale(0.1 -0.1)\">\n       <defs>\n        <path id=\"DejaVuSans-34\" d=\"M 2419 4116 \nL 825 1625 \nL 2419 1625 \nL 2419 4116 \nz\nM 2253 4666 \nL 3047 4666 \nL 3047 1625 \nL 3713 1625 \nL 3713 1100 \nL 3047 1100 \nL 3047 0 \nL 2419 0 \nL 2419 1100 \nL 313 1100 \nL 313 1709 \nL 2253 4666 \nz\n\" transform=\"scale(0.015625)\"/>\n       </defs>\n       <use xlink:href=\"#DejaVuSans-34\"/>\n      </g>\n     </g>\n    </g>\n   </g>\n   <g id=\"matplotlib.axis_2\">\n    <g id=\"ytick_1\">\n     <g id=\"line2d_5\">\n      <defs>\n       <path id=\"m9a6998fcfb\" d=\"M 0 0 \nL -3.5 0 \n\" style=\"stroke: #000000; stroke-width: 0.8\"/>\n      </defs>\n      <g>\n       <use xlink:href=\"#m9a6998fcfb\" x=\"35.304688\" y=\"139.212283\" style=\"stroke: #000000; stroke-width: 0.8\"/>\n      </g>\n     </g>\n     <g id=\"text_5\">\n      <!-- −10 -->\n      <g transform=\"translate(7.2 143.011502) scale(0.1 -0.1)\">\n       <defs>\n        <path id=\"DejaVuSans-31\" d=\"M 794 531 \nL 1825 531 \nL 1825 4091 \nL 703 3866 \nL 703 4441 \nL 1819 4666 \nL 2450 4666 \nL 2450 531 \nL 3481 531 \nL 3481 0 \nL 794 0 \nL 794 531 \nz\n\" transform=\"scale(0.015625)\"/>\n       </defs>\n       <use xlink:href=\"#DejaVuSans-2212\"/>\n       <use xlink:href=\"#DejaVuSans-31\" x=\"83.789062\"/>\n       <use xlink:href=\"#DejaVuSans-30\" x=\"147.412109\"/>\n      </g>\n     </g>\n    </g>\n    <g id=\"ytick_2\">\n     <g id=\"line2d_6\">\n      <g>\n       <use xlink:href=\"#m9a6998fcfb\" x=\"35.304688\" y=\"93.418699\" style=\"stroke: #000000; stroke-width: 0.8\"/>\n      </g>\n     </g>\n     <g id=\"text_6\">\n      <!-- 0 -->\n      <g transform=\"translate(21.942187 97.217918) scale(0.1 -0.1)\">\n       <use xlink:href=\"#DejaVuSans-30\"/>\n      </g>\n     </g>\n    </g>\n    <g id=\"ytick_3\">\n     <g id=\"line2d_7\">\n      <g>\n       <use xlink:href=\"#m9a6998fcfb\" x=\"35.304688\" y=\"47.625115\" style=\"stroke: #000000; stroke-width: 0.8\"/>\n      </g>\n     </g>\n     <g id=\"text_7\">\n      <!-- 10 -->\n      <g transform=\"translate(15.579687 51.424334) scale(0.1 -0.1)\">\n       <use xlink:href=\"#DejaVuSans-31\"/>\n       <use xlink:href=\"#DejaVuSans-30\" x=\"63.623047\"/>\n      </g>\n     </g>\n    </g>\n   </g>\n   <g id=\"patch_3\">\n    <path d=\"M 35.304688 145.8 \nL 35.304688 7.2 \n\" style=\"fill: none; stroke: #000000; stroke-width: 0.8; stroke-linejoin: miter; stroke-linecap: square\"/>\n   </g>\n   <g id=\"patch_4\">\n    <path d=\"M 230.604688 145.8 \nL 230.604688 7.2 \n\" style=\"fill: none; stroke: #000000; stroke-width: 0.8; stroke-linejoin: miter; stroke-linecap: square\"/>\n   </g>\n   <g id=\"patch_5\">\n    <path d=\"M 35.304688 145.8 \nL 230.604688 145.8 \n\" style=\"fill: none; stroke: #000000; stroke-width: 0.8; stroke-linejoin: miter; stroke-linecap: square\"/>\n   </g>\n   <g id=\"patch_6\">\n    <path d=\"M 35.304688 7.2 \nL 230.604688 7.2 \n\" style=\"fill: none; stroke: #000000; stroke-width: 0.8; stroke-linejoin: miter; stroke-linecap: square\"/>\n   </g>\n  </g>\n </g>\n <defs>\n  <clipPath id=\"p4d931c2dae\">\n   <rect x=\"35.304688\" y=\"7.2\" width=\"195.3\" height=\"138.6\"/>\n  </clipPath>\n </defs>\n</svg>\n"
          },
          "metadata": {}
        }
      ],
      "source": [
        "d2l.set_figsize()\n",
        "d2l.plt.scatter(features[:, (1)].detach().numpy(), labels.detach().numpy(), 1);"
      ]
    },
    {
      "cell_type": "markdown",
      "id": "b032f500",
      "metadata": {
        "origin_pos": 13,
        "id": "b032f500"
      },
      "source": [
        "## 读取数据集\n",
        "\n",
        "回想一下，训练模型时要对数据集进行遍历，每次抽取一小批量样本，并使用它们来更新我们的模型。\n",
        "由于这个过程是训练机器学习算法的基础，所以有必要定义一个函数，\n",
        "该函数能打乱数据集中的样本并以小批量方式获取数据。\n",
        "\n",
        "在下面的代码中，我们[**定义一个`data_iter`函数，\n",
        "该函数接收批量大小、特征矩阵和标签向量作为输入，生成大小为`batch_size`的小批量**]。\n",
        "每个小批量包含一组特征和标签。\n"
      ]
    },
    {
      "cell_type": "code",
      "execution_count": 6,
      "id": "3da34ac6",
      "metadata": {
        "execution": {
          "iopub.execute_input": "2023-08-18T07:02:04.839342Z",
          "iopub.status.busy": "2023-08-18T07:02:04.838682Z",
          "iopub.status.idle": "2023-08-18T07:02:04.846329Z",
          "shell.execute_reply": "2023-08-18T07:02:04.845247Z"
        },
        "origin_pos": 14,
        "tab": [
          "pytorch"
        ],
        "id": "3da34ac6"
      },
      "outputs": [],
      "source": [
        "def data_iter(batch_size, features, labels):\n",
        "    num_examples = len(features)\n",
        "    indices = list(range(num_examples))\n",
        "    # 这些样本是随机读取的，没有特定的顺序\n",
        "    random.shuffle(indices)\n",
        "    for i in range(0, num_examples, batch_size):\n",
        "        batch_indices = torch.tensor(\n",
        "            indices[i: min(i + batch_size, num_examples)])\n",
        "        yield features[batch_indices], labels[batch_indices]"
      ]
    },
    {
      "cell_type": "markdown",
      "id": "52e08a78",
      "metadata": {
        "origin_pos": 16,
        "id": "52e08a78"
      },
      "source": [
        "通常，我们利用GPU并行运算的优势，处理合理大小的“小批量”。\n",
        "每个样本都可以并行地进行模型计算，且每个样本损失函数的梯度也可以被并行计算。\n",
        "GPU可以在处理几百个样本时，所花费的时间不比处理一个样本时多太多。\n",
        "\n",
        "我们直观感受一下小批量运算：读取第一个小批量数据样本并打印。\n",
        "每个批量的特征维度显示批量大小和输入特征数。\n",
        "同样的，批量的标签形状与`batch_size`相等。\n"
      ]
    },
    {
      "cell_type": "code",
      "execution_count": 7,
      "id": "1dce0726",
      "metadata": {
        "execution": {
          "iopub.execute_input": "2023-08-18T07:02:04.851066Z",
          "iopub.status.busy": "2023-08-18T07:02:04.850456Z",
          "iopub.status.idle": "2023-08-18T07:02:04.859860Z",
          "shell.execute_reply": "2023-08-18T07:02:04.858756Z"
        },
        "origin_pos": 17,
        "tab": [
          "pytorch"
        ],
        "id": "1dce0726",
        "outputId": "002be658-ce74-4a19-9b18-1e53e618283b",
        "colab": {
          "base_uri": "https://localhost:8080/"
        }
      },
      "outputs": [
        {
          "output_type": "stream",
          "name": "stdout",
          "text": [
            "tensor([[-0.8645,  0.4182],\n",
            "        [ 0.7915,  0.2531],\n",
            "        [ 1.8199, -0.3669],\n",
            "        [ 1.5761, -0.1665],\n",
            "        [-0.4816,  0.2630],\n",
            "        [ 1.5504,  0.7809],\n",
            "        [-0.0710,  2.0843],\n",
            "        [-0.7047,  1.1981],\n",
            "        [-0.5162,  0.9880],\n",
            "        [-1.1944, -1.6339]]) \n",
            " tensor([[ 1.0384],\n",
            "        [ 4.9320],\n",
            "        [ 9.0677],\n",
            "        [ 7.9213],\n",
            "        [ 2.3395],\n",
            "        [ 4.6568],\n",
            "        [-3.0198],\n",
            "        [-1.2759],\n",
            "        [-0.2016],\n",
            "        [ 7.3696]])\n"
          ]
        }
      ],
      "source": [
        "batch_size = 10\n",
        "\n",
        "for X, y in data_iter(batch_size, features, labels):\n",
        "    print(X, '\\n', y)\n",
        "    break"
      ]
    },
    {
      "cell_type": "markdown",
      "id": "d86e62d7",
      "metadata": {
        "origin_pos": 18,
        "id": "d86e62d7"
      },
      "source": [
        "当我们运行迭代时，我们会连续地获得不同的小批量，直至遍历完整个数据集。\n",
        "上面实现的迭代对教学来说很好，但它的执行效率很低，可能会在实际问题上陷入麻烦。\n",
        "例如，它要求我们将所有数据加载到内存中，并执行大量的随机内存访问。\n",
        "在深度学习框架中实现的内置迭代器效率要高得多，\n",
        "它可以处理存储在文件中的数据和数据流提供的数据。\n",
        "\n",
        "## 初始化模型参数\n",
        "\n",
        "[**在我们开始用小批量随机梯度下降优化我们的模型参数之前**]，\n",
        "(**我们需要先有一些参数**)。\n",
        "在下面的代码中，我们通过从均值为0、标准差为0.01的正态分布中采样随机数来初始化权重，\n",
        "并将偏置初始化为0。\n"
      ]
    },
    {
      "cell_type": "code",
      "execution_count": 8,
      "id": "12c51289",
      "metadata": {
        "execution": {
          "iopub.execute_input": "2023-08-18T07:02:04.864457Z",
          "iopub.status.busy": "2023-08-18T07:02:04.863853Z",
          "iopub.status.idle": "2023-08-18T07:02:04.869983Z",
          "shell.execute_reply": "2023-08-18T07:02:04.868859Z"
        },
        "origin_pos": 20,
        "tab": [
          "pytorch"
        ],
        "id": "12c51289"
      },
      "outputs": [],
      "source": [
        "w = torch.normal(0, 0.01, size=(2,1), requires_grad=True)\n",
        "b = torch.zeros(1, requires_grad=True)"
      ]
    },
    {
      "cell_type": "markdown",
      "id": "c59d5d68",
      "metadata": {
        "origin_pos": 23,
        "id": "c59d5d68"
      },
      "source": [
        "在初始化参数之后，我们的任务是更新这些参数，直到这些参数足够拟合我们的数据。\n",
        "每次更新都需要计算损失函数关于模型参数的梯度。\n",
        "有了这个梯度，我们就可以向减小损失的方向更新每个参数。\n",
        "因为手动计算梯度很枯燥而且容易出错，所以没有人会手动计算梯度。\n",
        "我们使用 :numref:`sec_autograd`中引入的自动微分来计算梯度。\n",
        "\n",
        "## 定义模型\n",
        "\n",
        "接下来，我们必须[**定义模型，将模型的输入和参数同模型的输出关联起来。**]\n",
        "回想一下，要计算线性模型的输出，\n",
        "我们只需计算输入特征$\\mathbf{X}$和模型权重$\\mathbf{w}$的矩阵-向量乘法后加上偏置$b$。\n",
        "注意，上面的$\\mathbf{Xw}$是一个向量，而$b$是一个标量。\n",
        "回想一下 :numref:`subsec_broadcasting`中描述的广播机制：\n",
        "当我们用一个向量加一个标量时，标量会被加到向量的每个分量上。\n"
      ]
    },
    {
      "cell_type": "code",
      "execution_count": 9,
      "id": "b8b29b19",
      "metadata": {
        "execution": {
          "iopub.execute_input": "2023-08-18T07:02:04.874642Z",
          "iopub.status.busy": "2023-08-18T07:02:04.874004Z",
          "iopub.status.idle": "2023-08-18T07:02:04.879521Z",
          "shell.execute_reply": "2023-08-18T07:02:04.878471Z"
        },
        "origin_pos": 24,
        "tab": [
          "pytorch"
        ],
        "id": "b8b29b19"
      },
      "outputs": [],
      "source": [
        "def linreg(X, w, b):  #@save\n",
        "    \"\"\"线性回归模型\"\"\"\n",
        "    return torch.matmul(X, w) + b"
      ]
    },
    {
      "cell_type": "markdown",
      "id": "6b7765ef",
      "metadata": {
        "origin_pos": 25,
        "id": "6b7765ef"
      },
      "source": [
        "## [**定义损失函数**]\n",
        "\n",
        "因为需要计算损失函数的梯度，所以我们应该先定义损失函数。\n",
        "这里我们使用 :numref:`sec_linear_regression`中描述的平方损失函数。\n",
        "在实现中，我们需要将真实值`y`的形状转换为和预测值`y_hat`的形状相同。\n"
      ]
    },
    {
      "cell_type": "code",
      "execution_count": 10,
      "id": "3dda15c7",
      "metadata": {
        "execution": {
          "iopub.execute_input": "2023-08-18T07:02:04.884156Z",
          "iopub.status.busy": "2023-08-18T07:02:04.883559Z",
          "iopub.status.idle": "2023-08-18T07:02:04.889065Z",
          "shell.execute_reply": "2023-08-18T07:02:04.887964Z"
        },
        "origin_pos": 26,
        "tab": [
          "pytorch"
        ],
        "id": "3dda15c7"
      },
      "outputs": [],
      "source": [
        "def squared_loss(y_hat, y):  #@save\n",
        "    \"\"\"均方损失\"\"\"\n",
        "    return (y_hat - y.reshape(y_hat.shape)) ** 2 / 2"
      ]
    },
    {
      "cell_type": "markdown",
      "id": "56969029",
      "metadata": {
        "origin_pos": 27,
        "id": "56969029"
      },
      "source": [
        "## (**定义优化算法**)\n",
        "\n",
        "正如我们在 :numref:`sec_linear_regression`中讨论的，线性回归有解析解。\n",
        "尽管线性回归有解析解，但本书中的其他模型却没有。\n",
        "这里我们介绍小批量随机梯度下降。\n",
        "\n",
        "在每一步中，使用从数据集中随机抽取的一个小批量，然后根据参数计算损失的梯度。\n",
        "接下来，朝着减少损失的方向更新我们的参数。\n",
        "下面的函数实现小批量随机梯度下降更新。\n",
        "该函数接受模型参数集合、学习速率和批量大小作为输入。每\n",
        "一步更新的大小由学习速率`lr`决定。\n",
        "因为我们计算的损失是一个批量样本的总和，所以我们用批量大小（`batch_size`）\n",
        "来规范化步长，这样步长大小就不会取决于我们对批量大小的选择。\n"
      ]
    },
    {
      "cell_type": "code",
      "execution_count": 11,
      "id": "8f92242d",
      "metadata": {
        "execution": {
          "iopub.execute_input": "2023-08-18T07:02:04.893665Z",
          "iopub.status.busy": "2023-08-18T07:02:04.892999Z",
          "iopub.status.idle": "2023-08-18T07:02:04.899100Z",
          "shell.execute_reply": "2023-08-18T07:02:04.898003Z"
        },
        "origin_pos": 29,
        "tab": [
          "pytorch"
        ],
        "id": "8f92242d"
      },
      "outputs": [],
      "source": [
        "def sgd(params, lr, batch_size):  #@save\n",
        "    \"\"\"小批量随机梯度下降\"\"\"\n",
        "    with torch.no_grad():\n",
        "        for param in params:\n",
        "            param -= lr * param.grad / batch_size\n",
        "            param.grad.zero_()"
      ]
    },
    {
      "cell_type": "markdown",
      "id": "89067f86",
      "metadata": {
        "origin_pos": 32,
        "id": "89067f86"
      },
      "source": [
        "## 训练\n",
        "\n",
        "现在我们已经准备好了模型训练所有需要的要素，可以实现主要的[**训练过程**]部分了。\n",
        "理解这段代码至关重要，因为从事深度学习后，\n",
        "相同的训练过程几乎一遍又一遍地出现。\n",
        "在每次迭代中，我们读取一小批量训练样本，并通过我们的模型来获得一组预测。\n",
        "计算完损失后，我们开始反向传播，存储每个参数的梯度。\n",
        "最后，我们调用优化算法`sgd`来更新模型参数。\n",
        "\n",
        "概括一下，我们将执行以下循环：\n",
        "\n",
        "* 初始化参数\n",
        "* 重复以下训练，直到完成\n",
        "    * 计算梯度$\\mathbf{g} \\leftarrow \\partial_{(\\mathbf{w},b)} \\frac{1}{|\\mathcal{B}|} \\sum_{i \\in \\mathcal{B}} l(\\mathbf{x}^{(i)}, y^{(i)}, \\mathbf{w}, b)$\n",
        "    * 更新参数$(\\mathbf{w}, b) \\leftarrow (\\mathbf{w}, b) - \\eta \\mathbf{g}$\n",
        "\n",
        "在每个*迭代周期*（epoch）中，我们使用`data_iter`函数遍历整个数据集，\n",
        "并将训练数据集中所有样本都使用一次（假设样本数能够被批量大小整除）。\n",
        "这里的迭代周期个数`num_epochs`和学习率`lr`都是超参数，分别设为3和0.03。\n",
        "设置超参数很棘手，需要通过反复试验进行调整。\n",
        "我们现在忽略这些细节，以后会在 :numref:`chap_optimization`中详细介绍。\n"
      ]
    },
    {
      "cell_type": "code",
      "execution_count": 12,
      "id": "9163db58",
      "metadata": {
        "execution": {
          "iopub.execute_input": "2023-08-18T07:02:04.903791Z",
          "iopub.status.busy": "2023-08-18T07:02:04.903216Z",
          "iopub.status.idle": "2023-08-18T07:02:04.908499Z",
          "shell.execute_reply": "2023-08-18T07:02:04.907341Z"
        },
        "origin_pos": 33,
        "tab": [
          "pytorch"
        ],
        "id": "9163db58"
      },
      "outputs": [],
      "source": [
        "lr = 0.03\n",
        "num_epochs = 3\n",
        "net = linreg\n",
        "loss = squared_loss"
      ]
    },
    {
      "cell_type": "code",
      "execution_count": 13,
      "id": "ad5c2cd1",
      "metadata": {
        "execution": {
          "iopub.execute_input": "2023-08-18T07:02:04.913061Z",
          "iopub.status.busy": "2023-08-18T07:02:04.912436Z",
          "iopub.status.idle": "2023-08-18T07:02:05.067276Z",
          "shell.execute_reply": "2023-08-18T07:02:05.066107Z"
        },
        "origin_pos": 35,
        "tab": [
          "pytorch"
        ],
        "id": "ad5c2cd1",
        "outputId": "45a941e2-729f-4ac5-e87b-4f3054403c74",
        "colab": {
          "base_uri": "https://localhost:8080/"
        }
      },
      "outputs": [
        {
          "output_type": "stream",
          "name": "stdout",
          "text": [
            "epoch 1, loss 0.032211\n",
            "epoch 2, loss 0.000113\n",
            "epoch 3, loss 0.000052\n"
          ]
        }
      ],
      "source": [
        "for epoch in range(num_epochs):\n",
        "    for X, y in data_iter(batch_size, features, labels):\n",
        "        l = loss(net(X, w, b), y)  # X和y的小批量损失\n",
        "        # 因为l形状是(batch_size,1)，而不是一个标量。l中的所有元素被加到一起，\n",
        "        # 并以此计算关于[w,b]的梯度\n",
        "        l.sum().backward()\n",
        "        sgd([w, b], lr, batch_size)  # 使用参数的梯度更新参数\n",
        "    with torch.no_grad():\n",
        "        train_l = loss(net(features, w, b), labels)\n",
        "        print(f'epoch {epoch + 1}, loss {float(train_l.mean()):f}')"
      ]
    },
    {
      "cell_type": "markdown",
      "id": "427d8cda",
      "metadata": {
        "origin_pos": 38,
        "id": "427d8cda"
      },
      "source": [
        "因为我们使用的是自己合成的数据集，所以我们知道真正的参数是什么。\n",
        "因此，我们可以通过[**比较真实参数和通过训练学到的参数来评估训练的成功程度**]。\n",
        "事实上，真实参数和通过训练学到的参数确实非常接近。\n"
      ]
    },
    {
      "cell_type": "code",
      "execution_count": 14,
      "id": "a4c3d525",
      "metadata": {
        "execution": {
          "iopub.execute_input": "2023-08-18T07:02:05.072546Z",
          "iopub.status.busy": "2023-08-18T07:02:05.071769Z",
          "iopub.status.idle": "2023-08-18T07:02:05.079203Z",
          "shell.execute_reply": "2023-08-18T07:02:05.078107Z"
        },
        "origin_pos": 39,
        "tab": [
          "pytorch"
        ],
        "id": "a4c3d525",
        "outputId": "d5418a52-9311-419c-ffe2-097bb5f43850",
        "colab": {
          "base_uri": "https://localhost:8080/"
        }
      },
      "outputs": [
        {
          "output_type": "stream",
          "name": "stdout",
          "text": [
            "w的估计误差: tensor([-0.0002, -0.0002], grad_fn=<SubBackward0>)\n",
            "b的估计误差: tensor([0.0010], grad_fn=<RsubBackward1>)\n"
          ]
        }
      ],
      "source": [
        "print(f'w的估计误差: {true_w - w.reshape(true_w.shape)}')\n",
        "print(f'b的估计误差: {true_b - b}')"
      ]
    },
    {
      "cell_type": "markdown",
      "id": "9f3d71ee",
      "metadata": {
        "origin_pos": 40,
        "id": "9f3d71ee"
      },
      "source": [
        "注意，我们不应该想当然地认为我们能够完美地求解参数。\n",
        "在机器学习中，我们通常不太关心恢复真正的参数，而更关心如何高度准确预测参数。\n",
        "幸运的是，即使是在复杂的优化问题上，随机梯度下降通常也能找到非常好的解。\n",
        "其中一个原因是，在深度网络中存在许多参数组合能够实现高度精确的预测。\n",
        "\n",
        "## 小结\n",
        "\n",
        "* 我们学习了深度网络是如何实现和优化的。在这一过程中只使用张量和自动微分，不需要定义层或复杂的优化器。\n",
        "* 这一节只触及到了表面知识。在下面的部分中，我们将基于刚刚介绍的概念描述其他模型，并学习如何更简洁地实现其他模型。\n",
        "\n",
        "## 练习\n",
        "\n",
        "1. 如果我们将权重初始化为零，会发生什么。算法仍然有效吗？\n",
        "1. 假设试图为电压和电流的关系建立一个模型。自动微分可以用来学习模型的参数吗?\n",
        "1. 能基于[普朗克定律](https://en.wikipedia.org/wiki/Planck%27s_law)使用光谱能量密度来确定物体的温度吗？\n",
        "1. 计算二阶导数时可能会遇到什么问题？这些问题可以如何解决？\n",
        "1. 为什么在`squared_loss`函数中需要使用`reshape`函数？\n",
        "1. 尝试使用不同的学习率，观察损失函数值下降的快慢。\n",
        "1. 如果样本个数不能被批量大小整除，`data_iter`函数的行为会有什么变化？\n"
      ]
    },
    {
      "cell_type": "markdown",
      "id": "193224b1",
      "metadata": {
        "origin_pos": 42,
        "tab": [
          "pytorch"
        ],
        "id": "193224b1"
      },
      "source": [
        "[Discussions](https://discuss.d2l.ai/t/1778)\n"
      ]
    }
  ],
  "metadata": {
    "kernelspec": {
      "display_name": "Python 3",
      "name": "python3"
    },
    "language_info": {
      "name": "python"
    },
    "required_libs": [],
    "colab": {
      "provenance": [],
      "include_colab_link": true
    }
  },
  "nbformat": 4,
  "nbformat_minor": 5
}